{
  "cells": [
    {
      "cell_type": "markdown",
      "metadata": {
        "id": "NuYBuoHKHwma"
      },
      "source": [
        "# RNN for Last Name Classification\n",
        "\n",
        "Welcome to this assignment where you will train a neural network to predict the probable language of origin for a given last name / family name in Latin alphabets.\n",
        "\n",
        "Throughout this task, you will gain expertise in the following areas:\n",
        "\n",
        "- Preprocessing raw text data for suitable input into an RNN and (Optionally) LSTM.\n",
        "- Utilizing PyTorch to train your recurrent neural network models.\n",
        "- Evaluating your model's performance and making predictions on unseen data.\n",
        "\n",
        "LSTM is out-of-scope this semester and will not be covered in the exams.\n"
      ]
    },
    {
      "cell_type": "markdown",
      "metadata": {
        "id": "5pCEvNl-Hwmd"
      },
      "source": [
        "## Download Data"
      ]
    },
    {
      "cell_type": "code",
      "execution_count": 1,
      "metadata": {
        "colab": {
          "base_uri": "https://localhost:8080/"
        },
        "id": "S_Gcb-rQHwmd",
        "outputId": "c111a518-a0d0-4042-dc59-99c9d62dac4e"
      },
      "outputs": [
        {
          "output_type": "stream",
          "name": "stdout",
          "text": [
            "--2023-10-29 22:58:57--  https://download.pytorch.org/tutorial/data.zip\n",
            "Resolving download.pytorch.org (download.pytorch.org)... 18.239.225.61, 18.239.225.55, 18.239.225.75, ...\n",
            "Connecting to download.pytorch.org (download.pytorch.org)|18.239.225.61|:443... connected.\n",
            "HTTP request sent, awaiting response... 200 OK\n",
            "Length: 2882130 (2.7M) [application/zip]\n",
            "Saving to: ‘data.zip’\n",
            "\n",
            "data.zip            100%[===================>]   2.75M  15.2MB/s    in 0.2s    \n",
            "\n",
            "2023-10-29 22:58:57 (15.2 MB/s) - ‘data.zip’ saved [2882130/2882130]\n",
            "\n",
            "Archive:  data.zip\n",
            "   creating: data/\n",
            "  inflating: data/eng-fra.txt        \n",
            "   creating: data/names/\n",
            "  inflating: data/names/Arabic.txt   \n",
            "  inflating: data/names/Chinese.txt  \n",
            "  inflating: data/names/Czech.txt    \n",
            "  inflating: data/names/Dutch.txt    \n",
            "  inflating: data/names/English.txt  \n",
            "  inflating: data/names/French.txt   \n",
            "  inflating: data/names/German.txt   \n",
            "  inflating: data/names/Greek.txt    \n",
            "  inflating: data/names/Irish.txt    \n",
            "  inflating: data/names/Italian.txt  \n",
            "  inflating: data/names/Japanese.txt  \n",
            "  inflating: data/names/Korean.txt   \n",
            "  inflating: data/names/Polish.txt   \n",
            "  inflating: data/names/Portuguese.txt  \n",
            "  inflating: data/names/Russian.txt  \n",
            "  inflating: data/names/Scottish.txt  \n",
            "  inflating: data/names/Spanish.txt  \n",
            "  inflating: data/names/Vietnamese.txt  \n"
          ]
        }
      ],
      "source": [
        "import os\n",
        "\n",
        "if not os.path.exists(\"data\"):\n",
        "    !wget https://download.pytorch.org/tutorial/data.zip\n",
        "    !unzip data"
      ]
    },
    {
      "cell_type": "markdown",
      "metadata": {
        "id": "XuTSbBOEHwme"
      },
      "source": [
        "## Library imports"
      ]
    },
    {
      "cell_type": "markdown",
      "metadata": {
        "id": "aK7udr5MHwmf"
      },
      "source": [
        "Before starting, make sure you have all these libraries."
      ]
    },
    {
      "cell_type": "code",
      "execution_count": 2,
      "metadata": {
        "id": "5iIJtjYFHwmf"
      },
      "outputs": [],
      "source": [
        "root_folder = \"\"\n",
        "import os\n",
        "import sys\n",
        "import inspect\n",
        "sys.path.append(root_folder)\n",
        "from collections import Counter\n",
        "import torch\n",
        "from torch import nn\n",
        "import torch.nn.functional as F\n",
        "import torch.optim as optim\n",
        "from tqdm import tqdm\n",
        "\n",
        "import random\n",
        "import numpy as np\n",
        "import json\n",
        "\n",
        "import matplotlib.pyplot as plt\n",
        "# from utils import validate_to_array\n",
        "\n",
        "device = torch.device(\"cuda\" if torch.cuda.is_available() else \"cpu\")\n",
        "\n",
        "import IPython\n",
        "from ipywidgets import interactive, widgets, Layout\n",
        "from IPython.display import display, HTML"
      ]
    },
    {
      "cell_type": "code",
      "execution_count": 3,
      "metadata": {
        "id": "Ibt4tQCTHwmf"
      },
      "outputs": [],
      "source": [
        "%load_ext autoreload\n",
        "%autoreload 2"
      ]
    },
    {
      "cell_type": "markdown",
      "metadata": {
        "id": "fTs-SE2RHwmf"
      },
      "source": [
        "## Implement the Neural Network"
      ]
    },
    {
      "cell_type": "markdown",
      "metadata": {
        "id": "Xpzhspe_Hwmg"
      },
      "source": [
        "The main objective of this task is to predict the probability of a given class given a last name, represented as\n",
        "\n",
        "$$ \\Pr ( y | x_1, x_2, x_3, ..., x_i),$$\n",
        "\n",
        "where $y$ is the category label and each $x_i$ is a character in the last name. Building a basic character-level NLP model has the advantage of understanding how the preprocessing works at a granular level. The character-level network reads words as a sequence of characters, producing a prediction and \"hidden state\" at each step by feeding its previous hidden state into the next step. The final prediction corresponds to the class to which the word belongs.\n",
        "\n",
        "All models in PyTorch inherit from the nn.Module subclass. In this assignment, you will **implement a custom model named `RecurrentClassifier`** that runs either [nn.RNN](https://pytorch.org/docs/stable/generated/torch.nn.RNN.html) or [nn.LSTM](https://pytorch.org/docs/stable/generated/torch.nn.LSTM.html) and define its forward function. The implementation of LSTMs is *optional*.\n",
        "\n",
        "The forward pass of the model can be visualized with the following diagram:\n",
        "\n",
        "```\n",
        "[Embedding] -> [RNN Stack] -> [Extract Last Position] -> [Classifier]\n",
        "```\n",
        "\n",
        "- **Embedding:** This component maps each input word (integer) to a vector of real numbers.\n",
        "    - Input: `[batch_size, seq_len]`\n",
        "    - Output: `[batch_size, seq_len, rnn_size]`\n",
        "- **RNN Stack:** This component consists of one or more RNN layers, which process the input sequence of vectors from the Embedding component.\n",
        "    - Input: `[batch_size, seq_len, rnn_size]`\n",
        "    - Output: `[batch_size, seq_len, rnn_size]`\n",
        "- **Extract Last Position:** The RNN Stack component returns a sequence of vectors for each input example. However, for classification purposes, we only need a single vector that captures the full information of the input example. Since the RNN is left-to-right by default, the output state vector at the last position contains the full information of the input example. Therefore, for the $i$-th input example, we extract the output state vector at the last *non-pad* position, which is indicated by `last_pos[i]`.\n",
        "    - Input: `[batch_size, seq_len, rnn_size]`\n",
        "    - Output: `[batch_size, rnn_size]`\n",
        "- **Classifier:** This component is a fully-connected layer that maps the output vectors extracted in the previous step to logits (scores before softmax), which can be used to make predictions about the language of origin for each input example.\n",
        "    - Input: `[batch_size, rnn_size]`\n",
        "    - Output: `[batch_size, n_categories]`\n",
        "\n",
        "\n",
        "These documents would be helpful in this part:\n",
        "\n",
        "- https://pytorch.org/docs/stable/generated/torch.nn.Embedding.html\n",
        "- https://pytorch.org/docs/stable/generated/torch.nn.RNN.html\n",
        "- https://pytorch.org/docs/stable/generated/torch.gather.html\n",
        "- https://pytorch.org/docs/stable/generated/torch.Tensor.expand.html\n",
        "- https://pytorch.org/docs/stable/generated/torch.Tensor.view.html"
      ]
    },
    {
      "cell_type": "code",
      "execution_count": 4,
      "metadata": {
        "id": "9IkH_H9MHwmg"
      },
      "outputs": [],
      "source": [
        "#model = RecurrentClassifier(11, 13, 17, 2, 0.1, 'rnn')\n",
        "class RecurrentClassifier(nn.Module):\n",
        "    def __init__(\n",
        "        self,\n",
        "        vocab_size: int,\n",
        "        rnn_size: int,\n",
        "        n_categories: int,\n",
        "        num_layers: int = 1,\n",
        "        dropout: float = 0.0,\n",
        "        model_type: str = 'lstm'\n",
        "    ):\n",
        "        super().__init__()\n",
        "        self.rnn_size = rnn_size\n",
        "        self.model_type = model_type\n",
        "\n",
        "        ########################################################################\n",
        "        # TODO: Create an embedding layer of shape [vocab_size, rnn_size]\n",
        "        #\n",
        "        # Hint: Use nn.Embedding\n",
        "        # https://pytorch.org/docs/stable/generated/torch.nn.Embedding.html\n",
        "        # It will map each word into a vector of shape [rnn_size]\n",
        "        ########################################################################\n",
        "        #self.embedding = NotImplementedError()\n",
        "        self.embedding = nn.Embedding(num_embeddings= vocab_size, embedding_dim= rnn_size)\n",
        "        ########################################################################\n",
        "\n",
        "        ########################################################################\n",
        "        # TODO: Create a RNN stack with `num_layers` layers with tanh\n",
        "        #       nonlinearity. Between each layers, there is a dropout of\n",
        "        #       `dropout`. Implement it with a *single* call to `torch.nn` APIs\n",
        "        #\n",
        "        # Hint: See documentations at\n",
        "        # https://pytorch.org/docs/stable/generated/torch.nn.RNN.html\n",
        "        # Set the arguments to call `nn.RNN` such that:\n",
        "        # - The shape of the input is [batch_size, seq_len, rnn_size]\n",
        "        # - The shape of the output should be [batch_size, seq_len, rnn_size]\n",
        "        # Make sure that the dimension ordering is correct. One of the argument\n",
        "        #   in the constructor of `nn.RNN` (or `nn.LSTM`) is helpful here\n",
        "        #\n",
        "        # Optional: Implement one LSTM layer when `model_type` is `lstm`\n",
        "        ########################################################################\n",
        "        if model_type == 'lstm':\n",
        "            self.lstm = NotImplementedError()\n",
        "        elif model_type == 'rnn':\n",
        "            #self.rnn = NotImplementedError()\n",
        "            self.rnn = nn.RNN(input_size=rnn_size,hidden_size=rnn_size,num_layers=num_layers,nonlinearity='tanh',dropout=dropout,batch_first=True)\n",
        "        ########################################################################\n",
        "\n",
        "        ########################################################################\n",
        "        # TODO: Implement one dropout layer and the fully-connected classifier\n",
        "        #       layer\n",
        "        #\n",
        "        # Hint: We add a dropout layer because neither nn.RNN nor nn.LSTM\n",
        "        #   implements dropout after the last layer in the stack.\n",
        "        # Since the input to the classifier is the output of the last position\n",
        "        #   of the RNN's final layer, it has a shape of [batch_size, rnn_size].\n",
        "        # The expected output should be logits, which correspond to scores\n",
        "        #   before applying softmax, and should have a shape of\n",
        "        #   [batch_size, n_categories].\n",
        "        ########################################################################\n",
        "        self.drop = nn.Dropout(p=dropout)\n",
        "        self.output = nn.Linear(in_features=rnn_size,out_features=n_categories)\n",
        "        ########################################################################\n",
        "\n",
        "    def forward(self, x: torch.Tensor, last_pos: torch.Tensor) -> torch.Tensor:\n",
        "        \"\"\"\n",
        "        x: integer tensor of shape [batch_size, seq_len]\n",
        "        last_pos: integer tensor of shape [batch_size]\n",
        "\n",
        "        The input tensor `x` is composed of a batch of sequences, where each\n",
        "        sequence contains indices corresponding to characters. As sequences\n",
        "        within the same batch may have different lengths, shorter sequences are\n",
        "        padded on the right side to match the maximum sequence length of the\n",
        "        batch, which is represented by `seq_len`.\n",
        "\n",
        "        Additionally, the `last_pos` tensor records the position of the last\n",
        "        character in each sequence. For instance, the first sequence in the\n",
        "        batch can be represented as `[x[0, 0], x[0, 1], ..., x[0, last_pos[0]]`.\n",
        "        `last_pos` is useful when extracting the output state associated with\n",
        "        each sequence from the RNNs.\n",
        "        \"\"\"\n",
        "        embeds = self.embedding(x)\n",
        "        print(f\"printing embeds.shape: {embeds.shape}\")\n",
        "        if self.model_type == 'lstm':\n",
        "            rnn_out, _ = self.lstm(embeds)\n",
        "        else:\n",
        "            rnn_out, _ = self.rnn(embeds)\n",
        "            print(f\"printing rnn.out.shape: {rnn_out.shape}\")\n",
        "\n",
        "        ########################################################################\n",
        "        # TODO: Retrieve the output state associated with each sequence\n",
        "        #\n",
        "        # Hints:\n",
        "        # - The output state of all positions is returned by the RNN stack,\n",
        "        #   but we only need the state in the last position for classification\n",
        "        #   - The shape of `rnn_out` is [batch_size, seq_len, rnn_size]\n",
        "        #   - The expected shape of `out` is [batch_size, rnn_size]\n",
        "        # - For the i-th sequence, we have out[i] == rnn_out[i, last_pos[i]]\n",
        "        # - Try to condense your code into a single line, without using any\n",
        "        #   loops. However, if you find it too challenging to do so, you may use\n",
        "        #   a single layer of for-loop.\n",
        "        ########################################################################\n",
        "        #out = NotImplementedError()\n",
        "        out = torch.zeros(rnn_out.shape[0],rnn_out.shape[2])\n",
        "        #print(f\"output shape: {out.shape}\")\n",
        "\n",
        "        for i in range(out.shape[0]):\n",
        "          out[i] = rnn_out[i,last_pos[i]]\n",
        "          #print(out[i].shape)\n",
        "\n",
        "        ########################################################################\n",
        "\n",
        "        out = self.drop(out)\n",
        "        logits = self.output(out)\n",
        "        #print(f\"logits shape: {logits.shape}\")\n",
        "        return logits\n"
      ]
    },
    {
      "cell_type": "markdown",
      "metadata": {
        "id": "0K9zWqsSHwmh"
      },
      "source": [
        "After completing your implementation, ensure that it passes the following tests. If your implementation fails some tests, but you believe that your implementation is correct, please post the error message along with a brief description on Ed. Please refrain from posting your actual code on Ed."
      ]
    },
    {
      "cell_type": "code",
      "execution_count": 5,
      "metadata": {
        "id": "a9a0HBpKHwmh"
      },
      "outputs": [],
      "source": [
        "seed = 227\n",
        "random.seed(seed)\n",
        "np.random.seed(seed)\n",
        "torch.manual_seed(seed)\n",
        "model = RecurrentClassifier(11, 13, 17, 2, 0.1, 'rnn')"
      ]
    },
    {
      "cell_type": "code",
      "execution_count": 6,
      "metadata": {
        "id": "rqe0A0t7Hwmi"
      },
      "outputs": [],
      "source": [
        "assert list(model.state_dict().keys()) == ['embedding.weight',\n",
        " 'rnn.weight_ih_l0',\n",
        " 'rnn.weight_hh_l0',\n",
        " 'rnn.bias_ih_l0',\n",
        " 'rnn.bias_hh_l0',\n",
        " 'rnn.weight_ih_l1',\n",
        " 'rnn.weight_hh_l1',\n",
        " 'rnn.bias_ih_l1',\n",
        " 'rnn.bias_hh_l1',\n",
        " 'output.weight',\n",
        " 'output.bias']\n",
        "assert model.embedding.weight.shape == torch.Size([11, 13])\n",
        "assert (\n",
        "    model.rnn.weight_ih_l0.shape\n",
        "    == model.rnn.weight_hh_l0.shape\n",
        "    == model.rnn.weight_ih_l1.shape\n",
        "    == model.rnn.weight_hh_l1.shape\n",
        "    == torch.Size([13, 13])\n",
        ")\n",
        "assert (\n",
        "    model.rnn.bias_ih_l0.shape\n",
        "    == model.rnn.bias_hh_l0.shape\n",
        "    == model.rnn.bias_ih_l1.shape\n",
        "    == model.rnn.bias_hh_l1.shape\n",
        "    == torch.Size([13])\n",
        ")\n",
        "assert model.output.weight.shape == torch.Size([17, 13])\n",
        "assert model.output.bias.shape == torch.Size([17])\n"
      ]
    },
    {
      "cell_type": "code",
      "execution_count": 7,
      "metadata": {
        "colab": {
          "base_uri": "https://localhost:8080/"
        },
        "id": "Sx7lBqquHwmi",
        "outputId": "f1d1112a-6297-4764-aa0f-debb78e93ed7"
      },
      "outputs": [
        {
          "output_type": "stream",
          "name": "stdout",
          "text": [
            "printing embeds.shape: torch.Size([5, 4, 13])\n",
            "printing rnn.out.shape: torch.Size([5, 4, 13])\n"
          ]
        }
      ],
      "source": [
        "x = torch.arange(20).view(5, 4) % 11\n",
        "last_pos = torch.tensor([2, 3, 1, 2, 3])\n",
        "seed = 1025\n",
        "random.seed(seed)\n",
        "np.random.seed(seed)\n",
        "torch.manual_seed(seed)\n",
        "logits = model(x, last_pos)\n",
        "#print(logits.shape)\n",
        "assert logits.shape == torch.Size([5, 17])\n",
        "assert torch.allclose(\n",
        "    logits.view(-1)[40:45],\n",
        "    torch.tensor(\n",
        "        [\n",
        "            -0.27393126487731934,\n",
        "            0.28421181440353394,\n",
        "            0.2342953234910965,\n",
        "            0.23580458760261536,\n",
        "            0.06812290847301483\n",
        "        ],\n",
        "        dtype=torch.float\n",
        "    )\n",
        ")\n",
        "\n",
        "model.zero_grad()\n",
        "logits.sum().backward()\n",
        "assert torch.allclose(\n",
        "    model.rnn.weight_hh_l0.grad.view(-1)[40:45],\n",
        "    torch.tensor(\n",
        "        [\n",
        "            -0.9424352645874023,\n",
        "            -0.488606333732605,\n",
        "            0.6905138492584229,\n",
        "            -0.0017577260732650757,\n",
        "            1.1024625301361084\n",
        "        ],\n",
        "        dtype=torch.float\n",
        "    )\n",
        ")"
      ]
    },
    {
      "cell_type": "markdown",
      "metadata": {
        "id": "v16fgYnCHwmi"
      },
      "source": [
        "## Preprocess the dataset\n",
        "\n",
        "The [dataset](https://pytorch.org/tutorials/intermediate/char_rnn_classification_tutorial.html) contains a few thousand surnames from 18 languages of origin. Included in the data/names directory are 18 text files named as \"[Language].txt\". Each file contains a bunch of names, one name per line, mostly romanized (but we still need to convert from Unicode to ASCII).\n",
        "\n",
        "We'll end up with a dictionary of lists of names per language, {language: [names ...]}.\n",
        "\n",
        "\n"
      ]
    },
    {
      "cell_type": "code",
      "execution_count": 8,
      "metadata": {
        "colab": {
          "base_uri": "https://localhost:8080/"
        },
        "id": "Ia0yjKeTHwmi",
        "outputId": "53a9faa4-2aa7-4377-8550-1274154e8cf7"
      },
      "outputs": [
        {
          "output_type": "stream",
          "name": "stdout",
          "text": [
            "The normalized form of Ślusàrski is Slusarski\n"
          ]
        }
      ],
      "source": [
        "from __future__ import unicode_literals, print_function, division\n",
        "from io import open\n",
        "import glob\n",
        "import os\n",
        "\n",
        "def findFiles(path): return glob.glob(path)\n",
        "\n",
        "assert findFiles('data/names/*.txt'), \"Data not found!\"\n",
        "\n",
        "import unicodedata\n",
        "import string\n",
        "\n",
        "all_letters = string.ascii_letters + \" .,;'\"\n",
        "n_letters = len(all_letters)\n",
        "\n",
        "# Turn a Unicode string to plain ASCII, thanks to https://stackoverflow.com/a/518232/2809427\n",
        "def unicodeToAscii(s):\n",
        "    return ''.join(\n",
        "        c for c in unicodedata.normalize('NFD', s)\n",
        "        if unicodedata.category(c) != 'Mn'\n",
        "        and c in all_letters\n",
        "    )\n",
        "\n",
        "print(\"The normalized form of\", 'Ślusàrski', \"is\", unicodeToAscii('Ślusàrski'))\n",
        "\n",
        "# Build the category_lines dictionary, a list of names per language\n",
        "category_lines = {}\n",
        "all_categories = []\n",
        "\n",
        "# Read a file and split into lines\n",
        "def readLines(filename):\n",
        "    lines = open(filename, encoding='utf-8').read().strip().split('\\n')\n",
        "    return [unicodeToAscii(line) for line in lines]\n",
        "\n",
        "for filename in findFiles('data/names/*.txt'):\n",
        "    category = os.path.splitext(os.path.basename(filename))[0]\n",
        "    all_categories.append(category)\n",
        "    lines = readLines(filename)\n",
        "    category_lines[category] = lines\n",
        "\n",
        "n_categories = len(all_categories)"
      ]
    },
    {
      "cell_type": "code",
      "execution_count": 9,
      "metadata": {
        "colab": {
          "base_uri": "https://localhost:8080/"
        },
        "id": "zkiDWBsfHwmi",
        "outputId": "403bfbe8-3204-47c5-b8db-25d516c04751"
      },
      "outputs": [
        {
          "output_type": "stream",
          "name": "stdout",
          "text": [
            "['Abandonato', 'Abatangelo', 'Abatantuono', 'Abate', 'Abategiovanni']\n"
          ]
        }
      ],
      "source": [
        "print(category_lines['Italian'][:5])"
      ]
    },
    {
      "cell_type": "code",
      "execution_count": 10,
      "metadata": {
        "colab": {
          "base_uri": "https://localhost:8080/",
          "height": 35
        },
        "id": "-WkiRjMPHwmi",
        "outputId": "0636dd6c-bb56-4b22-bb50-ba7d578d4dcb"
      },
      "outputs": [
        {
          "output_type": "execute_result",
          "data": {
            "text/plain": [
              "\"abcdefghijklmnopqrstuvwxyzABCDEFGHIJKLMNOPQRSTUVWXYZ .,;'\""
            ],
            "application/vnd.google.colaboratory.intrinsic+json": {
              "type": "string"
            }
          },
          "metadata": {},
          "execution_count": 10
        }
      ],
      "source": [
        "all_letters\n",
        "#print(len(all_letters))"
      ]
    },
    {
      "cell_type": "markdown",
      "metadata": {
        "id": "jLxfKKSZHwmj"
      },
      "source": [
        "**Implement the function to encode a letter to an integer:**"
      ]
    },
    {
      "cell_type": "code",
      "execution_count": 11,
      "metadata": {
        "id": "0HrdyuJvHwmj"
      },
      "outputs": [],
      "source": [
        "def letterToIndex(letter):\n",
        "    ############################################################################\n",
        "    # TODO: implement the function to map a letter (a character) into its index\n",
        "    #       in `all_letters`\n",
        "    #\n",
        "    # e.g. letterToIndex(\"a\") == 0\n",
        "    # Don't worry about efficiency here\n",
        "    ############################################################################\n",
        "    letters = [*all_letters]\n",
        "    index = letters.index(letter)\n",
        "    return index\n",
        "    ############################################################################\n",
        "\n",
        "assert letterToIndex(\"a\") == 0\n",
        "assert letterToIndex(\"'\") == 56"
      ]
    },
    {
      "cell_type": "code",
      "execution_count": 12,
      "metadata": {
        "id": "1bRRVNrvHwmj"
      },
      "outputs": [],
      "source": [
        "# For labels, we must have numbers instead of a string. These dictionaries convert\n",
        "# between these two ways of representing the labels.\n",
        "num_to_cat = dict(enumerate(category_lines.keys()))\n",
        "cat_to_num = dict((v,k) for k,v in num_to_cat.items())\n",
        "\n",
        "pad = 57 # this is the next available character\n",
        "vocab_size = 58 # number of characters used in total"
      ]
    },
    {
      "cell_type": "code",
      "execution_count": 13,
      "metadata": {
        "id": "NmPJXEDQHwmj"
      },
      "outputs": [],
      "source": [
        "def build_data():\n",
        "  '''\n",
        "  category_lines: a dictionary of lists of names per language, {language: [names ...]}.\n",
        "\n",
        "  We want to translate our dictionary into a dataset that has one entry per name.\n",
        "  Each datapoint is a 3-tuple consisting of:\n",
        "  - x: a length-19 array with each character in the name as an element,\n",
        "   padded with zeros at the end if the name is less than 19 characters.\n",
        "  - y: the numerical representation of the language the name corresponds to.\n",
        "  - index: the index of the last non-pad token\n",
        "  '''\n",
        "  data = []\n",
        "  for cat in category_lines:\n",
        "    for name in category_lines[cat]:\n",
        "      token = np.ones(19, dtype=np.int64) * pad\n",
        "      numerized = np.array([letterToIndex(l) for l in name])\n",
        "      n = len(numerized)\n",
        "      token[:n] = numerized\n",
        "      data.append((token, cat_to_num[cat], n-1))\n",
        "  return data"
      ]
    },
    {
      "cell_type": "code",
      "execution_count": 14,
      "metadata": {
        "id": "w8J6aIStHwmj"
      },
      "outputs": [],
      "source": [
        "data = build_data()\n",
        "seed = 227\n",
        "random.seed(seed)\n",
        "np.random.seed(seed)\n",
        "torch.manual_seed(seed)\n",
        "random.shuffle(data)"
      ]
    },
    {
      "cell_type": "code",
      "execution_count": 15,
      "metadata": {
        "id": "ukJb7e2UHwmj"
      },
      "outputs": [],
      "source": [
        "n_train = int(len(data) * 0.8)\n",
        "train_data = data[:n_train]\n",
        "test_data = data[n_train:]"
      ]
    },
    {
      "cell_type": "code",
      "execution_count": 16,
      "metadata": {
        "colab": {
          "base_uri": "https://localhost:8080/"
        },
        "id": "ML680lOPHwmj",
        "outputId": "cfeecf25-21c7-4e2c-cdac-5ee6060638fa"
      },
      "outputs": [
        {
          "output_type": "execute_result",
          "data": {
            "text/plain": [
              "16059"
            ]
          },
          "metadata": {},
          "execution_count": 16
        }
      ],
      "source": [
        "len(train_data)"
      ]
    },
    {
      "cell_type": "code",
      "execution_count": 17,
      "metadata": {
        "colab": {
          "base_uri": "https://localhost:8080/"
        },
        "id": "bf9V-yUcHwmj",
        "outputId": "2fbdc5da-d150-451c-f021-8dbdb039c081"
      },
      "outputs": [
        {
          "output_type": "execute_result",
          "data": {
            "text/plain": [
              "(array([45,  8, 10,  7, 14,  1, 17,  0, 25, 14, 21, 57, 57, 57, 57, 57, 57,\n",
              "        57, 57]),\n",
              " 10,\n",
              " 10)"
            ]
          },
          "metadata": {},
          "execution_count": 17
        }
      ],
      "source": [
        "train_data[0]"
      ]
    },
    {
      "cell_type": "code",
      "execution_count": 18,
      "metadata": {
        "colab": {
          "base_uri": "https://localhost:8080/"
        },
        "id": "I1Y_a3TDHwmj",
        "outputId": "4d4dc731-76c9-4cfe-b057-ffa020035214"
      },
      "outputs": [
        {
          "output_type": "execute_result",
          "data": {
            "text/plain": [
              "4015"
            ]
          },
          "metadata": {},
          "execution_count": 18
        }
      ],
      "source": [
        "len(test_data)"
      ]
    },
    {
      "cell_type": "code",
      "execution_count": 19,
      "metadata": {
        "colab": {
          "base_uri": "https://localhost:8080/"
        },
        "id": "dSwffZVNHwmk",
        "outputId": "6f1a8d94-0366-42bc-c390-3b1ee9767a10"
      },
      "outputs": [
        {
          "output_type": "execute_result",
          "data": {
            "text/plain": [
              "(array([38, 20, 12,  3,  9,  8,  0, 13, 57, 57, 57, 57, 57, 57, 57, 57, 57,\n",
              "        57, 57]),\n",
              " 10,\n",
              " 7)"
            ]
          },
          "metadata": {},
          "execution_count": 19
        }
      ],
      "source": [
        "test_data[0]"
      ]
    },
    {
      "cell_type": "markdown",
      "metadata": {
        "id": "v4QzlEvFHwmk"
      },
      "source": [
        "# Train the model"
      ]
    },
    {
      "cell_type": "markdown",
      "metadata": {
        "id": "N_RTjGe0Hwmk"
      },
      "source": [
        "Training will be faster if you use the Colab GPU. If it's not already enabled, do so with Runtime -> Change runtime type."
      ]
    },
    {
      "cell_type": "code",
      "execution_count": 20,
      "metadata": {
        "id": "J7rCddUiHwmk"
      },
      "outputs": [],
      "source": [
        "def build_batch(dataset, indices):\n",
        "    '''\n",
        "    Helper function for creating a batch during training. Builds a batch\n",
        "    of source and target elements from the dataset. See the next cell for\n",
        "    when and how it's used.\n",
        "\n",
        "    Arguments:\n",
        "        dataset: List[db_element] -- A list of dataset elements\n",
        "        indices: List[int] -- A list of indices of the dataset to sample\n",
        "    Returns:\n",
        "        batch_input: List[List[int]] -- List of tensorized names\n",
        "        batch_target: List[int] -- List of numerical categories\n",
        "        batch_indices: List[int] -- List of starting indices of padding\n",
        "    '''\n",
        "    # Recover what the entries for the batch are\n",
        "    batch = [dataset[i] for i in indices]\n",
        "    batch_input = np.array(list(zip(*batch))[0])\n",
        "    batch_target = np.array(list(zip(*batch))[1])\n",
        "    batch_indices = np.array(list(zip(*batch))[2])\n",
        "    return batch_input, batch_target, batch_indices # lines, categories"
      ]
    },
    {
      "cell_type": "code",
      "execution_count": 21,
      "metadata": {
        "colab": {
          "base_uri": "https://localhost:8080/"
        },
        "id": "14yYYOWDHwmk",
        "outputId": "cfd681c4-e24b-4b21-cbf4-6ae6de670b7a"
      },
      "outputs": [
        {
          "output_type": "execute_result",
          "data": {
            "text/plain": [
              "(array([[27, 17,  8,  0, 13, 57, 57, 57, 57, 57, 57, 57, 57, 57, 57, 57,\n",
              "         57, 57, 57],\n",
              "        [44,  7,  8, 17,  8, 13, 57, 57, 57, 57, 57, 57, 57, 57, 57, 57,\n",
              "         57, 57, 57],\n",
              "        [36,  0,  2,  7,  0, 17, 14, 21, 57, 57, 57, 57, 57, 57, 57, 57,\n",
              "         57, 57, 57]]),\n",
              " array([ 6, 10, 10]),\n",
              " array([4, 5, 7]))"
            ]
          },
          "metadata": {},
          "execution_count": 21
        }
      ],
      "source": [
        "build_batch(train_data, [1, 2, 3])"
      ]
    },
    {
      "cell_type": "markdown",
      "metadata": {
        "id": "dP2m9e_RHwmk"
      },
      "source": [
        "**Adjust the hyperparameters listed below** to train an RNN with a minimum evaluation accuracy of 80% after 20 epochs. Your score will be graded on a linear scale, ranging from 0 to the maximum score, as the validation accuracy achieved after the last epoch changes from 70% to 80% (i.e., you get 0 if the accuracy is less than 70%, and get the full score if the accuracy is greater than 80% for this autograding item)."
      ]
    },
    {
      "cell_type": "code",
      "execution_count": 30,
      "metadata": {
        "colab": {
          "base_uri": "https://localhost:8080/"
        },
        "id": "4zsJZFWCHwmk",
        "outputId": "eb259c41-56e1-431c-cf2d-c753469f6a2d"
      },
      "outputs": [
        {
          "output_type": "stream",
          "name": "stdout",
          "text": [
            "You are using cpu for training\n"
          ]
        }
      ],
      "source": [
        "criterion = nn.CrossEntropyLoss()\n",
        "\n",
        "# The build_batch function outputs numpy, but our model is built in pytorch,\n",
        "# so we need to convert numpy to pytorch with the correct types.\n",
        "batch_to_torch = lambda b_in,b_target,b_mask: (torch.tensor(b_in).long(),\n",
        "                                               torch.tensor(b_target).long(),\n",
        "                                               torch.tensor(b_mask).long())\n",
        "\n",
        "############################################################################\n",
        "# TODO: Tune these hyperparameters for a better performance\n",
        "############################################################################\n",
        "hidden_size = 256\n",
        "num_layers = 2\n",
        "dropout = 0.2\n",
        "optimizer_class = optim.Adam\n",
        "lr = 1e-4\n",
        "batch_size = 256\n",
        "############################################################################\n",
        "\n",
        "# Do not change the number of epochs\n",
        "epochs = 20\n",
        "\n",
        "device = torch.device(\"cuda\" if torch.cuda.is_available() else \"cpu\")\n",
        "print(\"You are using\", device, \"for training\")\n",
        "list_to_device = lambda th_obj: [tensor.to(device) for tensor in th_obj]"
      ]
    },
    {
      "cell_type": "code",
      "execution_count": 31,
      "metadata": {
        "id": "ENydvtC-Hwmk"
      },
      "outputs": [],
      "source": [
        "# Optional\n",
        "# lstm_model = RecurrentClassifier(vocab_size=vocab_size, rnn_size=hidden_size, n_categories=n_categories, num_layers=num_layers, dropout=dropout, model_type='lstm')\n",
        "# lstm_optimizer = optimizer_class(lstm_model.parameters(), lr=lr)"
      ]
    },
    {
      "cell_type": "code",
      "execution_count": 32,
      "metadata": {
        "id": "_PqeNnGuHwmk"
      },
      "outputs": [],
      "source": [
        "seed = 1998\n",
        "random.seed(seed)\n",
        "np.random.seed(seed)\n",
        "torch.manual_seed(seed)\n",
        "rnn_model = RecurrentClassifier(vocab_size=vocab_size, rnn_size=hidden_size, n_categories=n_categories, num_layers=num_layers, dropout=dropout, model_type='rnn')\n",
        "rnn_optimizer = optimizer_class(rnn_model.parameters(), lr=lr)"
      ]
    },
    {
      "cell_type": "code",
      "execution_count": 33,
      "metadata": {
        "id": "LZ4LDmjtHwmk"
      },
      "outputs": [],
      "source": [
        "def train(model, optimizer, criterion, epochs, batch_size, seed):\n",
        "    model.to(device)\n",
        "    model.train()\n",
        "    train_losses = []\n",
        "    train_accuracies = []\n",
        "    eval_accuracies = []\n",
        "    for epoch in range(epochs):\n",
        "        random.seed(seed + epoch)\n",
        "        np.random.seed(seed + epoch)\n",
        "        torch.manual_seed(seed + epoch)\n",
        "        indices = np.random.permutation(range(len(train_data)))\n",
        "        n_correct, n_total = 0, 0\n",
        "        progress_bar = tqdm(range(0, (len(train_data) // batch_size) + 1))\n",
        "        for i in progress_bar:\n",
        "            batch = build_batch(train_data, indices[i*batch_size:(i+1)*batch_size])\n",
        "            (batch_input, batch_target, batch_indices) = batch_to_torch(*batch)\n",
        "            (batch_input, batch_target, batch_indices) = list_to_device((batch_input, batch_target, batch_indices))\n",
        "\n",
        "            logits = model(batch_input, batch_indices)\n",
        "            loss = criterion(logits, batch_target)\n",
        "            train_losses.append(loss.item())\n",
        "\n",
        "            predictions = logits.argmax(dim=-1)\n",
        "            n_correct += (predictions == batch_target).sum().item()\n",
        "            n_total += batch_target.size(0)\n",
        "\n",
        "            optimizer.zero_grad()\n",
        "            loss.backward()\n",
        "            optimizer.step()\n",
        "\n",
        "            if (i + 1) % 10 == 0:\n",
        "                progress_bar.set_description(f\"Epoch: {epoch}  Iteration: {i}  Loss: {np.mean(train_losses[-10:])}\")\n",
        "        train_accuracies.append(n_correct / n_total * 100)\n",
        "        print(f\"Epoch: {epoch}  Train Accuracy: {n_correct / n_total * 100}\")\n",
        "\n",
        "        with torch.no_grad():\n",
        "            indices = list(range(len(test_data)))\n",
        "            n_correct, n_total = 0, 0\n",
        "            for i in range(0, (len(test_data) // batch_size) + 1):\n",
        "                batch = build_batch(test_data, indices[i*batch_size:(i+1)*batch_size])\n",
        "                (batch_input, batch_target, batch_indices) = batch_to_torch(*batch)\n",
        "                (batch_input, batch_target, batch_indices) = list_to_device((batch_input, batch_target, batch_indices))\n",
        "\n",
        "                logits = model(batch_input, batch_indices)\n",
        "                predictions = logits.argmax(dim=-1)\n",
        "                n_correct += (predictions == batch_target).sum().item()\n",
        "                n_total += batch_target.size(0)\n",
        "            eval_accuracies.append(n_correct / n_total * 100)\n",
        "            print(f\"Epoch: {epoch}  Eval Accuracy: {n_correct / n_total * 100}\")\n",
        "\n",
        "    to_save = {\n",
        "        \"history\": {\n",
        "            \"train_losses\": train_losses,\n",
        "            \"train_accuracies\": train_accuracies,\n",
        "            \"eval_accuracies\": eval_accuracies,\n",
        "        },\n",
        "        \"hparams\": {\n",
        "            \"hidden_size\": hidden_size,\n",
        "            \"num_layers\": num_layers,\n",
        "            \"dropout\": dropout,\n",
        "            \"optimizer_class\": optimizer_class.__name__,\n",
        "            \"lr\": lr,\n",
        "            \"batch_size\": batch_size,\n",
        "            \"epochs\": epochs,\n",
        "            \"seed\": seed\n",
        "        },\n",
        "        \"model\": [\n",
        "            (name, list(param.shape))\n",
        "            for name, param in rnn_model.named_parameters()\n",
        "        ]\n",
        "    }\n",
        "    return to_save"
      ]
    },
    {
      "cell_type": "code",
      "execution_count": 34,
      "metadata": {
        "colab": {
          "base_uri": "https://localhost:8080/"
        },
        "id": "cI_D60CEHwmk",
        "outputId": "b816cd94-66eb-436b-9559-c6f509bf4185"
      },
      "outputs": [
        {
          "output_type": "stream",
          "name": "stderr",
          "text": [
            "\r  0%|          | 0/63 [00:00<?, ?it/s]"
          ]
        },
        {
          "output_type": "stream",
          "name": "stdout",
          "text": [
            "printing embeds.shape: torch.Size([256, 19, 256])\n",
            "printing rnn.out.shape: torch.Size([256, 19, 256])\n"
          ]
        },
        {
          "output_type": "stream",
          "name": "stderr",
          "text": [
            "\r  2%|▏         | 1/63 [00:00<00:28,  2.17it/s]"
          ]
        },
        {
          "output_type": "stream",
          "name": "stdout",
          "text": [
            "printing embeds.shape: torch.Size([256, 19, 256])\n",
            "printing rnn.out.shape: torch.Size([256, 19, 256])\n"
          ]
        },
        {
          "output_type": "stream",
          "name": "stderr",
          "text": [
            "\r  3%|▎         | 2/63 [00:01<00:32,  1.86it/s]"
          ]
        },
        {
          "output_type": "stream",
          "name": "stdout",
          "text": [
            "printing embeds.shape: torch.Size([256, 19, 256])\n",
            "printing rnn.out.shape: torch.Size([256, 19, 256])\n"
          ]
        },
        {
          "output_type": "stream",
          "name": "stderr",
          "text": [
            "\r  5%|▍         | 3/63 [00:01<00:31,  1.90it/s]"
          ]
        },
        {
          "output_type": "stream",
          "name": "stdout",
          "text": [
            "printing embeds.shape: torch.Size([256, 19, 256])\n",
            "printing rnn.out.shape: torch.Size([256, 19, 256])\n"
          ]
        },
        {
          "output_type": "stream",
          "name": "stderr",
          "text": [
            "\r  6%|▋         | 4/63 [00:02<00:36,  1.63it/s]"
          ]
        },
        {
          "output_type": "stream",
          "name": "stdout",
          "text": [
            "printing embeds.shape: torch.Size([256, 19, 256])\n",
            "printing rnn.out.shape: torch.Size([256, 19, 256])\n"
          ]
        },
        {
          "output_type": "stream",
          "name": "stderr",
          "text": [
            "\r  8%|▊         | 5/63 [00:03<00:40,  1.42it/s]"
          ]
        },
        {
          "output_type": "stream",
          "name": "stdout",
          "text": [
            "printing embeds.shape: torch.Size([256, 19, 256])\n",
            "printing rnn.out.shape: torch.Size([256, 19, 256])\n"
          ]
        },
        {
          "output_type": "stream",
          "name": "stderr",
          "text": [
            "\r 10%|▉         | 6/63 [00:03<00:41,  1.36it/s]"
          ]
        },
        {
          "output_type": "stream",
          "name": "stdout",
          "text": [
            "printing embeds.shape: torch.Size([256, 19, 256])\n",
            "printing rnn.out.shape: torch.Size([256, 19, 256])\n"
          ]
        },
        {
          "output_type": "stream",
          "name": "stderr",
          "text": [
            "\r 11%|█         | 7/63 [00:04<00:35,  1.59it/s]"
          ]
        },
        {
          "output_type": "stream",
          "name": "stdout",
          "text": [
            "printing embeds.shape: torch.Size([256, 19, 256])\n",
            "printing rnn.out.shape: torch.Size([256, 19, 256])\n"
          ]
        },
        {
          "output_type": "stream",
          "name": "stderr",
          "text": [
            "\r 13%|█▎        | 8/63 [00:04<00:33,  1.64it/s]"
          ]
        },
        {
          "output_type": "stream",
          "name": "stdout",
          "text": [
            "printing embeds.shape: torch.Size([256, 19, 256])\n",
            "printing rnn.out.shape: torch.Size([256, 19, 256])\n"
          ]
        },
        {
          "output_type": "stream",
          "name": "stderr",
          "text": [
            "\r 14%|█▍        | 9/63 [00:05<00:31,  1.70it/s]"
          ]
        },
        {
          "output_type": "stream",
          "name": "stdout",
          "text": [
            "printing embeds.shape: torch.Size([256, 19, 256])\n",
            "printing rnn.out.shape: torch.Size([256, 19, 256])\n"
          ]
        },
        {
          "output_type": "stream",
          "name": "stderr",
          "text": [
            "Epoch: 0  Iteration: 9  Loss: 2.6910363912582396:  16%|█▌        | 10/63 [00:06<00:31,  1.71it/s]"
          ]
        },
        {
          "output_type": "stream",
          "name": "stdout",
          "text": [
            "printing embeds.shape: torch.Size([256, 19, 256])\n",
            "printing rnn.out.shape: torch.Size([256, 19, 256])\n"
          ]
        },
        {
          "output_type": "stream",
          "name": "stderr",
          "text": [
            "\rEpoch: 0  Iteration: 9  Loss: 2.6910363912582396:  17%|█▋        | 11/63 [00:06<00:27,  1.89it/s]"
          ]
        },
        {
          "output_type": "stream",
          "name": "stdout",
          "text": [
            "printing embeds.shape: torch.Size([256, 19, 256])\n",
            "printing rnn.out.shape: torch.Size([256, 19, 256])\n"
          ]
        },
        {
          "output_type": "stream",
          "name": "stderr",
          "text": [
            "\rEpoch: 0  Iteration: 9  Loss: 2.6910363912582396:  19%|█▉        | 12/63 [00:07<00:27,  1.86it/s]"
          ]
        },
        {
          "output_type": "stream",
          "name": "stdout",
          "text": [
            "printing embeds.shape: torch.Size([256, 19, 256])\n",
            "printing rnn.out.shape: torch.Size([256, 19, 256])\n"
          ]
        },
        {
          "output_type": "stream",
          "name": "stderr",
          "text": [
            "\rEpoch: 0  Iteration: 9  Loss: 2.6910363912582396:  21%|██        | 13/63 [00:07<00:26,  1.87it/s]"
          ]
        },
        {
          "output_type": "stream",
          "name": "stdout",
          "text": [
            "printing embeds.shape: torch.Size([256, 19, 256])\n",
            "printing rnn.out.shape: torch.Size([256, 19, 256])\n"
          ]
        },
        {
          "output_type": "stream",
          "name": "stderr",
          "text": [
            "\rEpoch: 0  Iteration: 9  Loss: 2.6910363912582396:  22%|██▏       | 14/63 [00:08<00:25,  1.89it/s]"
          ]
        },
        {
          "output_type": "stream",
          "name": "stdout",
          "text": [
            "printing embeds.shape: torch.Size([256, 19, 256])\n",
            "printing rnn.out.shape: torch.Size([256, 19, 256])\n"
          ]
        },
        {
          "output_type": "stream",
          "name": "stderr",
          "text": [
            "\rEpoch: 0  Iteration: 9  Loss: 2.6910363912582396:  24%|██▍       | 15/63 [00:08<00:27,  1.77it/s]"
          ]
        },
        {
          "output_type": "stream",
          "name": "stdout",
          "text": [
            "printing embeds.shape: torch.Size([256, 19, 256])\n",
            "printing rnn.out.shape: torch.Size([256, 19, 256])\n"
          ]
        },
        {
          "output_type": "stream",
          "name": "stderr",
          "text": [
            "\rEpoch: 0  Iteration: 9  Loss: 2.6910363912582396:  25%|██▌       | 16/63 [00:09<00:28,  1.68it/s]"
          ]
        },
        {
          "output_type": "stream",
          "name": "stdout",
          "text": [
            "printing embeds.shape: torch.Size([256, 19, 256])\n",
            "printing rnn.out.shape: torch.Size([256, 19, 256])\n"
          ]
        },
        {
          "output_type": "stream",
          "name": "stderr",
          "text": [
            "\rEpoch: 0  Iteration: 9  Loss: 2.6910363912582396:  27%|██▋       | 17/63 [00:09<00:26,  1.72it/s]"
          ]
        },
        {
          "output_type": "stream",
          "name": "stdout",
          "text": [
            "printing embeds.shape: torch.Size([256, 19, 256])\n",
            "printing rnn.out.shape: torch.Size([256, 19, 256])\n"
          ]
        },
        {
          "output_type": "stream",
          "name": "stderr",
          "text": [
            "\rEpoch: 0  Iteration: 9  Loss: 2.6910363912582396:  29%|██▊       | 18/63 [00:10<00:26,  1.67it/s]"
          ]
        },
        {
          "output_type": "stream",
          "name": "stdout",
          "text": [
            "printing embeds.shape: torch.Size([256, 19, 256])\n",
            "printing rnn.out.shape: torch.Size([256, 19, 256])\n"
          ]
        },
        {
          "output_type": "stream",
          "name": "stderr",
          "text": [
            "\rEpoch: 0  Iteration: 9  Loss: 2.6910363912582396:  30%|███       | 19/63 [00:11<00:25,  1.75it/s]"
          ]
        },
        {
          "output_type": "stream",
          "name": "stdout",
          "text": [
            "printing embeds.shape: torch.Size([256, 19, 256])\n",
            "printing rnn.out.shape: torch.Size([256, 19, 256])\n"
          ]
        },
        {
          "output_type": "stream",
          "name": "stderr",
          "text": [
            "Epoch: 0  Iteration: 19  Loss: 2.2409836292266845:  32%|███▏      | 20/63 [00:11<00:22,  1.87it/s]"
          ]
        },
        {
          "output_type": "stream",
          "name": "stdout",
          "text": [
            "printing embeds.shape: torch.Size([256, 19, 256])\n",
            "printing rnn.out.shape: torch.Size([256, 19, 256])\n"
          ]
        },
        {
          "output_type": "stream",
          "name": "stderr",
          "text": [
            "\rEpoch: 0  Iteration: 19  Loss: 2.2409836292266845:  33%|███▎      | 21/63 [00:12<00:21,  1.92it/s]"
          ]
        },
        {
          "output_type": "stream",
          "name": "stdout",
          "text": [
            "printing embeds.shape: torch.Size([256, 19, 256])\n",
            "printing rnn.out.shape: torch.Size([256, 19, 256])\n"
          ]
        },
        {
          "output_type": "stream",
          "name": "stderr",
          "text": [
            "\rEpoch: 0  Iteration: 19  Loss: 2.2409836292266845:  35%|███▍      | 22/63 [00:12<00:21,  1.90it/s]"
          ]
        },
        {
          "output_type": "stream",
          "name": "stdout",
          "text": [
            "printing embeds.shape: torch.Size([256, 19, 256])\n",
            "printing rnn.out.shape: torch.Size([256, 19, 256])\n"
          ]
        },
        {
          "output_type": "stream",
          "name": "stderr",
          "text": [
            "\rEpoch: 0  Iteration: 19  Loss: 2.2409836292266845:  37%|███▋      | 23/63 [00:12<00:19,  2.03it/s]"
          ]
        },
        {
          "output_type": "stream",
          "name": "stdout",
          "text": [
            "printing embeds.shape: torch.Size([256, 19, 256])\n",
            "printing rnn.out.shape: torch.Size([256, 19, 256])\n"
          ]
        },
        {
          "output_type": "stream",
          "name": "stderr",
          "text": [
            "\rEpoch: 0  Iteration: 19  Loss: 2.2409836292266845:  38%|███▊      | 24/63 [00:13<00:19,  2.02it/s]"
          ]
        },
        {
          "output_type": "stream",
          "name": "stdout",
          "text": [
            "printing embeds.shape: torch.Size([256, 19, 256])\n",
            "printing rnn.out.shape: torch.Size([256, 19, 256])\n"
          ]
        },
        {
          "output_type": "stream",
          "name": "stderr",
          "text": [
            "\rEpoch: 0  Iteration: 19  Loss: 2.2409836292266845:  40%|███▉      | 25/63 [00:13<00:18,  2.01it/s]"
          ]
        },
        {
          "output_type": "stream",
          "name": "stdout",
          "text": [
            "printing embeds.shape: torch.Size([256, 19, 256])\n",
            "printing rnn.out.shape: torch.Size([256, 19, 256])\n"
          ]
        },
        {
          "output_type": "stream",
          "name": "stderr",
          "text": [
            "\rEpoch: 0  Iteration: 19  Loss: 2.2409836292266845:  41%|████▏     | 26/63 [00:14<00:17,  2.10it/s]"
          ]
        },
        {
          "output_type": "stream",
          "name": "stdout",
          "text": [
            "printing embeds.shape: torch.Size([256, 19, 256])\n",
            "printing rnn.out.shape: torch.Size([256, 19, 256])\n"
          ]
        },
        {
          "output_type": "stream",
          "name": "stderr",
          "text": [
            "\rEpoch: 0  Iteration: 19  Loss: 2.2409836292266845:  43%|████▎     | 27/63 [00:14<00:16,  2.16it/s]"
          ]
        },
        {
          "output_type": "stream",
          "name": "stdout",
          "text": [
            "printing embeds.shape: torch.Size([256, 19, 256])\n",
            "printing rnn.out.shape: torch.Size([256, 19, 256])\n"
          ]
        },
        {
          "output_type": "stream",
          "name": "stderr",
          "text": [
            "\rEpoch: 0  Iteration: 19  Loss: 2.2409836292266845:  44%|████▍     | 28/63 [00:15<00:15,  2.22it/s]"
          ]
        },
        {
          "output_type": "stream",
          "name": "stdout",
          "text": [
            "printing embeds.shape: torch.Size([256, 19, 256])\n",
            "printing rnn.out.shape: torch.Size([256, 19, 256])\n"
          ]
        },
        {
          "output_type": "stream",
          "name": "stderr",
          "text": [
            "\rEpoch: 0  Iteration: 19  Loss: 2.2409836292266845:  46%|████▌     | 29/63 [00:15<00:16,  2.09it/s]"
          ]
        },
        {
          "output_type": "stream",
          "name": "stdout",
          "text": [
            "printing embeds.shape: torch.Size([256, 19, 256])\n",
            "printing rnn.out.shape: torch.Size([256, 19, 256])\n"
          ]
        },
        {
          "output_type": "stream",
          "name": "stderr",
          "text": [
            "Epoch: 0  Iteration: 29  Loss: 1.8625306129455566:  48%|████▊     | 30/63 [00:16<00:16,  2.06it/s]"
          ]
        },
        {
          "output_type": "stream",
          "name": "stdout",
          "text": [
            "printing embeds.shape: torch.Size([256, 19, 256])\n",
            "printing rnn.out.shape: torch.Size([256, 19, 256])\n"
          ]
        },
        {
          "output_type": "stream",
          "name": "stderr",
          "text": [
            "\rEpoch: 0  Iteration: 29  Loss: 1.8625306129455566:  49%|████▉     | 31/63 [00:16<00:14,  2.17it/s]"
          ]
        },
        {
          "output_type": "stream",
          "name": "stdout",
          "text": [
            "printing embeds.shape: torch.Size([256, 19, 256])\n",
            "printing rnn.out.shape: torch.Size([256, 19, 256])\n"
          ]
        },
        {
          "output_type": "stream",
          "name": "stderr",
          "text": [
            "\rEpoch: 0  Iteration: 29  Loss: 1.8625306129455566:  51%|█████     | 32/63 [00:17<00:13,  2.23it/s]"
          ]
        },
        {
          "output_type": "stream",
          "name": "stdout",
          "text": [
            "printing embeds.shape: torch.Size([256, 19, 256])\n",
            "printing rnn.out.shape: torch.Size([256, 19, 256])\n"
          ]
        },
        {
          "output_type": "stream",
          "name": "stderr",
          "text": [
            "\rEpoch: 0  Iteration: 29  Loss: 1.8625306129455566:  52%|█████▏    | 33/63 [00:17<00:13,  2.29it/s]"
          ]
        },
        {
          "output_type": "stream",
          "name": "stdout",
          "text": [
            "printing embeds.shape: torch.Size([256, 19, 256])\n",
            "printing rnn.out.shape: torch.Size([256, 19, 256])\n"
          ]
        },
        {
          "output_type": "stream",
          "name": "stderr",
          "text": [
            "\rEpoch: 0  Iteration: 29  Loss: 1.8625306129455566:  54%|█████▍    | 34/63 [00:17<00:12,  2.32it/s]"
          ]
        },
        {
          "output_type": "stream",
          "name": "stdout",
          "text": [
            "printing embeds.shape: torch.Size([256, 19, 256])\n",
            "printing rnn.out.shape: torch.Size([256, 19, 256])\n"
          ]
        },
        {
          "output_type": "stream",
          "name": "stderr",
          "text": [
            "\rEpoch: 0  Iteration: 29  Loss: 1.8625306129455566:  56%|█████▌    | 35/63 [00:18<00:11,  2.35it/s]"
          ]
        },
        {
          "output_type": "stream",
          "name": "stdout",
          "text": [
            "printing embeds.shape: torch.Size([256, 19, 256])\n",
            "printing rnn.out.shape: torch.Size([256, 19, 256])\n"
          ]
        },
        {
          "output_type": "stream",
          "name": "stderr",
          "text": [
            "\rEpoch: 0  Iteration: 29  Loss: 1.8625306129455566:  57%|█████▋    | 36/63 [00:18<00:11,  2.40it/s]"
          ]
        },
        {
          "output_type": "stream",
          "name": "stdout",
          "text": [
            "printing embeds.shape: torch.Size([256, 19, 256])\n",
            "printing rnn.out.shape: torch.Size([256, 19, 256])\n"
          ]
        },
        {
          "output_type": "stream",
          "name": "stderr",
          "text": [
            "\rEpoch: 0  Iteration: 29  Loss: 1.8625306129455566:  59%|█████▊    | 37/63 [00:19<00:11,  2.24it/s]"
          ]
        },
        {
          "output_type": "stream",
          "name": "stdout",
          "text": [
            "printing embeds.shape: torch.Size([256, 19, 256])\n",
            "printing rnn.out.shape: torch.Size([256, 19, 256])\n"
          ]
        },
        {
          "output_type": "stream",
          "name": "stderr",
          "text": [
            "\rEpoch: 0  Iteration: 29  Loss: 1.8625306129455566:  60%|██████    | 38/63 [00:19<00:11,  2.18it/s]"
          ]
        },
        {
          "output_type": "stream",
          "name": "stdout",
          "text": [
            "printing embeds.shape: torch.Size([256, 19, 256])\n",
            "printing rnn.out.shape: torch.Size([256, 19, 256])\n"
          ]
        },
        {
          "output_type": "stream",
          "name": "stderr",
          "text": [
            "\rEpoch: 0  Iteration: 29  Loss: 1.8625306129455566:  62%|██████▏   | 39/63 [00:20<00:10,  2.25it/s]"
          ]
        },
        {
          "output_type": "stream",
          "name": "stdout",
          "text": [
            "printing embeds.shape: torch.Size([256, 19, 256])\n",
            "printing rnn.out.shape: torch.Size([256, 19, 256])\n"
          ]
        },
        {
          "output_type": "stream",
          "name": "stderr",
          "text": [
            "Epoch: 0  Iteration: 39  Loss: 1.719909656047821:  63%|██████▎   | 40/63 [00:20<00:10,  2.30it/s]"
          ]
        },
        {
          "output_type": "stream",
          "name": "stdout",
          "text": [
            "printing embeds.shape: torch.Size([256, 19, 256])\n",
            "printing rnn.out.shape: torch.Size([256, 19, 256])\n"
          ]
        },
        {
          "output_type": "stream",
          "name": "stderr",
          "text": [
            "\rEpoch: 0  Iteration: 39  Loss: 1.719909656047821:  65%|██████▌   | 41/63 [00:21<00:09,  2.24it/s]"
          ]
        },
        {
          "output_type": "stream",
          "name": "stdout",
          "text": [
            "printing embeds.shape: torch.Size([256, 19, 256])\n",
            "printing rnn.out.shape: torch.Size([256, 19, 256])\n"
          ]
        },
        {
          "output_type": "stream",
          "name": "stderr",
          "text": [
            "\rEpoch: 0  Iteration: 39  Loss: 1.719909656047821:  67%|██████▋   | 42/63 [00:21<00:10,  1.96it/s]"
          ]
        },
        {
          "output_type": "stream",
          "name": "stdout",
          "text": [
            "printing embeds.shape: torch.Size([256, 19, 256])\n",
            "printing rnn.out.shape: torch.Size([256, 19, 256])\n"
          ]
        },
        {
          "output_type": "stream",
          "name": "stderr",
          "text": [
            "\rEpoch: 0  Iteration: 39  Loss: 1.719909656047821:  68%|██████▊   | 43/63 [00:22<00:11,  1.78it/s]"
          ]
        },
        {
          "output_type": "stream",
          "name": "stdout",
          "text": [
            "printing embeds.shape: torch.Size([256, 19, 256])\n",
            "printing rnn.out.shape: torch.Size([256, 19, 256])\n"
          ]
        },
        {
          "output_type": "stream",
          "name": "stderr",
          "text": [
            "\rEpoch: 0  Iteration: 39  Loss: 1.719909656047821:  70%|██████▉   | 44/63 [00:22<00:10,  1.78it/s]"
          ]
        },
        {
          "output_type": "stream",
          "name": "stdout",
          "text": [
            "printing embeds.shape: torch.Size([256, 19, 256])\n",
            "printing rnn.out.shape: torch.Size([256, 19, 256])\n"
          ]
        },
        {
          "output_type": "stream",
          "name": "stderr",
          "text": [
            "\rEpoch: 0  Iteration: 39  Loss: 1.719909656047821:  71%|███████▏  | 45/63 [00:23<00:10,  1.68it/s]"
          ]
        },
        {
          "output_type": "stream",
          "name": "stdout",
          "text": [
            "printing embeds.shape: torch.Size([256, 19, 256])\n",
            "printing rnn.out.shape: torch.Size([256, 19, 256])\n"
          ]
        },
        {
          "output_type": "stream",
          "name": "stderr",
          "text": [
            "\rEpoch: 0  Iteration: 39  Loss: 1.719909656047821:  73%|███████▎  | 46/63 [00:24<00:09,  1.74it/s]"
          ]
        },
        {
          "output_type": "stream",
          "name": "stdout",
          "text": [
            "printing embeds.shape: torch.Size([256, 19, 256])\n",
            "printing rnn.out.shape: torch.Size([256, 19, 256])\n"
          ]
        },
        {
          "output_type": "stream",
          "name": "stderr",
          "text": [
            "\rEpoch: 0  Iteration: 39  Loss: 1.719909656047821:  75%|███████▍  | 47/63 [00:24<00:08,  1.91it/s]"
          ]
        },
        {
          "output_type": "stream",
          "name": "stdout",
          "text": [
            "printing embeds.shape: torch.Size([256, 19, 256])\n",
            "printing rnn.out.shape: torch.Size([256, 19, 256])\n"
          ]
        },
        {
          "output_type": "stream",
          "name": "stderr",
          "text": [
            "\rEpoch: 0  Iteration: 39  Loss: 1.719909656047821:  76%|███████▌  | 48/63 [00:24<00:07,  2.05it/s]"
          ]
        },
        {
          "output_type": "stream",
          "name": "stdout",
          "text": [
            "printing embeds.shape: torch.Size([256, 19, 256])\n",
            "printing rnn.out.shape: torch.Size([256, 19, 256])\n"
          ]
        },
        {
          "output_type": "stream",
          "name": "stderr",
          "text": [
            "\rEpoch: 0  Iteration: 39  Loss: 1.719909656047821:  78%|███████▊  | 49/63 [00:25<00:06,  2.15it/s]"
          ]
        },
        {
          "output_type": "stream",
          "name": "stdout",
          "text": [
            "printing embeds.shape: torch.Size([256, 19, 256])\n",
            "printing rnn.out.shape: torch.Size([256, 19, 256])\n"
          ]
        },
        {
          "output_type": "stream",
          "name": "stderr",
          "text": [
            "Epoch: 0  Iteration: 49  Loss: 1.534477126598358:  79%|███████▉  | 50/63 [00:25<00:06,  2.05it/s]"
          ]
        },
        {
          "output_type": "stream",
          "name": "stdout",
          "text": [
            "printing embeds.shape: torch.Size([256, 19, 256])\n",
            "printing rnn.out.shape: torch.Size([256, 19, 256])\n"
          ]
        },
        {
          "output_type": "stream",
          "name": "stderr",
          "text": [
            "\rEpoch: 0  Iteration: 49  Loss: 1.534477126598358:  81%|████████  | 51/63 [00:26<00:05,  2.15it/s]"
          ]
        },
        {
          "output_type": "stream",
          "name": "stdout",
          "text": [
            "printing embeds.shape: torch.Size([256, 19, 256])\n",
            "printing rnn.out.shape: torch.Size([256, 19, 256])\n"
          ]
        },
        {
          "output_type": "stream",
          "name": "stderr",
          "text": [
            "\rEpoch: 0  Iteration: 49  Loss: 1.534477126598358:  83%|████████▎ | 52/63 [00:26<00:05,  2.02it/s]"
          ]
        },
        {
          "output_type": "stream",
          "name": "stdout",
          "text": [
            "printing embeds.shape: torch.Size([256, 19, 256])\n",
            "printing rnn.out.shape: torch.Size([256, 19, 256])\n"
          ]
        },
        {
          "output_type": "stream",
          "name": "stderr",
          "text": [
            "\rEpoch: 0  Iteration: 49  Loss: 1.534477126598358:  84%|████████▍ | 53/63 [00:27<00:05,  1.93it/s]"
          ]
        },
        {
          "output_type": "stream",
          "name": "stdout",
          "text": [
            "printing embeds.shape: torch.Size([256, 19, 256])\n",
            "printing rnn.out.shape: torch.Size([256, 19, 256])\n"
          ]
        },
        {
          "output_type": "stream",
          "name": "stderr",
          "text": [
            "\rEpoch: 0  Iteration: 49  Loss: 1.534477126598358:  86%|████████▌ | 54/63 [00:27<00:04,  2.02it/s]"
          ]
        },
        {
          "output_type": "stream",
          "name": "stdout",
          "text": [
            "printing embeds.shape: torch.Size([256, 19, 256])\n",
            "printing rnn.out.shape: torch.Size([256, 19, 256])\n"
          ]
        },
        {
          "output_type": "stream",
          "name": "stderr",
          "text": [
            "\rEpoch: 0  Iteration: 49  Loss: 1.534477126598358:  87%|████████▋ | 55/63 [00:28<00:04,  1.99it/s]"
          ]
        },
        {
          "output_type": "stream",
          "name": "stdout",
          "text": [
            "printing embeds.shape: torch.Size([256, 19, 256])\n",
            "printing rnn.out.shape: torch.Size([256, 19, 256])\n"
          ]
        },
        {
          "output_type": "stream",
          "name": "stderr",
          "text": [
            "\rEpoch: 0  Iteration: 49  Loss: 1.534477126598358:  89%|████████▉ | 56/63 [00:28<00:03,  1.94it/s]"
          ]
        },
        {
          "output_type": "stream",
          "name": "stdout",
          "text": [
            "printing embeds.shape: torch.Size([256, 19, 256])\n",
            "printing rnn.out.shape: torch.Size([256, 19, 256])\n"
          ]
        },
        {
          "output_type": "stream",
          "name": "stderr",
          "text": [
            "\rEpoch: 0  Iteration: 49  Loss: 1.534477126598358:  90%|█████████ | 57/63 [00:29<00:02,  2.07it/s]"
          ]
        },
        {
          "output_type": "stream",
          "name": "stdout",
          "text": [
            "printing embeds.shape: torch.Size([256, 19, 256])\n",
            "printing rnn.out.shape: torch.Size([256, 19, 256])\n"
          ]
        },
        {
          "output_type": "stream",
          "name": "stderr",
          "text": [
            "\rEpoch: 0  Iteration: 49  Loss: 1.534477126598358:  92%|█████████▏| 58/63 [00:29<00:02,  2.17it/s]"
          ]
        },
        {
          "output_type": "stream",
          "name": "stdout",
          "text": [
            "printing embeds.shape: torch.Size([256, 19, 256])\n",
            "printing rnn.out.shape: torch.Size([256, 19, 256])\n"
          ]
        },
        {
          "output_type": "stream",
          "name": "stderr",
          "text": [
            "\rEpoch: 0  Iteration: 49  Loss: 1.534477126598358:  94%|█████████▎| 59/63 [00:30<00:01,  2.07it/s]"
          ]
        },
        {
          "output_type": "stream",
          "name": "stdout",
          "text": [
            "printing embeds.shape: torch.Size([256, 19, 256])\n",
            "printing rnn.out.shape: torch.Size([256, 19, 256])\n"
          ]
        },
        {
          "output_type": "stream",
          "name": "stderr",
          "text": [
            "Epoch: 0  Iteration: 59  Loss: 1.4905508041381836:  95%|█████████▌| 60/63 [00:30<00:01,  2.14it/s]"
          ]
        },
        {
          "output_type": "stream",
          "name": "stdout",
          "text": [
            "printing embeds.shape: torch.Size([256, 19, 256])\n",
            "printing rnn.out.shape: torch.Size([256, 19, 256])\n"
          ]
        },
        {
          "output_type": "stream",
          "name": "stderr",
          "text": [
            "\rEpoch: 0  Iteration: 59  Loss: 1.4905508041381836:  97%|█████████▋| 61/63 [00:31<00:00,  2.22it/s]"
          ]
        },
        {
          "output_type": "stream",
          "name": "stdout",
          "text": [
            "printing embeds.shape: torch.Size([256, 19, 256])\n",
            "printing rnn.out.shape: torch.Size([256, 19, 256])\n"
          ]
        },
        {
          "output_type": "stream",
          "name": "stderr",
          "text": [
            "\rEpoch: 0  Iteration: 59  Loss: 1.4905508041381836:  98%|█████████▊| 62/63 [00:31<00:00,  2.27it/s]"
          ]
        },
        {
          "output_type": "stream",
          "name": "stdout",
          "text": [
            "printing embeds.shape: torch.Size([187, 19, 256])\n",
            "printing rnn.out.shape: torch.Size([187, 19, 256])\n"
          ]
        },
        {
          "output_type": "stream",
          "name": "stderr",
          "text": [
            "Epoch: 0  Iteration: 59  Loss: 1.4905508041381836: 100%|██████████| 63/63 [00:31<00:00,  1.98it/s]\n"
          ]
        },
        {
          "output_type": "stream",
          "name": "stdout",
          "text": [
            "Epoch: 0  Train Accuracy: 47.101313904975406\n",
            "printing embeds.shape: torch.Size([256, 19, 256])\n",
            "printing rnn.out.shape: torch.Size([256, 19, 256])\n",
            "printing embeds.shape: torch.Size([256, 19, 256])\n",
            "printing rnn.out.shape: torch.Size([256, 19, 256])\n",
            "printing embeds.shape: torch.Size([256, 19, 256])\n",
            "printing rnn.out.shape: torch.Size([256, 19, 256])\n",
            "printing embeds.shape: torch.Size([256, 19, 256])\n",
            "printing rnn.out.shape: torch.Size([256, 19, 256])\n",
            "printing embeds.shape: torch.Size([256, 19, 256])\n",
            "printing rnn.out.shape: torch.Size([256, 19, 256])\n",
            "printing embeds.shape: torch.Size([256, 19, 256])\n",
            "printing rnn.out.shape: torch.Size([256, 19, 256])\n",
            "printing embeds.shape: torch.Size([256, 19, 256])\n",
            "printing rnn.out.shape: torch.Size([256, 19, 256])\n",
            "printing embeds.shape: torch.Size([256, 19, 256])\n",
            "printing rnn.out.shape: torch.Size([256, 19, 256])\n",
            "printing embeds.shape: torch.Size([256, 19, 256])\n",
            "printing rnn.out.shape: torch.Size([256, 19, 256])\n",
            "printing embeds.shape: torch.Size([256, 19, 256])\n",
            "printing rnn.out.shape: torch.Size([256, 19, 256])\n",
            "printing embeds.shape: torch.Size([256, 19, 256])\n",
            "printing rnn.out.shape: torch.Size([256, 19, 256])\n",
            "printing embeds.shape: torch.Size([256, 19, 256])\n",
            "printing rnn.out.shape: torch.Size([256, 19, 256])\n",
            "printing embeds.shape: torch.Size([256, 19, 256])\n",
            "printing rnn.out.shape: torch.Size([256, 19, 256])\n",
            "printing embeds.shape: torch.Size([256, 19, 256])\n",
            "printing rnn.out.shape: torch.Size([256, 19, 256])\n",
            "printing embeds.shape: torch.Size([256, 19, 256])\n",
            "printing rnn.out.shape: torch.Size([256, 19, 256])\n",
            "printing embeds.shape: torch.Size([175, 19, 256])\n",
            "printing rnn.out.shape: torch.Size([175, 19, 256])\n",
            "Epoch: 0  Eval Accuracy: 57.907845579078455\n"
          ]
        },
        {
          "output_type": "stream",
          "name": "stderr",
          "text": [
            "\r  0%|          | 0/63 [00:00<?, ?it/s]"
          ]
        },
        {
          "output_type": "stream",
          "name": "stdout",
          "text": [
            "printing embeds.shape: torch.Size([256, 19, 256])\n",
            "printing rnn.out.shape: torch.Size([256, 19, 256])\n"
          ]
        },
        {
          "output_type": "stream",
          "name": "stderr",
          "text": [
            "\r  2%|▏         | 1/63 [00:00<00:32,  1.90it/s]"
          ]
        },
        {
          "output_type": "stream",
          "name": "stdout",
          "text": [
            "printing embeds.shape: torch.Size([256, 19, 256])\n",
            "printing rnn.out.shape: torch.Size([256, 19, 256])\n"
          ]
        },
        {
          "output_type": "stream",
          "name": "stderr",
          "text": [
            "\r  3%|▎         | 2/63 [00:01<00:33,  1.80it/s]"
          ]
        },
        {
          "output_type": "stream",
          "name": "stdout",
          "text": [
            "printing embeds.shape: torch.Size([256, 19, 256])\n",
            "printing rnn.out.shape: torch.Size([256, 19, 256])\n"
          ]
        },
        {
          "output_type": "stream",
          "name": "stderr",
          "text": [
            "\r  5%|▍         | 3/63 [00:01<00:32,  1.85it/s]"
          ]
        },
        {
          "output_type": "stream",
          "name": "stdout",
          "text": [
            "printing embeds.shape: torch.Size([256, 19, 256])\n",
            "printing rnn.out.shape: torch.Size([256, 19, 256])\n"
          ]
        },
        {
          "output_type": "stream",
          "name": "stderr",
          "text": [
            "\r  6%|▋         | 4/63 [00:02<00:35,  1.65it/s]"
          ]
        },
        {
          "output_type": "stream",
          "name": "stdout",
          "text": [
            "printing embeds.shape: torch.Size([256, 19, 256])\n",
            "printing rnn.out.shape: torch.Size([256, 19, 256])\n"
          ]
        },
        {
          "output_type": "stream",
          "name": "stderr",
          "text": [
            "\r  8%|▊         | 5/63 [00:03<00:36,  1.57it/s]"
          ]
        },
        {
          "output_type": "stream",
          "name": "stdout",
          "text": [
            "printing embeds.shape: torch.Size([256, 19, 256])\n",
            "printing rnn.out.shape: torch.Size([256, 19, 256])\n"
          ]
        },
        {
          "output_type": "stream",
          "name": "stderr",
          "text": [
            "\r 10%|▉         | 6/63 [00:03<00:34,  1.63it/s]"
          ]
        },
        {
          "output_type": "stream",
          "name": "stdout",
          "text": [
            "printing embeds.shape: torch.Size([256, 19, 256])\n",
            "printing rnn.out.shape: torch.Size([256, 19, 256])\n"
          ]
        },
        {
          "output_type": "stream",
          "name": "stderr",
          "text": [
            "\r 11%|█         | 7/63 [00:03<00:30,  1.84it/s]"
          ]
        },
        {
          "output_type": "stream",
          "name": "stdout",
          "text": [
            "printing embeds.shape: torch.Size([256, 19, 256])\n",
            "printing rnn.out.shape: torch.Size([256, 19, 256])\n"
          ]
        },
        {
          "output_type": "stream",
          "name": "stderr",
          "text": [
            "\r 13%|█▎        | 8/63 [00:04<00:27,  1.99it/s]"
          ]
        },
        {
          "output_type": "stream",
          "name": "stdout",
          "text": [
            "printing embeds.shape: torch.Size([256, 19, 256])\n",
            "printing rnn.out.shape: torch.Size([256, 19, 256])\n"
          ]
        },
        {
          "output_type": "stream",
          "name": "stderr",
          "text": [
            "\r 14%|█▍        | 9/63 [00:04<00:25,  2.11it/s]"
          ]
        },
        {
          "output_type": "stream",
          "name": "stdout",
          "text": [
            "printing embeds.shape: torch.Size([256, 19, 256])\n",
            "printing rnn.out.shape: torch.Size([256, 19, 256])\n"
          ]
        },
        {
          "output_type": "stream",
          "name": "stderr",
          "text": [
            "Epoch: 1  Iteration: 9  Loss: 1.4317952156066895:  16%|█▌        | 10/63 [00:05<00:24,  2.19it/s]"
          ]
        },
        {
          "output_type": "stream",
          "name": "stdout",
          "text": [
            "printing embeds.shape: torch.Size([256, 19, 256])\n",
            "printing rnn.out.shape: torch.Size([256, 19, 256])\n"
          ]
        },
        {
          "output_type": "stream",
          "name": "stderr",
          "text": [
            "\rEpoch: 1  Iteration: 9  Loss: 1.4317952156066895:  17%|█▋        | 11/63 [00:05<00:22,  2.26it/s]"
          ]
        },
        {
          "output_type": "stream",
          "name": "stdout",
          "text": [
            "printing embeds.shape: torch.Size([256, 19, 256])\n",
            "printing rnn.out.shape: torch.Size([256, 19, 256])\n"
          ]
        },
        {
          "output_type": "stream",
          "name": "stderr",
          "text": [
            "\rEpoch: 1  Iteration: 9  Loss: 1.4317952156066895:  19%|█▉        | 12/63 [00:06<00:24,  2.10it/s]"
          ]
        },
        {
          "output_type": "stream",
          "name": "stdout",
          "text": [
            "printing embeds.shape: torch.Size([256, 19, 256])\n",
            "printing rnn.out.shape: torch.Size([256, 19, 256])\n"
          ]
        },
        {
          "output_type": "stream",
          "name": "stderr",
          "text": [
            "\rEpoch: 1  Iteration: 9  Loss: 1.4317952156066895:  21%|██        | 13/63 [00:06<00:24,  2.08it/s]"
          ]
        },
        {
          "output_type": "stream",
          "name": "stdout",
          "text": [
            "printing embeds.shape: torch.Size([256, 19, 256])\n",
            "printing rnn.out.shape: torch.Size([256, 19, 256])\n"
          ]
        },
        {
          "output_type": "stream",
          "name": "stderr",
          "text": [
            "\rEpoch: 1  Iteration: 9  Loss: 1.4317952156066895:  22%|██▏       | 14/63 [00:07<00:22,  2.16it/s]"
          ]
        },
        {
          "output_type": "stream",
          "name": "stdout",
          "text": [
            "printing embeds.shape: torch.Size([256, 19, 256])\n",
            "printing rnn.out.shape: torch.Size([256, 19, 256])\n"
          ]
        },
        {
          "output_type": "stream",
          "name": "stderr",
          "text": [
            "\rEpoch: 1  Iteration: 9  Loss: 1.4317952156066895:  24%|██▍       | 15/63 [00:07<00:23,  2.08it/s]"
          ]
        },
        {
          "output_type": "stream",
          "name": "stdout",
          "text": [
            "printing embeds.shape: torch.Size([256, 19, 256])\n",
            "printing rnn.out.shape: torch.Size([256, 19, 256])\n"
          ]
        },
        {
          "output_type": "stream",
          "name": "stderr",
          "text": [
            "\rEpoch: 1  Iteration: 9  Loss: 1.4317952156066895:  25%|██▌       | 16/63 [00:08<00:23,  2.03it/s]"
          ]
        },
        {
          "output_type": "stream",
          "name": "stdout",
          "text": [
            "printing embeds.shape: torch.Size([256, 19, 256])\n",
            "printing rnn.out.shape: torch.Size([256, 19, 256])\n"
          ]
        },
        {
          "output_type": "stream",
          "name": "stderr",
          "text": [
            "\rEpoch: 1  Iteration: 9  Loss: 1.4317952156066895:  27%|██▋       | 17/63 [00:08<00:21,  2.16it/s]"
          ]
        },
        {
          "output_type": "stream",
          "name": "stdout",
          "text": [
            "printing embeds.shape: torch.Size([256, 19, 256])\n",
            "printing rnn.out.shape: torch.Size([256, 19, 256])\n"
          ]
        },
        {
          "output_type": "stream",
          "name": "stderr",
          "text": [
            "\rEpoch: 1  Iteration: 9  Loss: 1.4317952156066895:  29%|██▊       | 18/63 [00:09<00:21,  2.08it/s]"
          ]
        },
        {
          "output_type": "stream",
          "name": "stdout",
          "text": [
            "printing embeds.shape: torch.Size([256, 19, 256])\n",
            "printing rnn.out.shape: torch.Size([256, 19, 256])\n"
          ]
        },
        {
          "output_type": "stream",
          "name": "stderr",
          "text": [
            "\rEpoch: 1  Iteration: 9  Loss: 1.4317952156066895:  30%|███       | 19/63 [00:09<00:21,  2.03it/s]"
          ]
        },
        {
          "output_type": "stream",
          "name": "stdout",
          "text": [
            "printing embeds.shape: torch.Size([256, 19, 256])\n",
            "printing rnn.out.shape: torch.Size([256, 19, 256])\n"
          ]
        },
        {
          "output_type": "stream",
          "name": "stderr",
          "text": [
            "Epoch: 1  Iteration: 19  Loss: 1.375789511203766:  32%|███▏      | 20/63 [00:09<00:19,  2.16it/s]"
          ]
        },
        {
          "output_type": "stream",
          "name": "stdout",
          "text": [
            "printing embeds.shape: torch.Size([256, 19, 256])\n",
            "printing rnn.out.shape: torch.Size([256, 19, 256])\n"
          ]
        },
        {
          "output_type": "stream",
          "name": "stderr",
          "text": [
            "\rEpoch: 1  Iteration: 19  Loss: 1.375789511203766:  33%|███▎      | 21/63 [00:10<00:18,  2.24it/s]"
          ]
        },
        {
          "output_type": "stream",
          "name": "stdout",
          "text": [
            "printing embeds.shape: torch.Size([256, 19, 256])\n",
            "printing rnn.out.shape: torch.Size([256, 19, 256])\n"
          ]
        },
        {
          "output_type": "stream",
          "name": "stderr",
          "text": [
            "\rEpoch: 1  Iteration: 19  Loss: 1.375789511203766:  35%|███▍      | 22/63 [00:10<00:18,  2.22it/s]"
          ]
        },
        {
          "output_type": "stream",
          "name": "stdout",
          "text": [
            "printing embeds.shape: torch.Size([256, 19, 256])\n",
            "printing rnn.out.shape: torch.Size([256, 19, 256])\n"
          ]
        },
        {
          "output_type": "stream",
          "name": "stderr",
          "text": [
            "\rEpoch: 1  Iteration: 19  Loss: 1.375789511203766:  37%|███▋      | 23/63 [00:11<00:18,  2.16it/s]"
          ]
        },
        {
          "output_type": "stream",
          "name": "stdout",
          "text": [
            "printing embeds.shape: torch.Size([256, 19, 256])\n",
            "printing rnn.out.shape: torch.Size([256, 19, 256])\n"
          ]
        },
        {
          "output_type": "stream",
          "name": "stderr",
          "text": [
            "\rEpoch: 1  Iteration: 19  Loss: 1.375789511203766:  38%|███▊      | 24/63 [00:11<00:18,  2.13it/s]"
          ]
        },
        {
          "output_type": "stream",
          "name": "stdout",
          "text": [
            "printing embeds.shape: torch.Size([256, 19, 256])\n",
            "printing rnn.out.shape: torch.Size([256, 19, 256])\n"
          ]
        },
        {
          "output_type": "stream",
          "name": "stderr",
          "text": [
            "\rEpoch: 1  Iteration: 19  Loss: 1.375789511203766:  40%|███▉      | 25/63 [00:12<00:17,  2.22it/s]"
          ]
        },
        {
          "output_type": "stream",
          "name": "stdout",
          "text": [
            "printing embeds.shape: torch.Size([256, 19, 256])\n",
            "printing rnn.out.shape: torch.Size([256, 19, 256])\n"
          ]
        },
        {
          "output_type": "stream",
          "name": "stderr",
          "text": [
            "\rEpoch: 1  Iteration: 19  Loss: 1.375789511203766:  41%|████▏     | 26/63 [00:12<00:16,  2.27it/s]"
          ]
        },
        {
          "output_type": "stream",
          "name": "stdout",
          "text": [
            "printing embeds.shape: torch.Size([256, 19, 256])\n",
            "printing rnn.out.shape: torch.Size([256, 19, 256])\n"
          ]
        },
        {
          "output_type": "stream",
          "name": "stderr",
          "text": [
            "\rEpoch: 1  Iteration: 19  Loss: 1.375789511203766:  43%|████▎     | 27/63 [00:13<00:16,  2.16it/s]"
          ]
        },
        {
          "output_type": "stream",
          "name": "stdout",
          "text": [
            "printing embeds.shape: torch.Size([256, 19, 256])\n",
            "printing rnn.out.shape: torch.Size([256, 19, 256])\n"
          ]
        },
        {
          "output_type": "stream",
          "name": "stderr",
          "text": [
            "\rEpoch: 1  Iteration: 19  Loss: 1.375789511203766:  44%|████▍     | 28/63 [00:13<00:16,  2.11it/s]"
          ]
        },
        {
          "output_type": "stream",
          "name": "stdout",
          "text": [
            "printing embeds.shape: torch.Size([256, 19, 256])\n",
            "printing rnn.out.shape: torch.Size([256, 19, 256])\n"
          ]
        },
        {
          "output_type": "stream",
          "name": "stderr",
          "text": [
            "\rEpoch: 1  Iteration: 19  Loss: 1.375789511203766:  46%|████▌     | 29/63 [00:14<00:16,  2.03it/s]"
          ]
        },
        {
          "output_type": "stream",
          "name": "stdout",
          "text": [
            "printing embeds.shape: torch.Size([256, 19, 256])\n",
            "printing rnn.out.shape: torch.Size([256, 19, 256])\n"
          ]
        },
        {
          "output_type": "stream",
          "name": "stderr",
          "text": [
            "Epoch: 1  Iteration: 29  Loss: 1.3431593894958496:  48%|████▊     | 30/63 [00:14<00:16,  1.97it/s]"
          ]
        },
        {
          "output_type": "stream",
          "name": "stdout",
          "text": [
            "printing embeds.shape: torch.Size([256, 19, 256])\n",
            "printing rnn.out.shape: torch.Size([256, 19, 256])\n"
          ]
        },
        {
          "output_type": "stream",
          "name": "stderr",
          "text": [
            "\rEpoch: 1  Iteration: 29  Loss: 1.3431593894958496:  49%|████▉     | 31/63 [00:15<00:17,  1.86it/s]"
          ]
        },
        {
          "output_type": "stream",
          "name": "stdout",
          "text": [
            "printing embeds.shape: torch.Size([256, 19, 256])\n",
            "printing rnn.out.shape: torch.Size([256, 19, 256])\n"
          ]
        },
        {
          "output_type": "stream",
          "name": "stderr",
          "text": [
            "\rEpoch: 1  Iteration: 29  Loss: 1.3431593894958496:  51%|█████     | 32/63 [00:15<00:16,  1.83it/s]"
          ]
        },
        {
          "output_type": "stream",
          "name": "stdout",
          "text": [
            "printing embeds.shape: torch.Size([256, 19, 256])\n",
            "printing rnn.out.shape: torch.Size([256, 19, 256])\n"
          ]
        },
        {
          "output_type": "stream",
          "name": "stderr",
          "text": [
            "\rEpoch: 1  Iteration: 29  Loss: 1.3431593894958496:  52%|█████▏    | 33/63 [00:16<00:16,  1.86it/s]"
          ]
        },
        {
          "output_type": "stream",
          "name": "stdout",
          "text": [
            "printing embeds.shape: torch.Size([256, 19, 256])\n",
            "printing rnn.out.shape: torch.Size([256, 19, 256])\n"
          ]
        },
        {
          "output_type": "stream",
          "name": "stderr",
          "text": [
            "\rEpoch: 1  Iteration: 29  Loss: 1.3431593894958496:  54%|█████▍    | 34/63 [00:16<00:14,  1.99it/s]"
          ]
        },
        {
          "output_type": "stream",
          "name": "stdout",
          "text": [
            "printing embeds.shape: torch.Size([256, 19, 256])\n",
            "printing rnn.out.shape: torch.Size([256, 19, 256])\n"
          ]
        },
        {
          "output_type": "stream",
          "name": "stderr",
          "text": [
            "\rEpoch: 1  Iteration: 29  Loss: 1.3431593894958496:  56%|█████▌    | 35/63 [00:17<00:13,  2.09it/s]"
          ]
        },
        {
          "output_type": "stream",
          "name": "stdout",
          "text": [
            "printing embeds.shape: torch.Size([256, 19, 256])\n",
            "printing rnn.out.shape: torch.Size([256, 19, 256])\n"
          ]
        },
        {
          "output_type": "stream",
          "name": "stderr",
          "text": [
            "\rEpoch: 1  Iteration: 29  Loss: 1.3431593894958496:  57%|█████▋    | 36/63 [00:17<00:12,  2.19it/s]"
          ]
        },
        {
          "output_type": "stream",
          "name": "stdout",
          "text": [
            "printing embeds.shape: torch.Size([256, 19, 256])\n",
            "printing rnn.out.shape: torch.Size([256, 19, 256])\n"
          ]
        },
        {
          "output_type": "stream",
          "name": "stderr",
          "text": [
            "\rEpoch: 1  Iteration: 29  Loss: 1.3431593894958496:  59%|█████▊    | 37/63 [00:18<00:11,  2.24it/s]"
          ]
        },
        {
          "output_type": "stream",
          "name": "stdout",
          "text": [
            "printing embeds.shape: torch.Size([256, 19, 256])\n",
            "printing rnn.out.shape: torch.Size([256, 19, 256])\n"
          ]
        },
        {
          "output_type": "stream",
          "name": "stderr",
          "text": [
            "\rEpoch: 1  Iteration: 29  Loss: 1.3431593894958496:  60%|██████    | 38/63 [00:18<00:11,  2.23it/s]"
          ]
        },
        {
          "output_type": "stream",
          "name": "stdout",
          "text": [
            "printing embeds.shape: torch.Size([256, 19, 256])\n",
            "printing rnn.out.shape: torch.Size([256, 19, 256])\n"
          ]
        },
        {
          "output_type": "stream",
          "name": "stderr",
          "text": [
            "\rEpoch: 1  Iteration: 29  Loss: 1.3431593894958496:  62%|██████▏   | 39/63 [00:19<00:11,  2.14it/s]"
          ]
        },
        {
          "output_type": "stream",
          "name": "stdout",
          "text": [
            "printing embeds.shape: torch.Size([256, 19, 256])\n",
            "printing rnn.out.shape: torch.Size([256, 19, 256])\n"
          ]
        },
        {
          "output_type": "stream",
          "name": "stderr",
          "text": [
            "Epoch: 1  Iteration: 39  Loss: 1.3342995047569275:  63%|██████▎   | 40/63 [00:19<00:10,  2.23it/s]"
          ]
        },
        {
          "output_type": "stream",
          "name": "stdout",
          "text": [
            "printing embeds.shape: torch.Size([256, 19, 256])\n",
            "printing rnn.out.shape: torch.Size([256, 19, 256])\n"
          ]
        },
        {
          "output_type": "stream",
          "name": "stderr",
          "text": [
            "\rEpoch: 1  Iteration: 39  Loss: 1.3342995047569275:  65%|██████▌   | 41/63 [00:19<00:09,  2.26it/s]"
          ]
        },
        {
          "output_type": "stream",
          "name": "stdout",
          "text": [
            "printing embeds.shape: torch.Size([256, 19, 256])\n",
            "printing rnn.out.shape: torch.Size([256, 19, 256])\n"
          ]
        },
        {
          "output_type": "stream",
          "name": "stderr",
          "text": [
            "\rEpoch: 1  Iteration: 39  Loss: 1.3342995047569275:  67%|██████▋   | 42/63 [00:20<00:09,  2.30it/s]"
          ]
        },
        {
          "output_type": "stream",
          "name": "stdout",
          "text": [
            "printing embeds.shape: torch.Size([256, 19, 256])\n",
            "printing rnn.out.shape: torch.Size([256, 19, 256])\n"
          ]
        },
        {
          "output_type": "stream",
          "name": "stderr",
          "text": [
            "\rEpoch: 1  Iteration: 39  Loss: 1.3342995047569275:  68%|██████▊   | 43/63 [00:20<00:08,  2.23it/s]"
          ]
        },
        {
          "output_type": "stream",
          "name": "stdout",
          "text": [
            "printing embeds.shape: torch.Size([256, 19, 256])\n",
            "printing rnn.out.shape: torch.Size([256, 19, 256])\n"
          ]
        },
        {
          "output_type": "stream",
          "name": "stderr",
          "text": [
            "\rEpoch: 1  Iteration: 39  Loss: 1.3342995047569275:  70%|██████▉   | 44/63 [00:21<00:08,  2.29it/s]"
          ]
        },
        {
          "output_type": "stream",
          "name": "stdout",
          "text": [
            "printing embeds.shape: torch.Size([256, 19, 256])\n",
            "printing rnn.out.shape: torch.Size([256, 19, 256])\n"
          ]
        },
        {
          "output_type": "stream",
          "name": "stderr",
          "text": [
            "\rEpoch: 1  Iteration: 39  Loss: 1.3342995047569275:  71%|███████▏  | 45/63 [00:21<00:07,  2.26it/s]"
          ]
        },
        {
          "output_type": "stream",
          "name": "stdout",
          "text": [
            "printing embeds.shape: torch.Size([256, 19, 256])\n",
            "printing rnn.out.shape: torch.Size([256, 19, 256])\n"
          ]
        },
        {
          "output_type": "stream",
          "name": "stderr",
          "text": [
            "\rEpoch: 1  Iteration: 39  Loss: 1.3342995047569275:  73%|███████▎  | 46/63 [00:22<00:08,  2.09it/s]"
          ]
        },
        {
          "output_type": "stream",
          "name": "stdout",
          "text": [
            "printing embeds.shape: torch.Size([256, 19, 256])\n",
            "printing rnn.out.shape: torch.Size([256, 19, 256])\n"
          ]
        },
        {
          "output_type": "stream",
          "name": "stderr",
          "text": [
            "\rEpoch: 1  Iteration: 39  Loss: 1.3342995047569275:  75%|███████▍  | 47/63 [00:22<00:08,  1.95it/s]"
          ]
        },
        {
          "output_type": "stream",
          "name": "stdout",
          "text": [
            "printing embeds.shape: torch.Size([256, 19, 256])\n",
            "printing rnn.out.shape: torch.Size([256, 19, 256])\n"
          ]
        },
        {
          "output_type": "stream",
          "name": "stderr",
          "text": [
            "\rEpoch: 1  Iteration: 39  Loss: 1.3342995047569275:  76%|███████▌  | 48/63 [00:23<00:07,  2.05it/s]"
          ]
        },
        {
          "output_type": "stream",
          "name": "stdout",
          "text": [
            "printing embeds.shape: torch.Size([256, 19, 256])\n",
            "printing rnn.out.shape: torch.Size([256, 19, 256])\n"
          ]
        },
        {
          "output_type": "stream",
          "name": "stderr",
          "text": [
            "\rEpoch: 1  Iteration: 39  Loss: 1.3342995047569275:  78%|███████▊  | 49/63 [00:23<00:06,  2.06it/s]"
          ]
        },
        {
          "output_type": "stream",
          "name": "stdout",
          "text": [
            "printing embeds.shape: torch.Size([256, 19, 256])\n",
            "printing rnn.out.shape: torch.Size([256, 19, 256])\n"
          ]
        },
        {
          "output_type": "stream",
          "name": "stderr",
          "text": [
            "Epoch: 1  Iteration: 49  Loss: 1.2545055747032166:  79%|███████▉  | 50/63 [00:24<00:06,  1.94it/s]"
          ]
        },
        {
          "output_type": "stream",
          "name": "stdout",
          "text": [
            "printing embeds.shape: torch.Size([256, 19, 256])\n",
            "printing rnn.out.shape: torch.Size([256, 19, 256])\n"
          ]
        },
        {
          "output_type": "stream",
          "name": "stderr",
          "text": [
            "\rEpoch: 1  Iteration: 49  Loss: 1.2545055747032166:  81%|████████  | 51/63 [00:24<00:06,  2.00it/s]"
          ]
        },
        {
          "output_type": "stream",
          "name": "stdout",
          "text": [
            "printing embeds.shape: torch.Size([256, 19, 256])\n",
            "printing rnn.out.shape: torch.Size([256, 19, 256])\n"
          ]
        },
        {
          "output_type": "stream",
          "name": "stderr",
          "text": [
            "\rEpoch: 1  Iteration: 49  Loss: 1.2545055747032166:  83%|████████▎ | 52/63 [00:25<00:05,  2.11it/s]"
          ]
        },
        {
          "output_type": "stream",
          "name": "stdout",
          "text": [
            "printing embeds.shape: torch.Size([256, 19, 256])\n",
            "printing rnn.out.shape: torch.Size([256, 19, 256])\n"
          ]
        },
        {
          "output_type": "stream",
          "name": "stderr",
          "text": [
            "\rEpoch: 1  Iteration: 49  Loss: 1.2545055747032166:  84%|████████▍ | 53/63 [00:25<00:04,  2.20it/s]"
          ]
        },
        {
          "output_type": "stream",
          "name": "stdout",
          "text": [
            "printing embeds.shape: torch.Size([256, 19, 256])\n",
            "printing rnn.out.shape: torch.Size([256, 19, 256])\n"
          ]
        },
        {
          "output_type": "stream",
          "name": "stderr",
          "text": [
            "\rEpoch: 1  Iteration: 49  Loss: 1.2545055747032166:  86%|████████▌ | 54/63 [00:26<00:04,  1.95it/s]"
          ]
        },
        {
          "output_type": "stream",
          "name": "stdout",
          "text": [
            "printing embeds.shape: torch.Size([256, 19, 256])\n",
            "printing rnn.out.shape: torch.Size([256, 19, 256])\n"
          ]
        },
        {
          "output_type": "stream",
          "name": "stderr",
          "text": [
            "\rEpoch: 1  Iteration: 49  Loss: 1.2545055747032166:  87%|████████▋ | 55/63 [00:26<00:04,  1.80it/s]"
          ]
        },
        {
          "output_type": "stream",
          "name": "stdout",
          "text": [
            "printing embeds.shape: torch.Size([256, 19, 256])\n",
            "printing rnn.out.shape: torch.Size([256, 19, 256])\n"
          ]
        },
        {
          "output_type": "stream",
          "name": "stderr",
          "text": [
            "\rEpoch: 1  Iteration: 49  Loss: 1.2545055747032166:  89%|████████▉ | 56/63 [00:27<00:03,  1.80it/s]"
          ]
        },
        {
          "output_type": "stream",
          "name": "stdout",
          "text": [
            "printing embeds.shape: torch.Size([256, 19, 256])\n",
            "printing rnn.out.shape: torch.Size([256, 19, 256])\n"
          ]
        },
        {
          "output_type": "stream",
          "name": "stderr",
          "text": [
            "\rEpoch: 1  Iteration: 49  Loss: 1.2545055747032166:  90%|█████████ | 57/63 [00:28<00:03,  1.77it/s]"
          ]
        },
        {
          "output_type": "stream",
          "name": "stdout",
          "text": [
            "printing embeds.shape: torch.Size([256, 19, 256])\n",
            "printing rnn.out.shape: torch.Size([256, 19, 256])\n"
          ]
        },
        {
          "output_type": "stream",
          "name": "stderr",
          "text": [
            "\rEpoch: 1  Iteration: 49  Loss: 1.2545055747032166:  92%|█████████▏| 58/63 [00:28<00:02,  1.76it/s]"
          ]
        },
        {
          "output_type": "stream",
          "name": "stdout",
          "text": [
            "printing embeds.shape: torch.Size([256, 19, 256])\n",
            "printing rnn.out.shape: torch.Size([256, 19, 256])\n"
          ]
        },
        {
          "output_type": "stream",
          "name": "stderr",
          "text": [
            "\rEpoch: 1  Iteration: 49  Loss: 1.2545055747032166:  94%|█████████▎| 59/63 [00:29<00:02,  1.73it/s]"
          ]
        },
        {
          "output_type": "stream",
          "name": "stdout",
          "text": [
            "printing embeds.shape: torch.Size([256, 19, 256])\n",
            "printing rnn.out.shape: torch.Size([256, 19, 256])\n"
          ]
        },
        {
          "output_type": "stream",
          "name": "stderr",
          "text": [
            "Epoch: 1  Iteration: 59  Loss: 1.2252443552017211:  95%|█████████▌| 60/63 [00:29<00:01,  1.90it/s]"
          ]
        },
        {
          "output_type": "stream",
          "name": "stdout",
          "text": [
            "printing embeds.shape: torch.Size([256, 19, 256])\n",
            "printing rnn.out.shape: torch.Size([256, 19, 256])\n"
          ]
        },
        {
          "output_type": "stream",
          "name": "stderr",
          "text": [
            "\rEpoch: 1  Iteration: 59  Loss: 1.2252443552017211:  97%|█████████▋| 61/63 [00:30<00:01,  1.86it/s]"
          ]
        },
        {
          "output_type": "stream",
          "name": "stdout",
          "text": [
            "printing embeds.shape: torch.Size([256, 19, 256])\n",
            "printing rnn.out.shape: torch.Size([256, 19, 256])\n"
          ]
        },
        {
          "output_type": "stream",
          "name": "stderr",
          "text": [
            "\rEpoch: 1  Iteration: 59  Loss: 1.2252443552017211:  98%|█████████▊| 62/63 [00:30<00:00,  1.98it/s]"
          ]
        },
        {
          "output_type": "stream",
          "name": "stdout",
          "text": [
            "printing embeds.shape: torch.Size([187, 19, 256])\n",
            "printing rnn.out.shape: torch.Size([187, 19, 256])\n"
          ]
        },
        {
          "output_type": "stream",
          "name": "stderr",
          "text": [
            "Epoch: 1  Iteration: 59  Loss: 1.2252443552017211: 100%|██████████| 63/63 [00:30<00:00,  2.04it/s]\n"
          ]
        },
        {
          "output_type": "stream",
          "name": "stdout",
          "text": [
            "Epoch: 1  Train Accuracy: 61.55426863441061\n",
            "printing embeds.shape: torch.Size([256, 19, 256])\n",
            "printing rnn.out.shape: torch.Size([256, 19, 256])\n",
            "printing embeds.shape: torch.Size([256, 19, 256])\n",
            "printing rnn.out.shape: torch.Size([256, 19, 256])\n",
            "printing embeds.shape: torch.Size([256, 19, 256])\n",
            "printing rnn.out.shape: torch.Size([256, 19, 256])\n",
            "printing embeds.shape: torch.Size([256, 19, 256])\n",
            "printing rnn.out.shape: torch.Size([256, 19, 256])\n",
            "printing embeds.shape: torch.Size([256, 19, 256])\n",
            "printing rnn.out.shape: torch.Size([256, 19, 256])\n",
            "printing embeds.shape: torch.Size([256, 19, 256])\n",
            "printing rnn.out.shape: torch.Size([256, 19, 256])\n",
            "printing embeds.shape: torch.Size([256, 19, 256])\n",
            "printing rnn.out.shape: torch.Size([256, 19, 256])\n",
            "printing embeds.shape: torch.Size([256, 19, 256])\n",
            "printing rnn.out.shape: torch.Size([256, 19, 256])\n",
            "printing embeds.shape: torch.Size([256, 19, 256])\n",
            "printing rnn.out.shape: torch.Size([256, 19, 256])\n",
            "printing embeds.shape: torch.Size([256, 19, 256])\n",
            "printing rnn.out.shape: torch.Size([256, 19, 256])\n",
            "printing embeds.shape: torch.Size([256, 19, 256])\n",
            "printing rnn.out.shape: torch.Size([256, 19, 256])\n",
            "printing embeds.shape: torch.Size([256, 19, 256])\n",
            "printing rnn.out.shape: torch.Size([256, 19, 256])\n",
            "printing embeds.shape: torch.Size([256, 19, 256])\n",
            "printing rnn.out.shape: torch.Size([256, 19, 256])\n",
            "printing embeds.shape: torch.Size([256, 19, 256])\n",
            "printing rnn.out.shape: torch.Size([256, 19, 256])\n",
            "printing embeds.shape: torch.Size([256, 19, 256])\n",
            "printing rnn.out.shape: torch.Size([256, 19, 256])\n",
            "printing embeds.shape: torch.Size([175, 19, 256])\n",
            "printing rnn.out.shape: torch.Size([175, 19, 256])\n",
            "Epoch: 1  Eval Accuracy: 66.74968866749688\n"
          ]
        },
        {
          "output_type": "stream",
          "name": "stderr",
          "text": [
            "\r  0%|          | 0/63 [00:00<?, ?it/s]"
          ]
        },
        {
          "output_type": "stream",
          "name": "stdout",
          "text": [
            "printing embeds.shape: torch.Size([256, 19, 256])\n",
            "printing rnn.out.shape: torch.Size([256, 19, 256])\n"
          ]
        },
        {
          "output_type": "stream",
          "name": "stderr",
          "text": [
            "\r  2%|▏         | 1/63 [00:00<00:36,  1.71it/s]"
          ]
        },
        {
          "output_type": "stream",
          "name": "stdout",
          "text": [
            "printing embeds.shape: torch.Size([256, 19, 256])\n",
            "printing rnn.out.shape: torch.Size([256, 19, 256])\n"
          ]
        },
        {
          "output_type": "stream",
          "name": "stderr",
          "text": [
            "\r  3%|▎         | 2/63 [00:01<00:32,  1.85it/s]"
          ]
        },
        {
          "output_type": "stream",
          "name": "stdout",
          "text": [
            "printing embeds.shape: torch.Size([256, 19, 256])\n",
            "printing rnn.out.shape: torch.Size([256, 19, 256])\n"
          ]
        },
        {
          "output_type": "stream",
          "name": "stderr",
          "text": [
            "\r  5%|▍         | 3/63 [00:01<00:32,  1.87it/s]"
          ]
        },
        {
          "output_type": "stream",
          "name": "stdout",
          "text": [
            "printing embeds.shape: torch.Size([256, 19, 256])\n",
            "printing rnn.out.shape: torch.Size([256, 19, 256])\n"
          ]
        },
        {
          "output_type": "stream",
          "name": "stderr",
          "text": [
            "\r  6%|▋         | 4/63 [00:02<00:29,  1.97it/s]"
          ]
        },
        {
          "output_type": "stream",
          "name": "stdout",
          "text": [
            "printing embeds.shape: torch.Size([256, 19, 256])\n",
            "printing rnn.out.shape: torch.Size([256, 19, 256])\n"
          ]
        },
        {
          "output_type": "stream",
          "name": "stderr",
          "text": [
            "\r  8%|▊         | 5/63 [00:02<00:28,  2.03it/s]"
          ]
        },
        {
          "output_type": "stream",
          "name": "stdout",
          "text": [
            "printing embeds.shape: torch.Size([256, 19, 256])\n",
            "printing rnn.out.shape: torch.Size([256, 19, 256])\n"
          ]
        },
        {
          "output_type": "stream",
          "name": "stderr",
          "text": [
            "\r 10%|▉         | 6/63 [00:02<00:26,  2.18it/s]"
          ]
        },
        {
          "output_type": "stream",
          "name": "stdout",
          "text": [
            "printing embeds.shape: torch.Size([256, 19, 256])\n",
            "printing rnn.out.shape: torch.Size([256, 19, 256])\n"
          ]
        },
        {
          "output_type": "stream",
          "name": "stderr",
          "text": [
            "\r 11%|█         | 7/63 [00:03<00:26,  2.14it/s]"
          ]
        },
        {
          "output_type": "stream",
          "name": "stdout",
          "text": [
            "printing embeds.shape: torch.Size([256, 19, 256])\n",
            "printing rnn.out.shape: torch.Size([256, 19, 256])\n"
          ]
        },
        {
          "output_type": "stream",
          "name": "stderr",
          "text": [
            "\r 13%|█▎        | 8/63 [00:03<00:26,  2.08it/s]"
          ]
        },
        {
          "output_type": "stream",
          "name": "stdout",
          "text": [
            "printing embeds.shape: torch.Size([256, 19, 256])\n",
            "printing rnn.out.shape: torch.Size([256, 19, 256])\n"
          ]
        },
        {
          "output_type": "stream",
          "name": "stderr",
          "text": [
            "\r 14%|█▍        | 9/63 [00:04<00:26,  2.05it/s]"
          ]
        },
        {
          "output_type": "stream",
          "name": "stdout",
          "text": [
            "printing embeds.shape: torch.Size([256, 19, 256])\n",
            "printing rnn.out.shape: torch.Size([256, 19, 256])\n"
          ]
        },
        {
          "output_type": "stream",
          "name": "stderr",
          "text": [
            "Epoch: 2  Iteration: 9  Loss: 1.2036603569984436:  16%|█▌        | 10/63 [00:04<00:24,  2.16it/s]"
          ]
        },
        {
          "output_type": "stream",
          "name": "stdout",
          "text": [
            "printing embeds.shape: torch.Size([256, 19, 256])\n",
            "printing rnn.out.shape: torch.Size([256, 19, 256])\n"
          ]
        },
        {
          "output_type": "stream",
          "name": "stderr",
          "text": [
            "\rEpoch: 2  Iteration: 9  Loss: 1.2036603569984436:  17%|█▋        | 11/63 [00:05<00:23,  2.22it/s]"
          ]
        },
        {
          "output_type": "stream",
          "name": "stdout",
          "text": [
            "printing embeds.shape: torch.Size([256, 19, 256])\n",
            "printing rnn.out.shape: torch.Size([256, 19, 256])\n"
          ]
        },
        {
          "output_type": "stream",
          "name": "stderr",
          "text": [
            "\rEpoch: 2  Iteration: 9  Loss: 1.2036603569984436:  19%|█▉        | 12/63 [00:05<00:22,  2.29it/s]"
          ]
        },
        {
          "output_type": "stream",
          "name": "stdout",
          "text": [
            "printing embeds.shape: torch.Size([256, 19, 256])\n",
            "printing rnn.out.shape: torch.Size([256, 19, 256])\n"
          ]
        },
        {
          "output_type": "stream",
          "name": "stderr",
          "text": [
            "\rEpoch: 2  Iteration: 9  Loss: 1.2036603569984436:  21%|██        | 13/63 [00:06<00:22,  2.25it/s]"
          ]
        },
        {
          "output_type": "stream",
          "name": "stdout",
          "text": [
            "printing embeds.shape: torch.Size([256, 19, 256])\n",
            "printing rnn.out.shape: torch.Size([256, 19, 256])\n"
          ]
        },
        {
          "output_type": "stream",
          "name": "stderr",
          "text": [
            "\rEpoch: 2  Iteration: 9  Loss: 1.2036603569984436:  22%|██▏       | 14/63 [00:06<00:21,  2.29it/s]"
          ]
        },
        {
          "output_type": "stream",
          "name": "stdout",
          "text": [
            "printing embeds.shape: torch.Size([256, 19, 256])\n",
            "printing rnn.out.shape: torch.Size([256, 19, 256])\n"
          ]
        },
        {
          "output_type": "stream",
          "name": "stderr",
          "text": [
            "\rEpoch: 2  Iteration: 9  Loss: 1.2036603569984436:  24%|██▍       | 15/63 [00:07<00:21,  2.22it/s]"
          ]
        },
        {
          "output_type": "stream",
          "name": "stdout",
          "text": [
            "printing embeds.shape: torch.Size([256, 19, 256])\n",
            "printing rnn.out.shape: torch.Size([256, 19, 256])\n"
          ]
        },
        {
          "output_type": "stream",
          "name": "stderr",
          "text": [
            "\rEpoch: 2  Iteration: 9  Loss: 1.2036603569984436:  25%|██▌       | 16/63 [00:07<00:22,  2.08it/s]"
          ]
        },
        {
          "output_type": "stream",
          "name": "stdout",
          "text": [
            "printing embeds.shape: torch.Size([256, 19, 256])\n",
            "printing rnn.out.shape: torch.Size([256, 19, 256])\n"
          ]
        },
        {
          "output_type": "stream",
          "name": "stderr",
          "text": [
            "\rEpoch: 2  Iteration: 9  Loss: 1.2036603569984436:  27%|██▋       | 17/63 [00:08<00:23,  1.99it/s]"
          ]
        },
        {
          "output_type": "stream",
          "name": "stdout",
          "text": [
            "printing embeds.shape: torch.Size([256, 19, 256])\n",
            "printing rnn.out.shape: torch.Size([256, 19, 256])\n"
          ]
        },
        {
          "output_type": "stream",
          "name": "stderr",
          "text": [
            "\rEpoch: 2  Iteration: 9  Loss: 1.2036603569984436:  29%|██▊       | 18/63 [00:08<00:23,  1.93it/s]"
          ]
        },
        {
          "output_type": "stream",
          "name": "stdout",
          "text": [
            "printing embeds.shape: torch.Size([256, 19, 256])\n",
            "printing rnn.out.shape: torch.Size([256, 19, 256])\n"
          ]
        },
        {
          "output_type": "stream",
          "name": "stderr",
          "text": [
            "\rEpoch: 2  Iteration: 9  Loss: 1.2036603569984436:  30%|███       | 19/63 [00:09<00:23,  1.89it/s]"
          ]
        },
        {
          "output_type": "stream",
          "name": "stdout",
          "text": [
            "printing embeds.shape: torch.Size([256, 19, 256])\n",
            "printing rnn.out.shape: torch.Size([256, 19, 256])\n"
          ]
        },
        {
          "output_type": "stream",
          "name": "stderr",
          "text": [
            "Epoch: 2  Iteration: 19  Loss: 1.1539800703525542:  32%|███▏      | 20/63 [00:09<00:21,  1.96it/s]"
          ]
        },
        {
          "output_type": "stream",
          "name": "stdout",
          "text": [
            "printing embeds.shape: torch.Size([256, 19, 256])\n",
            "printing rnn.out.shape: torch.Size([256, 19, 256])\n"
          ]
        },
        {
          "output_type": "stream",
          "name": "stderr",
          "text": [
            "\rEpoch: 2  Iteration: 19  Loss: 1.1539800703525542:  33%|███▎      | 21/63 [00:10<00:20,  2.08it/s]"
          ]
        },
        {
          "output_type": "stream",
          "name": "stdout",
          "text": [
            "printing embeds.shape: torch.Size([256, 19, 256])\n",
            "printing rnn.out.shape: torch.Size([256, 19, 256])\n"
          ]
        },
        {
          "output_type": "stream",
          "name": "stderr",
          "text": [
            "\rEpoch: 2  Iteration: 19  Loss: 1.1539800703525542:  35%|███▍      | 22/63 [00:10<00:18,  2.17it/s]"
          ]
        },
        {
          "output_type": "stream",
          "name": "stdout",
          "text": [
            "printing embeds.shape: torch.Size([256, 19, 256])\n",
            "printing rnn.out.shape: torch.Size([256, 19, 256])\n"
          ]
        },
        {
          "output_type": "stream",
          "name": "stderr",
          "text": [
            "\rEpoch: 2  Iteration: 19  Loss: 1.1539800703525542:  37%|███▋      | 23/63 [00:11<00:19,  2.07it/s]"
          ]
        },
        {
          "output_type": "stream",
          "name": "stdout",
          "text": [
            "printing embeds.shape: torch.Size([256, 19, 256])\n",
            "printing rnn.out.shape: torch.Size([256, 19, 256])\n"
          ]
        },
        {
          "output_type": "stream",
          "name": "stderr",
          "text": [
            "\rEpoch: 2  Iteration: 19  Loss: 1.1539800703525542:  38%|███▊      | 24/63 [00:11<00:17,  2.17it/s]"
          ]
        },
        {
          "output_type": "stream",
          "name": "stdout",
          "text": [
            "printing embeds.shape: torch.Size([256, 19, 256])\n",
            "printing rnn.out.shape: torch.Size([256, 19, 256])\n"
          ]
        },
        {
          "output_type": "stream",
          "name": "stderr",
          "text": [
            "\rEpoch: 2  Iteration: 19  Loss: 1.1539800703525542:  40%|███▉      | 25/63 [00:11<00:17,  2.20it/s]"
          ]
        },
        {
          "output_type": "stream",
          "name": "stdout",
          "text": [
            "printing embeds.shape: torch.Size([256, 19, 256])\n",
            "printing rnn.out.shape: torch.Size([256, 19, 256])\n"
          ]
        },
        {
          "output_type": "stream",
          "name": "stderr",
          "text": [
            "\rEpoch: 2  Iteration: 19  Loss: 1.1539800703525542:  41%|████▏     | 26/63 [00:12<00:16,  2.22it/s]"
          ]
        },
        {
          "output_type": "stream",
          "name": "stdout",
          "text": [
            "printing embeds.shape: torch.Size([256, 19, 256])\n",
            "printing rnn.out.shape: torch.Size([256, 19, 256])\n"
          ]
        },
        {
          "output_type": "stream",
          "name": "stderr",
          "text": [
            "\rEpoch: 2  Iteration: 19  Loss: 1.1539800703525542:  43%|████▎     | 27/63 [00:12<00:15,  2.28it/s]"
          ]
        },
        {
          "output_type": "stream",
          "name": "stdout",
          "text": [
            "printing embeds.shape: torch.Size([256, 19, 256])\n",
            "printing rnn.out.shape: torch.Size([256, 19, 256])\n"
          ]
        },
        {
          "output_type": "stream",
          "name": "stderr",
          "text": [
            "\rEpoch: 2  Iteration: 19  Loss: 1.1539800703525542:  44%|████▍     | 28/63 [00:13<00:15,  2.25it/s]"
          ]
        },
        {
          "output_type": "stream",
          "name": "stdout",
          "text": [
            "printing embeds.shape: torch.Size([256, 19, 256])\n",
            "printing rnn.out.shape: torch.Size([256, 19, 256])\n"
          ]
        },
        {
          "output_type": "stream",
          "name": "stderr",
          "text": [
            "\rEpoch: 2  Iteration: 19  Loss: 1.1539800703525542:  46%|████▌     | 29/63 [00:13<00:14,  2.31it/s]"
          ]
        },
        {
          "output_type": "stream",
          "name": "stdout",
          "text": [
            "printing embeds.shape: torch.Size([256, 19, 256])\n",
            "printing rnn.out.shape: torch.Size([256, 19, 256])\n"
          ]
        },
        {
          "output_type": "stream",
          "name": "stderr",
          "text": [
            "Epoch: 2  Iteration: 29  Loss: 1.1509302258491516:  48%|████▊     | 30/63 [00:14<00:14,  2.21it/s]"
          ]
        },
        {
          "output_type": "stream",
          "name": "stdout",
          "text": [
            "printing embeds.shape: torch.Size([256, 19, 256])\n",
            "printing rnn.out.shape: torch.Size([256, 19, 256])\n"
          ]
        },
        {
          "output_type": "stream",
          "name": "stderr",
          "text": [
            "\rEpoch: 2  Iteration: 29  Loss: 1.1509302258491516:  49%|████▉     | 31/63 [00:14<00:14,  2.26it/s]"
          ]
        },
        {
          "output_type": "stream",
          "name": "stdout",
          "text": [
            "printing embeds.shape: torch.Size([256, 19, 256])\n",
            "printing rnn.out.shape: torch.Size([256, 19, 256])\n"
          ]
        },
        {
          "output_type": "stream",
          "name": "stderr",
          "text": [
            "\rEpoch: 2  Iteration: 29  Loss: 1.1509302258491516:  51%|█████     | 32/63 [00:14<00:13,  2.29it/s]"
          ]
        },
        {
          "output_type": "stream",
          "name": "stdout",
          "text": [
            "printing embeds.shape: torch.Size([256, 19, 256])\n",
            "printing rnn.out.shape: torch.Size([256, 19, 256])\n"
          ]
        },
        {
          "output_type": "stream",
          "name": "stderr",
          "text": [
            "\rEpoch: 2  Iteration: 29  Loss: 1.1509302258491516:  52%|█████▏    | 33/63 [00:15<00:12,  2.35it/s]"
          ]
        },
        {
          "output_type": "stream",
          "name": "stdout",
          "text": [
            "printing embeds.shape: torch.Size([256, 19, 256])\n",
            "printing rnn.out.shape: torch.Size([256, 19, 256])\n"
          ]
        },
        {
          "output_type": "stream",
          "name": "stderr",
          "text": [
            "\rEpoch: 2  Iteration: 29  Loss: 1.1509302258491516:  54%|█████▍    | 34/63 [00:15<00:12,  2.30it/s]"
          ]
        },
        {
          "output_type": "stream",
          "name": "stdout",
          "text": [
            "printing embeds.shape: torch.Size([256, 19, 256])\n",
            "printing rnn.out.shape: torch.Size([256, 19, 256])\n"
          ]
        },
        {
          "output_type": "stream",
          "name": "stderr",
          "text": [
            "\rEpoch: 2  Iteration: 29  Loss: 1.1509302258491516:  56%|█████▌    | 35/63 [00:16<00:12,  2.16it/s]"
          ]
        },
        {
          "output_type": "stream",
          "name": "stdout",
          "text": [
            "printing embeds.shape: torch.Size([256, 19, 256])\n",
            "printing rnn.out.shape: torch.Size([256, 19, 256])\n"
          ]
        },
        {
          "output_type": "stream",
          "name": "stderr",
          "text": [
            "\rEpoch: 2  Iteration: 29  Loss: 1.1509302258491516:  57%|█████▋    | 36/63 [00:16<00:12,  2.22it/s]"
          ]
        },
        {
          "output_type": "stream",
          "name": "stdout",
          "text": [
            "printing embeds.shape: torch.Size([256, 19, 256])\n",
            "printing rnn.out.shape: torch.Size([256, 19, 256])\n"
          ]
        },
        {
          "output_type": "stream",
          "name": "stderr",
          "text": [
            "\rEpoch: 2  Iteration: 29  Loss: 1.1509302258491516:  59%|█████▊    | 37/63 [00:17<00:11,  2.27it/s]"
          ]
        },
        {
          "output_type": "stream",
          "name": "stdout",
          "text": [
            "printing embeds.shape: torch.Size([256, 19, 256])\n",
            "printing rnn.out.shape: torch.Size([256, 19, 256])\n"
          ]
        },
        {
          "output_type": "stream",
          "name": "stderr",
          "text": [
            "\rEpoch: 2  Iteration: 29  Loss: 1.1509302258491516:  60%|██████    | 38/63 [00:17<00:10,  2.31it/s]"
          ]
        },
        {
          "output_type": "stream",
          "name": "stdout",
          "text": [
            "printing embeds.shape: torch.Size([256, 19, 256])\n",
            "printing rnn.out.shape: torch.Size([256, 19, 256])\n"
          ]
        },
        {
          "output_type": "stream",
          "name": "stderr",
          "text": [
            "\rEpoch: 2  Iteration: 29  Loss: 1.1509302258491516:  62%|██████▏   | 39/63 [00:18<00:10,  2.36it/s]"
          ]
        },
        {
          "output_type": "stream",
          "name": "stdout",
          "text": [
            "printing embeds.shape: torch.Size([256, 19, 256])\n",
            "printing rnn.out.shape: torch.Size([256, 19, 256])\n"
          ]
        },
        {
          "output_type": "stream",
          "name": "stderr",
          "text": [
            "Epoch: 2  Iteration: 39  Loss: 1.1190852522850037:  63%|██████▎   | 40/63 [00:18<00:10,  2.19it/s]"
          ]
        },
        {
          "output_type": "stream",
          "name": "stdout",
          "text": [
            "printing embeds.shape: torch.Size([256, 19, 256])\n",
            "printing rnn.out.shape: torch.Size([256, 19, 256])\n"
          ]
        },
        {
          "output_type": "stream",
          "name": "stderr",
          "text": [
            "\rEpoch: 2  Iteration: 39  Loss: 1.1190852522850037:  65%|██████▌   | 41/63 [00:18<00:09,  2.24it/s]"
          ]
        },
        {
          "output_type": "stream",
          "name": "stdout",
          "text": [
            "printing embeds.shape: torch.Size([256, 19, 256])\n",
            "printing rnn.out.shape: torch.Size([256, 19, 256])\n"
          ]
        },
        {
          "output_type": "stream",
          "name": "stderr",
          "text": [
            "\rEpoch: 2  Iteration: 39  Loss: 1.1190852522850037:  67%|██████▋   | 42/63 [00:19<00:09,  2.18it/s]"
          ]
        },
        {
          "output_type": "stream",
          "name": "stdout",
          "text": [
            "printing embeds.shape: torch.Size([256, 19, 256])\n",
            "printing rnn.out.shape: torch.Size([256, 19, 256])\n"
          ]
        },
        {
          "output_type": "stream",
          "name": "stderr",
          "text": [
            "\rEpoch: 2  Iteration: 39  Loss: 1.1190852522850037:  68%|██████▊   | 43/63 [00:19<00:09,  2.11it/s]"
          ]
        },
        {
          "output_type": "stream",
          "name": "stdout",
          "text": [
            "printing embeds.shape: torch.Size([256, 19, 256])\n",
            "printing rnn.out.shape: torch.Size([256, 19, 256])\n"
          ]
        },
        {
          "output_type": "stream",
          "name": "stderr",
          "text": [
            "\rEpoch: 2  Iteration: 39  Loss: 1.1190852522850037:  70%|██████▉   | 44/63 [00:20<00:09,  2.03it/s]"
          ]
        },
        {
          "output_type": "stream",
          "name": "stdout",
          "text": [
            "printing embeds.shape: torch.Size([256, 19, 256])\n",
            "printing rnn.out.shape: torch.Size([256, 19, 256])\n"
          ]
        },
        {
          "output_type": "stream",
          "name": "stderr",
          "text": [
            "\rEpoch: 2  Iteration: 39  Loss: 1.1190852522850037:  71%|███████▏  | 45/63 [00:21<00:09,  1.99it/s]"
          ]
        },
        {
          "output_type": "stream",
          "name": "stdout",
          "text": [
            "printing embeds.shape: torch.Size([256, 19, 256])\n",
            "printing rnn.out.shape: torch.Size([256, 19, 256])\n"
          ]
        },
        {
          "output_type": "stream",
          "name": "stderr",
          "text": [
            "\rEpoch: 2  Iteration: 39  Loss: 1.1190852522850037:  73%|███████▎  | 46/63 [00:21<00:09,  1.87it/s]"
          ]
        },
        {
          "output_type": "stream",
          "name": "stdout",
          "text": [
            "printing embeds.shape: torch.Size([256, 19, 256])\n",
            "printing rnn.out.shape: torch.Size([256, 19, 256])\n"
          ]
        },
        {
          "output_type": "stream",
          "name": "stderr",
          "text": [
            "\rEpoch: 2  Iteration: 39  Loss: 1.1190852522850037:  75%|███████▍  | 47/63 [00:22<00:09,  1.71it/s]"
          ]
        },
        {
          "output_type": "stream",
          "name": "stdout",
          "text": [
            "printing embeds.shape: torch.Size([256, 19, 256])\n",
            "printing rnn.out.shape: torch.Size([256, 19, 256])\n"
          ]
        },
        {
          "output_type": "stream",
          "name": "stderr",
          "text": [
            "\rEpoch: 2  Iteration: 39  Loss: 1.1190852522850037:  76%|███████▌  | 48/63 [00:22<00:07,  1.88it/s]"
          ]
        },
        {
          "output_type": "stream",
          "name": "stdout",
          "text": [
            "printing embeds.shape: torch.Size([256, 19, 256])\n",
            "printing rnn.out.shape: torch.Size([256, 19, 256])\n"
          ]
        },
        {
          "output_type": "stream",
          "name": "stderr",
          "text": [
            "\rEpoch: 2  Iteration: 39  Loss: 1.1190852522850037:  78%|███████▊  | 49/63 [00:23<00:06,  2.02it/s]"
          ]
        },
        {
          "output_type": "stream",
          "name": "stdout",
          "text": [
            "printing embeds.shape: torch.Size([256, 19, 256])\n",
            "printing rnn.out.shape: torch.Size([256, 19, 256])\n"
          ]
        },
        {
          "output_type": "stream",
          "name": "stderr",
          "text": [
            "Epoch: 2  Iteration: 49  Loss: 1.100745964050293:  79%|███████▉  | 50/63 [00:23<00:06,  2.15it/s]"
          ]
        },
        {
          "output_type": "stream",
          "name": "stdout",
          "text": [
            "printing embeds.shape: torch.Size([256, 19, 256])\n",
            "printing rnn.out.shape: torch.Size([256, 19, 256])\n"
          ]
        },
        {
          "output_type": "stream",
          "name": "stderr",
          "text": [
            "\rEpoch: 2  Iteration: 49  Loss: 1.100745964050293:  81%|████████  | 51/63 [00:24<00:05,  2.05it/s]"
          ]
        },
        {
          "output_type": "stream",
          "name": "stdout",
          "text": [
            "printing embeds.shape: torch.Size([256, 19, 256])\n",
            "printing rnn.out.shape: torch.Size([256, 19, 256])\n"
          ]
        },
        {
          "output_type": "stream",
          "name": "stderr",
          "text": [
            "\rEpoch: 2  Iteration: 49  Loss: 1.100745964050293:  83%|████████▎ | 52/63 [00:24<00:05,  2.17it/s]"
          ]
        },
        {
          "output_type": "stream",
          "name": "stdout",
          "text": [
            "printing embeds.shape: torch.Size([256, 19, 256])\n",
            "printing rnn.out.shape: torch.Size([256, 19, 256])\n"
          ]
        },
        {
          "output_type": "stream",
          "name": "stderr",
          "text": [
            "\rEpoch: 2  Iteration: 49  Loss: 1.100745964050293:  84%|████████▍ | 53/63 [00:24<00:04,  2.23it/s]"
          ]
        },
        {
          "output_type": "stream",
          "name": "stdout",
          "text": [
            "printing embeds.shape: torch.Size([256, 19, 256])\n",
            "printing rnn.out.shape: torch.Size([256, 19, 256])\n"
          ]
        },
        {
          "output_type": "stream",
          "name": "stderr",
          "text": [
            "\rEpoch: 2  Iteration: 49  Loss: 1.100745964050293:  86%|████████▌ | 54/63 [00:25<00:03,  2.29it/s]"
          ]
        },
        {
          "output_type": "stream",
          "name": "stdout",
          "text": [
            "printing embeds.shape: torch.Size([256, 19, 256])\n",
            "printing rnn.out.shape: torch.Size([256, 19, 256])\n"
          ]
        },
        {
          "output_type": "stream",
          "name": "stderr",
          "text": [
            "\rEpoch: 2  Iteration: 49  Loss: 1.100745964050293:  87%|████████▋ | 55/63 [00:25<00:03,  2.33it/s]"
          ]
        },
        {
          "output_type": "stream",
          "name": "stdout",
          "text": [
            "printing embeds.shape: torch.Size([256, 19, 256])\n",
            "printing rnn.out.shape: torch.Size([256, 19, 256])\n"
          ]
        },
        {
          "output_type": "stream",
          "name": "stderr",
          "text": [
            "\rEpoch: 2  Iteration: 49  Loss: 1.100745964050293:  89%|████████▉ | 56/63 [00:26<00:02,  2.36it/s]"
          ]
        },
        {
          "output_type": "stream",
          "name": "stdout",
          "text": [
            "printing embeds.shape: torch.Size([256, 19, 256])\n",
            "printing rnn.out.shape: torch.Size([256, 19, 256])\n"
          ]
        },
        {
          "output_type": "stream",
          "name": "stderr",
          "text": [
            "\rEpoch: 2  Iteration: 49  Loss: 1.100745964050293:  90%|█████████ | 57/63 [00:26<00:02,  2.41it/s]"
          ]
        },
        {
          "output_type": "stream",
          "name": "stdout",
          "text": [
            "printing embeds.shape: torch.Size([256, 19, 256])\n",
            "printing rnn.out.shape: torch.Size([256, 19, 256])\n"
          ]
        },
        {
          "output_type": "stream",
          "name": "stderr",
          "text": [
            "\rEpoch: 2  Iteration: 49  Loss: 1.100745964050293:  92%|█████████▏| 58/63 [00:27<00:02,  2.26it/s]"
          ]
        },
        {
          "output_type": "stream",
          "name": "stdout",
          "text": [
            "printing embeds.shape: torch.Size([256, 19, 256])\n",
            "printing rnn.out.shape: torch.Size([256, 19, 256])\n"
          ]
        },
        {
          "output_type": "stream",
          "name": "stderr",
          "text": [
            "\rEpoch: 2  Iteration: 49  Loss: 1.100745964050293:  94%|█████████▎| 59/63 [00:27<00:01,  2.32it/s]"
          ]
        },
        {
          "output_type": "stream",
          "name": "stdout",
          "text": [
            "printing embeds.shape: torch.Size([256, 19, 256])\n",
            "printing rnn.out.shape: torch.Size([256, 19, 256])\n"
          ]
        },
        {
          "output_type": "stream",
          "name": "stderr",
          "text": [
            "Epoch: 2  Iteration: 59  Loss: 1.0952243864536286:  95%|█████████▌| 60/63 [00:27<00:01,  2.25it/s]"
          ]
        },
        {
          "output_type": "stream",
          "name": "stdout",
          "text": [
            "printing embeds.shape: torch.Size([256, 19, 256])\n",
            "printing rnn.out.shape: torch.Size([256, 19, 256])\n"
          ]
        },
        {
          "output_type": "stream",
          "name": "stderr",
          "text": [
            "\rEpoch: 2  Iteration: 59  Loss: 1.0952243864536286:  97%|█████████▋| 61/63 [00:28<00:00,  2.29it/s]"
          ]
        },
        {
          "output_type": "stream",
          "name": "stdout",
          "text": [
            "printing embeds.shape: torch.Size([256, 19, 256])\n",
            "printing rnn.out.shape: torch.Size([256, 19, 256])\n"
          ]
        },
        {
          "output_type": "stream",
          "name": "stderr",
          "text": [
            "\rEpoch: 2  Iteration: 59  Loss: 1.0952243864536286:  98%|█████████▊| 62/63 [00:28<00:00,  2.28it/s]"
          ]
        },
        {
          "output_type": "stream",
          "name": "stdout",
          "text": [
            "printing embeds.shape: torch.Size([187, 19, 256])\n",
            "printing rnn.out.shape: torch.Size([187, 19, 256])\n"
          ]
        },
        {
          "output_type": "stream",
          "name": "stderr",
          "text": [
            "Epoch: 2  Iteration: 59  Loss: 1.0952243864536286: 100%|██████████| 63/63 [00:29<00:00,  2.17it/s]\n"
          ]
        },
        {
          "output_type": "stream",
          "name": "stdout",
          "text": [
            "Epoch: 2  Train Accuracy: 66.97801855657264\n",
            "printing embeds.shape: torch.Size([256, 19, 256])\n",
            "printing rnn.out.shape: torch.Size([256, 19, 256])\n",
            "printing embeds.shape: torch.Size([256, 19, 256])\n",
            "printing rnn.out.shape: torch.Size([256, 19, 256])\n",
            "printing embeds.shape: torch.Size([256, 19, 256])\n",
            "printing rnn.out.shape: torch.Size([256, 19, 256])\n",
            "printing embeds.shape: torch.Size([256, 19, 256])\n",
            "printing rnn.out.shape: torch.Size([256, 19, 256])\n",
            "printing embeds.shape: torch.Size([256, 19, 256])\n",
            "printing rnn.out.shape: torch.Size([256, 19, 256])\n",
            "printing embeds.shape: torch.Size([256, 19, 256])\n",
            "printing rnn.out.shape: torch.Size([256, 19, 256])\n",
            "printing embeds.shape: torch.Size([256, 19, 256])\n",
            "printing rnn.out.shape: torch.Size([256, 19, 256])\n",
            "printing embeds.shape: torch.Size([256, 19, 256])\n",
            "printing rnn.out.shape: torch.Size([256, 19, 256])\n",
            "printing embeds.shape: torch.Size([256, 19, 256])\n",
            "printing rnn.out.shape: torch.Size([256, 19, 256])\n",
            "printing embeds.shape: torch.Size([256, 19, 256])\n",
            "printing rnn.out.shape: torch.Size([256, 19, 256])\n",
            "printing embeds.shape: torch.Size([256, 19, 256])\n",
            "printing rnn.out.shape: torch.Size([256, 19, 256])\n",
            "printing embeds.shape: torch.Size([256, 19, 256])\n",
            "printing rnn.out.shape: torch.Size([256, 19, 256])\n",
            "printing embeds.shape: torch.Size([256, 19, 256])\n",
            "printing rnn.out.shape: torch.Size([256, 19, 256])\n",
            "printing embeds.shape: torch.Size([256, 19, 256])\n",
            "printing rnn.out.shape: torch.Size([256, 19, 256])\n",
            "printing embeds.shape: torch.Size([256, 19, 256])\n",
            "printing rnn.out.shape: torch.Size([256, 19, 256])\n",
            "printing embeds.shape: torch.Size([175, 19, 256])\n",
            "printing rnn.out.shape: torch.Size([175, 19, 256])\n",
            "Epoch: 2  Eval Accuracy: 70.78455790784558\n"
          ]
        },
        {
          "output_type": "stream",
          "name": "stderr",
          "text": [
            "\r  0%|          | 0/63 [00:00<?, ?it/s]"
          ]
        },
        {
          "output_type": "stream",
          "name": "stdout",
          "text": [
            "printing embeds.shape: torch.Size([256, 19, 256])\n",
            "printing rnn.out.shape: torch.Size([256, 19, 256])\n"
          ]
        },
        {
          "output_type": "stream",
          "name": "stderr",
          "text": [
            "\r  2%|▏         | 1/63 [00:00<00:26,  2.38it/s]"
          ]
        },
        {
          "output_type": "stream",
          "name": "stdout",
          "text": [
            "printing embeds.shape: torch.Size([256, 19, 256])\n",
            "printing rnn.out.shape: torch.Size([256, 19, 256])\n"
          ]
        },
        {
          "output_type": "stream",
          "name": "stderr",
          "text": [
            "\r  3%|▎         | 2/63 [00:00<00:25,  2.41it/s]"
          ]
        },
        {
          "output_type": "stream",
          "name": "stdout",
          "text": [
            "printing embeds.shape: torch.Size([256, 19, 256])\n",
            "printing rnn.out.shape: torch.Size([256, 19, 256])\n"
          ]
        },
        {
          "output_type": "stream",
          "name": "stderr",
          "text": [
            "\r  5%|▍         | 3/63 [00:01<00:27,  2.18it/s]"
          ]
        },
        {
          "output_type": "stream",
          "name": "stdout",
          "text": [
            "printing embeds.shape: torch.Size([256, 19, 256])\n",
            "printing rnn.out.shape: torch.Size([256, 19, 256])\n"
          ]
        },
        {
          "output_type": "stream",
          "name": "stderr",
          "text": [
            "\r  6%|▋         | 4/63 [00:01<00:26,  2.27it/s]"
          ]
        },
        {
          "output_type": "stream",
          "name": "stdout",
          "text": [
            "printing embeds.shape: torch.Size([256, 19, 256])\n",
            "printing rnn.out.shape: torch.Size([256, 19, 256])\n"
          ]
        },
        {
          "output_type": "stream",
          "name": "stderr",
          "text": [
            "\r  8%|▊         | 5/63 [00:02<00:27,  2.11it/s]"
          ]
        },
        {
          "output_type": "stream",
          "name": "stdout",
          "text": [
            "printing embeds.shape: torch.Size([256, 19, 256])\n",
            "printing rnn.out.shape: torch.Size([256, 19, 256])\n"
          ]
        },
        {
          "output_type": "stream",
          "name": "stderr",
          "text": [
            "\r 10%|▉         | 6/63 [00:02<00:30,  1.89it/s]"
          ]
        },
        {
          "output_type": "stream",
          "name": "stdout",
          "text": [
            "printing embeds.shape: torch.Size([256, 19, 256])\n",
            "printing rnn.out.shape: torch.Size([256, 19, 256])\n"
          ]
        },
        {
          "output_type": "stream",
          "name": "stderr",
          "text": [
            "\r 11%|█         | 7/63 [00:03<00:29,  1.90it/s]"
          ]
        },
        {
          "output_type": "stream",
          "name": "stdout",
          "text": [
            "printing embeds.shape: torch.Size([256, 19, 256])\n",
            "printing rnn.out.shape: torch.Size([256, 19, 256])\n"
          ]
        },
        {
          "output_type": "stream",
          "name": "stderr",
          "text": [
            "\r 13%|█▎        | 8/63 [00:03<00:29,  1.87it/s]"
          ]
        },
        {
          "output_type": "stream",
          "name": "stdout",
          "text": [
            "printing embeds.shape: torch.Size([256, 19, 256])\n",
            "printing rnn.out.shape: torch.Size([256, 19, 256])\n"
          ]
        },
        {
          "output_type": "stream",
          "name": "stderr",
          "text": [
            "\r 14%|█▍        | 9/63 [00:04<00:30,  1.76it/s]"
          ]
        },
        {
          "output_type": "stream",
          "name": "stdout",
          "text": [
            "printing embeds.shape: torch.Size([256, 19, 256])\n",
            "printing rnn.out.shape: torch.Size([256, 19, 256])\n"
          ]
        },
        {
          "output_type": "stream",
          "name": "stderr",
          "text": [
            "Epoch: 3  Iteration: 9  Loss: 1.048918616771698:  16%|█▌        | 10/63 [00:05<00:28,  1.87it/s]"
          ]
        },
        {
          "output_type": "stream",
          "name": "stdout",
          "text": [
            "printing embeds.shape: torch.Size([256, 19, 256])\n",
            "printing rnn.out.shape: torch.Size([256, 19, 256])\n"
          ]
        },
        {
          "output_type": "stream",
          "name": "stderr",
          "text": [
            "\rEpoch: 3  Iteration: 9  Loss: 1.048918616771698:  17%|█▋        | 11/63 [00:05<00:25,  2.01it/s]"
          ]
        },
        {
          "output_type": "stream",
          "name": "stdout",
          "text": [
            "printing embeds.shape: torch.Size([256, 19, 256])\n",
            "printing rnn.out.shape: torch.Size([256, 19, 256])\n"
          ]
        },
        {
          "output_type": "stream",
          "name": "stderr",
          "text": [
            "\rEpoch: 3  Iteration: 9  Loss: 1.048918616771698:  19%|█▉        | 12/63 [00:05<00:25,  2.03it/s]"
          ]
        },
        {
          "output_type": "stream",
          "name": "stdout",
          "text": [
            "printing embeds.shape: torch.Size([256, 19, 256])\n",
            "printing rnn.out.shape: torch.Size([256, 19, 256])\n"
          ]
        },
        {
          "output_type": "stream",
          "name": "stderr",
          "text": [
            "\rEpoch: 3  Iteration: 9  Loss: 1.048918616771698:  21%|██        | 13/63 [00:06<00:24,  2.05it/s]"
          ]
        },
        {
          "output_type": "stream",
          "name": "stdout",
          "text": [
            "printing embeds.shape: torch.Size([256, 19, 256])\n",
            "printing rnn.out.shape: torch.Size([256, 19, 256])\n"
          ]
        },
        {
          "output_type": "stream",
          "name": "stderr",
          "text": [
            "\rEpoch: 3  Iteration: 9  Loss: 1.048918616771698:  22%|██▏       | 14/63 [00:06<00:22,  2.17it/s]"
          ]
        },
        {
          "output_type": "stream",
          "name": "stdout",
          "text": [
            "printing embeds.shape: torch.Size([256, 19, 256])\n",
            "printing rnn.out.shape: torch.Size([256, 19, 256])\n"
          ]
        },
        {
          "output_type": "stream",
          "name": "stderr",
          "text": [
            "\rEpoch: 3  Iteration: 9  Loss: 1.048918616771698:  24%|██▍       | 15/63 [00:07<00:21,  2.24it/s]"
          ]
        },
        {
          "output_type": "stream",
          "name": "stdout",
          "text": [
            "printing embeds.shape: torch.Size([256, 19, 256])\n",
            "printing rnn.out.shape: torch.Size([256, 19, 256])\n"
          ]
        },
        {
          "output_type": "stream",
          "name": "stderr",
          "text": [
            "\rEpoch: 3  Iteration: 9  Loss: 1.048918616771698:  25%|██▌       | 16/63 [00:07<00:22,  2.11it/s]"
          ]
        },
        {
          "output_type": "stream",
          "name": "stdout",
          "text": [
            "printing embeds.shape: torch.Size([256, 19, 256])\n",
            "printing rnn.out.shape: torch.Size([256, 19, 256])\n"
          ]
        },
        {
          "output_type": "stream",
          "name": "stderr",
          "text": [
            "\rEpoch: 3  Iteration: 9  Loss: 1.048918616771698:  27%|██▋       | 17/63 [00:08<00:20,  2.20it/s]"
          ]
        },
        {
          "output_type": "stream",
          "name": "stdout",
          "text": [
            "printing embeds.shape: torch.Size([256, 19, 256])\n",
            "printing rnn.out.shape: torch.Size([256, 19, 256])\n"
          ]
        },
        {
          "output_type": "stream",
          "name": "stderr",
          "text": [
            "\rEpoch: 3  Iteration: 9  Loss: 1.048918616771698:  29%|██▊       | 18/63 [00:08<00:20,  2.18it/s]"
          ]
        },
        {
          "output_type": "stream",
          "name": "stdout",
          "text": [
            "printing embeds.shape: torch.Size([256, 19, 256])\n",
            "printing rnn.out.shape: torch.Size([256, 19, 256])\n"
          ]
        },
        {
          "output_type": "stream",
          "name": "stderr",
          "text": [
            "\rEpoch: 3  Iteration: 9  Loss: 1.048918616771698:  30%|███       | 19/63 [00:09<00:20,  2.16it/s]"
          ]
        },
        {
          "output_type": "stream",
          "name": "stdout",
          "text": [
            "printing embeds.shape: torch.Size([256, 19, 256])\n",
            "printing rnn.out.shape: torch.Size([256, 19, 256])\n"
          ]
        },
        {
          "output_type": "stream",
          "name": "stderr",
          "text": [
            "Epoch: 3  Iteration: 19  Loss: 1.0365780234336852:  32%|███▏      | 20/63 [00:09<00:19,  2.22it/s]"
          ]
        },
        {
          "output_type": "stream",
          "name": "stdout",
          "text": [
            "printing embeds.shape: torch.Size([256, 19, 256])\n",
            "printing rnn.out.shape: torch.Size([256, 19, 256])\n"
          ]
        },
        {
          "output_type": "stream",
          "name": "stderr",
          "text": [
            "\rEpoch: 3  Iteration: 19  Loss: 1.0365780234336852:  33%|███▎      | 21/63 [00:10<00:18,  2.28it/s]"
          ]
        },
        {
          "output_type": "stream",
          "name": "stdout",
          "text": [
            "printing embeds.shape: torch.Size([256, 19, 256])\n",
            "printing rnn.out.shape: torch.Size([256, 19, 256])\n"
          ]
        },
        {
          "output_type": "stream",
          "name": "stderr",
          "text": [
            "\rEpoch: 3  Iteration: 19  Loss: 1.0365780234336852:  35%|███▍      | 22/63 [00:10<00:17,  2.31it/s]"
          ]
        },
        {
          "output_type": "stream",
          "name": "stdout",
          "text": [
            "printing embeds.shape: torch.Size([256, 19, 256])\n",
            "printing rnn.out.shape: torch.Size([256, 19, 256])\n"
          ]
        },
        {
          "output_type": "stream",
          "name": "stderr",
          "text": [
            "\rEpoch: 3  Iteration: 19  Loss: 1.0365780234336852:  37%|███▋      | 23/63 [00:10<00:17,  2.23it/s]"
          ]
        },
        {
          "output_type": "stream",
          "name": "stdout",
          "text": [
            "printing embeds.shape: torch.Size([256, 19, 256])\n",
            "printing rnn.out.shape: torch.Size([256, 19, 256])\n"
          ]
        },
        {
          "output_type": "stream",
          "name": "stderr",
          "text": [
            "\rEpoch: 3  Iteration: 19  Loss: 1.0365780234336852:  38%|███▊      | 24/63 [00:11<00:17,  2.21it/s]"
          ]
        },
        {
          "output_type": "stream",
          "name": "stdout",
          "text": [
            "printing embeds.shape: torch.Size([256, 19, 256])\n",
            "printing rnn.out.shape: torch.Size([256, 19, 256])\n"
          ]
        },
        {
          "output_type": "stream",
          "name": "stderr",
          "text": [
            "\rEpoch: 3  Iteration: 19  Loss: 1.0365780234336852:  40%|███▉      | 25/63 [00:11<00:17,  2.11it/s]"
          ]
        },
        {
          "output_type": "stream",
          "name": "stdout",
          "text": [
            "printing embeds.shape: torch.Size([256, 19, 256])\n",
            "printing rnn.out.shape: torch.Size([256, 19, 256])\n"
          ]
        },
        {
          "output_type": "stream",
          "name": "stderr",
          "text": [
            "\rEpoch: 3  Iteration: 19  Loss: 1.0365780234336852:  41%|████▏     | 26/63 [00:12<00:18,  2.05it/s]"
          ]
        },
        {
          "output_type": "stream",
          "name": "stdout",
          "text": [
            "printing embeds.shape: torch.Size([256, 19, 256])\n",
            "printing rnn.out.shape: torch.Size([256, 19, 256])\n"
          ]
        },
        {
          "output_type": "stream",
          "name": "stderr",
          "text": [
            "\rEpoch: 3  Iteration: 19  Loss: 1.0365780234336852:  43%|████▎     | 27/63 [00:12<00:17,  2.03it/s]"
          ]
        },
        {
          "output_type": "stream",
          "name": "stdout",
          "text": [
            "printing embeds.shape: torch.Size([256, 19, 256])\n",
            "printing rnn.out.shape: torch.Size([256, 19, 256])\n"
          ]
        },
        {
          "output_type": "stream",
          "name": "stderr",
          "text": [
            "\rEpoch: 3  Iteration: 19  Loss: 1.0365780234336852:  44%|████▍     | 28/63 [00:13<00:17,  2.05it/s]"
          ]
        },
        {
          "output_type": "stream",
          "name": "stdout",
          "text": [
            "printing embeds.shape: torch.Size([256, 19, 256])\n",
            "printing rnn.out.shape: torch.Size([256, 19, 256])\n"
          ]
        },
        {
          "output_type": "stream",
          "name": "stderr",
          "text": [
            "\rEpoch: 3  Iteration: 19  Loss: 1.0365780234336852:  46%|████▌     | 29/63 [00:13<00:15,  2.14it/s]"
          ]
        },
        {
          "output_type": "stream",
          "name": "stdout",
          "text": [
            "printing embeds.shape: torch.Size([256, 19, 256])\n",
            "printing rnn.out.shape: torch.Size([256, 19, 256])\n"
          ]
        },
        {
          "output_type": "stream",
          "name": "stderr",
          "text": [
            "Epoch: 3  Iteration: 29  Loss: 1.039569729566574:  48%|████▊     | 30/63 [00:14<00:14,  2.24it/s]"
          ]
        },
        {
          "output_type": "stream",
          "name": "stdout",
          "text": [
            "printing embeds.shape: torch.Size([256, 19, 256])\n",
            "printing rnn.out.shape: torch.Size([256, 19, 256])\n"
          ]
        },
        {
          "output_type": "stream",
          "name": "stderr",
          "text": [
            "\rEpoch: 3  Iteration: 29  Loss: 1.039569729566574:  49%|████▉     | 31/63 [00:14<00:13,  2.29it/s]"
          ]
        },
        {
          "output_type": "stream",
          "name": "stdout",
          "text": [
            "printing embeds.shape: torch.Size([256, 19, 256])\n",
            "printing rnn.out.shape: torch.Size([256, 19, 256])\n"
          ]
        },
        {
          "output_type": "stream",
          "name": "stderr",
          "text": [
            "\rEpoch: 3  Iteration: 29  Loss: 1.039569729566574:  51%|█████     | 32/63 [00:15<00:14,  2.08it/s]"
          ]
        },
        {
          "output_type": "stream",
          "name": "stdout",
          "text": [
            "printing embeds.shape: torch.Size([256, 19, 256])\n",
            "printing rnn.out.shape: torch.Size([256, 19, 256])\n"
          ]
        },
        {
          "output_type": "stream",
          "name": "stderr",
          "text": [
            "\rEpoch: 3  Iteration: 29  Loss: 1.039569729566574:  52%|█████▏    | 33/63 [00:15<00:15,  1.91it/s]"
          ]
        },
        {
          "output_type": "stream",
          "name": "stdout",
          "text": [
            "printing embeds.shape: torch.Size([256, 19, 256])\n",
            "printing rnn.out.shape: torch.Size([256, 19, 256])\n"
          ]
        },
        {
          "output_type": "stream",
          "name": "stderr",
          "text": [
            "\rEpoch: 3  Iteration: 29  Loss: 1.039569729566574:  54%|█████▍    | 34/63 [00:16<00:15,  1.91it/s]"
          ]
        },
        {
          "output_type": "stream",
          "name": "stdout",
          "text": [
            "printing embeds.shape: torch.Size([256, 19, 256])\n",
            "printing rnn.out.shape: torch.Size([256, 19, 256])\n"
          ]
        },
        {
          "output_type": "stream",
          "name": "stderr",
          "text": [
            "\rEpoch: 3  Iteration: 29  Loss: 1.039569729566574:  56%|█████▌    | 35/63 [00:16<00:14,  1.88it/s]"
          ]
        },
        {
          "output_type": "stream",
          "name": "stdout",
          "text": [
            "printing embeds.shape: torch.Size([256, 19, 256])\n",
            "printing rnn.out.shape: torch.Size([256, 19, 256])\n"
          ]
        },
        {
          "output_type": "stream",
          "name": "stderr",
          "text": [
            "\rEpoch: 3  Iteration: 29  Loss: 1.039569729566574:  57%|█████▋    | 36/63 [00:17<00:15,  1.79it/s]"
          ]
        },
        {
          "output_type": "stream",
          "name": "stdout",
          "text": [
            "printing embeds.shape: torch.Size([256, 19, 256])\n",
            "printing rnn.out.shape: torch.Size([256, 19, 256])\n"
          ]
        },
        {
          "output_type": "stream",
          "name": "stderr",
          "text": [
            "\rEpoch: 3  Iteration: 29  Loss: 1.039569729566574:  59%|█████▊    | 37/63 [00:17<00:13,  1.90it/s]"
          ]
        },
        {
          "output_type": "stream",
          "name": "stdout",
          "text": [
            "printing embeds.shape: torch.Size([256, 19, 256])\n",
            "printing rnn.out.shape: torch.Size([256, 19, 256])\n"
          ]
        },
        {
          "output_type": "stream",
          "name": "stderr",
          "text": [
            "\rEpoch: 3  Iteration: 29  Loss: 1.039569729566574:  60%|██████    | 38/63 [00:18<00:12,  1.96it/s]"
          ]
        },
        {
          "output_type": "stream",
          "name": "stdout",
          "text": [
            "printing embeds.shape: torch.Size([256, 19, 256])\n",
            "printing rnn.out.shape: torch.Size([256, 19, 256])\n"
          ]
        },
        {
          "output_type": "stream",
          "name": "stderr",
          "text": [
            "\rEpoch: 3  Iteration: 29  Loss: 1.039569729566574:  62%|██████▏   | 39/63 [00:18<00:11,  2.07it/s]"
          ]
        },
        {
          "output_type": "stream",
          "name": "stdout",
          "text": [
            "printing embeds.shape: torch.Size([256, 19, 256])\n",
            "printing rnn.out.shape: torch.Size([256, 19, 256])\n"
          ]
        },
        {
          "output_type": "stream",
          "name": "stderr",
          "text": [
            "Epoch: 3  Iteration: 39  Loss: 1.0211998283863069:  63%|██████▎   | 40/63 [00:19<00:10,  2.19it/s]"
          ]
        },
        {
          "output_type": "stream",
          "name": "stdout",
          "text": [
            "printing embeds.shape: torch.Size([256, 19, 256])\n",
            "printing rnn.out.shape: torch.Size([256, 19, 256])\n"
          ]
        },
        {
          "output_type": "stream",
          "name": "stderr",
          "text": [
            "\rEpoch: 3  Iteration: 39  Loss: 1.0211998283863069:  65%|██████▌   | 41/63 [00:19<00:10,  2.16it/s]"
          ]
        },
        {
          "output_type": "stream",
          "name": "stdout",
          "text": [
            "printing embeds.shape: torch.Size([256, 19, 256])\n",
            "printing rnn.out.shape: torch.Size([256, 19, 256])\n"
          ]
        },
        {
          "output_type": "stream",
          "name": "stderr",
          "text": [
            "\rEpoch: 3  Iteration: 39  Loss: 1.0211998283863069:  67%|██████▋   | 42/63 [00:20<00:09,  2.14it/s]"
          ]
        },
        {
          "output_type": "stream",
          "name": "stdout",
          "text": [
            "printing embeds.shape: torch.Size([256, 19, 256])\n",
            "printing rnn.out.shape: torch.Size([256, 19, 256])\n"
          ]
        },
        {
          "output_type": "stream",
          "name": "stderr",
          "text": [
            "\rEpoch: 3  Iteration: 39  Loss: 1.0211998283863069:  68%|██████▊   | 43/63 [00:20<00:09,  2.03it/s]"
          ]
        },
        {
          "output_type": "stream",
          "name": "stdout",
          "text": [
            "printing embeds.shape: torch.Size([256, 19, 256])\n",
            "printing rnn.out.shape: torch.Size([256, 19, 256])\n"
          ]
        },
        {
          "output_type": "stream",
          "name": "stderr",
          "text": [
            "\rEpoch: 3  Iteration: 39  Loss: 1.0211998283863069:  70%|██████▉   | 44/63 [00:21<00:09,  2.11it/s]"
          ]
        },
        {
          "output_type": "stream",
          "name": "stdout",
          "text": [
            "printing embeds.shape: torch.Size([256, 19, 256])\n",
            "printing rnn.out.shape: torch.Size([256, 19, 256])\n"
          ]
        },
        {
          "output_type": "stream",
          "name": "stderr",
          "text": [
            "\rEpoch: 3  Iteration: 39  Loss: 1.0211998283863069:  71%|███████▏  | 45/63 [00:21<00:08,  2.19it/s]"
          ]
        },
        {
          "output_type": "stream",
          "name": "stdout",
          "text": [
            "printing embeds.shape: torch.Size([256, 19, 256])\n",
            "printing rnn.out.shape: torch.Size([256, 19, 256])\n"
          ]
        },
        {
          "output_type": "stream",
          "name": "stderr",
          "text": [
            "\rEpoch: 3  Iteration: 39  Loss: 1.0211998283863069:  73%|███████▎  | 46/63 [00:22<00:07,  2.15it/s]"
          ]
        },
        {
          "output_type": "stream",
          "name": "stdout",
          "text": [
            "printing embeds.shape: torch.Size([256, 19, 256])\n",
            "printing rnn.out.shape: torch.Size([256, 19, 256])\n"
          ]
        },
        {
          "output_type": "stream",
          "name": "stderr",
          "text": [
            "\rEpoch: 3  Iteration: 39  Loss: 1.0211998283863069:  75%|███████▍  | 47/63 [00:22<00:07,  2.18it/s]"
          ]
        },
        {
          "output_type": "stream",
          "name": "stdout",
          "text": [
            "printing embeds.shape: torch.Size([256, 19, 256])\n",
            "printing rnn.out.shape: torch.Size([256, 19, 256])\n"
          ]
        },
        {
          "output_type": "stream",
          "name": "stderr",
          "text": [
            "\rEpoch: 3  Iteration: 39  Loss: 1.0211998283863069:  76%|███████▌  | 48/63 [00:22<00:06,  2.20it/s]"
          ]
        },
        {
          "output_type": "stream",
          "name": "stdout",
          "text": [
            "printing embeds.shape: torch.Size([256, 19, 256])\n",
            "printing rnn.out.shape: torch.Size([256, 19, 256])\n"
          ]
        },
        {
          "output_type": "stream",
          "name": "stderr",
          "text": [
            "\rEpoch: 3  Iteration: 39  Loss: 1.0211998283863069:  78%|███████▊  | 49/63 [00:23<00:06,  2.11it/s]"
          ]
        },
        {
          "output_type": "stream",
          "name": "stdout",
          "text": [
            "printing embeds.shape: torch.Size([256, 19, 256])\n",
            "printing rnn.out.shape: torch.Size([256, 19, 256])\n"
          ]
        },
        {
          "output_type": "stream",
          "name": "stderr",
          "text": [
            "Epoch: 3  Iteration: 49  Loss: 1.0297187447547913:  79%|███████▉  | 50/63 [00:23<00:06,  2.13it/s]"
          ]
        },
        {
          "output_type": "stream",
          "name": "stdout",
          "text": [
            "printing embeds.shape: torch.Size([256, 19, 256])\n",
            "printing rnn.out.shape: torch.Size([256, 19, 256])\n"
          ]
        },
        {
          "output_type": "stream",
          "name": "stderr",
          "text": [
            "\rEpoch: 3  Iteration: 49  Loss: 1.0297187447547913:  81%|████████  | 51/63 [00:24<00:05,  2.15it/s]"
          ]
        },
        {
          "output_type": "stream",
          "name": "stdout",
          "text": [
            "printing embeds.shape: torch.Size([256, 19, 256])\n",
            "printing rnn.out.shape: torch.Size([256, 19, 256])\n"
          ]
        },
        {
          "output_type": "stream",
          "name": "stderr",
          "text": [
            "\rEpoch: 3  Iteration: 49  Loss: 1.0297187447547913:  83%|████████▎ | 52/63 [00:24<00:05,  2.15it/s]"
          ]
        },
        {
          "output_type": "stream",
          "name": "stdout",
          "text": [
            "printing embeds.shape: torch.Size([256, 19, 256])\n",
            "printing rnn.out.shape: torch.Size([256, 19, 256])\n"
          ]
        },
        {
          "output_type": "stream",
          "name": "stderr",
          "text": [
            "\rEpoch: 3  Iteration: 49  Loss: 1.0297187447547913:  84%|████████▍ | 53/63 [00:25<00:04,  2.19it/s]"
          ]
        },
        {
          "output_type": "stream",
          "name": "stdout",
          "text": [
            "printing embeds.shape: torch.Size([256, 19, 256])\n",
            "printing rnn.out.shape: torch.Size([256, 19, 256])\n"
          ]
        },
        {
          "output_type": "stream",
          "name": "stderr",
          "text": [
            "\rEpoch: 3  Iteration: 49  Loss: 1.0297187447547913:  86%|████████▌ | 54/63 [00:25<00:03,  2.26it/s]"
          ]
        },
        {
          "output_type": "stream",
          "name": "stdout",
          "text": [
            "printing embeds.shape: torch.Size([256, 19, 256])\n",
            "printing rnn.out.shape: torch.Size([256, 19, 256])\n"
          ]
        },
        {
          "output_type": "stream",
          "name": "stderr",
          "text": [
            "\rEpoch: 3  Iteration: 49  Loss: 1.0297187447547913:  87%|████████▋ | 55/63 [00:26<00:03,  2.32it/s]"
          ]
        },
        {
          "output_type": "stream",
          "name": "stdout",
          "text": [
            "printing embeds.shape: torch.Size([256, 19, 256])\n",
            "printing rnn.out.shape: torch.Size([256, 19, 256])\n"
          ]
        },
        {
          "output_type": "stream",
          "name": "stderr",
          "text": [
            "\rEpoch: 3  Iteration: 49  Loss: 1.0297187447547913:  89%|████████▉ | 56/63 [00:26<00:02,  2.35it/s]"
          ]
        },
        {
          "output_type": "stream",
          "name": "stdout",
          "text": [
            "printing embeds.shape: torch.Size([256, 19, 256])\n",
            "printing rnn.out.shape: torch.Size([256, 19, 256])\n"
          ]
        },
        {
          "output_type": "stream",
          "name": "stderr",
          "text": [
            "\rEpoch: 3  Iteration: 49  Loss: 1.0297187447547913:  90%|█████████ | 57/63 [00:26<00:02,  2.37it/s]"
          ]
        },
        {
          "output_type": "stream",
          "name": "stdout",
          "text": [
            "printing embeds.shape: torch.Size([256, 19, 256])\n",
            "printing rnn.out.shape: torch.Size([256, 19, 256])\n"
          ]
        },
        {
          "output_type": "stream",
          "name": "stderr",
          "text": [
            "\rEpoch: 3  Iteration: 49  Loss: 1.0297187447547913:  92%|█████████▏| 58/63 [00:27<00:02,  2.40it/s]"
          ]
        },
        {
          "output_type": "stream",
          "name": "stdout",
          "text": [
            "printing embeds.shape: torch.Size([256, 19, 256])\n",
            "printing rnn.out.shape: torch.Size([256, 19, 256])\n"
          ]
        },
        {
          "output_type": "stream",
          "name": "stderr",
          "text": [
            "\rEpoch: 3  Iteration: 49  Loss: 1.0297187447547913:  94%|█████████▎| 59/63 [00:27<00:01,  2.12it/s]"
          ]
        },
        {
          "output_type": "stream",
          "name": "stdout",
          "text": [
            "printing embeds.shape: torch.Size([256, 19, 256])\n",
            "printing rnn.out.shape: torch.Size([256, 19, 256])\n"
          ]
        },
        {
          "output_type": "stream",
          "name": "stderr",
          "text": [
            "Epoch: 3  Iteration: 59  Loss: 1.0178301334381104:  95%|█████████▌| 60/63 [00:28<00:01,  1.89it/s]"
          ]
        },
        {
          "output_type": "stream",
          "name": "stdout",
          "text": [
            "printing embeds.shape: torch.Size([256, 19, 256])\n",
            "printing rnn.out.shape: torch.Size([256, 19, 256])\n"
          ]
        },
        {
          "output_type": "stream",
          "name": "stderr",
          "text": [
            "\rEpoch: 3  Iteration: 59  Loss: 1.0178301334381104:  97%|█████████▋| 61/63 [00:29<00:01,  1.85it/s]"
          ]
        },
        {
          "output_type": "stream",
          "name": "stdout",
          "text": [
            "printing embeds.shape: torch.Size([256, 19, 256])\n",
            "printing rnn.out.shape: torch.Size([256, 19, 256])\n"
          ]
        },
        {
          "output_type": "stream",
          "name": "stderr",
          "text": [
            "\rEpoch: 3  Iteration: 59  Loss: 1.0178301334381104:  98%|█████████▊| 62/63 [00:29<00:00,  1.86it/s]"
          ]
        },
        {
          "output_type": "stream",
          "name": "stdout",
          "text": [
            "printing embeds.shape: torch.Size([187, 19, 256])\n",
            "printing rnn.out.shape: torch.Size([187, 19, 256])\n"
          ]
        },
        {
          "output_type": "stream",
          "name": "stderr",
          "text": [
            "Epoch: 3  Iteration: 59  Loss: 1.0178301334381104: 100%|██████████| 63/63 [00:30<00:00,  2.09it/s]\n"
          ]
        },
        {
          "output_type": "stream",
          "name": "stdout",
          "text": [
            "Epoch: 3  Train Accuracy: 70.18494302260414\n",
            "printing embeds.shape: torch.Size([256, 19, 256])\n",
            "printing rnn.out.shape: torch.Size([256, 19, 256])\n",
            "printing embeds.shape: torch.Size([256, 19, 256])\n",
            "printing rnn.out.shape: torch.Size([256, 19, 256])\n",
            "printing embeds.shape: torch.Size([256, 19, 256])\n",
            "printing rnn.out.shape: torch.Size([256, 19, 256])\n",
            "printing embeds.shape: torch.Size([256, 19, 256])\n",
            "printing rnn.out.shape: torch.Size([256, 19, 256])\n",
            "printing embeds.shape: torch.Size([256, 19, 256])\n",
            "printing rnn.out.shape: torch.Size([256, 19, 256])\n",
            "printing embeds.shape: torch.Size([256, 19, 256])\n",
            "printing rnn.out.shape: torch.Size([256, 19, 256])\n",
            "printing embeds.shape: torch.Size([256, 19, 256])\n",
            "printing rnn.out.shape: torch.Size([256, 19, 256])\n",
            "printing embeds.shape: torch.Size([256, 19, 256])\n",
            "printing rnn.out.shape: torch.Size([256, 19, 256])\n",
            "printing embeds.shape: torch.Size([256, 19, 256])\n",
            "printing rnn.out.shape: torch.Size([256, 19, 256])\n",
            "printing embeds.shape: torch.Size([256, 19, 256])\n",
            "printing rnn.out.shape: torch.Size([256, 19, 256])\n",
            "printing embeds.shape: torch.Size([256, 19, 256])\n",
            "printing rnn.out.shape: torch.Size([256, 19, 256])\n",
            "printing embeds.shape: torch.Size([256, 19, 256])\n",
            "printing rnn.out.shape: torch.Size([256, 19, 256])\n",
            "printing embeds.shape: torch.Size([256, 19, 256])\n",
            "printing rnn.out.shape: torch.Size([256, 19, 256])\n",
            "printing embeds.shape: torch.Size([256, 19, 256])\n",
            "printing rnn.out.shape: torch.Size([256, 19, 256])\n",
            "printing embeds.shape: torch.Size([256, 19, 256])\n",
            "printing rnn.out.shape: torch.Size([256, 19, 256])\n",
            "printing embeds.shape: torch.Size([175, 19, 256])\n",
            "printing rnn.out.shape: torch.Size([175, 19, 256])\n",
            "Epoch: 3  Eval Accuracy: 72.27895392278954\n"
          ]
        },
        {
          "output_type": "stream",
          "name": "stderr",
          "text": [
            "\r  0%|          | 0/63 [00:00<?, ?it/s]"
          ]
        },
        {
          "output_type": "stream",
          "name": "stdout",
          "text": [
            "printing embeds.shape: torch.Size([256, 19, 256])\n",
            "printing rnn.out.shape: torch.Size([256, 19, 256])\n"
          ]
        },
        {
          "output_type": "stream",
          "name": "stderr",
          "text": [
            "\r  2%|▏         | 1/63 [00:00<00:33,  1.87it/s]"
          ]
        },
        {
          "output_type": "stream",
          "name": "stdout",
          "text": [
            "printing embeds.shape: torch.Size([256, 19, 256])\n",
            "printing rnn.out.shape: torch.Size([256, 19, 256])\n"
          ]
        },
        {
          "output_type": "stream",
          "name": "stderr",
          "text": [
            "\r  3%|▎         | 2/63 [00:01<00:32,  1.88it/s]"
          ]
        },
        {
          "output_type": "stream",
          "name": "stdout",
          "text": [
            "printing embeds.shape: torch.Size([256, 19, 256])\n",
            "printing rnn.out.shape: torch.Size([256, 19, 256])\n"
          ]
        },
        {
          "output_type": "stream",
          "name": "stderr",
          "text": [
            "\r  5%|▍         | 3/63 [00:01<00:32,  1.86it/s]"
          ]
        },
        {
          "output_type": "stream",
          "name": "stdout",
          "text": [
            "printing embeds.shape: torch.Size([256, 19, 256])\n",
            "printing rnn.out.shape: torch.Size([256, 19, 256])\n"
          ]
        },
        {
          "output_type": "stream",
          "name": "stderr",
          "text": [
            "\r  6%|▋         | 4/63 [00:02<00:31,  1.90it/s]"
          ]
        },
        {
          "output_type": "stream",
          "name": "stdout",
          "text": [
            "printing embeds.shape: torch.Size([256, 19, 256])\n",
            "printing rnn.out.shape: torch.Size([256, 19, 256])\n"
          ]
        },
        {
          "output_type": "stream",
          "name": "stderr",
          "text": [
            "\r  8%|▊         | 5/63 [00:02<00:29,  1.96it/s]"
          ]
        },
        {
          "output_type": "stream",
          "name": "stdout",
          "text": [
            "printing embeds.shape: torch.Size([256, 19, 256])\n",
            "printing rnn.out.shape: torch.Size([256, 19, 256])\n"
          ]
        },
        {
          "output_type": "stream",
          "name": "stderr",
          "text": [
            "\r 10%|▉         | 6/63 [00:03<00:28,  1.97it/s]"
          ]
        },
        {
          "output_type": "stream",
          "name": "stdout",
          "text": [
            "printing embeds.shape: torch.Size([256, 19, 256])\n",
            "printing rnn.out.shape: torch.Size([256, 19, 256])\n"
          ]
        },
        {
          "output_type": "stream",
          "name": "stderr",
          "text": [
            "\r 11%|█         | 7/63 [00:03<00:28,  1.99it/s]"
          ]
        },
        {
          "output_type": "stream",
          "name": "stdout",
          "text": [
            "printing embeds.shape: torch.Size([256, 19, 256])\n",
            "printing rnn.out.shape: torch.Size([256, 19, 256])\n"
          ]
        },
        {
          "output_type": "stream",
          "name": "stderr",
          "text": [
            "\r 13%|█▎        | 8/63 [00:04<00:25,  2.12it/s]"
          ]
        },
        {
          "output_type": "stream",
          "name": "stdout",
          "text": [
            "printing embeds.shape: torch.Size([256, 19, 256])\n",
            "printing rnn.out.shape: torch.Size([256, 19, 256])\n"
          ]
        },
        {
          "output_type": "stream",
          "name": "stderr",
          "text": [
            "\r 14%|█▍        | 9/63 [00:04<00:24,  2.22it/s]"
          ]
        },
        {
          "output_type": "stream",
          "name": "stdout",
          "text": [
            "printing embeds.shape: torch.Size([256, 19, 256])\n",
            "printing rnn.out.shape: torch.Size([256, 19, 256])\n"
          ]
        },
        {
          "output_type": "stream",
          "name": "stderr",
          "text": [
            "Epoch: 4  Iteration: 9  Loss: 0.9511698067188263:  16%|█▌        | 10/63 [00:04<00:24,  2.15it/s]"
          ]
        },
        {
          "output_type": "stream",
          "name": "stdout",
          "text": [
            "printing embeds.shape: torch.Size([256, 19, 256])\n",
            "printing rnn.out.shape: torch.Size([256, 19, 256])\n"
          ]
        },
        {
          "output_type": "stream",
          "name": "stderr",
          "text": [
            "\rEpoch: 4  Iteration: 9  Loss: 0.9511698067188263:  17%|█▋        | 11/63 [00:05<00:23,  2.23it/s]"
          ]
        },
        {
          "output_type": "stream",
          "name": "stdout",
          "text": [
            "printing embeds.shape: torch.Size([256, 19, 256])\n",
            "printing rnn.out.shape: torch.Size([256, 19, 256])\n"
          ]
        },
        {
          "output_type": "stream",
          "name": "stderr",
          "text": [
            "\rEpoch: 4  Iteration: 9  Loss: 0.9511698067188263:  19%|█▉        | 12/63 [00:05<00:23,  2.19it/s]"
          ]
        },
        {
          "output_type": "stream",
          "name": "stdout",
          "text": [
            "printing embeds.shape: torch.Size([256, 19, 256])\n",
            "printing rnn.out.shape: torch.Size([256, 19, 256])\n"
          ]
        },
        {
          "output_type": "stream",
          "name": "stderr",
          "text": [
            "\rEpoch: 4  Iteration: 9  Loss: 0.9511698067188263:  21%|██        | 13/63 [00:06<00:23,  2.12it/s]"
          ]
        },
        {
          "output_type": "stream",
          "name": "stdout",
          "text": [
            "printing embeds.shape: torch.Size([256, 19, 256])\n",
            "printing rnn.out.shape: torch.Size([256, 19, 256])\n"
          ]
        },
        {
          "output_type": "stream",
          "name": "stderr",
          "text": [
            "\rEpoch: 4  Iteration: 9  Loss: 0.9511698067188263:  22%|██▏       | 14/63 [00:06<00:22,  2.23it/s]"
          ]
        },
        {
          "output_type": "stream",
          "name": "stdout",
          "text": [
            "printing embeds.shape: torch.Size([256, 19, 256])\n",
            "printing rnn.out.shape: torch.Size([256, 19, 256])\n"
          ]
        },
        {
          "output_type": "stream",
          "name": "stderr",
          "text": [
            "\rEpoch: 4  Iteration: 9  Loss: 0.9511698067188263:  24%|██▍       | 15/63 [00:07<00:22,  2.10it/s]"
          ]
        },
        {
          "output_type": "stream",
          "name": "stdout",
          "text": [
            "printing embeds.shape: torch.Size([256, 19, 256])\n",
            "printing rnn.out.shape: torch.Size([256, 19, 256])\n"
          ]
        },
        {
          "output_type": "stream",
          "name": "stderr",
          "text": [
            "\rEpoch: 4  Iteration: 9  Loss: 0.9511698067188263:  25%|██▌       | 16/63 [00:07<00:21,  2.15it/s]"
          ]
        },
        {
          "output_type": "stream",
          "name": "stdout",
          "text": [
            "printing embeds.shape: torch.Size([256, 19, 256])\n",
            "printing rnn.out.shape: torch.Size([256, 19, 256])\n"
          ]
        },
        {
          "output_type": "stream",
          "name": "stderr",
          "text": [
            "\rEpoch: 4  Iteration: 9  Loss: 0.9511698067188263:  27%|██▋       | 17/63 [00:08<00:20,  2.23it/s]"
          ]
        },
        {
          "output_type": "stream",
          "name": "stdout",
          "text": [
            "printing embeds.shape: torch.Size([256, 19, 256])\n",
            "printing rnn.out.shape: torch.Size([256, 19, 256])\n"
          ]
        },
        {
          "output_type": "stream",
          "name": "stderr",
          "text": [
            "\rEpoch: 4  Iteration: 9  Loss: 0.9511698067188263:  29%|██▊       | 18/63 [00:08<00:19,  2.26it/s]"
          ]
        },
        {
          "output_type": "stream",
          "name": "stdout",
          "text": [
            "printing embeds.shape: torch.Size([256, 19, 256])\n",
            "printing rnn.out.shape: torch.Size([256, 19, 256])\n"
          ]
        },
        {
          "output_type": "stream",
          "name": "stderr",
          "text": [
            "\rEpoch: 4  Iteration: 9  Loss: 0.9511698067188263:  30%|███       | 19/63 [00:08<00:18,  2.32it/s]"
          ]
        },
        {
          "output_type": "stream",
          "name": "stdout",
          "text": [
            "printing embeds.shape: torch.Size([256, 19, 256])\n",
            "printing rnn.out.shape: torch.Size([256, 19, 256])\n"
          ]
        },
        {
          "output_type": "stream",
          "name": "stderr",
          "text": [
            "Epoch: 4  Iteration: 19  Loss: 0.9442533612251282:  32%|███▏      | 20/63 [00:09<00:21,  1.99it/s]"
          ]
        },
        {
          "output_type": "stream",
          "name": "stdout",
          "text": [
            "printing embeds.shape: torch.Size([256, 19, 256])\n",
            "printing rnn.out.shape: torch.Size([256, 19, 256])\n"
          ]
        },
        {
          "output_type": "stream",
          "name": "stderr",
          "text": [
            "\rEpoch: 4  Iteration: 19  Loss: 0.9442533612251282:  33%|███▎      | 21/63 [00:10<00:22,  1.91it/s]"
          ]
        },
        {
          "output_type": "stream",
          "name": "stdout",
          "text": [
            "printing embeds.shape: torch.Size([256, 19, 256])\n",
            "printing rnn.out.shape: torch.Size([256, 19, 256])\n"
          ]
        },
        {
          "output_type": "stream",
          "name": "stderr",
          "text": [
            "\rEpoch: 4  Iteration: 19  Loss: 0.9442533612251282:  35%|███▍      | 22/63 [00:10<00:23,  1.77it/s]"
          ]
        },
        {
          "output_type": "stream",
          "name": "stdout",
          "text": [
            "printing embeds.shape: torch.Size([256, 19, 256])\n",
            "printing rnn.out.shape: torch.Size([256, 19, 256])\n"
          ]
        },
        {
          "output_type": "stream",
          "name": "stderr",
          "text": [
            "\rEpoch: 4  Iteration: 19  Loss: 0.9442533612251282:  37%|███▋      | 23/63 [00:11<00:22,  1.78it/s]"
          ]
        },
        {
          "output_type": "stream",
          "name": "stdout",
          "text": [
            "printing embeds.shape: torch.Size([256, 19, 256])\n",
            "printing rnn.out.shape: torch.Size([256, 19, 256])\n"
          ]
        },
        {
          "output_type": "stream",
          "name": "stderr",
          "text": [
            "\rEpoch: 4  Iteration: 19  Loss: 0.9442533612251282:  38%|███▊      | 24/63 [00:11<00:21,  1.83it/s]"
          ]
        },
        {
          "output_type": "stream",
          "name": "stdout",
          "text": [
            "printing embeds.shape: torch.Size([256, 19, 256])\n",
            "printing rnn.out.shape: torch.Size([256, 19, 256])\n"
          ]
        },
        {
          "output_type": "stream",
          "name": "stderr",
          "text": [
            "\rEpoch: 4  Iteration: 19  Loss: 0.9442533612251282:  40%|███▉      | 25/63 [00:12<00:20,  1.85it/s]"
          ]
        },
        {
          "output_type": "stream",
          "name": "stdout",
          "text": [
            "printing embeds.shape: torch.Size([256, 19, 256])\n",
            "printing rnn.out.shape: torch.Size([256, 19, 256])\n"
          ]
        },
        {
          "output_type": "stream",
          "name": "stderr",
          "text": [
            "\rEpoch: 4  Iteration: 19  Loss: 0.9442533612251282:  41%|████▏     | 26/63 [00:12<00:18,  2.00it/s]"
          ]
        },
        {
          "output_type": "stream",
          "name": "stdout",
          "text": [
            "printing embeds.shape: torch.Size([256, 19, 256])\n",
            "printing rnn.out.shape: torch.Size([256, 19, 256])\n"
          ]
        },
        {
          "output_type": "stream",
          "name": "stderr",
          "text": [
            "\rEpoch: 4  Iteration: 19  Loss: 0.9442533612251282:  43%|████▎     | 27/63 [00:13<00:17,  2.09it/s]"
          ]
        },
        {
          "output_type": "stream",
          "name": "stdout",
          "text": [
            "printing embeds.shape: torch.Size([256, 19, 256])\n",
            "printing rnn.out.shape: torch.Size([256, 19, 256])\n"
          ]
        },
        {
          "output_type": "stream",
          "name": "stderr",
          "text": [
            "\rEpoch: 4  Iteration: 19  Loss: 0.9442533612251282:  44%|████▍     | 28/63 [00:13<00:16,  2.18it/s]"
          ]
        },
        {
          "output_type": "stream",
          "name": "stdout",
          "text": [
            "printing embeds.shape: torch.Size([256, 19, 256])\n",
            "printing rnn.out.shape: torch.Size([256, 19, 256])\n"
          ]
        },
        {
          "output_type": "stream",
          "name": "stderr",
          "text": [
            "\rEpoch: 4  Iteration: 19  Loss: 0.9442533612251282:  46%|████▌     | 29/63 [00:14<00:15,  2.25it/s]"
          ]
        },
        {
          "output_type": "stream",
          "name": "stdout",
          "text": [
            "printing embeds.shape: torch.Size([256, 19, 256])\n",
            "printing rnn.out.shape: torch.Size([256, 19, 256])\n"
          ]
        },
        {
          "output_type": "stream",
          "name": "stderr",
          "text": [
            "Epoch: 4  Iteration: 29  Loss: 0.9748117029666901:  48%|████▊     | 30/63 [00:14<00:15,  2.10it/s]"
          ]
        },
        {
          "output_type": "stream",
          "name": "stdout",
          "text": [
            "printing embeds.shape: torch.Size([256, 19, 256])\n",
            "printing rnn.out.shape: torch.Size([256, 19, 256])\n"
          ]
        },
        {
          "output_type": "stream",
          "name": "stderr",
          "text": [
            "\rEpoch: 4  Iteration: 29  Loss: 0.9748117029666901:  49%|████▉     | 31/63 [00:15<00:14,  2.18it/s]"
          ]
        },
        {
          "output_type": "stream",
          "name": "stdout",
          "text": [
            "printing embeds.shape: torch.Size([256, 19, 256])\n",
            "printing rnn.out.shape: torch.Size([256, 19, 256])\n"
          ]
        },
        {
          "output_type": "stream",
          "name": "stderr",
          "text": [
            "\rEpoch: 4  Iteration: 29  Loss: 0.9748117029666901:  51%|█████     | 32/63 [00:15<00:13,  2.22it/s]"
          ]
        },
        {
          "output_type": "stream",
          "name": "stdout",
          "text": [
            "printing embeds.shape: torch.Size([256, 19, 256])\n",
            "printing rnn.out.shape: torch.Size([256, 19, 256])\n"
          ]
        },
        {
          "output_type": "stream",
          "name": "stderr",
          "text": [
            "\rEpoch: 4  Iteration: 29  Loss: 0.9748117029666901:  52%|█████▏    | 33/63 [00:16<00:14,  2.03it/s]"
          ]
        },
        {
          "output_type": "stream",
          "name": "stdout",
          "text": [
            "printing embeds.shape: torch.Size([256, 19, 256])\n",
            "printing rnn.out.shape: torch.Size([256, 19, 256])\n"
          ]
        },
        {
          "output_type": "stream",
          "name": "stderr",
          "text": [
            "\rEpoch: 4  Iteration: 29  Loss: 0.9748117029666901:  54%|█████▍    | 34/63 [00:16<00:15,  1.86it/s]"
          ]
        },
        {
          "output_type": "stream",
          "name": "stdout",
          "text": [
            "printing embeds.shape: torch.Size([256, 19, 256])\n",
            "printing rnn.out.shape: torch.Size([256, 19, 256])\n"
          ]
        },
        {
          "output_type": "stream",
          "name": "stderr",
          "text": [
            "\rEpoch: 4  Iteration: 29  Loss: 0.9748117029666901:  56%|█████▌    | 35/63 [00:17<00:20,  1.39it/s]"
          ]
        },
        {
          "output_type": "stream",
          "name": "stdout",
          "text": [
            "printing embeds.shape: torch.Size([256, 19, 256])\n",
            "printing rnn.out.shape: torch.Size([256, 19, 256])\n"
          ]
        },
        {
          "output_type": "stream",
          "name": "stderr",
          "text": [
            "\rEpoch: 4  Iteration: 29  Loss: 0.9748117029666901:  57%|█████▋    | 36/63 [00:18<00:21,  1.25it/s]"
          ]
        },
        {
          "output_type": "stream",
          "name": "stdout",
          "text": [
            "printing embeds.shape: torch.Size([256, 19, 256])\n",
            "printing rnn.out.shape: torch.Size([256, 19, 256])\n"
          ]
        },
        {
          "output_type": "stream",
          "name": "stderr",
          "text": [
            "\rEpoch: 4  Iteration: 29  Loss: 0.9748117029666901:  59%|█████▊    | 37/63 [00:19<00:21,  1.21it/s]"
          ]
        },
        {
          "output_type": "stream",
          "name": "stdout",
          "text": [
            "printing embeds.shape: torch.Size([256, 19, 256])\n",
            "printing rnn.out.shape: torch.Size([256, 19, 256])\n"
          ]
        },
        {
          "output_type": "stream",
          "name": "stderr",
          "text": [
            "\rEpoch: 4  Iteration: 29  Loss: 0.9748117029666901:  60%|██████    | 38/63 [00:20<00:19,  1.30it/s]"
          ]
        },
        {
          "output_type": "stream",
          "name": "stdout",
          "text": [
            "printing embeds.shape: torch.Size([256, 19, 256])\n",
            "printing rnn.out.shape: torch.Size([256, 19, 256])\n"
          ]
        },
        {
          "output_type": "stream",
          "name": "stderr",
          "text": [
            "\rEpoch: 4  Iteration: 29  Loss: 0.9748117029666901:  62%|██████▏   | 39/63 [00:21<00:17,  1.35it/s]"
          ]
        },
        {
          "output_type": "stream",
          "name": "stdout",
          "text": [
            "printing embeds.shape: torch.Size([256, 19, 256])\n",
            "printing rnn.out.shape: torch.Size([256, 19, 256])\n"
          ]
        },
        {
          "output_type": "stream",
          "name": "stderr",
          "text": [
            "Epoch: 4  Iteration: 39  Loss: 0.9783746421337127:  63%|██████▎   | 40/63 [00:22<00:22,  1.04it/s]"
          ]
        },
        {
          "output_type": "stream",
          "name": "stdout",
          "text": [
            "printing embeds.shape: torch.Size([256, 19, 256])\n",
            "printing rnn.out.shape: torch.Size([256, 19, 256])\n"
          ]
        },
        {
          "output_type": "stream",
          "name": "stderr",
          "text": [
            "\rEpoch: 4  Iteration: 39  Loss: 0.9783746421337127:  65%|██████▌   | 41/63 [00:24<00:29,  1.32s/it]"
          ]
        },
        {
          "output_type": "stream",
          "name": "stdout",
          "text": [
            "printing embeds.shape: torch.Size([256, 19, 256])\n",
            "printing rnn.out.shape: torch.Size([256, 19, 256])\n"
          ]
        },
        {
          "output_type": "stream",
          "name": "stderr",
          "text": [
            "\rEpoch: 4  Iteration: 39  Loss: 0.9783746421337127:  67%|██████▋   | 42/63 [00:25<00:25,  1.21s/it]"
          ]
        },
        {
          "output_type": "stream",
          "name": "stdout",
          "text": [
            "printing embeds.shape: torch.Size([256, 19, 256])\n",
            "printing rnn.out.shape: torch.Size([256, 19, 256])\n"
          ]
        },
        {
          "output_type": "stream",
          "name": "stderr",
          "text": [
            "\rEpoch: 4  Iteration: 39  Loss: 0.9783746421337127:  68%|██████▊   | 43/63 [00:26<00:21,  1.06s/it]"
          ]
        },
        {
          "output_type": "stream",
          "name": "stdout",
          "text": [
            "printing embeds.shape: torch.Size([256, 19, 256])\n",
            "printing rnn.out.shape: torch.Size([256, 19, 256])\n"
          ]
        },
        {
          "output_type": "stream",
          "name": "stderr",
          "text": [
            "\rEpoch: 4  Iteration: 39  Loss: 0.9783746421337127:  70%|██████▉   | 44/63 [00:27<00:18,  1.01it/s]"
          ]
        },
        {
          "output_type": "stream",
          "name": "stdout",
          "text": [
            "printing embeds.shape: torch.Size([256, 19, 256])\n",
            "printing rnn.out.shape: torch.Size([256, 19, 256])\n"
          ]
        },
        {
          "output_type": "stream",
          "name": "stderr",
          "text": [
            "\rEpoch: 4  Iteration: 39  Loss: 0.9783746421337127:  71%|███████▏  | 45/63 [00:27<00:16,  1.08it/s]"
          ]
        },
        {
          "output_type": "stream",
          "name": "stdout",
          "text": [
            "printing embeds.shape: torch.Size([256, 19, 256])\n",
            "printing rnn.out.shape: torch.Size([256, 19, 256])\n"
          ]
        },
        {
          "output_type": "stream",
          "name": "stderr",
          "text": [
            "\rEpoch: 4  Iteration: 39  Loss: 0.9783746421337127:  73%|███████▎  | 46/63 [00:28<00:13,  1.25it/s]"
          ]
        },
        {
          "output_type": "stream",
          "name": "stdout",
          "text": [
            "printing embeds.shape: torch.Size([256, 19, 256])\n",
            "printing rnn.out.shape: torch.Size([256, 19, 256])\n"
          ]
        },
        {
          "output_type": "stream",
          "name": "stderr",
          "text": [
            "\rEpoch: 4  Iteration: 39  Loss: 0.9783746421337127:  75%|███████▍  | 47/63 [00:28<00:11,  1.45it/s]"
          ]
        },
        {
          "output_type": "stream",
          "name": "stdout",
          "text": [
            "printing embeds.shape: torch.Size([256, 19, 256])\n",
            "printing rnn.out.shape: torch.Size([256, 19, 256])\n"
          ]
        },
        {
          "output_type": "stream",
          "name": "stderr",
          "text": [
            "\rEpoch: 4  Iteration: 39  Loss: 0.9783746421337127:  76%|███████▌  | 48/63 [00:29<00:09,  1.65it/s]"
          ]
        },
        {
          "output_type": "stream",
          "name": "stdout",
          "text": [
            "printing embeds.shape: torch.Size([256, 19, 256])\n",
            "printing rnn.out.shape: torch.Size([256, 19, 256])\n"
          ]
        },
        {
          "output_type": "stream",
          "name": "stderr",
          "text": [
            "\rEpoch: 4  Iteration: 39  Loss: 0.9783746421337127:  78%|███████▊  | 49/63 [00:29<00:08,  1.74it/s]"
          ]
        },
        {
          "output_type": "stream",
          "name": "stdout",
          "text": [
            "printing embeds.shape: torch.Size([256, 19, 256])\n",
            "printing rnn.out.shape: torch.Size([256, 19, 256])\n"
          ]
        },
        {
          "output_type": "stream",
          "name": "stderr",
          "text": [
            "Epoch: 4  Iteration: 49  Loss: 0.9398422956466674:  79%|███████▉  | 50/63 [00:30<00:06,  1.92it/s]"
          ]
        },
        {
          "output_type": "stream",
          "name": "stdout",
          "text": [
            "printing embeds.shape: torch.Size([256, 19, 256])\n",
            "printing rnn.out.shape: torch.Size([256, 19, 256])\n"
          ]
        },
        {
          "output_type": "stream",
          "name": "stderr",
          "text": [
            "\rEpoch: 4  Iteration: 49  Loss: 0.9398422956466674:  81%|████████  | 51/63 [00:30<00:05,  2.03it/s]"
          ]
        },
        {
          "output_type": "stream",
          "name": "stdout",
          "text": [
            "printing embeds.shape: torch.Size([256, 19, 256])\n",
            "printing rnn.out.shape: torch.Size([256, 19, 256])\n"
          ]
        },
        {
          "output_type": "stream",
          "name": "stderr",
          "text": [
            "\rEpoch: 4  Iteration: 49  Loss: 0.9398422956466674:  83%|████████▎ | 52/63 [00:31<00:05,  1.99it/s]"
          ]
        },
        {
          "output_type": "stream",
          "name": "stdout",
          "text": [
            "printing embeds.shape: torch.Size([256, 19, 256])\n",
            "printing rnn.out.shape: torch.Size([256, 19, 256])\n"
          ]
        },
        {
          "output_type": "stream",
          "name": "stderr",
          "text": [
            "\rEpoch: 4  Iteration: 49  Loss: 0.9398422956466674:  84%|████████▍ | 53/63 [00:31<00:04,  2.06it/s]"
          ]
        },
        {
          "output_type": "stream",
          "name": "stdout",
          "text": [
            "printing embeds.shape: torch.Size([256, 19, 256])\n",
            "printing rnn.out.shape: torch.Size([256, 19, 256])\n"
          ]
        },
        {
          "output_type": "stream",
          "name": "stderr",
          "text": [
            "\rEpoch: 4  Iteration: 49  Loss: 0.9398422956466674:  86%|████████▌ | 54/63 [00:31<00:04,  2.16it/s]"
          ]
        },
        {
          "output_type": "stream",
          "name": "stdout",
          "text": [
            "printing embeds.shape: torch.Size([256, 19, 256])\n",
            "printing rnn.out.shape: torch.Size([256, 19, 256])\n"
          ]
        },
        {
          "output_type": "stream",
          "name": "stderr",
          "text": [
            "\rEpoch: 4  Iteration: 49  Loss: 0.9398422956466674:  87%|████████▋ | 55/63 [00:32<00:03,  2.24it/s]"
          ]
        },
        {
          "output_type": "stream",
          "name": "stdout",
          "text": [
            "printing embeds.shape: torch.Size([256, 19, 256])\n",
            "printing rnn.out.shape: torch.Size([256, 19, 256])\n"
          ]
        },
        {
          "output_type": "stream",
          "name": "stderr",
          "text": [
            "\rEpoch: 4  Iteration: 49  Loss: 0.9398422956466674:  89%|████████▉ | 56/63 [00:32<00:03,  2.27it/s]"
          ]
        },
        {
          "output_type": "stream",
          "name": "stdout",
          "text": [
            "printing embeds.shape: torch.Size([256, 19, 256])\n",
            "printing rnn.out.shape: torch.Size([256, 19, 256])\n"
          ]
        },
        {
          "output_type": "stream",
          "name": "stderr",
          "text": [
            "\rEpoch: 4  Iteration: 49  Loss: 0.9398422956466674:  90%|█████████ | 57/63 [00:33<00:02,  2.11it/s]"
          ]
        },
        {
          "output_type": "stream",
          "name": "stdout",
          "text": [
            "printing embeds.shape: torch.Size([256, 19, 256])\n",
            "printing rnn.out.shape: torch.Size([256, 19, 256])\n"
          ]
        },
        {
          "output_type": "stream",
          "name": "stderr",
          "text": [
            "\rEpoch: 4  Iteration: 49  Loss: 0.9398422956466674:  92%|█████████▏| 58/63 [00:33<00:02,  2.21it/s]"
          ]
        },
        {
          "output_type": "stream",
          "name": "stdout",
          "text": [
            "printing embeds.shape: torch.Size([256, 19, 256])\n",
            "printing rnn.out.shape: torch.Size([256, 19, 256])\n"
          ]
        },
        {
          "output_type": "stream",
          "name": "stderr",
          "text": [
            "\rEpoch: 4  Iteration: 49  Loss: 0.9398422956466674:  94%|█████████▎| 59/63 [00:34<00:01,  2.26it/s]"
          ]
        },
        {
          "output_type": "stream",
          "name": "stdout",
          "text": [
            "printing embeds.shape: torch.Size([256, 19, 256])\n",
            "printing rnn.out.shape: torch.Size([256, 19, 256])\n"
          ]
        },
        {
          "output_type": "stream",
          "name": "stderr",
          "text": [
            "Epoch: 4  Iteration: 59  Loss: 0.9674865007400513:  95%|█████████▌| 60/63 [00:34<00:01,  2.21it/s]"
          ]
        },
        {
          "output_type": "stream",
          "name": "stdout",
          "text": [
            "printing embeds.shape: torch.Size([256, 19, 256])\n",
            "printing rnn.out.shape: torch.Size([256, 19, 256])\n"
          ]
        },
        {
          "output_type": "stream",
          "name": "stderr",
          "text": [
            "\rEpoch: 4  Iteration: 59  Loss: 0.9674865007400513:  97%|█████████▋| 61/63 [00:35<00:01,  1.96it/s]"
          ]
        },
        {
          "output_type": "stream",
          "name": "stdout",
          "text": [
            "printing embeds.shape: torch.Size([256, 19, 256])\n",
            "printing rnn.out.shape: torch.Size([256, 19, 256])\n"
          ]
        },
        {
          "output_type": "stream",
          "name": "stderr",
          "text": [
            "\rEpoch: 4  Iteration: 59  Loss: 0.9674865007400513:  98%|█████████▊| 62/63 [00:35<00:00,  1.92it/s]"
          ]
        },
        {
          "output_type": "stream",
          "name": "stdout",
          "text": [
            "printing embeds.shape: torch.Size([187, 19, 256])\n",
            "printing rnn.out.shape: torch.Size([187, 19, 256])\n"
          ]
        },
        {
          "output_type": "stream",
          "name": "stderr",
          "text": [
            "Epoch: 4  Iteration: 59  Loss: 0.9674865007400513: 100%|██████████| 63/63 [00:36<00:00,  1.74it/s]\n"
          ]
        },
        {
          "output_type": "stream",
          "name": "stdout",
          "text": [
            "Epoch: 4  Train Accuracy: 72.14023289121366\n",
            "printing embeds.shape: torch.Size([256, 19, 256])\n",
            "printing rnn.out.shape: torch.Size([256, 19, 256])\n",
            "printing embeds.shape: torch.Size([256, 19, 256])\n",
            "printing rnn.out.shape: torch.Size([256, 19, 256])\n",
            "printing embeds.shape: torch.Size([256, 19, 256])\n",
            "printing rnn.out.shape: torch.Size([256, 19, 256])\n",
            "printing embeds.shape: torch.Size([256, 19, 256])\n",
            "printing rnn.out.shape: torch.Size([256, 19, 256])\n",
            "printing embeds.shape: torch.Size([256, 19, 256])\n",
            "printing rnn.out.shape: torch.Size([256, 19, 256])\n",
            "printing embeds.shape: torch.Size([256, 19, 256])\n",
            "printing rnn.out.shape: torch.Size([256, 19, 256])\n",
            "printing embeds.shape: torch.Size([256, 19, 256])\n",
            "printing rnn.out.shape: torch.Size([256, 19, 256])\n",
            "printing embeds.shape: torch.Size([256, 19, 256])\n",
            "printing rnn.out.shape: torch.Size([256, 19, 256])\n",
            "printing embeds.shape: torch.Size([256, 19, 256])\n",
            "printing rnn.out.shape: torch.Size([256, 19, 256])\n",
            "printing embeds.shape: torch.Size([256, 19, 256])\n",
            "printing rnn.out.shape: torch.Size([256, 19, 256])\n",
            "printing embeds.shape: torch.Size([256, 19, 256])\n",
            "printing rnn.out.shape: torch.Size([256, 19, 256])\n",
            "printing embeds.shape: torch.Size([256, 19, 256])\n",
            "printing rnn.out.shape: torch.Size([256, 19, 256])\n",
            "printing embeds.shape: torch.Size([256, 19, 256])\n",
            "printing rnn.out.shape: torch.Size([256, 19, 256])\n",
            "printing embeds.shape: torch.Size([256, 19, 256])\n",
            "printing rnn.out.shape: torch.Size([256, 19, 256])\n",
            "printing embeds.shape: torch.Size([256, 19, 256])\n",
            "printing rnn.out.shape: torch.Size([256, 19, 256])\n",
            "printing embeds.shape: torch.Size([175, 19, 256])\n",
            "printing rnn.out.shape: torch.Size([175, 19, 256])\n",
            "Epoch: 4  Eval Accuracy: 74.54545454545455\n"
          ]
        },
        {
          "output_type": "stream",
          "name": "stderr",
          "text": [
            "\r  0%|          | 0/63 [00:00<?, ?it/s]"
          ]
        },
        {
          "output_type": "stream",
          "name": "stdout",
          "text": [
            "printing embeds.shape: torch.Size([256, 19, 256])\n",
            "printing rnn.out.shape: torch.Size([256, 19, 256])\n"
          ]
        },
        {
          "output_type": "stream",
          "name": "stderr",
          "text": [
            "\r  2%|▏         | 1/63 [00:00<00:25,  2.41it/s]"
          ]
        },
        {
          "output_type": "stream",
          "name": "stdout",
          "text": [
            "printing embeds.shape: torch.Size([256, 19, 256])\n",
            "printing rnn.out.shape: torch.Size([256, 19, 256])\n"
          ]
        },
        {
          "output_type": "stream",
          "name": "stderr",
          "text": [
            "\r  3%|▎         | 2/63 [00:00<00:26,  2.27it/s]"
          ]
        },
        {
          "output_type": "stream",
          "name": "stdout",
          "text": [
            "printing embeds.shape: torch.Size([256, 19, 256])\n",
            "printing rnn.out.shape: torch.Size([256, 19, 256])\n"
          ]
        },
        {
          "output_type": "stream",
          "name": "stderr",
          "text": [
            "\r  5%|▍         | 3/63 [00:01<00:25,  2.33it/s]"
          ]
        },
        {
          "output_type": "stream",
          "name": "stdout",
          "text": [
            "printing embeds.shape: torch.Size([256, 19, 256])\n",
            "printing rnn.out.shape: torch.Size([256, 19, 256])\n"
          ]
        },
        {
          "output_type": "stream",
          "name": "stderr",
          "text": [
            "\r  6%|▋         | 4/63 [00:01<00:27,  2.16it/s]"
          ]
        },
        {
          "output_type": "stream",
          "name": "stdout",
          "text": [
            "printing embeds.shape: torch.Size([256, 19, 256])\n",
            "printing rnn.out.shape: torch.Size([256, 19, 256])\n"
          ]
        },
        {
          "output_type": "stream",
          "name": "stderr",
          "text": [
            "\r  8%|▊         | 5/63 [00:02<00:25,  2.25it/s]"
          ]
        },
        {
          "output_type": "stream",
          "name": "stdout",
          "text": [
            "printing embeds.shape: torch.Size([256, 19, 256])\n",
            "printing rnn.out.shape: torch.Size([256, 19, 256])\n"
          ]
        },
        {
          "output_type": "stream",
          "name": "stderr",
          "text": [
            "\r 10%|▉         | 6/63 [00:02<00:25,  2.28it/s]"
          ]
        },
        {
          "output_type": "stream",
          "name": "stdout",
          "text": [
            "printing embeds.shape: torch.Size([256, 19, 256])\n",
            "printing rnn.out.shape: torch.Size([256, 19, 256])\n"
          ]
        },
        {
          "output_type": "stream",
          "name": "stderr",
          "text": [
            "\r 11%|█         | 7/63 [00:03<00:24,  2.32it/s]"
          ]
        },
        {
          "output_type": "stream",
          "name": "stdout",
          "text": [
            "printing embeds.shape: torch.Size([256, 19, 256])\n",
            "printing rnn.out.shape: torch.Size([256, 19, 256])\n"
          ]
        },
        {
          "output_type": "stream",
          "name": "stderr",
          "text": [
            "\r 13%|█▎        | 8/63 [00:03<00:24,  2.26it/s]"
          ]
        },
        {
          "output_type": "stream",
          "name": "stdout",
          "text": [
            "printing embeds.shape: torch.Size([256, 19, 256])\n",
            "printing rnn.out.shape: torch.Size([256, 19, 256])\n"
          ]
        },
        {
          "output_type": "stream",
          "name": "stderr",
          "text": [
            "\r 14%|█▍        | 9/63 [00:03<00:23,  2.28it/s]"
          ]
        },
        {
          "output_type": "stream",
          "name": "stdout",
          "text": [
            "printing embeds.shape: torch.Size([256, 19, 256])\n",
            "printing rnn.out.shape: torch.Size([256, 19, 256])\n"
          ]
        },
        {
          "output_type": "stream",
          "name": "stderr",
          "text": [
            "Epoch: 5  Iteration: 9  Loss: 0.8755280196666717:  16%|█▌        | 10/63 [00:04<00:23,  2.30it/s]"
          ]
        },
        {
          "output_type": "stream",
          "name": "stdout",
          "text": [
            "printing embeds.shape: torch.Size([256, 19, 256])\n",
            "printing rnn.out.shape: torch.Size([256, 19, 256])\n"
          ]
        },
        {
          "output_type": "stream",
          "name": "stderr",
          "text": [
            "\rEpoch: 5  Iteration: 9  Loss: 0.8755280196666717:  17%|█▋        | 11/63 [00:04<00:23,  2.18it/s]"
          ]
        },
        {
          "output_type": "stream",
          "name": "stdout",
          "text": [
            "printing embeds.shape: torch.Size([256, 19, 256])\n",
            "printing rnn.out.shape: torch.Size([256, 19, 256])\n"
          ]
        },
        {
          "output_type": "stream",
          "name": "stderr",
          "text": [
            "\rEpoch: 5  Iteration: 9  Loss: 0.8755280196666717:  19%|█▉        | 12/63 [00:05<00:23,  2.14it/s]"
          ]
        },
        {
          "output_type": "stream",
          "name": "stdout",
          "text": [
            "printing embeds.shape: torch.Size([256, 19, 256])\n",
            "printing rnn.out.shape: torch.Size([256, 19, 256])\n"
          ]
        },
        {
          "output_type": "stream",
          "name": "stderr",
          "text": [
            "\rEpoch: 5  Iteration: 9  Loss: 0.8755280196666717:  21%|██        | 13/63 [00:05<00:23,  2.14it/s]"
          ]
        },
        {
          "output_type": "stream",
          "name": "stdout",
          "text": [
            "printing embeds.shape: torch.Size([256, 19, 256])\n",
            "printing rnn.out.shape: torch.Size([256, 19, 256])\n"
          ]
        },
        {
          "output_type": "stream",
          "name": "stderr",
          "text": [
            "\rEpoch: 5  Iteration: 9  Loss: 0.8755280196666717:  22%|██▏       | 14/63 [00:06<00:21,  2.25it/s]"
          ]
        },
        {
          "output_type": "stream",
          "name": "stdout",
          "text": [
            "printing embeds.shape: torch.Size([256, 19, 256])\n",
            "printing rnn.out.shape: torch.Size([256, 19, 256])\n"
          ]
        },
        {
          "output_type": "stream",
          "name": "stderr",
          "text": [
            "\rEpoch: 5  Iteration: 9  Loss: 0.8755280196666717:  24%|██▍       | 15/63 [00:06<00:21,  2.20it/s]"
          ]
        },
        {
          "output_type": "stream",
          "name": "stdout",
          "text": [
            "printing embeds.shape: torch.Size([256, 19, 256])\n",
            "printing rnn.out.shape: torch.Size([256, 19, 256])\n"
          ]
        },
        {
          "output_type": "stream",
          "name": "stderr",
          "text": [
            "\rEpoch: 5  Iteration: 9  Loss: 0.8755280196666717:  25%|██▌       | 16/63 [00:07<00:20,  2.27it/s]"
          ]
        },
        {
          "output_type": "stream",
          "name": "stdout",
          "text": [
            "printing embeds.shape: torch.Size([256, 19, 256])\n",
            "printing rnn.out.shape: torch.Size([256, 19, 256])\n"
          ]
        },
        {
          "output_type": "stream",
          "name": "stderr",
          "text": [
            "\rEpoch: 5  Iteration: 9  Loss: 0.8755280196666717:  27%|██▋       | 17/63 [00:07<00:19,  2.31it/s]"
          ]
        },
        {
          "output_type": "stream",
          "name": "stdout",
          "text": [
            "printing embeds.shape: torch.Size([256, 19, 256])\n",
            "printing rnn.out.shape: torch.Size([256, 19, 256])\n"
          ]
        },
        {
          "output_type": "stream",
          "name": "stderr",
          "text": [
            "\rEpoch: 5  Iteration: 9  Loss: 0.8755280196666717:  29%|██▊       | 18/63 [00:07<00:19,  2.35it/s]"
          ]
        },
        {
          "output_type": "stream",
          "name": "stdout",
          "text": [
            "printing embeds.shape: torch.Size([256, 19, 256])\n",
            "printing rnn.out.shape: torch.Size([256, 19, 256])\n"
          ]
        },
        {
          "output_type": "stream",
          "name": "stderr",
          "text": [
            "\rEpoch: 5  Iteration: 9  Loss: 0.8755280196666717:  30%|███       | 19/63 [00:08<00:19,  2.28it/s]"
          ]
        },
        {
          "output_type": "stream",
          "name": "stdout",
          "text": [
            "printing embeds.shape: torch.Size([256, 19, 256])\n",
            "printing rnn.out.shape: torch.Size([256, 19, 256])\n"
          ]
        },
        {
          "output_type": "stream",
          "name": "stderr",
          "text": [
            "Epoch: 5  Iteration: 19  Loss: 0.897402948141098:  32%|███▏      | 20/63 [00:08<00:18,  2.31it/s]"
          ]
        },
        {
          "output_type": "stream",
          "name": "stdout",
          "text": [
            "printing embeds.shape: torch.Size([256, 19, 256])\n",
            "printing rnn.out.shape: torch.Size([256, 19, 256])\n"
          ]
        },
        {
          "output_type": "stream",
          "name": "stderr",
          "text": [
            "\rEpoch: 5  Iteration: 19  Loss: 0.897402948141098:  33%|███▎      | 21/63 [00:09<00:17,  2.35it/s]"
          ]
        },
        {
          "output_type": "stream",
          "name": "stdout",
          "text": [
            "printing embeds.shape: torch.Size([256, 19, 256])\n",
            "printing rnn.out.shape: torch.Size([256, 19, 256])\n"
          ]
        },
        {
          "output_type": "stream",
          "name": "stderr",
          "text": [
            "\rEpoch: 5  Iteration: 19  Loss: 0.897402948141098:  35%|███▍      | 22/63 [00:09<00:18,  2.23it/s]"
          ]
        },
        {
          "output_type": "stream",
          "name": "stdout",
          "text": [
            "printing embeds.shape: torch.Size([256, 19, 256])\n",
            "printing rnn.out.shape: torch.Size([256, 19, 256])\n"
          ]
        },
        {
          "output_type": "stream",
          "name": "stderr",
          "text": [
            "\rEpoch: 5  Iteration: 19  Loss: 0.897402948141098:  37%|███▋      | 23/63 [00:10<00:19,  2.04it/s]"
          ]
        },
        {
          "output_type": "stream",
          "name": "stdout",
          "text": [
            "printing embeds.shape: torch.Size([256, 19, 256])\n",
            "printing rnn.out.shape: torch.Size([256, 19, 256])\n"
          ]
        },
        {
          "output_type": "stream",
          "name": "stderr",
          "text": [
            "\rEpoch: 5  Iteration: 19  Loss: 0.897402948141098:  38%|███▊      | 24/63 [00:10<00:19,  1.97it/s]"
          ]
        },
        {
          "output_type": "stream",
          "name": "stdout",
          "text": [
            "printing embeds.shape: torch.Size([256, 19, 256])\n",
            "printing rnn.out.shape: torch.Size([256, 19, 256])\n"
          ]
        },
        {
          "output_type": "stream",
          "name": "stderr",
          "text": [
            "\rEpoch: 5  Iteration: 19  Loss: 0.897402948141098:  40%|███▉      | 25/63 [00:11<00:20,  1.84it/s]"
          ]
        },
        {
          "output_type": "stream",
          "name": "stdout",
          "text": [
            "printing embeds.shape: torch.Size([256, 19, 256])\n",
            "printing rnn.out.shape: torch.Size([256, 19, 256])\n"
          ]
        },
        {
          "output_type": "stream",
          "name": "stderr",
          "text": [
            "\rEpoch: 5  Iteration: 19  Loss: 0.897402948141098:  41%|████▏     | 26/63 [00:12<00:20,  1.81it/s]"
          ]
        },
        {
          "output_type": "stream",
          "name": "stdout",
          "text": [
            "printing embeds.shape: torch.Size([256, 19, 256])\n",
            "printing rnn.out.shape: torch.Size([256, 19, 256])\n"
          ]
        },
        {
          "output_type": "stream",
          "name": "stderr",
          "text": [
            "\rEpoch: 5  Iteration: 19  Loss: 0.897402948141098:  43%|████▎     | 27/63 [00:12<00:21,  1.69it/s]"
          ]
        },
        {
          "output_type": "stream",
          "name": "stdout",
          "text": [
            "printing embeds.shape: torch.Size([256, 19, 256])\n",
            "printing rnn.out.shape: torch.Size([256, 19, 256])\n"
          ]
        },
        {
          "output_type": "stream",
          "name": "stderr",
          "text": [
            "\rEpoch: 5  Iteration: 19  Loss: 0.897402948141098:  44%|████▍     | 28/63 [00:13<00:19,  1.77it/s]"
          ]
        },
        {
          "output_type": "stream",
          "name": "stdout",
          "text": [
            "printing embeds.shape: torch.Size([256, 19, 256])\n",
            "printing rnn.out.shape: torch.Size([256, 19, 256])\n"
          ]
        },
        {
          "output_type": "stream",
          "name": "stderr",
          "text": [
            "\rEpoch: 5  Iteration: 19  Loss: 0.897402948141098:  46%|████▌     | 29/63 [00:13<00:19,  1.76it/s]"
          ]
        },
        {
          "output_type": "stream",
          "name": "stdout",
          "text": [
            "printing embeds.shape: torch.Size([256, 19, 256])\n",
            "printing rnn.out.shape: torch.Size([256, 19, 256])\n"
          ]
        },
        {
          "output_type": "stream",
          "name": "stderr",
          "text": [
            "Epoch: 5  Iteration: 29  Loss: 0.9448622763156891:  48%|████▊     | 30/63 [00:14<00:17,  1.87it/s]"
          ]
        },
        {
          "output_type": "stream",
          "name": "stdout",
          "text": [
            "printing embeds.shape: torch.Size([256, 19, 256])\n",
            "printing rnn.out.shape: torch.Size([256, 19, 256])\n"
          ]
        },
        {
          "output_type": "stream",
          "name": "stderr",
          "text": [
            "\rEpoch: 5  Iteration: 29  Loss: 0.9448622763156891:  49%|████▉     | 31/63 [00:14<00:18,  1.78it/s]"
          ]
        },
        {
          "output_type": "stream",
          "name": "stdout",
          "text": [
            "printing embeds.shape: torch.Size([256, 19, 256])\n",
            "printing rnn.out.shape: torch.Size([256, 19, 256])\n"
          ]
        },
        {
          "output_type": "stream",
          "name": "stderr",
          "text": [
            "\rEpoch: 5  Iteration: 29  Loss: 0.9448622763156891:  51%|█████     | 32/63 [00:15<00:16,  1.90it/s]"
          ]
        },
        {
          "output_type": "stream",
          "name": "stdout",
          "text": [
            "printing embeds.shape: torch.Size([256, 19, 256])\n",
            "printing rnn.out.shape: torch.Size([256, 19, 256])\n"
          ]
        },
        {
          "output_type": "stream",
          "name": "stderr",
          "text": [
            "\rEpoch: 5  Iteration: 29  Loss: 0.9448622763156891:  52%|█████▏    | 33/63 [00:15<00:15,  1.92it/s]"
          ]
        },
        {
          "output_type": "stream",
          "name": "stdout",
          "text": [
            "printing embeds.shape: torch.Size([256, 19, 256])\n",
            "printing rnn.out.shape: torch.Size([256, 19, 256])\n"
          ]
        },
        {
          "output_type": "stream",
          "name": "stderr",
          "text": [
            "\rEpoch: 5  Iteration: 29  Loss: 0.9448622763156891:  54%|█████▍    | 34/63 [00:16<00:18,  1.59it/s]"
          ]
        },
        {
          "output_type": "stream",
          "name": "stdout",
          "text": [
            "printing embeds.shape: torch.Size([256, 19, 256])\n",
            "printing rnn.out.shape: torch.Size([256, 19, 256])\n"
          ]
        },
        {
          "output_type": "stream",
          "name": "stderr",
          "text": [
            "\rEpoch: 5  Iteration: 29  Loss: 0.9448622763156891:  56%|█████▌    | 35/63 [00:17<00:17,  1.60it/s]"
          ]
        },
        {
          "output_type": "stream",
          "name": "stdout",
          "text": [
            "printing embeds.shape: torch.Size([256, 19, 256])\n",
            "printing rnn.out.shape: torch.Size([256, 19, 256])\n"
          ]
        },
        {
          "output_type": "stream",
          "name": "stderr",
          "text": [
            "\rEpoch: 5  Iteration: 29  Loss: 0.9448622763156891:  57%|█████▋    | 36/63 [00:17<00:16,  1.64it/s]"
          ]
        },
        {
          "output_type": "stream",
          "name": "stdout",
          "text": [
            "printing embeds.shape: torch.Size([256, 19, 256])\n",
            "printing rnn.out.shape: torch.Size([256, 19, 256])\n"
          ]
        },
        {
          "output_type": "stream",
          "name": "stderr",
          "text": [
            "\rEpoch: 5  Iteration: 29  Loss: 0.9448622763156891:  59%|█████▊    | 37/63 [00:18<00:15,  1.73it/s]"
          ]
        },
        {
          "output_type": "stream",
          "name": "stdout",
          "text": [
            "printing embeds.shape: torch.Size([256, 19, 256])\n",
            "printing rnn.out.shape: torch.Size([256, 19, 256])\n"
          ]
        },
        {
          "output_type": "stream",
          "name": "stderr",
          "text": [
            "\rEpoch: 5  Iteration: 29  Loss: 0.9448622763156891:  60%|██████    | 38/63 [00:19<00:14,  1.68it/s]"
          ]
        },
        {
          "output_type": "stream",
          "name": "stdout",
          "text": [
            "printing embeds.shape: torch.Size([256, 19, 256])\n",
            "printing rnn.out.shape: torch.Size([256, 19, 256])\n"
          ]
        },
        {
          "output_type": "stream",
          "name": "stderr",
          "text": [
            "\rEpoch: 5  Iteration: 29  Loss: 0.9448622763156891:  62%|██████▏   | 39/63 [00:19<00:14,  1.67it/s]"
          ]
        },
        {
          "output_type": "stream",
          "name": "stdout",
          "text": [
            "printing embeds.shape: torch.Size([256, 19, 256])\n",
            "printing rnn.out.shape: torch.Size([256, 19, 256])\n"
          ]
        },
        {
          "output_type": "stream",
          "name": "stderr",
          "text": [
            "Epoch: 5  Iteration: 39  Loss: 0.91554896235466:  63%|██████▎   | 40/63 [00:20<00:14,  1.64it/s]"
          ]
        },
        {
          "output_type": "stream",
          "name": "stdout",
          "text": [
            "printing embeds.shape: torch.Size([256, 19, 256])\n",
            "printing rnn.out.shape: torch.Size([256, 19, 256])\n"
          ]
        },
        {
          "output_type": "stream",
          "name": "stderr",
          "text": [
            "\rEpoch: 5  Iteration: 39  Loss: 0.91554896235466:  65%|██████▌   | 41/63 [00:21<00:14,  1.48it/s]"
          ]
        },
        {
          "output_type": "stream",
          "name": "stdout",
          "text": [
            "printing embeds.shape: torch.Size([256, 19, 256])\n",
            "printing rnn.out.shape: torch.Size([256, 19, 256])\n"
          ]
        },
        {
          "output_type": "stream",
          "name": "stderr",
          "text": [
            "\rEpoch: 5  Iteration: 39  Loss: 0.91554896235466:  67%|██████▋   | 42/63 [00:21<00:12,  1.68it/s]"
          ]
        },
        {
          "output_type": "stream",
          "name": "stdout",
          "text": [
            "printing embeds.shape: torch.Size([256, 19, 256])\n",
            "printing rnn.out.shape: torch.Size([256, 19, 256])\n"
          ]
        },
        {
          "output_type": "stream",
          "name": "stderr",
          "text": [
            "\rEpoch: 5  Iteration: 39  Loss: 0.91554896235466:  68%|██████▊   | 43/63 [00:22<00:11,  1.80it/s]"
          ]
        },
        {
          "output_type": "stream",
          "name": "stdout",
          "text": [
            "printing embeds.shape: torch.Size([256, 19, 256])\n",
            "printing rnn.out.shape: torch.Size([256, 19, 256])\n"
          ]
        },
        {
          "output_type": "stream",
          "name": "stderr",
          "text": [
            "\rEpoch: 5  Iteration: 39  Loss: 0.91554896235466:  70%|██████▉   | 44/63 [00:22<00:09,  1.97it/s]"
          ]
        },
        {
          "output_type": "stream",
          "name": "stdout",
          "text": [
            "printing embeds.shape: torch.Size([256, 19, 256])\n",
            "printing rnn.out.shape: torch.Size([256, 19, 256])\n"
          ]
        },
        {
          "output_type": "stream",
          "name": "stderr",
          "text": [
            "\rEpoch: 5  Iteration: 39  Loss: 0.91554896235466:  71%|███████▏  | 45/63 [00:22<00:09,  1.95it/s]"
          ]
        },
        {
          "output_type": "stream",
          "name": "stdout",
          "text": [
            "printing embeds.shape: torch.Size([256, 19, 256])\n",
            "printing rnn.out.shape: torch.Size([256, 19, 256])\n"
          ]
        },
        {
          "output_type": "stream",
          "name": "stderr",
          "text": [
            "\rEpoch: 5  Iteration: 39  Loss: 0.91554896235466:  73%|███████▎  | 46/63 [00:23<00:08,  1.92it/s]"
          ]
        },
        {
          "output_type": "stream",
          "name": "stdout",
          "text": [
            "printing embeds.shape: torch.Size([256, 19, 256])\n",
            "printing rnn.out.shape: torch.Size([256, 19, 256])\n"
          ]
        },
        {
          "output_type": "stream",
          "name": "stderr",
          "text": [
            "\rEpoch: 5  Iteration: 39  Loss: 0.91554896235466:  75%|███████▍  | 47/63 [00:24<00:08,  1.93it/s]"
          ]
        },
        {
          "output_type": "stream",
          "name": "stdout",
          "text": [
            "printing embeds.shape: torch.Size([256, 19, 256])\n",
            "printing rnn.out.shape: torch.Size([256, 19, 256])\n"
          ]
        },
        {
          "output_type": "stream",
          "name": "stderr",
          "text": [
            "\rEpoch: 5  Iteration: 39  Loss: 0.91554896235466:  76%|███████▌  | 48/63 [00:24<00:07,  1.92it/s]"
          ]
        },
        {
          "output_type": "stream",
          "name": "stdout",
          "text": [
            "printing embeds.shape: torch.Size([256, 19, 256])\n",
            "printing rnn.out.shape: torch.Size([256, 19, 256])\n"
          ]
        },
        {
          "output_type": "stream",
          "name": "stderr",
          "text": [
            "\rEpoch: 5  Iteration: 39  Loss: 0.91554896235466:  78%|███████▊  | 49/63 [00:25<00:07,  1.87it/s]"
          ]
        },
        {
          "output_type": "stream",
          "name": "stdout",
          "text": [
            "printing embeds.shape: torch.Size([256, 19, 256])\n",
            "printing rnn.out.shape: torch.Size([256, 19, 256])\n"
          ]
        },
        {
          "output_type": "stream",
          "name": "stderr",
          "text": [
            "Epoch: 5  Iteration: 49  Loss: 0.9002815425395966:  79%|███████▉  | 50/63 [00:25<00:06,  1.92it/s]"
          ]
        },
        {
          "output_type": "stream",
          "name": "stdout",
          "text": [
            "printing embeds.shape: torch.Size([256, 19, 256])\n",
            "printing rnn.out.shape: torch.Size([256, 19, 256])\n"
          ]
        },
        {
          "output_type": "stream",
          "name": "stderr",
          "text": [
            "\rEpoch: 5  Iteration: 49  Loss: 0.9002815425395966:  81%|████████  | 51/63 [00:26<00:05,  2.04it/s]"
          ]
        },
        {
          "output_type": "stream",
          "name": "stdout",
          "text": [
            "printing embeds.shape: torch.Size([256, 19, 256])\n",
            "printing rnn.out.shape: torch.Size([256, 19, 256])\n"
          ]
        },
        {
          "output_type": "stream",
          "name": "stderr",
          "text": [
            "\rEpoch: 5  Iteration: 49  Loss: 0.9002815425395966:  83%|████████▎ | 52/63 [00:26<00:05,  2.15it/s]"
          ]
        },
        {
          "output_type": "stream",
          "name": "stdout",
          "text": [
            "printing embeds.shape: torch.Size([256, 19, 256])\n",
            "printing rnn.out.shape: torch.Size([256, 19, 256])\n"
          ]
        },
        {
          "output_type": "stream",
          "name": "stderr",
          "text": [
            "\rEpoch: 5  Iteration: 49  Loss: 0.9002815425395966:  84%|████████▍ | 53/63 [00:26<00:04,  2.17it/s]"
          ]
        },
        {
          "output_type": "stream",
          "name": "stdout",
          "text": [
            "printing embeds.shape: torch.Size([256, 19, 256])\n",
            "printing rnn.out.shape: torch.Size([256, 19, 256])\n"
          ]
        },
        {
          "output_type": "stream",
          "name": "stderr",
          "text": [
            "\rEpoch: 5  Iteration: 49  Loss: 0.9002815425395966:  86%|████████▌ | 54/63 [00:27<00:04,  2.20it/s]"
          ]
        },
        {
          "output_type": "stream",
          "name": "stdout",
          "text": [
            "printing embeds.shape: torch.Size([256, 19, 256])\n",
            "printing rnn.out.shape: torch.Size([256, 19, 256])\n"
          ]
        },
        {
          "output_type": "stream",
          "name": "stderr",
          "text": [
            "\rEpoch: 5  Iteration: 49  Loss: 0.9002815425395966:  87%|████████▋ | 55/63 [00:27<00:03,  2.21it/s]"
          ]
        },
        {
          "output_type": "stream",
          "name": "stdout",
          "text": [
            "printing embeds.shape: torch.Size([256, 19, 256])\n",
            "printing rnn.out.shape: torch.Size([256, 19, 256])\n"
          ]
        },
        {
          "output_type": "stream",
          "name": "stderr",
          "text": [
            "\rEpoch: 5  Iteration: 49  Loss: 0.9002815425395966:  89%|████████▉ | 56/63 [00:28<00:03,  2.08it/s]"
          ]
        },
        {
          "output_type": "stream",
          "name": "stdout",
          "text": [
            "printing embeds.shape: torch.Size([256, 19, 256])\n",
            "printing rnn.out.shape: torch.Size([256, 19, 256])\n"
          ]
        },
        {
          "output_type": "stream",
          "name": "stderr",
          "text": [
            "\rEpoch: 5  Iteration: 49  Loss: 0.9002815425395966:  90%|█████████ | 57/63 [00:28<00:02,  2.12it/s]"
          ]
        },
        {
          "output_type": "stream",
          "name": "stdout",
          "text": [
            "printing embeds.shape: torch.Size([256, 19, 256])\n",
            "printing rnn.out.shape: torch.Size([256, 19, 256])\n"
          ]
        },
        {
          "output_type": "stream",
          "name": "stderr",
          "text": [
            "\rEpoch: 5  Iteration: 49  Loss: 0.9002815425395966:  92%|█████████▏| 58/63 [00:29<00:02,  2.19it/s]"
          ]
        },
        {
          "output_type": "stream",
          "name": "stdout",
          "text": [
            "printing embeds.shape: torch.Size([256, 19, 256])\n",
            "printing rnn.out.shape: torch.Size([256, 19, 256])\n"
          ]
        },
        {
          "output_type": "stream",
          "name": "stderr",
          "text": [
            "\rEpoch: 5  Iteration: 49  Loss: 0.9002815425395966:  94%|█████████▎| 59/63 [00:29<00:01,  2.05it/s]"
          ]
        },
        {
          "output_type": "stream",
          "name": "stdout",
          "text": [
            "printing embeds.shape: torch.Size([256, 19, 256])\n",
            "printing rnn.out.shape: torch.Size([256, 19, 256])\n"
          ]
        },
        {
          "output_type": "stream",
          "name": "stderr",
          "text": [
            "Epoch: 5  Iteration: 59  Loss: 0.9081354141235352:  95%|█████████▌| 60/63 [00:30<00:01,  2.16it/s]"
          ]
        },
        {
          "output_type": "stream",
          "name": "stdout",
          "text": [
            "printing embeds.shape: torch.Size([256, 19, 256])\n",
            "printing rnn.out.shape: torch.Size([256, 19, 256])\n"
          ]
        },
        {
          "output_type": "stream",
          "name": "stderr",
          "text": [
            "\rEpoch: 5  Iteration: 59  Loss: 0.9081354141235352:  97%|█████████▋| 61/63 [00:30<00:00,  2.22it/s]"
          ]
        },
        {
          "output_type": "stream",
          "name": "stdout",
          "text": [
            "printing embeds.shape: torch.Size([256, 19, 256])\n",
            "printing rnn.out.shape: torch.Size([256, 19, 256])\n"
          ]
        },
        {
          "output_type": "stream",
          "name": "stderr",
          "text": [
            "\rEpoch: 5  Iteration: 59  Loss: 0.9081354141235352:  98%|█████████▊| 62/63 [00:30<00:00,  2.29it/s]"
          ]
        },
        {
          "output_type": "stream",
          "name": "stdout",
          "text": [
            "printing embeds.shape: torch.Size([187, 19, 256])\n",
            "printing rnn.out.shape: torch.Size([187, 19, 256])\n"
          ]
        },
        {
          "output_type": "stream",
          "name": "stderr",
          "text": [
            "Epoch: 5  Iteration: 59  Loss: 0.9081354141235352: 100%|██████████| 63/63 [00:31<00:00,  2.02it/s]\n"
          ]
        },
        {
          "output_type": "stream",
          "name": "stdout",
          "text": [
            "Epoch: 5  Train Accuracy: 73.91493866367769\n",
            "printing embeds.shape: torch.Size([256, 19, 256])\n",
            "printing rnn.out.shape: torch.Size([256, 19, 256])\n",
            "printing embeds.shape: torch.Size([256, 19, 256])\n",
            "printing rnn.out.shape: torch.Size([256, 19, 256])\n",
            "printing embeds.shape: torch.Size([256, 19, 256])\n",
            "printing rnn.out.shape: torch.Size([256, 19, 256])\n",
            "printing embeds.shape: torch.Size([256, 19, 256])\n",
            "printing rnn.out.shape: torch.Size([256, 19, 256])\n",
            "printing embeds.shape: torch.Size([256, 19, 256])\n",
            "printing rnn.out.shape: torch.Size([256, 19, 256])\n",
            "printing embeds.shape: torch.Size([256, 19, 256])\n",
            "printing rnn.out.shape: torch.Size([256, 19, 256])\n",
            "printing embeds.shape: torch.Size([256, 19, 256])\n",
            "printing rnn.out.shape: torch.Size([256, 19, 256])\n",
            "printing embeds.shape: torch.Size([256, 19, 256])\n",
            "printing rnn.out.shape: torch.Size([256, 19, 256])\n",
            "printing embeds.shape: torch.Size([256, 19, 256])\n",
            "printing rnn.out.shape: torch.Size([256, 19, 256])\n",
            "printing embeds.shape: torch.Size([256, 19, 256])\n",
            "printing rnn.out.shape: torch.Size([256, 19, 256])\n",
            "printing embeds.shape: torch.Size([256, 19, 256])\n",
            "printing rnn.out.shape: torch.Size([256, 19, 256])\n",
            "printing embeds.shape: torch.Size([256, 19, 256])\n",
            "printing rnn.out.shape: torch.Size([256, 19, 256])\n",
            "printing embeds.shape: torch.Size([256, 19, 256])\n",
            "printing rnn.out.shape: torch.Size([256, 19, 256])\n",
            "printing embeds.shape: torch.Size([256, 19, 256])\n",
            "printing rnn.out.shape: torch.Size([256, 19, 256])\n",
            "printing embeds.shape: torch.Size([256, 19, 256])\n",
            "printing rnn.out.shape: torch.Size([256, 19, 256])\n",
            "printing embeds.shape: torch.Size([175, 19, 256])\n",
            "printing rnn.out.shape: torch.Size([175, 19, 256])\n",
            "Epoch: 5  Eval Accuracy: 75.44209215442092\n"
          ]
        },
        {
          "output_type": "stream",
          "name": "stderr",
          "text": [
            "\r  0%|          | 0/63 [00:00<?, ?it/s]"
          ]
        },
        {
          "output_type": "stream",
          "name": "stdout",
          "text": [
            "printing embeds.shape: torch.Size([256, 19, 256])\n",
            "printing rnn.out.shape: torch.Size([256, 19, 256])\n"
          ]
        },
        {
          "output_type": "stream",
          "name": "stderr",
          "text": [
            "\r  2%|▏         | 1/63 [00:00<00:31,  1.99it/s]"
          ]
        },
        {
          "output_type": "stream",
          "name": "stdout",
          "text": [
            "printing embeds.shape: torch.Size([256, 19, 256])\n",
            "printing rnn.out.shape: torch.Size([256, 19, 256])\n"
          ]
        },
        {
          "output_type": "stream",
          "name": "stderr",
          "text": [
            "\r  3%|▎         | 2/63 [00:00<00:27,  2.19it/s]"
          ]
        },
        {
          "output_type": "stream",
          "name": "stdout",
          "text": [
            "printing embeds.shape: torch.Size([256, 19, 256])\n",
            "printing rnn.out.shape: torch.Size([256, 19, 256])\n"
          ]
        },
        {
          "output_type": "stream",
          "name": "stderr",
          "text": [
            "\r  5%|▍         | 3/63 [00:01<00:28,  2.10it/s]"
          ]
        },
        {
          "output_type": "stream",
          "name": "stdout",
          "text": [
            "printing embeds.shape: torch.Size([256, 19, 256])\n",
            "printing rnn.out.shape: torch.Size([256, 19, 256])\n"
          ]
        },
        {
          "output_type": "stream",
          "name": "stderr",
          "text": [
            "\r  6%|▋         | 4/63 [00:01<00:26,  2.23it/s]"
          ]
        },
        {
          "output_type": "stream",
          "name": "stdout",
          "text": [
            "printing embeds.shape: torch.Size([256, 19, 256])\n",
            "printing rnn.out.shape: torch.Size([256, 19, 256])\n"
          ]
        },
        {
          "output_type": "stream",
          "name": "stderr",
          "text": [
            "\r  8%|▊         | 5/63 [00:02<00:25,  2.29it/s]"
          ]
        },
        {
          "output_type": "stream",
          "name": "stdout",
          "text": [
            "printing embeds.shape: torch.Size([256, 19, 256])\n",
            "printing rnn.out.shape: torch.Size([256, 19, 256])\n"
          ]
        },
        {
          "output_type": "stream",
          "name": "stderr",
          "text": [
            "\r 10%|▉         | 6/63 [00:02<00:24,  2.35it/s]"
          ]
        },
        {
          "output_type": "stream",
          "name": "stdout",
          "text": [
            "printing embeds.shape: torch.Size([256, 19, 256])\n",
            "printing rnn.out.shape: torch.Size([256, 19, 256])\n"
          ]
        },
        {
          "output_type": "stream",
          "name": "stderr",
          "text": [
            "\r 11%|█         | 7/63 [00:03<00:23,  2.35it/s]"
          ]
        },
        {
          "output_type": "stream",
          "name": "stdout",
          "text": [
            "printing embeds.shape: torch.Size([256, 19, 256])\n",
            "printing rnn.out.shape: torch.Size([256, 19, 256])\n"
          ]
        },
        {
          "output_type": "stream",
          "name": "stderr",
          "text": [
            "\r 13%|█▎        | 8/63 [00:03<00:27,  1.97it/s]"
          ]
        },
        {
          "output_type": "stream",
          "name": "stdout",
          "text": [
            "printing embeds.shape: torch.Size([256, 19, 256])\n",
            "printing rnn.out.shape: torch.Size([256, 19, 256])\n"
          ]
        },
        {
          "output_type": "stream",
          "name": "stderr",
          "text": [
            "\r 14%|█▍        | 9/63 [00:04<00:28,  1.88it/s]"
          ]
        },
        {
          "output_type": "stream",
          "name": "stdout",
          "text": [
            "printing embeds.shape: torch.Size([256, 19, 256])\n",
            "printing rnn.out.shape: torch.Size([256, 19, 256])\n"
          ]
        },
        {
          "output_type": "stream",
          "name": "stderr",
          "text": [
            "Epoch: 6  Iteration: 9  Loss: 0.8882517397403717:  16%|█▌        | 10/63 [00:04<00:28,  1.87it/s]"
          ]
        },
        {
          "output_type": "stream",
          "name": "stdout",
          "text": [
            "printing embeds.shape: torch.Size([256, 19, 256])\n",
            "printing rnn.out.shape: torch.Size([256, 19, 256])\n"
          ]
        },
        {
          "output_type": "stream",
          "name": "stderr",
          "text": [
            "\rEpoch: 6  Iteration: 9  Loss: 0.8882517397403717:  17%|█▋        | 11/63 [00:05<00:28,  1.83it/s]"
          ]
        },
        {
          "output_type": "stream",
          "name": "stdout",
          "text": [
            "printing embeds.shape: torch.Size([256, 19, 256])\n",
            "printing rnn.out.shape: torch.Size([256, 19, 256])\n"
          ]
        },
        {
          "output_type": "stream",
          "name": "stderr",
          "text": [
            "\rEpoch: 6  Iteration: 9  Loss: 0.8882517397403717:  19%|█▉        | 12/63 [00:05<00:26,  1.89it/s]"
          ]
        },
        {
          "output_type": "stream",
          "name": "stdout",
          "text": [
            "printing embeds.shape: torch.Size([256, 19, 256])\n",
            "printing rnn.out.shape: torch.Size([256, 19, 256])\n"
          ]
        },
        {
          "output_type": "stream",
          "name": "stderr",
          "text": [
            "\rEpoch: 6  Iteration: 9  Loss: 0.8882517397403717:  21%|██        | 13/63 [00:06<00:26,  1.90it/s]"
          ]
        },
        {
          "output_type": "stream",
          "name": "stdout",
          "text": [
            "printing embeds.shape: torch.Size([256, 19, 256])\n",
            "printing rnn.out.shape: torch.Size([256, 19, 256])\n"
          ]
        },
        {
          "output_type": "stream",
          "name": "stderr",
          "text": [
            "\rEpoch: 6  Iteration: 9  Loss: 0.8882517397403717:  22%|██▏       | 14/63 [00:06<00:23,  2.05it/s]"
          ]
        },
        {
          "output_type": "stream",
          "name": "stdout",
          "text": [
            "printing embeds.shape: torch.Size([256, 19, 256])\n",
            "printing rnn.out.shape: torch.Size([256, 19, 256])\n"
          ]
        },
        {
          "output_type": "stream",
          "name": "stderr",
          "text": [
            "\rEpoch: 6  Iteration: 9  Loss: 0.8882517397403717:  24%|██▍       | 15/63 [00:07<00:22,  2.16it/s]"
          ]
        },
        {
          "output_type": "stream",
          "name": "stdout",
          "text": [
            "printing embeds.shape: torch.Size([256, 19, 256])\n",
            "printing rnn.out.shape: torch.Size([256, 19, 256])\n"
          ]
        },
        {
          "output_type": "stream",
          "name": "stderr",
          "text": [
            "\rEpoch: 6  Iteration: 9  Loss: 0.8882517397403717:  25%|██▌       | 16/63 [00:07<00:21,  2.14it/s]"
          ]
        },
        {
          "output_type": "stream",
          "name": "stdout",
          "text": [
            "printing embeds.shape: torch.Size([256, 19, 256])\n",
            "printing rnn.out.shape: torch.Size([256, 19, 256])\n"
          ]
        },
        {
          "output_type": "stream",
          "name": "stderr",
          "text": [
            "\rEpoch: 6  Iteration: 9  Loss: 0.8882517397403717:  27%|██▋       | 17/63 [00:08<00:20,  2.22it/s]"
          ]
        },
        {
          "output_type": "stream",
          "name": "stdout",
          "text": [
            "printing embeds.shape: torch.Size([256, 19, 256])\n",
            "printing rnn.out.shape: torch.Size([256, 19, 256])\n"
          ]
        },
        {
          "output_type": "stream",
          "name": "stderr",
          "text": [
            "\rEpoch: 6  Iteration: 9  Loss: 0.8882517397403717:  29%|██▊       | 18/63 [00:08<00:21,  2.07it/s]"
          ]
        },
        {
          "output_type": "stream",
          "name": "stdout",
          "text": [
            "printing embeds.shape: torch.Size([256, 19, 256])\n",
            "printing rnn.out.shape: torch.Size([256, 19, 256])\n"
          ]
        },
        {
          "output_type": "stream",
          "name": "stderr",
          "text": [
            "\rEpoch: 6  Iteration: 9  Loss: 0.8882517397403717:  30%|███       | 19/63 [00:09<00:21,  2.09it/s]"
          ]
        },
        {
          "output_type": "stream",
          "name": "stdout",
          "text": [
            "printing embeds.shape: torch.Size([256, 19, 256])\n",
            "printing rnn.out.shape: torch.Size([256, 19, 256])\n"
          ]
        },
        {
          "output_type": "stream",
          "name": "stderr",
          "text": [
            "Epoch: 6  Iteration: 19  Loss: 0.8617875337600708:  32%|███▏      | 20/63 [00:09<00:20,  2.14it/s]"
          ]
        },
        {
          "output_type": "stream",
          "name": "stdout",
          "text": [
            "printing embeds.shape: torch.Size([256, 19, 256])\n",
            "printing rnn.out.shape: torch.Size([256, 19, 256])\n"
          ]
        },
        {
          "output_type": "stream",
          "name": "stderr",
          "text": [
            "\rEpoch: 6  Iteration: 19  Loss: 0.8617875337600708:  33%|███▎      | 21/63 [00:10<00:20,  2.07it/s]"
          ]
        },
        {
          "output_type": "stream",
          "name": "stdout",
          "text": [
            "printing embeds.shape: torch.Size([256, 19, 256])\n",
            "printing rnn.out.shape: torch.Size([256, 19, 256])\n"
          ]
        },
        {
          "output_type": "stream",
          "name": "stderr",
          "text": [
            "\rEpoch: 6  Iteration: 19  Loss: 0.8617875337600708:  35%|███▍      | 22/63 [00:10<00:19,  2.16it/s]"
          ]
        },
        {
          "output_type": "stream",
          "name": "stdout",
          "text": [
            "printing embeds.shape: torch.Size([256, 19, 256])\n",
            "printing rnn.out.shape: torch.Size([256, 19, 256])\n"
          ]
        },
        {
          "output_type": "stream",
          "name": "stderr",
          "text": [
            "\rEpoch: 6  Iteration: 19  Loss: 0.8617875337600708:  37%|███▋      | 23/63 [00:11<00:19,  2.07it/s]"
          ]
        },
        {
          "output_type": "stream",
          "name": "stdout",
          "text": [
            "printing embeds.shape: torch.Size([256, 19, 256])\n",
            "printing rnn.out.shape: torch.Size([256, 19, 256])\n"
          ]
        },
        {
          "output_type": "stream",
          "name": "stderr",
          "text": [
            "\rEpoch: 6  Iteration: 19  Loss: 0.8617875337600708:  38%|███▊      | 24/63 [00:11<00:18,  2.05it/s]"
          ]
        },
        {
          "output_type": "stream",
          "name": "stdout",
          "text": [
            "printing embeds.shape: torch.Size([256, 19, 256])\n",
            "printing rnn.out.shape: torch.Size([256, 19, 256])\n"
          ]
        },
        {
          "output_type": "stream",
          "name": "stderr",
          "text": [
            "\rEpoch: 6  Iteration: 19  Loss: 0.8617875337600708:  40%|███▉      | 25/63 [00:11<00:17,  2.17it/s]"
          ]
        },
        {
          "output_type": "stream",
          "name": "stdout",
          "text": [
            "printing embeds.shape: torch.Size([256, 19, 256])\n",
            "printing rnn.out.shape: torch.Size([256, 19, 256])\n"
          ]
        },
        {
          "output_type": "stream",
          "name": "stderr",
          "text": [
            "\rEpoch: 6  Iteration: 19  Loss: 0.8617875337600708:  41%|████▏     | 26/63 [00:12<00:17,  2.14it/s]"
          ]
        },
        {
          "output_type": "stream",
          "name": "stdout",
          "text": [
            "printing embeds.shape: torch.Size([256, 19, 256])\n",
            "printing rnn.out.shape: torch.Size([256, 19, 256])\n"
          ]
        },
        {
          "output_type": "stream",
          "name": "stderr",
          "text": [
            "\rEpoch: 6  Iteration: 19  Loss: 0.8617875337600708:  43%|████▎     | 27/63 [00:12<00:16,  2.13it/s]"
          ]
        },
        {
          "output_type": "stream",
          "name": "stdout",
          "text": [
            "printing embeds.shape: torch.Size([256, 19, 256])\n",
            "printing rnn.out.shape: torch.Size([256, 19, 256])\n"
          ]
        },
        {
          "output_type": "stream",
          "name": "stderr",
          "text": [
            "\rEpoch: 6  Iteration: 19  Loss: 0.8617875337600708:  44%|████▍     | 28/63 [00:13<00:15,  2.19it/s]"
          ]
        },
        {
          "output_type": "stream",
          "name": "stdout",
          "text": [
            "printing embeds.shape: torch.Size([256, 19, 256])\n",
            "printing rnn.out.shape: torch.Size([256, 19, 256])\n"
          ]
        },
        {
          "output_type": "stream",
          "name": "stderr",
          "text": [
            "\rEpoch: 6  Iteration: 19  Loss: 0.8617875337600708:  46%|████▌     | 29/63 [00:13<00:15,  2.26it/s]"
          ]
        },
        {
          "output_type": "stream",
          "name": "stdout",
          "text": [
            "printing embeds.shape: torch.Size([256, 19, 256])\n",
            "printing rnn.out.shape: torch.Size([256, 19, 256])\n"
          ]
        },
        {
          "output_type": "stream",
          "name": "stderr",
          "text": [
            "Epoch: 6  Iteration: 29  Loss: 0.9078835070133209:  48%|████▊     | 30/63 [00:14<00:15,  2.10it/s]"
          ]
        },
        {
          "output_type": "stream",
          "name": "stdout",
          "text": [
            "printing embeds.shape: torch.Size([256, 19, 256])\n",
            "printing rnn.out.shape: torch.Size([256, 19, 256])\n"
          ]
        },
        {
          "output_type": "stream",
          "name": "stderr",
          "text": [
            "\rEpoch: 6  Iteration: 29  Loss: 0.9078835070133209:  49%|████▉     | 31/63 [00:14<00:14,  2.13it/s]"
          ]
        },
        {
          "output_type": "stream",
          "name": "stdout",
          "text": [
            "printing embeds.shape: torch.Size([256, 19, 256])\n",
            "printing rnn.out.shape: torch.Size([256, 19, 256])\n"
          ]
        },
        {
          "output_type": "stream",
          "name": "stderr",
          "text": [
            "\rEpoch: 6  Iteration: 29  Loss: 0.9078835070133209:  51%|█████     | 32/63 [00:15<00:15,  2.03it/s]"
          ]
        },
        {
          "output_type": "stream",
          "name": "stdout",
          "text": [
            "printing embeds.shape: torch.Size([256, 19, 256])\n",
            "printing rnn.out.shape: torch.Size([256, 19, 256])\n"
          ]
        },
        {
          "output_type": "stream",
          "name": "stderr",
          "text": [
            "\rEpoch: 6  Iteration: 29  Loss: 0.9078835070133209:  52%|█████▏    | 33/63 [00:15<00:15,  1.88it/s]"
          ]
        },
        {
          "output_type": "stream",
          "name": "stdout",
          "text": [
            "printing embeds.shape: torch.Size([256, 19, 256])\n",
            "printing rnn.out.shape: torch.Size([256, 19, 256])\n"
          ]
        },
        {
          "output_type": "stream",
          "name": "stderr",
          "text": [
            "\rEpoch: 6  Iteration: 29  Loss: 0.9078835070133209:  54%|█████▍    | 34/63 [00:16<00:15,  1.82it/s]"
          ]
        },
        {
          "output_type": "stream",
          "name": "stdout",
          "text": [
            "printing embeds.shape: torch.Size([256, 19, 256])\n",
            "printing rnn.out.shape: torch.Size([256, 19, 256])\n"
          ]
        },
        {
          "output_type": "stream",
          "name": "stderr",
          "text": [
            "\rEpoch: 6  Iteration: 29  Loss: 0.9078835070133209:  56%|█████▌    | 35/63 [00:17<00:15,  1.82it/s]"
          ]
        },
        {
          "output_type": "stream",
          "name": "stdout",
          "text": [
            "printing embeds.shape: torch.Size([256, 19, 256])\n",
            "printing rnn.out.shape: torch.Size([256, 19, 256])\n"
          ]
        },
        {
          "output_type": "stream",
          "name": "stderr",
          "text": [
            "\rEpoch: 6  Iteration: 29  Loss: 0.9078835070133209:  57%|█████▋    | 36/63 [00:17<00:14,  1.80it/s]"
          ]
        },
        {
          "output_type": "stream",
          "name": "stdout",
          "text": [
            "printing embeds.shape: torch.Size([256, 19, 256])\n",
            "printing rnn.out.shape: torch.Size([256, 19, 256])\n"
          ]
        },
        {
          "output_type": "stream",
          "name": "stderr",
          "text": [
            "\rEpoch: 6  Iteration: 29  Loss: 0.9078835070133209:  59%|█████▊    | 37/63 [00:18<00:15,  1.66it/s]"
          ]
        },
        {
          "output_type": "stream",
          "name": "stdout",
          "text": [
            "printing embeds.shape: torch.Size([256, 19, 256])\n",
            "printing rnn.out.shape: torch.Size([256, 19, 256])\n"
          ]
        },
        {
          "output_type": "stream",
          "name": "stderr",
          "text": [
            "\rEpoch: 6  Iteration: 29  Loss: 0.9078835070133209:  60%|██████    | 38/63 [00:18<00:14,  1.75it/s]"
          ]
        },
        {
          "output_type": "stream",
          "name": "stdout",
          "text": [
            "printing embeds.shape: torch.Size([256, 19, 256])\n",
            "printing rnn.out.shape: torch.Size([256, 19, 256])\n"
          ]
        },
        {
          "output_type": "stream",
          "name": "stderr",
          "text": [
            "\rEpoch: 6  Iteration: 29  Loss: 0.9078835070133209:  62%|██████▏   | 39/63 [00:19<00:13,  1.79it/s]"
          ]
        },
        {
          "output_type": "stream",
          "name": "stdout",
          "text": [
            "printing embeds.shape: torch.Size([256, 19, 256])\n",
            "printing rnn.out.shape: torch.Size([256, 19, 256])\n"
          ]
        },
        {
          "output_type": "stream",
          "name": "stderr",
          "text": [
            "Epoch: 6  Iteration: 39  Loss: 0.8290205955505371:  63%|██████▎   | 40/63 [00:19<00:12,  1.77it/s]"
          ]
        },
        {
          "output_type": "stream",
          "name": "stdout",
          "text": [
            "printing embeds.shape: torch.Size([256, 19, 256])\n",
            "printing rnn.out.shape: torch.Size([256, 19, 256])\n"
          ]
        },
        {
          "output_type": "stream",
          "name": "stderr",
          "text": [
            "\rEpoch: 6  Iteration: 39  Loss: 0.8290205955505371:  65%|██████▌   | 41/63 [00:20<00:12,  1.80it/s]"
          ]
        },
        {
          "output_type": "stream",
          "name": "stdout",
          "text": [
            "printing embeds.shape: torch.Size([256, 19, 256])\n",
            "printing rnn.out.shape: torch.Size([256, 19, 256])\n"
          ]
        },
        {
          "output_type": "stream",
          "name": "stderr",
          "text": [
            "\rEpoch: 6  Iteration: 39  Loss: 0.8290205955505371:  67%|██████▋   | 42/63 [00:21<00:11,  1.84it/s]"
          ]
        },
        {
          "output_type": "stream",
          "name": "stdout",
          "text": [
            "printing embeds.shape: torch.Size([256, 19, 256])\n",
            "printing rnn.out.shape: torch.Size([256, 19, 256])\n"
          ]
        },
        {
          "output_type": "stream",
          "name": "stderr",
          "text": [
            "\rEpoch: 6  Iteration: 39  Loss: 0.8290205955505371:  68%|██████▊   | 43/63 [00:21<00:10,  1.97it/s]"
          ]
        },
        {
          "output_type": "stream",
          "name": "stdout",
          "text": [
            "printing embeds.shape: torch.Size([256, 19, 256])\n",
            "printing rnn.out.shape: torch.Size([256, 19, 256])\n"
          ]
        },
        {
          "output_type": "stream",
          "name": "stderr",
          "text": [
            "\rEpoch: 6  Iteration: 39  Loss: 0.8290205955505371:  70%|██████▉   | 44/63 [00:21<00:09,  2.06it/s]"
          ]
        },
        {
          "output_type": "stream",
          "name": "stdout",
          "text": [
            "printing embeds.shape: torch.Size([256, 19, 256])\n",
            "printing rnn.out.shape: torch.Size([256, 19, 256])\n"
          ]
        },
        {
          "output_type": "stream",
          "name": "stderr",
          "text": [
            "\rEpoch: 6  Iteration: 39  Loss: 0.8290205955505371:  71%|███████▏  | 45/63 [00:22<00:08,  2.13it/s]"
          ]
        },
        {
          "output_type": "stream",
          "name": "stdout",
          "text": [
            "printing embeds.shape: torch.Size([256, 19, 256])\n",
            "printing rnn.out.shape: torch.Size([256, 19, 256])\n"
          ]
        },
        {
          "output_type": "stream",
          "name": "stderr",
          "text": [
            "\rEpoch: 6  Iteration: 39  Loss: 0.8290205955505371:  73%|███████▎  | 46/63 [00:22<00:08,  2.01it/s]"
          ]
        },
        {
          "output_type": "stream",
          "name": "stdout",
          "text": [
            "printing embeds.shape: torch.Size([256, 19, 256])\n",
            "printing rnn.out.shape: torch.Size([256, 19, 256])\n"
          ]
        },
        {
          "output_type": "stream",
          "name": "stderr",
          "text": [
            "\rEpoch: 6  Iteration: 39  Loss: 0.8290205955505371:  75%|███████▍  | 47/63 [00:23<00:07,  2.05it/s]"
          ]
        },
        {
          "output_type": "stream",
          "name": "stdout",
          "text": [
            "printing embeds.shape: torch.Size([256, 19, 256])\n",
            "printing rnn.out.shape: torch.Size([256, 19, 256])\n"
          ]
        },
        {
          "output_type": "stream",
          "name": "stderr",
          "text": [
            "\rEpoch: 6  Iteration: 39  Loss: 0.8290205955505371:  76%|███████▌  | 48/63 [00:23<00:06,  2.16it/s]"
          ]
        },
        {
          "output_type": "stream",
          "name": "stdout",
          "text": [
            "printing embeds.shape: torch.Size([256, 19, 256])\n",
            "printing rnn.out.shape: torch.Size([256, 19, 256])\n"
          ]
        },
        {
          "output_type": "stream",
          "name": "stderr",
          "text": [
            "\rEpoch: 6  Iteration: 39  Loss: 0.8290205955505371:  78%|███████▊  | 49/63 [00:24<00:06,  2.22it/s]"
          ]
        },
        {
          "output_type": "stream",
          "name": "stdout",
          "text": [
            "printing embeds.shape: torch.Size([256, 19, 256])\n",
            "printing rnn.out.shape: torch.Size([256, 19, 256])\n"
          ]
        },
        {
          "output_type": "stream",
          "name": "stderr",
          "text": [
            "Epoch: 6  Iteration: 49  Loss: 0.858393806219101:  79%|███████▉  | 50/63 [00:24<00:06,  2.15it/s]"
          ]
        },
        {
          "output_type": "stream",
          "name": "stdout",
          "text": [
            "printing embeds.shape: torch.Size([256, 19, 256])\n",
            "printing rnn.out.shape: torch.Size([256, 19, 256])\n"
          ]
        },
        {
          "output_type": "stream",
          "name": "stderr",
          "text": [
            "\rEpoch: 6  Iteration: 49  Loss: 0.858393806219101:  81%|████████  | 51/63 [00:25<00:05,  2.19it/s]"
          ]
        },
        {
          "output_type": "stream",
          "name": "stdout",
          "text": [
            "printing embeds.shape: torch.Size([256, 19, 256])\n",
            "printing rnn.out.shape: torch.Size([256, 19, 256])\n"
          ]
        },
        {
          "output_type": "stream",
          "name": "stderr",
          "text": [
            "\rEpoch: 6  Iteration: 49  Loss: 0.858393806219101:  83%|████████▎ | 52/63 [00:25<00:04,  2.23it/s]"
          ]
        },
        {
          "output_type": "stream",
          "name": "stdout",
          "text": [
            "printing embeds.shape: torch.Size([256, 19, 256])\n",
            "printing rnn.out.shape: torch.Size([256, 19, 256])\n"
          ]
        },
        {
          "output_type": "stream",
          "name": "stderr",
          "text": [
            "\rEpoch: 6  Iteration: 49  Loss: 0.858393806219101:  84%|████████▍ | 53/63 [00:25<00:04,  2.23it/s]"
          ]
        },
        {
          "output_type": "stream",
          "name": "stdout",
          "text": [
            "printing embeds.shape: torch.Size([256, 19, 256])\n",
            "printing rnn.out.shape: torch.Size([256, 19, 256])\n"
          ]
        },
        {
          "output_type": "stream",
          "name": "stderr",
          "text": [
            "\rEpoch: 6  Iteration: 49  Loss: 0.858393806219101:  86%|████████▌ | 54/63 [00:26<00:03,  2.29it/s]"
          ]
        },
        {
          "output_type": "stream",
          "name": "stdout",
          "text": [
            "printing embeds.shape: torch.Size([256, 19, 256])\n",
            "printing rnn.out.shape: torch.Size([256, 19, 256])\n"
          ]
        },
        {
          "output_type": "stream",
          "name": "stderr",
          "text": [
            "\rEpoch: 6  Iteration: 49  Loss: 0.858393806219101:  87%|████████▋ | 55/63 [00:26<00:03,  2.27it/s]"
          ]
        },
        {
          "output_type": "stream",
          "name": "stdout",
          "text": [
            "printing embeds.shape: torch.Size([256, 19, 256])\n",
            "printing rnn.out.shape: torch.Size([256, 19, 256])\n"
          ]
        },
        {
          "output_type": "stream",
          "name": "stderr",
          "text": [
            "\rEpoch: 6  Iteration: 49  Loss: 0.858393806219101:  89%|████████▉ | 56/63 [00:27<00:03,  2.10it/s]"
          ]
        },
        {
          "output_type": "stream",
          "name": "stdout",
          "text": [
            "printing embeds.shape: torch.Size([256, 19, 256])\n",
            "printing rnn.out.shape: torch.Size([256, 19, 256])\n"
          ]
        },
        {
          "output_type": "stream",
          "name": "stderr",
          "text": [
            "\rEpoch: 6  Iteration: 49  Loss: 0.858393806219101:  90%|█████████ | 57/63 [00:27<00:02,  2.20it/s]"
          ]
        },
        {
          "output_type": "stream",
          "name": "stdout",
          "text": [
            "printing embeds.shape: torch.Size([256, 19, 256])\n",
            "printing rnn.out.shape: torch.Size([256, 19, 256])\n"
          ]
        },
        {
          "output_type": "stream",
          "name": "stderr",
          "text": [
            "\rEpoch: 6  Iteration: 49  Loss: 0.858393806219101:  92%|█████████▏| 58/63 [00:28<00:02,  2.23it/s]"
          ]
        },
        {
          "output_type": "stream",
          "name": "stdout",
          "text": [
            "printing embeds.shape: torch.Size([256, 19, 256])\n",
            "printing rnn.out.shape: torch.Size([256, 19, 256])\n"
          ]
        },
        {
          "output_type": "stream",
          "name": "stderr",
          "text": [
            "\rEpoch: 6  Iteration: 49  Loss: 0.858393806219101:  94%|█████████▎| 59/63 [00:28<00:02,  2.00it/s]"
          ]
        },
        {
          "output_type": "stream",
          "name": "stdout",
          "text": [
            "printing embeds.shape: torch.Size([256, 19, 256])\n",
            "printing rnn.out.shape: torch.Size([256, 19, 256])\n"
          ]
        },
        {
          "output_type": "stream",
          "name": "stderr",
          "text": [
            "Epoch: 6  Iteration: 59  Loss: 0.8539953291416168:  95%|█████████▌| 60/63 [00:29<00:01,  1.94it/s]"
          ]
        },
        {
          "output_type": "stream",
          "name": "stdout",
          "text": [
            "printing embeds.shape: torch.Size([256, 19, 256])\n",
            "printing rnn.out.shape: torch.Size([256, 19, 256])\n"
          ]
        },
        {
          "output_type": "stream",
          "name": "stderr",
          "text": [
            "\rEpoch: 6  Iteration: 59  Loss: 0.8539953291416168:  97%|█████████▋| 61/63 [00:29<00:01,  1.87it/s]"
          ]
        },
        {
          "output_type": "stream",
          "name": "stdout",
          "text": [
            "printing embeds.shape: torch.Size([256, 19, 256])\n",
            "printing rnn.out.shape: torch.Size([256, 19, 256])\n"
          ]
        },
        {
          "output_type": "stream",
          "name": "stderr",
          "text": [
            "\rEpoch: 6  Iteration: 59  Loss: 0.8539953291416168:  98%|█████████▊| 62/63 [00:30<00:00,  1.84it/s]"
          ]
        },
        {
          "output_type": "stream",
          "name": "stdout",
          "text": [
            "printing embeds.shape: torch.Size([187, 19, 256])\n",
            "printing rnn.out.shape: torch.Size([187, 19, 256])\n"
          ]
        },
        {
          "output_type": "stream",
          "name": "stderr",
          "text": [
            "Epoch: 6  Iteration: 59  Loss: 0.8539953291416168: 100%|██████████| 63/63 [00:31<00:00,  2.03it/s]\n"
          ]
        },
        {
          "output_type": "stream",
          "name": "stdout",
          "text": [
            "Epoch: 6  Train Accuracy: 74.96108101376176\n",
            "printing embeds.shape: torch.Size([256, 19, 256])\n",
            "printing rnn.out.shape: torch.Size([256, 19, 256])\n",
            "printing embeds.shape: torch.Size([256, 19, 256])\n",
            "printing rnn.out.shape: torch.Size([256, 19, 256])\n",
            "printing embeds.shape: torch.Size([256, 19, 256])\n",
            "printing rnn.out.shape: torch.Size([256, 19, 256])\n",
            "printing embeds.shape: torch.Size([256, 19, 256])\n",
            "printing rnn.out.shape: torch.Size([256, 19, 256])\n",
            "printing embeds.shape: torch.Size([256, 19, 256])\n",
            "printing rnn.out.shape: torch.Size([256, 19, 256])\n",
            "printing embeds.shape: torch.Size([256, 19, 256])\n",
            "printing rnn.out.shape: torch.Size([256, 19, 256])\n",
            "printing embeds.shape: torch.Size([256, 19, 256])\n",
            "printing rnn.out.shape: torch.Size([256, 19, 256])\n",
            "printing embeds.shape: torch.Size([256, 19, 256])\n",
            "printing rnn.out.shape: torch.Size([256, 19, 256])\n",
            "printing embeds.shape: torch.Size([256, 19, 256])\n",
            "printing rnn.out.shape: torch.Size([256, 19, 256])\n",
            "printing embeds.shape: torch.Size([256, 19, 256])\n",
            "printing rnn.out.shape: torch.Size([256, 19, 256])\n",
            "printing embeds.shape: torch.Size([256, 19, 256])\n",
            "printing rnn.out.shape: torch.Size([256, 19, 256])\n",
            "printing embeds.shape: torch.Size([256, 19, 256])\n",
            "printing rnn.out.shape: torch.Size([256, 19, 256])\n",
            "printing embeds.shape: torch.Size([256, 19, 256])\n",
            "printing rnn.out.shape: torch.Size([256, 19, 256])\n",
            "printing embeds.shape: torch.Size([256, 19, 256])\n",
            "printing rnn.out.shape: torch.Size([256, 19, 256])\n",
            "printing embeds.shape: torch.Size([256, 19, 256])\n",
            "printing rnn.out.shape: torch.Size([256, 19, 256])\n",
            "printing embeds.shape: torch.Size([175, 19, 256])\n",
            "printing rnn.out.shape: torch.Size([175, 19, 256])\n",
            "Epoch: 6  Eval Accuracy: 76.36363636363637\n"
          ]
        },
        {
          "output_type": "stream",
          "name": "stderr",
          "text": [
            "\r  0%|          | 0/63 [00:00<?, ?it/s]"
          ]
        },
        {
          "output_type": "stream",
          "name": "stdout",
          "text": [
            "printing embeds.shape: torch.Size([256, 19, 256])\n",
            "printing rnn.out.shape: torch.Size([256, 19, 256])\n"
          ]
        },
        {
          "output_type": "stream",
          "name": "stderr",
          "text": [
            "\r  2%|▏         | 1/63 [00:00<00:33,  1.85it/s]"
          ]
        },
        {
          "output_type": "stream",
          "name": "stdout",
          "text": [
            "printing embeds.shape: torch.Size([256, 19, 256])\n",
            "printing rnn.out.shape: torch.Size([256, 19, 256])\n"
          ]
        },
        {
          "output_type": "stream",
          "name": "stderr",
          "text": [
            "\r  3%|▎         | 2/63 [00:00<00:29,  2.10it/s]"
          ]
        },
        {
          "output_type": "stream",
          "name": "stdout",
          "text": [
            "printing embeds.shape: torch.Size([256, 19, 256])\n",
            "printing rnn.out.shape: torch.Size([256, 19, 256])\n"
          ]
        },
        {
          "output_type": "stream",
          "name": "stderr",
          "text": [
            "\r  5%|▍         | 3/63 [00:01<00:29,  2.03it/s]"
          ]
        },
        {
          "output_type": "stream",
          "name": "stdout",
          "text": [
            "printing embeds.shape: torch.Size([256, 19, 256])\n",
            "printing rnn.out.shape: torch.Size([256, 19, 256])\n"
          ]
        },
        {
          "output_type": "stream",
          "name": "stderr",
          "text": [
            "\r  6%|▋         | 4/63 [00:02<00:30,  1.97it/s]"
          ]
        },
        {
          "output_type": "stream",
          "name": "stdout",
          "text": [
            "printing embeds.shape: torch.Size([256, 19, 256])\n",
            "printing rnn.out.shape: torch.Size([256, 19, 256])\n"
          ]
        },
        {
          "output_type": "stream",
          "name": "stderr",
          "text": [
            "\r  8%|▊         | 5/63 [00:02<00:28,  2.00it/s]"
          ]
        },
        {
          "output_type": "stream",
          "name": "stdout",
          "text": [
            "printing embeds.shape: torch.Size([256, 19, 256])\n",
            "printing rnn.out.shape: torch.Size([256, 19, 256])\n"
          ]
        },
        {
          "output_type": "stream",
          "name": "stderr",
          "text": [
            "\r 10%|▉         | 6/63 [00:03<00:30,  1.89it/s]"
          ]
        },
        {
          "output_type": "stream",
          "name": "stdout",
          "text": [
            "printing embeds.shape: torch.Size([256, 19, 256])\n",
            "printing rnn.out.shape: torch.Size([256, 19, 256])\n"
          ]
        },
        {
          "output_type": "stream",
          "name": "stderr",
          "text": [
            "\r 11%|█         | 7/63 [00:03<00:30,  1.85it/s]"
          ]
        },
        {
          "output_type": "stream",
          "name": "stdout",
          "text": [
            "printing embeds.shape: torch.Size([256, 19, 256])\n",
            "printing rnn.out.shape: torch.Size([256, 19, 256])\n"
          ]
        },
        {
          "output_type": "stream",
          "name": "stderr",
          "text": [
            "\r 13%|█▎        | 8/63 [00:04<00:28,  1.91it/s]"
          ]
        },
        {
          "output_type": "stream",
          "name": "stdout",
          "text": [
            "printing embeds.shape: torch.Size([256, 19, 256])\n",
            "printing rnn.out.shape: torch.Size([256, 19, 256])\n"
          ]
        },
        {
          "output_type": "stream",
          "name": "stderr",
          "text": [
            "\r 14%|█▍        | 9/63 [00:04<00:26,  2.03it/s]"
          ]
        },
        {
          "output_type": "stream",
          "name": "stdout",
          "text": [
            "printing embeds.shape: torch.Size([256, 19, 256])\n",
            "printing rnn.out.shape: torch.Size([256, 19, 256])\n"
          ]
        },
        {
          "output_type": "stream",
          "name": "stderr",
          "text": [
            "Epoch: 7  Iteration: 9  Loss: 0.8159659445285797:  16%|█▌        | 10/63 [00:05<00:27,  1.94it/s]"
          ]
        },
        {
          "output_type": "stream",
          "name": "stdout",
          "text": [
            "printing embeds.shape: torch.Size([256, 19, 256])\n",
            "printing rnn.out.shape: torch.Size([256, 19, 256])\n"
          ]
        },
        {
          "output_type": "stream",
          "name": "stderr",
          "text": [
            "\rEpoch: 7  Iteration: 9  Loss: 0.8159659445285797:  17%|█▋        | 11/63 [00:05<00:27,  1.92it/s]"
          ]
        },
        {
          "output_type": "stream",
          "name": "stdout",
          "text": [
            "printing embeds.shape: torch.Size([256, 19, 256])\n",
            "printing rnn.out.shape: torch.Size([256, 19, 256])\n"
          ]
        },
        {
          "output_type": "stream",
          "name": "stderr",
          "text": [
            "\rEpoch: 7  Iteration: 9  Loss: 0.8159659445285797:  19%|█▉        | 12/63 [00:06<00:27,  1.86it/s]"
          ]
        },
        {
          "output_type": "stream",
          "name": "stdout",
          "text": [
            "printing embeds.shape: torch.Size([256, 19, 256])\n",
            "printing rnn.out.shape: torch.Size([256, 19, 256])\n"
          ]
        },
        {
          "output_type": "stream",
          "name": "stderr",
          "text": [
            "\rEpoch: 7  Iteration: 9  Loss: 0.8159659445285797:  21%|██        | 13/63 [00:06<00:25,  1.99it/s]"
          ]
        },
        {
          "output_type": "stream",
          "name": "stdout",
          "text": [
            "printing embeds.shape: torch.Size([256, 19, 256])\n",
            "printing rnn.out.shape: torch.Size([256, 19, 256])\n"
          ]
        },
        {
          "output_type": "stream",
          "name": "stderr",
          "text": [
            "\rEpoch: 7  Iteration: 9  Loss: 0.8159659445285797:  22%|██▏       | 14/63 [00:07<00:23,  2.04it/s]"
          ]
        },
        {
          "output_type": "stream",
          "name": "stdout",
          "text": [
            "printing embeds.shape: torch.Size([256, 19, 256])\n",
            "printing rnn.out.shape: torch.Size([256, 19, 256])\n"
          ]
        },
        {
          "output_type": "stream",
          "name": "stderr",
          "text": [
            "\rEpoch: 7  Iteration: 9  Loss: 0.8159659445285797:  24%|██▍       | 15/63 [00:07<00:23,  2.08it/s]"
          ]
        },
        {
          "output_type": "stream",
          "name": "stdout",
          "text": [
            "printing embeds.shape: torch.Size([256, 19, 256])\n",
            "printing rnn.out.shape: torch.Size([256, 19, 256])\n"
          ]
        },
        {
          "output_type": "stream",
          "name": "stderr",
          "text": [
            "\rEpoch: 7  Iteration: 9  Loss: 0.8159659445285797:  25%|██▌       | 16/63 [00:08<00:24,  1.94it/s]"
          ]
        },
        {
          "output_type": "stream",
          "name": "stdout",
          "text": [
            "printing embeds.shape: torch.Size([256, 19, 256])\n",
            "printing rnn.out.shape: torch.Size([256, 19, 256])\n"
          ]
        },
        {
          "output_type": "stream",
          "name": "stderr",
          "text": [
            "\rEpoch: 7  Iteration: 9  Loss: 0.8159659445285797:  27%|██▋       | 17/63 [00:08<00:22,  2.06it/s]"
          ]
        },
        {
          "output_type": "stream",
          "name": "stdout",
          "text": [
            "printing embeds.shape: torch.Size([256, 19, 256])\n",
            "printing rnn.out.shape: torch.Size([256, 19, 256])\n"
          ]
        },
        {
          "output_type": "stream",
          "name": "stderr",
          "text": [
            "\rEpoch: 7  Iteration: 9  Loss: 0.8159659445285797:  29%|██▊       | 18/63 [00:09<00:21,  2.13it/s]"
          ]
        },
        {
          "output_type": "stream",
          "name": "stdout",
          "text": [
            "printing embeds.shape: torch.Size([256, 19, 256])\n",
            "printing rnn.out.shape: torch.Size([256, 19, 256])\n"
          ]
        },
        {
          "output_type": "stream",
          "name": "stderr",
          "text": [
            "\rEpoch: 7  Iteration: 9  Loss: 0.8159659445285797:  30%|███       | 19/63 [00:09<00:23,  1.84it/s]"
          ]
        },
        {
          "output_type": "stream",
          "name": "stdout",
          "text": [
            "printing embeds.shape: torch.Size([256, 19, 256])\n",
            "printing rnn.out.shape: torch.Size([256, 19, 256])\n"
          ]
        },
        {
          "output_type": "stream",
          "name": "stderr",
          "text": [
            "Epoch: 7  Iteration: 19  Loss: 0.8555236160755157:  32%|███▏      | 20/63 [00:10<00:23,  1.82it/s]"
          ]
        },
        {
          "output_type": "stream",
          "name": "stdout",
          "text": [
            "printing embeds.shape: torch.Size([256, 19, 256])\n",
            "printing rnn.out.shape: torch.Size([256, 19, 256])\n"
          ]
        },
        {
          "output_type": "stream",
          "name": "stderr",
          "text": [
            "\rEpoch: 7  Iteration: 19  Loss: 0.8555236160755157:  33%|███▎      | 21/63 [00:10<00:23,  1.82it/s]"
          ]
        },
        {
          "output_type": "stream",
          "name": "stdout",
          "text": [
            "printing embeds.shape: torch.Size([256, 19, 256])\n",
            "printing rnn.out.shape: torch.Size([256, 19, 256])\n"
          ]
        },
        {
          "output_type": "stream",
          "name": "stderr",
          "text": [
            "\rEpoch: 7  Iteration: 19  Loss: 0.8555236160755157:  35%|███▍      | 22/63 [00:11<00:22,  1.81it/s]"
          ]
        },
        {
          "output_type": "stream",
          "name": "stdout",
          "text": [
            "printing embeds.shape: torch.Size([256, 19, 256])\n",
            "printing rnn.out.shape: torch.Size([256, 19, 256])\n"
          ]
        },
        {
          "output_type": "stream",
          "name": "stderr",
          "text": [
            "\rEpoch: 7  Iteration: 19  Loss: 0.8555236160755157:  37%|███▋      | 23/63 [00:12<00:23,  1.69it/s]"
          ]
        },
        {
          "output_type": "stream",
          "name": "stdout",
          "text": [
            "printing embeds.shape: torch.Size([256, 19, 256])\n",
            "printing rnn.out.shape: torch.Size([256, 19, 256])\n"
          ]
        },
        {
          "output_type": "stream",
          "name": "stderr",
          "text": [
            "\rEpoch: 7  Iteration: 19  Loss: 0.8555236160755157:  38%|███▊      | 24/63 [00:12<00:21,  1.86it/s]"
          ]
        },
        {
          "output_type": "stream",
          "name": "stdout",
          "text": [
            "printing embeds.shape: torch.Size([256, 19, 256])\n",
            "printing rnn.out.shape: torch.Size([256, 19, 256])\n"
          ]
        },
        {
          "output_type": "stream",
          "name": "stderr",
          "text": [
            "\rEpoch: 7  Iteration: 19  Loss: 0.8555236160755157:  40%|███▉      | 25/63 [00:13<00:20,  1.82it/s]"
          ]
        },
        {
          "output_type": "stream",
          "name": "stdout",
          "text": [
            "printing embeds.shape: torch.Size([256, 19, 256])\n",
            "printing rnn.out.shape: torch.Size([256, 19, 256])\n"
          ]
        },
        {
          "output_type": "stream",
          "name": "stderr",
          "text": [
            "\rEpoch: 7  Iteration: 19  Loss: 0.8555236160755157:  41%|████▏     | 26/63 [00:13<00:20,  1.79it/s]"
          ]
        },
        {
          "output_type": "stream",
          "name": "stdout",
          "text": [
            "printing embeds.shape: torch.Size([256, 19, 256])\n",
            "printing rnn.out.shape: torch.Size([256, 19, 256])\n"
          ]
        },
        {
          "output_type": "stream",
          "name": "stderr",
          "text": [
            "\rEpoch: 7  Iteration: 19  Loss: 0.8555236160755157:  43%|████▎     | 27/63 [00:14<00:20,  1.78it/s]"
          ]
        },
        {
          "output_type": "stream",
          "name": "stdout",
          "text": [
            "printing embeds.shape: torch.Size([256, 19, 256])\n",
            "printing rnn.out.shape: torch.Size([256, 19, 256])\n"
          ]
        },
        {
          "output_type": "stream",
          "name": "stderr",
          "text": [
            "\rEpoch: 7  Iteration: 19  Loss: 0.8555236160755157:  44%|████▍     | 28/63 [00:14<00:19,  1.80it/s]"
          ]
        },
        {
          "output_type": "stream",
          "name": "stdout",
          "text": [
            "printing embeds.shape: torch.Size([256, 19, 256])\n",
            "printing rnn.out.shape: torch.Size([256, 19, 256])\n"
          ]
        },
        {
          "output_type": "stream",
          "name": "stderr",
          "text": [
            "\rEpoch: 7  Iteration: 19  Loss: 0.8555236160755157:  46%|████▌     | 29/63 [00:15<00:19,  1.78it/s]"
          ]
        },
        {
          "output_type": "stream",
          "name": "stdout",
          "text": [
            "printing embeds.shape: torch.Size([256, 19, 256])\n",
            "printing rnn.out.shape: torch.Size([256, 19, 256])\n"
          ]
        },
        {
          "output_type": "stream",
          "name": "stderr",
          "text": [
            "Epoch: 7  Iteration: 29  Loss: 0.860069316625595:  48%|████▊     | 30/63 [00:15<00:17,  1.85it/s]"
          ]
        },
        {
          "output_type": "stream",
          "name": "stdout",
          "text": [
            "printing embeds.shape: torch.Size([256, 19, 256])\n",
            "printing rnn.out.shape: torch.Size([256, 19, 256])\n"
          ]
        },
        {
          "output_type": "stream",
          "name": "stderr",
          "text": [
            "\rEpoch: 7  Iteration: 29  Loss: 0.860069316625595:  49%|████▉     | 31/63 [00:16<00:17,  1.81it/s]"
          ]
        },
        {
          "output_type": "stream",
          "name": "stdout",
          "text": [
            "printing embeds.shape: torch.Size([256, 19, 256])\n",
            "printing rnn.out.shape: torch.Size([256, 19, 256])\n"
          ]
        },
        {
          "output_type": "stream",
          "name": "stderr",
          "text": [
            "\rEpoch: 7  Iteration: 29  Loss: 0.860069316625595:  51%|█████     | 32/63 [00:16<00:16,  1.94it/s]"
          ]
        },
        {
          "output_type": "stream",
          "name": "stdout",
          "text": [
            "printing embeds.shape: torch.Size([256, 19, 256])\n",
            "printing rnn.out.shape: torch.Size([256, 19, 256])\n"
          ]
        },
        {
          "output_type": "stream",
          "name": "stderr",
          "text": [
            "\rEpoch: 7  Iteration: 29  Loss: 0.860069316625595:  52%|█████▏    | 33/63 [00:17<00:14,  2.03it/s]"
          ]
        },
        {
          "output_type": "stream",
          "name": "stdout",
          "text": [
            "printing embeds.shape: torch.Size([256, 19, 256])\n",
            "printing rnn.out.shape: torch.Size([256, 19, 256])\n"
          ]
        },
        {
          "output_type": "stream",
          "name": "stderr",
          "text": [
            "\rEpoch: 7  Iteration: 29  Loss: 0.860069316625595:  54%|█████▍    | 34/63 [00:17<00:13,  2.10it/s]"
          ]
        },
        {
          "output_type": "stream",
          "name": "stdout",
          "text": [
            "printing embeds.shape: torch.Size([256, 19, 256])\n",
            "printing rnn.out.shape: torch.Size([256, 19, 256])\n"
          ]
        },
        {
          "output_type": "stream",
          "name": "stderr",
          "text": [
            "\rEpoch: 7  Iteration: 29  Loss: 0.860069316625595:  56%|█████▌    | 35/63 [00:18<00:12,  2.17it/s]"
          ]
        },
        {
          "output_type": "stream",
          "name": "stdout",
          "text": [
            "printing embeds.shape: torch.Size([256, 19, 256])\n",
            "printing rnn.out.shape: torch.Size([256, 19, 256])\n"
          ]
        },
        {
          "output_type": "stream",
          "name": "stderr",
          "text": [
            "\rEpoch: 7  Iteration: 29  Loss: 0.860069316625595:  57%|█████▋    | 36/63 [00:18<00:12,  2.09it/s]"
          ]
        },
        {
          "output_type": "stream",
          "name": "stdout",
          "text": [
            "printing embeds.shape: torch.Size([256, 19, 256])\n",
            "printing rnn.out.shape: torch.Size([256, 19, 256])\n"
          ]
        },
        {
          "output_type": "stream",
          "name": "stderr",
          "text": [
            "\rEpoch: 7  Iteration: 29  Loss: 0.860069316625595:  59%|█████▊    | 37/63 [00:19<00:12,  2.07it/s]"
          ]
        },
        {
          "output_type": "stream",
          "name": "stdout",
          "text": [
            "printing embeds.shape: torch.Size([256, 19, 256])\n",
            "printing rnn.out.shape: torch.Size([256, 19, 256])\n"
          ]
        },
        {
          "output_type": "stream",
          "name": "stderr",
          "text": [
            "\rEpoch: 7  Iteration: 29  Loss: 0.860069316625595:  60%|██████    | 38/63 [00:19<00:11,  2.14it/s]"
          ]
        },
        {
          "output_type": "stream",
          "name": "stdout",
          "text": [
            "printing embeds.shape: torch.Size([256, 19, 256])\n",
            "printing rnn.out.shape: torch.Size([256, 19, 256])\n"
          ]
        },
        {
          "output_type": "stream",
          "name": "stderr",
          "text": [
            "\rEpoch: 7  Iteration: 29  Loss: 0.860069316625595:  62%|██████▏   | 39/63 [00:20<00:11,  2.02it/s]"
          ]
        },
        {
          "output_type": "stream",
          "name": "stdout",
          "text": [
            "printing embeds.shape: torch.Size([256, 19, 256])\n",
            "printing rnn.out.shape: torch.Size([256, 19, 256])\n"
          ]
        },
        {
          "output_type": "stream",
          "name": "stderr",
          "text": [
            "Epoch: 7  Iteration: 39  Loss: 0.8204261720180511:  63%|██████▎   | 40/63 [00:20<00:11,  1.95it/s]"
          ]
        },
        {
          "output_type": "stream",
          "name": "stdout",
          "text": [
            "printing embeds.shape: torch.Size([256, 19, 256])\n",
            "printing rnn.out.shape: torch.Size([256, 19, 256])\n"
          ]
        },
        {
          "output_type": "stream",
          "name": "stderr",
          "text": [
            "\rEpoch: 7  Iteration: 39  Loss: 0.8204261720180511:  65%|██████▌   | 41/63 [00:21<00:10,  2.07it/s]"
          ]
        },
        {
          "output_type": "stream",
          "name": "stdout",
          "text": [
            "printing embeds.shape: torch.Size([256, 19, 256])\n",
            "printing rnn.out.shape: torch.Size([256, 19, 256])\n"
          ]
        },
        {
          "output_type": "stream",
          "name": "stderr",
          "text": [
            "\rEpoch: 7  Iteration: 39  Loss: 0.8204261720180511:  67%|██████▋   | 42/63 [00:21<00:09,  2.18it/s]"
          ]
        },
        {
          "output_type": "stream",
          "name": "stdout",
          "text": [
            "printing embeds.shape: torch.Size([256, 19, 256])\n",
            "printing rnn.out.shape: torch.Size([256, 19, 256])\n"
          ]
        },
        {
          "output_type": "stream",
          "name": "stderr",
          "text": [
            "\rEpoch: 7  Iteration: 39  Loss: 0.8204261720180511:  68%|██████▊   | 43/63 [00:22<00:09,  2.16it/s]"
          ]
        },
        {
          "output_type": "stream",
          "name": "stdout",
          "text": [
            "printing embeds.shape: torch.Size([256, 19, 256])\n",
            "printing rnn.out.shape: torch.Size([256, 19, 256])\n"
          ]
        },
        {
          "output_type": "stream",
          "name": "stderr",
          "text": [
            "\rEpoch: 7  Iteration: 39  Loss: 0.8204261720180511:  70%|██████▉   | 44/63 [00:23<00:13,  1.39it/s]"
          ]
        },
        {
          "output_type": "stream",
          "name": "stdout",
          "text": [
            "printing embeds.shape: torch.Size([256, 19, 256])\n",
            "printing rnn.out.shape: torch.Size([256, 19, 256])\n"
          ]
        },
        {
          "output_type": "stream",
          "name": "stderr",
          "text": [
            "\rEpoch: 7  Iteration: 39  Loss: 0.8204261720180511:  71%|███████▏  | 45/63 [00:24<00:16,  1.12it/s]"
          ]
        },
        {
          "output_type": "stream",
          "name": "stdout",
          "text": [
            "printing embeds.shape: torch.Size([256, 19, 256])\n",
            "printing rnn.out.shape: torch.Size([256, 19, 256])\n"
          ]
        },
        {
          "output_type": "stream",
          "name": "stderr",
          "text": [
            "\rEpoch: 7  Iteration: 39  Loss: 0.8204261720180511:  73%|███████▎  | 46/63 [00:25<00:13,  1.25it/s]"
          ]
        },
        {
          "output_type": "stream",
          "name": "stdout",
          "text": [
            "printing embeds.shape: torch.Size([256, 19, 256])\n",
            "printing rnn.out.shape: torch.Size([256, 19, 256])\n"
          ]
        },
        {
          "output_type": "stream",
          "name": "stderr",
          "text": [
            "\rEpoch: 7  Iteration: 39  Loss: 0.8204261720180511:  75%|███████▍  | 47/63 [00:25<00:11,  1.34it/s]"
          ]
        },
        {
          "output_type": "stream",
          "name": "stdout",
          "text": [
            "printing embeds.shape: torch.Size([256, 19, 256])\n",
            "printing rnn.out.shape: torch.Size([256, 19, 256])\n"
          ]
        },
        {
          "output_type": "stream",
          "name": "stderr",
          "text": [
            "\rEpoch: 7  Iteration: 39  Loss: 0.8204261720180511:  76%|███████▌  | 48/63 [00:26<00:10,  1.48it/s]"
          ]
        },
        {
          "output_type": "stream",
          "name": "stdout",
          "text": [
            "printing embeds.shape: torch.Size([256, 19, 256])\n",
            "printing rnn.out.shape: torch.Size([256, 19, 256])\n"
          ]
        },
        {
          "output_type": "stream",
          "name": "stderr",
          "text": [
            "\rEpoch: 7  Iteration: 39  Loss: 0.8204261720180511:  78%|███████▊  | 49/63 [00:26<00:08,  1.59it/s]"
          ]
        },
        {
          "output_type": "stream",
          "name": "stdout",
          "text": [
            "printing embeds.shape: torch.Size([256, 19, 256])\n",
            "printing rnn.out.shape: torch.Size([256, 19, 256])\n"
          ]
        },
        {
          "output_type": "stream",
          "name": "stderr",
          "text": [
            "Epoch: 7  Iteration: 49  Loss: 0.8291634440422058:  79%|███████▉  | 50/63 [00:27<00:07,  1.72it/s]"
          ]
        },
        {
          "output_type": "stream",
          "name": "stdout",
          "text": [
            "printing embeds.shape: torch.Size([256, 19, 256])\n",
            "printing rnn.out.shape: torch.Size([256, 19, 256])\n"
          ]
        },
        {
          "output_type": "stream",
          "name": "stderr",
          "text": [
            "\rEpoch: 7  Iteration: 49  Loss: 0.8291634440422058:  81%|████████  | 51/63 [00:27<00:06,  1.85it/s]"
          ]
        },
        {
          "output_type": "stream",
          "name": "stdout",
          "text": [
            "printing embeds.shape: torch.Size([256, 19, 256])\n",
            "printing rnn.out.shape: torch.Size([256, 19, 256])\n"
          ]
        },
        {
          "output_type": "stream",
          "name": "stderr",
          "text": [
            "\rEpoch: 7  Iteration: 49  Loss: 0.8291634440422058:  83%|████████▎ | 52/63 [00:28<00:05,  1.95it/s]"
          ]
        },
        {
          "output_type": "stream",
          "name": "stdout",
          "text": [
            "printing embeds.shape: torch.Size([256, 19, 256])\n",
            "printing rnn.out.shape: torch.Size([256, 19, 256])\n"
          ]
        },
        {
          "output_type": "stream",
          "name": "stderr",
          "text": [
            "\rEpoch: 7  Iteration: 49  Loss: 0.8291634440422058:  84%|████████▍ | 53/63 [00:28<00:04,  2.07it/s]"
          ]
        },
        {
          "output_type": "stream",
          "name": "stdout",
          "text": [
            "printing embeds.shape: torch.Size([256, 19, 256])\n",
            "printing rnn.out.shape: torch.Size([256, 19, 256])\n"
          ]
        },
        {
          "output_type": "stream",
          "name": "stderr",
          "text": [
            "\rEpoch: 7  Iteration: 49  Loss: 0.8291634440422058:  86%|████████▌ | 54/63 [00:29<00:04,  2.00it/s]"
          ]
        },
        {
          "output_type": "stream",
          "name": "stdout",
          "text": [
            "printing embeds.shape: torch.Size([256, 19, 256])\n",
            "printing rnn.out.shape: torch.Size([256, 19, 256])\n"
          ]
        },
        {
          "output_type": "stream",
          "name": "stderr",
          "text": [
            "\rEpoch: 7  Iteration: 49  Loss: 0.8291634440422058:  87%|████████▋ | 55/63 [00:29<00:04,  1.94it/s]"
          ]
        },
        {
          "output_type": "stream",
          "name": "stdout",
          "text": [
            "printing embeds.shape: torch.Size([256, 19, 256])\n",
            "printing rnn.out.shape: torch.Size([256, 19, 256])\n"
          ]
        },
        {
          "output_type": "stream",
          "name": "stderr",
          "text": [
            "\rEpoch: 7  Iteration: 49  Loss: 0.8291634440422058:  89%|████████▉ | 56/63 [00:30<00:03,  2.06it/s]"
          ]
        },
        {
          "output_type": "stream",
          "name": "stdout",
          "text": [
            "printing embeds.shape: torch.Size([256, 19, 256])\n",
            "printing rnn.out.shape: torch.Size([256, 19, 256])\n"
          ]
        },
        {
          "output_type": "stream",
          "name": "stderr",
          "text": [
            "\rEpoch: 7  Iteration: 49  Loss: 0.8291634440422058:  90%|█████████ | 57/63 [00:30<00:02,  2.15it/s]"
          ]
        },
        {
          "output_type": "stream",
          "name": "stdout",
          "text": [
            "printing embeds.shape: torch.Size([256, 19, 256])\n",
            "printing rnn.out.shape: torch.Size([256, 19, 256])\n"
          ]
        },
        {
          "output_type": "stream",
          "name": "stderr",
          "text": [
            "\rEpoch: 7  Iteration: 49  Loss: 0.8291634440422058:  92%|█████████▏| 58/63 [00:31<00:02,  2.06it/s]"
          ]
        },
        {
          "output_type": "stream",
          "name": "stdout",
          "text": [
            "printing embeds.shape: torch.Size([256, 19, 256])\n",
            "printing rnn.out.shape: torch.Size([256, 19, 256])\n"
          ]
        },
        {
          "output_type": "stream",
          "name": "stderr",
          "text": [
            "\rEpoch: 7  Iteration: 49  Loss: 0.8291634440422058:  94%|█████████▎| 59/63 [00:31<00:01,  2.12it/s]"
          ]
        },
        {
          "output_type": "stream",
          "name": "stdout",
          "text": [
            "printing embeds.shape: torch.Size([256, 19, 256])\n",
            "printing rnn.out.shape: torch.Size([256, 19, 256])\n"
          ]
        },
        {
          "output_type": "stream",
          "name": "stderr",
          "text": [
            "Epoch: 7  Iteration: 59  Loss: 0.8069016635417938:  95%|█████████▌| 60/63 [00:32<00:01,  1.98it/s]"
          ]
        },
        {
          "output_type": "stream",
          "name": "stdout",
          "text": [
            "printing embeds.shape: torch.Size([256, 19, 256])\n",
            "printing rnn.out.shape: torch.Size([256, 19, 256])\n"
          ]
        },
        {
          "output_type": "stream",
          "name": "stderr",
          "text": [
            "\rEpoch: 7  Iteration: 59  Loss: 0.8069016635417938:  97%|█████████▋| 61/63 [00:32<00:01,  1.87it/s]"
          ]
        },
        {
          "output_type": "stream",
          "name": "stdout",
          "text": [
            "printing embeds.shape: torch.Size([256, 19, 256])\n",
            "printing rnn.out.shape: torch.Size([256, 19, 256])\n"
          ]
        },
        {
          "output_type": "stream",
          "name": "stderr",
          "text": [
            "\rEpoch: 7  Iteration: 59  Loss: 0.8069016635417938:  98%|█████████▊| 62/63 [00:33<00:00,  1.82it/s]"
          ]
        },
        {
          "output_type": "stream",
          "name": "stdout",
          "text": [
            "printing embeds.shape: torch.Size([187, 19, 256])\n",
            "printing rnn.out.shape: torch.Size([187, 19, 256])\n"
          ]
        },
        {
          "output_type": "stream",
          "name": "stderr",
          "text": [
            "Epoch: 7  Iteration: 59  Loss: 0.8069016635417938: 100%|██████████| 63/63 [00:33<00:00,  1.87it/s]\n"
          ]
        },
        {
          "output_type": "stream",
          "name": "stdout",
          "text": [
            "Epoch: 7  Train Accuracy: 76.13176411980821\n",
            "printing embeds.shape: torch.Size([256, 19, 256])\n",
            "printing rnn.out.shape: torch.Size([256, 19, 256])\n",
            "printing embeds.shape: torch.Size([256, 19, 256])\n",
            "printing rnn.out.shape: torch.Size([256, 19, 256])\n",
            "printing embeds.shape: torch.Size([256, 19, 256])\n",
            "printing rnn.out.shape: torch.Size([256, 19, 256])\n",
            "printing embeds.shape: torch.Size([256, 19, 256])\n",
            "printing rnn.out.shape: torch.Size([256, 19, 256])\n",
            "printing embeds.shape: torch.Size([256, 19, 256])\n",
            "printing rnn.out.shape: torch.Size([256, 19, 256])\n",
            "printing embeds.shape: torch.Size([256, 19, 256])\n",
            "printing rnn.out.shape: torch.Size([256, 19, 256])\n",
            "printing embeds.shape: torch.Size([256, 19, 256])\n",
            "printing rnn.out.shape: torch.Size([256, 19, 256])\n",
            "printing embeds.shape: torch.Size([256, 19, 256])\n",
            "printing rnn.out.shape: torch.Size([256, 19, 256])\n",
            "printing embeds.shape: torch.Size([256, 19, 256])\n",
            "printing rnn.out.shape: torch.Size([256, 19, 256])\n",
            "printing embeds.shape: torch.Size([256, 19, 256])\n",
            "printing rnn.out.shape: torch.Size([256, 19, 256])\n",
            "printing embeds.shape: torch.Size([256, 19, 256])\n",
            "printing rnn.out.shape: torch.Size([256, 19, 256])\n",
            "printing embeds.shape: torch.Size([256, 19, 256])\n",
            "printing rnn.out.shape: torch.Size([256, 19, 256])\n",
            "printing embeds.shape: torch.Size([256, 19, 256])\n",
            "printing rnn.out.shape: torch.Size([256, 19, 256])\n",
            "printing embeds.shape: torch.Size([256, 19, 256])\n",
            "printing rnn.out.shape: torch.Size([256, 19, 256])\n",
            "printing embeds.shape: torch.Size([256, 19, 256])\n",
            "printing rnn.out.shape: torch.Size([256, 19, 256])\n",
            "printing embeds.shape: torch.Size([175, 19, 256])\n",
            "printing rnn.out.shape: torch.Size([175, 19, 256])\n",
            "Epoch: 7  Eval Accuracy: 77.01120797011208\n"
          ]
        },
        {
          "output_type": "stream",
          "name": "stderr",
          "text": [
            "\r  0%|          | 0/63 [00:00<?, ?it/s]"
          ]
        },
        {
          "output_type": "stream",
          "name": "stdout",
          "text": [
            "printing embeds.shape: torch.Size([256, 19, 256])\n",
            "printing rnn.out.shape: torch.Size([256, 19, 256])\n"
          ]
        },
        {
          "output_type": "stream",
          "name": "stderr",
          "text": [
            "\r  2%|▏         | 1/63 [00:00<00:34,  1.81it/s]"
          ]
        },
        {
          "output_type": "stream",
          "name": "stdout",
          "text": [
            "printing embeds.shape: torch.Size([256, 19, 256])\n",
            "printing rnn.out.shape: torch.Size([256, 19, 256])\n"
          ]
        },
        {
          "output_type": "stream",
          "name": "stderr",
          "text": [
            "\r  3%|▎         | 2/63 [00:01<00:37,  1.65it/s]"
          ]
        },
        {
          "output_type": "stream",
          "name": "stdout",
          "text": [
            "printing embeds.shape: torch.Size([256, 19, 256])\n",
            "printing rnn.out.shape: torch.Size([256, 19, 256])\n"
          ]
        },
        {
          "output_type": "stream",
          "name": "stderr",
          "text": [
            "\r  5%|▍         | 3/63 [00:01<00:34,  1.73it/s]"
          ]
        },
        {
          "output_type": "stream",
          "name": "stdout",
          "text": [
            "printing embeds.shape: torch.Size([256, 19, 256])\n",
            "printing rnn.out.shape: torch.Size([256, 19, 256])\n"
          ]
        },
        {
          "output_type": "stream",
          "name": "stderr",
          "text": [
            "\r  6%|▋         | 4/63 [00:02<00:33,  1.77it/s]"
          ]
        },
        {
          "output_type": "stream",
          "name": "stdout",
          "text": [
            "printing embeds.shape: torch.Size([256, 19, 256])\n",
            "printing rnn.out.shape: torch.Size([256, 19, 256])\n"
          ]
        },
        {
          "output_type": "stream",
          "name": "stderr",
          "text": [
            "\r  8%|▊         | 5/63 [00:02<00:31,  1.83it/s]"
          ]
        },
        {
          "output_type": "stream",
          "name": "stdout",
          "text": [
            "printing embeds.shape: torch.Size([256, 19, 256])\n",
            "printing rnn.out.shape: torch.Size([256, 19, 256])\n"
          ]
        },
        {
          "output_type": "stream",
          "name": "stderr",
          "text": [
            "\r 10%|▉         | 6/63 [00:03<00:31,  1.79it/s]"
          ]
        },
        {
          "output_type": "stream",
          "name": "stdout",
          "text": [
            "printing embeds.shape: torch.Size([256, 19, 256])\n",
            "printing rnn.out.shape: torch.Size([256, 19, 256])\n"
          ]
        },
        {
          "output_type": "stream",
          "name": "stderr",
          "text": [
            "\r 11%|█         | 7/63 [00:03<00:30,  1.82it/s]"
          ]
        },
        {
          "output_type": "stream",
          "name": "stdout",
          "text": [
            "printing embeds.shape: torch.Size([256, 19, 256])\n",
            "printing rnn.out.shape: torch.Size([256, 19, 256])\n"
          ]
        },
        {
          "output_type": "stream",
          "name": "stderr",
          "text": [
            "\r 13%|█▎        | 8/63 [00:04<00:28,  1.96it/s]"
          ]
        },
        {
          "output_type": "stream",
          "name": "stdout",
          "text": [
            "printing embeds.shape: torch.Size([256, 19, 256])\n",
            "printing rnn.out.shape: torch.Size([256, 19, 256])\n"
          ]
        },
        {
          "output_type": "stream",
          "name": "stderr",
          "text": [
            "\r 14%|█▍        | 9/63 [00:04<00:28,  1.93it/s]"
          ]
        },
        {
          "output_type": "stream",
          "name": "stdout",
          "text": [
            "printing embeds.shape: torch.Size([256, 19, 256])\n",
            "printing rnn.out.shape: torch.Size([256, 19, 256])\n"
          ]
        },
        {
          "output_type": "stream",
          "name": "stderr",
          "text": [
            "Epoch: 8  Iteration: 9  Loss: 0.8009005665779114:  16%|█▌        | 10/63 [00:05<00:27,  1.89it/s]"
          ]
        },
        {
          "output_type": "stream",
          "name": "stdout",
          "text": [
            "printing embeds.shape: torch.Size([256, 19, 256])\n",
            "printing rnn.out.shape: torch.Size([256, 19, 256])\n"
          ]
        },
        {
          "output_type": "stream",
          "name": "stderr",
          "text": [
            "\rEpoch: 8  Iteration: 9  Loss: 0.8009005665779114:  17%|█▋        | 11/63 [00:05<00:26,  1.99it/s]"
          ]
        },
        {
          "output_type": "stream",
          "name": "stdout",
          "text": [
            "printing embeds.shape: torch.Size([256, 19, 256])\n",
            "printing rnn.out.shape: torch.Size([256, 19, 256])\n"
          ]
        },
        {
          "output_type": "stream",
          "name": "stderr",
          "text": [
            "\rEpoch: 8  Iteration: 9  Loss: 0.8009005665779114:  19%|█▉        | 12/63 [00:06<00:24,  2.10it/s]"
          ]
        },
        {
          "output_type": "stream",
          "name": "stdout",
          "text": [
            "printing embeds.shape: torch.Size([256, 19, 256])\n",
            "printing rnn.out.shape: torch.Size([256, 19, 256])\n"
          ]
        },
        {
          "output_type": "stream",
          "name": "stderr",
          "text": [
            "\rEpoch: 8  Iteration: 9  Loss: 0.8009005665779114:  21%|██        | 13/63 [00:06<00:24,  2.07it/s]"
          ]
        },
        {
          "output_type": "stream",
          "name": "stdout",
          "text": [
            "printing embeds.shape: torch.Size([256, 19, 256])\n",
            "printing rnn.out.shape: torch.Size([256, 19, 256])\n"
          ]
        },
        {
          "output_type": "stream",
          "name": "stderr",
          "text": [
            "\rEpoch: 8  Iteration: 9  Loss: 0.8009005665779114:  22%|██▏       | 14/63 [00:07<00:22,  2.15it/s]"
          ]
        },
        {
          "output_type": "stream",
          "name": "stdout",
          "text": [
            "printing embeds.shape: torch.Size([256, 19, 256])\n",
            "printing rnn.out.shape: torch.Size([256, 19, 256])\n"
          ]
        },
        {
          "output_type": "stream",
          "name": "stderr",
          "text": [
            "\rEpoch: 8  Iteration: 9  Loss: 0.8009005665779114:  24%|██▍       | 15/63 [00:07<00:23,  2.04it/s]"
          ]
        },
        {
          "output_type": "stream",
          "name": "stdout",
          "text": [
            "printing embeds.shape: torch.Size([256, 19, 256])\n",
            "printing rnn.out.shape: torch.Size([256, 19, 256])\n"
          ]
        },
        {
          "output_type": "stream",
          "name": "stderr",
          "text": [
            "\rEpoch: 8  Iteration: 9  Loss: 0.8009005665779114:  25%|██▌       | 16/63 [00:08<00:22,  2.12it/s]"
          ]
        },
        {
          "output_type": "stream",
          "name": "stdout",
          "text": [
            "printing embeds.shape: torch.Size([256, 19, 256])\n",
            "printing rnn.out.shape: torch.Size([256, 19, 256])\n"
          ]
        },
        {
          "output_type": "stream",
          "name": "stderr",
          "text": [
            "\rEpoch: 8  Iteration: 9  Loss: 0.8009005665779114:  27%|██▋       | 17/63 [00:08<00:22,  2.02it/s]"
          ]
        },
        {
          "output_type": "stream",
          "name": "stdout",
          "text": [
            "printing embeds.shape: torch.Size([256, 19, 256])\n",
            "printing rnn.out.shape: torch.Size([256, 19, 256])\n"
          ]
        },
        {
          "output_type": "stream",
          "name": "stderr",
          "text": [
            "\rEpoch: 8  Iteration: 9  Loss: 0.8009005665779114:  29%|██▊       | 18/63 [00:09<00:21,  2.11it/s]"
          ]
        },
        {
          "output_type": "stream",
          "name": "stdout",
          "text": [
            "printing embeds.shape: torch.Size([256, 19, 256])\n",
            "printing rnn.out.shape: torch.Size([256, 19, 256])\n"
          ]
        },
        {
          "output_type": "stream",
          "name": "stderr",
          "text": [
            "\rEpoch: 8  Iteration: 9  Loss: 0.8009005665779114:  30%|███       | 19/63 [00:09<00:21,  2.07it/s]"
          ]
        },
        {
          "output_type": "stream",
          "name": "stdout",
          "text": [
            "printing embeds.shape: torch.Size([256, 19, 256])\n",
            "printing rnn.out.shape: torch.Size([256, 19, 256])\n"
          ]
        },
        {
          "output_type": "stream",
          "name": "stderr",
          "text": [
            "Epoch: 8  Iteration: 19  Loss: 0.820043808221817:  32%|███▏      | 20/63 [00:10<00:19,  2.15it/s]"
          ]
        },
        {
          "output_type": "stream",
          "name": "stdout",
          "text": [
            "printing embeds.shape: torch.Size([256, 19, 256])\n",
            "printing rnn.out.shape: torch.Size([256, 19, 256])\n"
          ]
        },
        {
          "output_type": "stream",
          "name": "stderr",
          "text": [
            "\rEpoch: 8  Iteration: 19  Loss: 0.820043808221817:  33%|███▎      | 21/63 [00:10<00:19,  2.21it/s]"
          ]
        },
        {
          "output_type": "stream",
          "name": "stdout",
          "text": [
            "printing embeds.shape: torch.Size([256, 19, 256])\n",
            "printing rnn.out.shape: torch.Size([256, 19, 256])\n"
          ]
        },
        {
          "output_type": "stream",
          "name": "stderr",
          "text": [
            "\rEpoch: 8  Iteration: 19  Loss: 0.820043808221817:  35%|███▍      | 22/63 [00:10<00:18,  2.25it/s]"
          ]
        },
        {
          "output_type": "stream",
          "name": "stdout",
          "text": [
            "printing embeds.shape: torch.Size([256, 19, 256])\n",
            "printing rnn.out.shape: torch.Size([256, 19, 256])\n"
          ]
        },
        {
          "output_type": "stream",
          "name": "stderr",
          "text": [
            "\rEpoch: 8  Iteration: 19  Loss: 0.820043808221817:  37%|███▋      | 23/63 [00:11<00:17,  2.26it/s]"
          ]
        },
        {
          "output_type": "stream",
          "name": "stdout",
          "text": [
            "printing embeds.shape: torch.Size([256, 19, 256])\n",
            "printing rnn.out.shape: torch.Size([256, 19, 256])\n"
          ]
        },
        {
          "output_type": "stream",
          "name": "stderr",
          "text": [
            "\rEpoch: 8  Iteration: 19  Loss: 0.820043808221817:  38%|███▊      | 24/63 [00:11<00:18,  2.13it/s]"
          ]
        },
        {
          "output_type": "stream",
          "name": "stdout",
          "text": [
            "printing embeds.shape: torch.Size([256, 19, 256])\n",
            "printing rnn.out.shape: torch.Size([256, 19, 256])\n"
          ]
        },
        {
          "output_type": "stream",
          "name": "stderr",
          "text": [
            "\rEpoch: 8  Iteration: 19  Loss: 0.820043808221817:  40%|███▉      | 25/63 [00:12<00:18,  2.08it/s]"
          ]
        },
        {
          "output_type": "stream",
          "name": "stdout",
          "text": [
            "printing embeds.shape: torch.Size([256, 19, 256])\n",
            "printing rnn.out.shape: torch.Size([256, 19, 256])\n"
          ]
        },
        {
          "output_type": "stream",
          "name": "stderr",
          "text": [
            "\rEpoch: 8  Iteration: 19  Loss: 0.820043808221817:  41%|████▏     | 26/63 [00:13<00:19,  1.89it/s]"
          ]
        },
        {
          "output_type": "stream",
          "name": "stdout",
          "text": [
            "printing embeds.shape: torch.Size([256, 19, 256])\n",
            "printing rnn.out.shape: torch.Size([256, 19, 256])\n"
          ]
        },
        {
          "output_type": "stream",
          "name": "stderr",
          "text": [
            "\rEpoch: 8  Iteration: 19  Loss: 0.820043808221817:  43%|████▎     | 27/63 [00:13<00:19,  1.87it/s]"
          ]
        },
        {
          "output_type": "stream",
          "name": "stdout",
          "text": [
            "printing embeds.shape: torch.Size([256, 19, 256])\n",
            "printing rnn.out.shape: torch.Size([256, 19, 256])\n"
          ]
        },
        {
          "output_type": "stream",
          "name": "stderr",
          "text": [
            "\rEpoch: 8  Iteration: 19  Loss: 0.820043808221817:  44%|████▍     | 28/63 [00:14<00:18,  1.85it/s]"
          ]
        },
        {
          "output_type": "stream",
          "name": "stdout",
          "text": [
            "printing embeds.shape: torch.Size([256, 19, 256])\n",
            "printing rnn.out.shape: torch.Size([256, 19, 256])\n"
          ]
        },
        {
          "output_type": "stream",
          "name": "stderr",
          "text": [
            "\rEpoch: 8  Iteration: 19  Loss: 0.820043808221817:  46%|████▌     | 29/63 [00:14<00:18,  1.82it/s]"
          ]
        },
        {
          "output_type": "stream",
          "name": "stdout",
          "text": [
            "printing embeds.shape: torch.Size([256, 19, 256])\n",
            "printing rnn.out.shape: torch.Size([256, 19, 256])\n"
          ]
        },
        {
          "output_type": "stream",
          "name": "stderr",
          "text": [
            "Epoch: 8  Iteration: 29  Loss: 0.7498062551021576:  48%|████▊     | 30/63 [00:15<00:19,  1.66it/s]"
          ]
        },
        {
          "output_type": "stream",
          "name": "stdout",
          "text": [
            "printing embeds.shape: torch.Size([256, 19, 256])\n",
            "printing rnn.out.shape: torch.Size([256, 19, 256])\n"
          ]
        },
        {
          "output_type": "stream",
          "name": "stderr",
          "text": [
            "\rEpoch: 8  Iteration: 29  Loss: 0.7498062551021576:  49%|████▉     | 31/63 [00:15<00:17,  1.79it/s]"
          ]
        },
        {
          "output_type": "stream",
          "name": "stdout",
          "text": [
            "printing embeds.shape: torch.Size([256, 19, 256])\n",
            "printing rnn.out.shape: torch.Size([256, 19, 256])\n"
          ]
        },
        {
          "output_type": "stream",
          "name": "stderr",
          "text": [
            "\rEpoch: 8  Iteration: 29  Loss: 0.7498062551021576:  51%|█████     | 32/63 [00:16<00:16,  1.94it/s]"
          ]
        },
        {
          "output_type": "stream",
          "name": "stdout",
          "text": [
            "printing embeds.shape: torch.Size([256, 19, 256])\n",
            "printing rnn.out.shape: torch.Size([256, 19, 256])\n"
          ]
        },
        {
          "output_type": "stream",
          "name": "stderr",
          "text": [
            "\rEpoch: 8  Iteration: 29  Loss: 0.7498062551021576:  52%|█████▏    | 33/63 [00:16<00:14,  2.03it/s]"
          ]
        },
        {
          "output_type": "stream",
          "name": "stdout",
          "text": [
            "printing embeds.shape: torch.Size([256, 19, 256])\n",
            "printing rnn.out.shape: torch.Size([256, 19, 256])\n"
          ]
        },
        {
          "output_type": "stream",
          "name": "stderr",
          "text": [
            "\rEpoch: 8  Iteration: 29  Loss: 0.7498062551021576:  54%|█████▍    | 34/63 [00:17<00:14,  2.00it/s]"
          ]
        },
        {
          "output_type": "stream",
          "name": "stdout",
          "text": [
            "printing embeds.shape: torch.Size([256, 19, 256])\n",
            "printing rnn.out.shape: torch.Size([256, 19, 256])\n"
          ]
        },
        {
          "output_type": "stream",
          "name": "stderr",
          "text": [
            "\rEpoch: 8  Iteration: 29  Loss: 0.7498062551021576:  56%|█████▌    | 35/63 [00:17<00:13,  2.12it/s]"
          ]
        },
        {
          "output_type": "stream",
          "name": "stdout",
          "text": [
            "printing embeds.shape: torch.Size([256, 19, 256])\n",
            "printing rnn.out.shape: torch.Size([256, 19, 256])\n"
          ]
        },
        {
          "output_type": "stream",
          "name": "stderr",
          "text": [
            "\rEpoch: 8  Iteration: 29  Loss: 0.7498062551021576:  57%|█████▋    | 36/63 [00:18<00:12,  2.17it/s]"
          ]
        },
        {
          "output_type": "stream",
          "name": "stdout",
          "text": [
            "printing embeds.shape: torch.Size([256, 19, 256])\n",
            "printing rnn.out.shape: torch.Size([256, 19, 256])\n"
          ]
        },
        {
          "output_type": "stream",
          "name": "stderr",
          "text": [
            "\rEpoch: 8  Iteration: 29  Loss: 0.7498062551021576:  59%|█████▊    | 37/63 [00:18<00:11,  2.25it/s]"
          ]
        },
        {
          "output_type": "stream",
          "name": "stdout",
          "text": [
            "printing embeds.shape: torch.Size([256, 19, 256])\n",
            "printing rnn.out.shape: torch.Size([256, 19, 256])\n"
          ]
        },
        {
          "output_type": "stream",
          "name": "stderr",
          "text": [
            "\rEpoch: 8  Iteration: 29  Loss: 0.7498062551021576:  60%|██████    | 38/63 [00:19<00:12,  2.08it/s]"
          ]
        },
        {
          "output_type": "stream",
          "name": "stdout",
          "text": [
            "printing embeds.shape: torch.Size([256, 19, 256])\n",
            "printing rnn.out.shape: torch.Size([256, 19, 256])\n"
          ]
        },
        {
          "output_type": "stream",
          "name": "stderr",
          "text": [
            "\rEpoch: 8  Iteration: 29  Loss: 0.7498062551021576:  62%|██████▏   | 39/63 [00:19<00:11,  2.13it/s]"
          ]
        },
        {
          "output_type": "stream",
          "name": "stdout",
          "text": [
            "printing embeds.shape: torch.Size([256, 19, 256])\n",
            "printing rnn.out.shape: torch.Size([256, 19, 256])\n"
          ]
        },
        {
          "output_type": "stream",
          "name": "stderr",
          "text": [
            "Epoch: 8  Iteration: 39  Loss: 0.7953925430774689:  63%|██████▎   | 40/63 [00:20<00:11,  1.94it/s]"
          ]
        },
        {
          "output_type": "stream",
          "name": "stdout",
          "text": [
            "printing embeds.shape: torch.Size([256, 19, 256])\n",
            "printing rnn.out.shape: torch.Size([256, 19, 256])\n"
          ]
        },
        {
          "output_type": "stream",
          "name": "stderr",
          "text": [
            "\rEpoch: 8  Iteration: 39  Loss: 0.7953925430774689:  65%|██████▌   | 41/63 [00:20<00:11,  1.87it/s]"
          ]
        },
        {
          "output_type": "stream",
          "name": "stdout",
          "text": [
            "printing embeds.shape: torch.Size([256, 19, 256])\n",
            "printing rnn.out.shape: torch.Size([256, 19, 256])\n"
          ]
        },
        {
          "output_type": "stream",
          "name": "stderr",
          "text": [
            "\rEpoch: 8  Iteration: 39  Loss: 0.7953925430774689:  67%|██████▋   | 42/63 [00:21<00:10,  1.95it/s]"
          ]
        },
        {
          "output_type": "stream",
          "name": "stdout",
          "text": [
            "printing embeds.shape: torch.Size([256, 19, 256])\n",
            "printing rnn.out.shape: torch.Size([256, 19, 256])\n"
          ]
        },
        {
          "output_type": "stream",
          "name": "stderr",
          "text": [
            "\rEpoch: 8  Iteration: 39  Loss: 0.7953925430774689:  68%|██████▊   | 43/63 [00:21<00:09,  2.06it/s]"
          ]
        },
        {
          "output_type": "stream",
          "name": "stdout",
          "text": [
            "printing embeds.shape: torch.Size([256, 19, 256])\n",
            "printing rnn.out.shape: torch.Size([256, 19, 256])\n"
          ]
        },
        {
          "output_type": "stream",
          "name": "stderr",
          "text": [
            "\rEpoch: 8  Iteration: 39  Loss: 0.7953925430774689:  70%|██████▉   | 44/63 [00:22<00:08,  2.14it/s]"
          ]
        },
        {
          "output_type": "stream",
          "name": "stdout",
          "text": [
            "printing embeds.shape: torch.Size([256, 19, 256])\n",
            "printing rnn.out.shape: torch.Size([256, 19, 256])\n"
          ]
        },
        {
          "output_type": "stream",
          "name": "stderr",
          "text": [
            "\rEpoch: 8  Iteration: 39  Loss: 0.7953925430774689:  71%|███████▏  | 45/63 [00:22<00:08,  2.01it/s]"
          ]
        },
        {
          "output_type": "stream",
          "name": "stdout",
          "text": [
            "printing embeds.shape: torch.Size([256, 19, 256])\n",
            "printing rnn.out.shape: torch.Size([256, 19, 256])\n"
          ]
        },
        {
          "output_type": "stream",
          "name": "stderr",
          "text": [
            "\rEpoch: 8  Iteration: 39  Loss: 0.7953925430774689:  73%|███████▎  | 46/63 [00:23<00:08,  2.10it/s]"
          ]
        },
        {
          "output_type": "stream",
          "name": "stdout",
          "text": [
            "printing embeds.shape: torch.Size([256, 19, 256])\n",
            "printing rnn.out.shape: torch.Size([256, 19, 256])\n"
          ]
        },
        {
          "output_type": "stream",
          "name": "stderr",
          "text": [
            "\rEpoch: 8  Iteration: 39  Loss: 0.7953925430774689:  75%|███████▍  | 47/63 [00:23<00:07,  2.01it/s]"
          ]
        },
        {
          "output_type": "stream",
          "name": "stdout",
          "text": [
            "printing embeds.shape: torch.Size([256, 19, 256])\n",
            "printing rnn.out.shape: torch.Size([256, 19, 256])\n"
          ]
        },
        {
          "output_type": "stream",
          "name": "stderr",
          "text": [
            "\rEpoch: 8  Iteration: 39  Loss: 0.7953925430774689:  76%|███████▌  | 48/63 [00:24<00:07,  2.03it/s]"
          ]
        },
        {
          "output_type": "stream",
          "name": "stdout",
          "text": [
            "printing embeds.shape: torch.Size([256, 19, 256])\n",
            "printing rnn.out.shape: torch.Size([256, 19, 256])\n"
          ]
        },
        {
          "output_type": "stream",
          "name": "stderr",
          "text": [
            "\rEpoch: 8  Iteration: 39  Loss: 0.7953925430774689:  78%|███████▊  | 49/63 [00:24<00:07,  1.94it/s]"
          ]
        },
        {
          "output_type": "stream",
          "name": "stdout",
          "text": [
            "printing embeds.shape: torch.Size([256, 19, 256])\n",
            "printing rnn.out.shape: torch.Size([256, 19, 256])\n"
          ]
        },
        {
          "output_type": "stream",
          "name": "stderr",
          "text": [
            "Epoch: 8  Iteration: 49  Loss: 0.7965437293052673:  79%|███████▉  | 50/63 [00:25<00:06,  1.88it/s]"
          ]
        },
        {
          "output_type": "stream",
          "name": "stdout",
          "text": [
            "printing embeds.shape: torch.Size([256, 19, 256])\n",
            "printing rnn.out.shape: torch.Size([256, 19, 256])\n"
          ]
        },
        {
          "output_type": "stream",
          "name": "stderr",
          "text": [
            "\rEpoch: 8  Iteration: 49  Loss: 0.7965437293052673:  81%|████████  | 51/63 [00:25<00:06,  1.89it/s]"
          ]
        },
        {
          "output_type": "stream",
          "name": "stdout",
          "text": [
            "printing embeds.shape: torch.Size([256, 19, 256])\n",
            "printing rnn.out.shape: torch.Size([256, 19, 256])\n"
          ]
        },
        {
          "output_type": "stream",
          "name": "stderr",
          "text": [
            "\rEpoch: 8  Iteration: 49  Loss: 0.7965437293052673:  83%|████████▎ | 52/63 [00:26<00:06,  1.71it/s]"
          ]
        },
        {
          "output_type": "stream",
          "name": "stdout",
          "text": [
            "printing embeds.shape: torch.Size([256, 19, 256])\n",
            "printing rnn.out.shape: torch.Size([256, 19, 256])\n"
          ]
        },
        {
          "output_type": "stream",
          "name": "stderr",
          "text": [
            "\rEpoch: 8  Iteration: 49  Loss: 0.7965437293052673:  84%|████████▍ | 53/63 [00:28<00:08,  1.14it/s]"
          ]
        },
        {
          "output_type": "stream",
          "name": "stdout",
          "text": [
            "printing embeds.shape: torch.Size([256, 19, 256])\n",
            "printing rnn.out.shape: torch.Size([256, 19, 256])\n"
          ]
        },
        {
          "output_type": "stream",
          "name": "stderr",
          "text": [
            "\rEpoch: 8  Iteration: 49  Loss: 0.7965437293052673:  86%|████████▌ | 54/63 [00:28<00:07,  1.24it/s]"
          ]
        },
        {
          "output_type": "stream",
          "name": "stdout",
          "text": [
            "printing embeds.shape: torch.Size([256, 19, 256])\n",
            "printing rnn.out.shape: torch.Size([256, 19, 256])\n"
          ]
        },
        {
          "output_type": "stream",
          "name": "stderr",
          "text": [
            "\rEpoch: 8  Iteration: 49  Loss: 0.7965437293052673:  87%|████████▋ | 55/63 [00:29<00:05,  1.44it/s]"
          ]
        },
        {
          "output_type": "stream",
          "name": "stdout",
          "text": [
            "printing embeds.shape: torch.Size([256, 19, 256])\n",
            "printing rnn.out.shape: torch.Size([256, 19, 256])\n"
          ]
        },
        {
          "output_type": "stream",
          "name": "stderr",
          "text": [
            "\rEpoch: 8  Iteration: 49  Loss: 0.7965437293052673:  89%|████████▉ | 56/63 [00:29<00:04,  1.62it/s]"
          ]
        },
        {
          "output_type": "stream",
          "name": "stdout",
          "text": [
            "printing embeds.shape: torch.Size([256, 19, 256])\n",
            "printing rnn.out.shape: torch.Size([256, 19, 256])\n"
          ]
        },
        {
          "output_type": "stream",
          "name": "stderr",
          "text": [
            "\rEpoch: 8  Iteration: 49  Loss: 0.7965437293052673:  90%|█████████ | 57/63 [00:29<00:03,  1.79it/s]"
          ]
        },
        {
          "output_type": "stream",
          "name": "stdout",
          "text": [
            "printing embeds.shape: torch.Size([256, 19, 256])\n",
            "printing rnn.out.shape: torch.Size([256, 19, 256])\n"
          ]
        },
        {
          "output_type": "stream",
          "name": "stderr",
          "text": [
            "\rEpoch: 8  Iteration: 49  Loss: 0.7965437293052673:  92%|█████████▏| 58/63 [00:30<00:02,  1.93it/s]"
          ]
        },
        {
          "output_type": "stream",
          "name": "stdout",
          "text": [
            "printing embeds.shape: torch.Size([256, 19, 256])\n",
            "printing rnn.out.shape: torch.Size([256, 19, 256])\n"
          ]
        },
        {
          "output_type": "stream",
          "name": "stderr",
          "text": [
            "\rEpoch: 8  Iteration: 49  Loss: 0.7965437293052673:  94%|█████████▎| 59/63 [00:30<00:01,  2.06it/s]"
          ]
        },
        {
          "output_type": "stream",
          "name": "stdout",
          "text": [
            "printing embeds.shape: torch.Size([256, 19, 256])\n",
            "printing rnn.out.shape: torch.Size([256, 19, 256])\n"
          ]
        },
        {
          "output_type": "stream",
          "name": "stderr",
          "text": [
            "Epoch: 8  Iteration: 59  Loss: 0.8001701414585114:  95%|█████████▌| 60/63 [00:31<00:01,  2.14it/s]"
          ]
        },
        {
          "output_type": "stream",
          "name": "stdout",
          "text": [
            "printing embeds.shape: torch.Size([256, 19, 256])\n",
            "printing rnn.out.shape: torch.Size([256, 19, 256])\n"
          ]
        },
        {
          "output_type": "stream",
          "name": "stderr",
          "text": [
            "\rEpoch: 8  Iteration: 59  Loss: 0.8001701414585114:  97%|█████████▋| 61/63 [00:31<00:00,  2.18it/s]"
          ]
        },
        {
          "output_type": "stream",
          "name": "stdout",
          "text": [
            "printing embeds.shape: torch.Size([256, 19, 256])\n",
            "printing rnn.out.shape: torch.Size([256, 19, 256])\n"
          ]
        },
        {
          "output_type": "stream",
          "name": "stderr",
          "text": [
            "\rEpoch: 8  Iteration: 59  Loss: 0.8001701414585114:  98%|█████████▊| 62/63 [00:32<00:00,  2.11it/s]"
          ]
        },
        {
          "output_type": "stream",
          "name": "stdout",
          "text": [
            "printing embeds.shape: torch.Size([187, 19, 256])\n",
            "printing rnn.out.shape: torch.Size([187, 19, 256])\n"
          ]
        },
        {
          "output_type": "stream",
          "name": "stderr",
          "text": [
            "Epoch: 8  Iteration: 59  Loss: 0.8001701414585114: 100%|██████████| 63/63 [00:32<00:00,  1.94it/s]\n"
          ]
        },
        {
          "output_type": "stream",
          "name": "stdout",
          "text": [
            "Epoch: 8  Train Accuracy: 77.24640388567158\n",
            "printing embeds.shape: torch.Size([256, 19, 256])\n",
            "printing rnn.out.shape: torch.Size([256, 19, 256])\n",
            "printing embeds.shape: torch.Size([256, 19, 256])\n",
            "printing rnn.out.shape: torch.Size([256, 19, 256])\n",
            "printing embeds.shape: torch.Size([256, 19, 256])\n",
            "printing rnn.out.shape: torch.Size([256, 19, 256])\n",
            "printing embeds.shape: torch.Size([256, 19, 256])\n",
            "printing rnn.out.shape: torch.Size([256, 19, 256])\n",
            "printing embeds.shape: torch.Size([256, 19, 256])\n",
            "printing rnn.out.shape: torch.Size([256, 19, 256])\n",
            "printing embeds.shape: torch.Size([256, 19, 256])\n",
            "printing rnn.out.shape: torch.Size([256, 19, 256])\n",
            "printing embeds.shape: torch.Size([256, 19, 256])\n",
            "printing rnn.out.shape: torch.Size([256, 19, 256])\n",
            "printing embeds.shape: torch.Size([256, 19, 256])\n",
            "printing rnn.out.shape: torch.Size([256, 19, 256])\n",
            "printing embeds.shape: torch.Size([256, 19, 256])\n",
            "printing rnn.out.shape: torch.Size([256, 19, 256])\n",
            "printing embeds.shape: torch.Size([256, 19, 256])\n",
            "printing rnn.out.shape: torch.Size([256, 19, 256])\n",
            "printing embeds.shape: torch.Size([256, 19, 256])\n",
            "printing rnn.out.shape: torch.Size([256, 19, 256])\n",
            "printing embeds.shape: torch.Size([256, 19, 256])\n",
            "printing rnn.out.shape: torch.Size([256, 19, 256])\n",
            "printing embeds.shape: torch.Size([256, 19, 256])\n",
            "printing rnn.out.shape: torch.Size([256, 19, 256])\n",
            "printing embeds.shape: torch.Size([256, 19, 256])\n",
            "printing rnn.out.shape: torch.Size([256, 19, 256])\n",
            "printing embeds.shape: torch.Size([256, 19, 256])\n",
            "printing rnn.out.shape: torch.Size([256, 19, 256])\n",
            "printing embeds.shape: torch.Size([175, 19, 256])\n",
            "printing rnn.out.shape: torch.Size([175, 19, 256])\n",
            "Epoch: 8  Eval Accuracy: 77.8082191780822\n"
          ]
        },
        {
          "output_type": "stream",
          "name": "stderr",
          "text": [
            "\r  0%|          | 0/63 [00:00<?, ?it/s]"
          ]
        },
        {
          "output_type": "stream",
          "name": "stdout",
          "text": [
            "printing embeds.shape: torch.Size([256, 19, 256])\n",
            "printing rnn.out.shape: torch.Size([256, 19, 256])\n"
          ]
        },
        {
          "output_type": "stream",
          "name": "stderr",
          "text": [
            "\r  2%|▏         | 1/63 [00:00<00:34,  1.80it/s]"
          ]
        },
        {
          "output_type": "stream",
          "name": "stdout",
          "text": [
            "printing embeds.shape: torch.Size([256, 19, 256])\n",
            "printing rnn.out.shape: torch.Size([256, 19, 256])\n"
          ]
        },
        {
          "output_type": "stream",
          "name": "stderr",
          "text": [
            "\r  3%|▎         | 2/63 [00:00<00:28,  2.11it/s]"
          ]
        },
        {
          "output_type": "stream",
          "name": "stdout",
          "text": [
            "printing embeds.shape: torch.Size([256, 19, 256])\n",
            "printing rnn.out.shape: torch.Size([256, 19, 256])\n"
          ]
        },
        {
          "output_type": "stream",
          "name": "stderr",
          "text": [
            "\r  5%|▍         | 3/63 [00:01<00:26,  2.26it/s]"
          ]
        },
        {
          "output_type": "stream",
          "name": "stdout",
          "text": [
            "printing embeds.shape: torch.Size([256, 19, 256])\n",
            "printing rnn.out.shape: torch.Size([256, 19, 256])\n"
          ]
        },
        {
          "output_type": "stream",
          "name": "stderr",
          "text": [
            "\r  6%|▋         | 4/63 [00:01<00:28,  2.05it/s]"
          ]
        },
        {
          "output_type": "stream",
          "name": "stdout",
          "text": [
            "printing embeds.shape: torch.Size([256, 19, 256])\n",
            "printing rnn.out.shape: torch.Size([256, 19, 256])\n"
          ]
        },
        {
          "output_type": "stream",
          "name": "stderr",
          "text": [
            "\r  8%|▊         | 5/63 [00:02<00:26,  2.16it/s]"
          ]
        },
        {
          "output_type": "stream",
          "name": "stdout",
          "text": [
            "printing embeds.shape: torch.Size([256, 19, 256])\n",
            "printing rnn.out.shape: torch.Size([256, 19, 256])\n"
          ]
        },
        {
          "output_type": "stream",
          "name": "stderr",
          "text": [
            "\r 10%|▉         | 6/63 [00:02<00:27,  2.08it/s]"
          ]
        },
        {
          "output_type": "stream",
          "name": "stdout",
          "text": [
            "printing embeds.shape: torch.Size([256, 19, 256])\n",
            "printing rnn.out.shape: torch.Size([256, 19, 256])\n"
          ]
        },
        {
          "output_type": "stream",
          "name": "stderr",
          "text": [
            "\r 11%|█         | 7/63 [00:03<00:25,  2.18it/s]"
          ]
        },
        {
          "output_type": "stream",
          "name": "stdout",
          "text": [
            "printing embeds.shape: torch.Size([256, 19, 256])\n",
            "printing rnn.out.shape: torch.Size([256, 19, 256])\n"
          ]
        },
        {
          "output_type": "stream",
          "name": "stderr",
          "text": [
            "\r 13%|█▎        | 8/63 [00:03<00:24,  2.23it/s]"
          ]
        },
        {
          "output_type": "stream",
          "name": "stdout",
          "text": [
            "printing embeds.shape: torch.Size([256, 19, 256])\n",
            "printing rnn.out.shape: torch.Size([256, 19, 256])\n"
          ]
        },
        {
          "output_type": "stream",
          "name": "stderr",
          "text": [
            "\r 14%|█▍        | 9/63 [00:04<00:25,  2.09it/s]"
          ]
        },
        {
          "output_type": "stream",
          "name": "stdout",
          "text": [
            "printing embeds.shape: torch.Size([256, 19, 256])\n",
            "printing rnn.out.shape: torch.Size([256, 19, 256])\n"
          ]
        },
        {
          "output_type": "stream",
          "name": "stderr",
          "text": [
            "Epoch: 9  Iteration: 9  Loss: 0.7561755836009979:  16%|█▌        | 10/63 [00:04<00:24,  2.13it/s]"
          ]
        },
        {
          "output_type": "stream",
          "name": "stdout",
          "text": [
            "printing embeds.shape: torch.Size([256, 19, 256])\n",
            "printing rnn.out.shape: torch.Size([256, 19, 256])\n"
          ]
        },
        {
          "output_type": "stream",
          "name": "stderr",
          "text": [
            "\rEpoch: 9  Iteration: 9  Loss: 0.7561755836009979:  17%|█▋        | 11/63 [00:05<00:27,  1.87it/s]"
          ]
        },
        {
          "output_type": "stream",
          "name": "stdout",
          "text": [
            "printing embeds.shape: torch.Size([256, 19, 256])\n",
            "printing rnn.out.shape: torch.Size([256, 19, 256])\n"
          ]
        },
        {
          "output_type": "stream",
          "name": "stderr",
          "text": [
            "\rEpoch: 9  Iteration: 9  Loss: 0.7561755836009979:  19%|█▉        | 12/63 [00:06<00:29,  1.72it/s]"
          ]
        },
        {
          "output_type": "stream",
          "name": "stdout",
          "text": [
            "printing embeds.shape: torch.Size([256, 19, 256])\n",
            "printing rnn.out.shape: torch.Size([256, 19, 256])\n"
          ]
        },
        {
          "output_type": "stream",
          "name": "stderr",
          "text": [
            "\rEpoch: 9  Iteration: 9  Loss: 0.7561755836009979:  21%|██        | 13/63 [00:06<00:30,  1.65it/s]"
          ]
        },
        {
          "output_type": "stream",
          "name": "stdout",
          "text": [
            "printing embeds.shape: torch.Size([256, 19, 256])\n",
            "printing rnn.out.shape: torch.Size([256, 19, 256])\n"
          ]
        },
        {
          "output_type": "stream",
          "name": "stderr",
          "text": [
            "\rEpoch: 9  Iteration: 9  Loss: 0.7561755836009979:  22%|██▏       | 14/63 [00:07<00:29,  1.68it/s]"
          ]
        },
        {
          "output_type": "stream",
          "name": "stdout",
          "text": [
            "printing embeds.shape: torch.Size([256, 19, 256])\n",
            "printing rnn.out.shape: torch.Size([256, 19, 256])\n"
          ]
        },
        {
          "output_type": "stream",
          "name": "stderr",
          "text": [
            "\rEpoch: 9  Iteration: 9  Loss: 0.7561755836009979:  24%|██▍       | 15/63 [00:07<00:28,  1.71it/s]"
          ]
        },
        {
          "output_type": "stream",
          "name": "stdout",
          "text": [
            "printing embeds.shape: torch.Size([256, 19, 256])\n",
            "printing rnn.out.shape: torch.Size([256, 19, 256])\n"
          ]
        },
        {
          "output_type": "stream",
          "name": "stderr",
          "text": [
            "\rEpoch: 9  Iteration: 9  Loss: 0.7561755836009979:  25%|██▌       | 16/63 [00:08<00:26,  1.76it/s]"
          ]
        },
        {
          "output_type": "stream",
          "name": "stdout",
          "text": [
            "printing embeds.shape: torch.Size([256, 19, 256])\n",
            "printing rnn.out.shape: torch.Size([256, 19, 256])\n"
          ]
        },
        {
          "output_type": "stream",
          "name": "stderr",
          "text": [
            "\rEpoch: 9  Iteration: 9  Loss: 0.7561755836009979:  27%|██▋       | 17/63 [00:08<00:25,  1.82it/s]"
          ]
        },
        {
          "output_type": "stream",
          "name": "stdout",
          "text": [
            "printing embeds.shape: torch.Size([256, 19, 256])\n",
            "printing rnn.out.shape: torch.Size([256, 19, 256])\n"
          ]
        },
        {
          "output_type": "stream",
          "name": "stderr",
          "text": [
            "\rEpoch: 9  Iteration: 9  Loss: 0.7561755836009979:  29%|██▊       | 18/63 [00:09<00:23,  1.95it/s]"
          ]
        },
        {
          "output_type": "stream",
          "name": "stdout",
          "text": [
            "printing embeds.shape: torch.Size([256, 19, 256])\n",
            "printing rnn.out.shape: torch.Size([256, 19, 256])\n"
          ]
        },
        {
          "output_type": "stream",
          "name": "stderr",
          "text": [
            "\rEpoch: 9  Iteration: 9  Loss: 0.7561755836009979:  30%|███       | 19/63 [00:09<00:22,  1.97it/s]"
          ]
        },
        {
          "output_type": "stream",
          "name": "stdout",
          "text": [
            "printing embeds.shape: torch.Size([256, 19, 256])\n",
            "printing rnn.out.shape: torch.Size([256, 19, 256])\n"
          ]
        },
        {
          "output_type": "stream",
          "name": "stderr",
          "text": [
            "Epoch: 9  Iteration: 19  Loss: 0.7858586847782135:  32%|███▏      | 20/63 [00:10<00:22,  1.91it/s]"
          ]
        },
        {
          "output_type": "stream",
          "name": "stdout",
          "text": [
            "printing embeds.shape: torch.Size([256, 19, 256])\n",
            "printing rnn.out.shape: torch.Size([256, 19, 256])\n"
          ]
        },
        {
          "output_type": "stream",
          "name": "stderr",
          "text": [
            "\rEpoch: 9  Iteration: 19  Loss: 0.7858586847782135:  33%|███▎      | 21/63 [00:10<00:21,  2.00it/s]"
          ]
        },
        {
          "output_type": "stream",
          "name": "stdout",
          "text": [
            "printing embeds.shape: torch.Size([256, 19, 256])\n",
            "printing rnn.out.shape: torch.Size([256, 19, 256])\n"
          ]
        },
        {
          "output_type": "stream",
          "name": "stderr",
          "text": [
            "\rEpoch: 9  Iteration: 19  Loss: 0.7858586847782135:  35%|███▍      | 22/63 [00:11<00:26,  1.57it/s]"
          ]
        },
        {
          "output_type": "stream",
          "name": "stdout",
          "text": [
            "printing embeds.shape: torch.Size([256, 19, 256])\n",
            "printing rnn.out.shape: torch.Size([256, 19, 256])\n"
          ]
        },
        {
          "output_type": "stream",
          "name": "stderr",
          "text": [
            "\rEpoch: 9  Iteration: 19  Loss: 0.7858586847782135:  37%|███▋      | 23/63 [00:12<00:22,  1.76it/s]"
          ]
        },
        {
          "output_type": "stream",
          "name": "stdout",
          "text": [
            "printing embeds.shape: torch.Size([256, 19, 256])\n",
            "printing rnn.out.shape: torch.Size([256, 19, 256])\n"
          ]
        },
        {
          "output_type": "stream",
          "name": "stderr",
          "text": [
            "\rEpoch: 9  Iteration: 19  Loss: 0.7858586847782135:  38%|███▊      | 24/63 [00:12<00:20,  1.91it/s]"
          ]
        },
        {
          "output_type": "stream",
          "name": "stdout",
          "text": [
            "printing embeds.shape: torch.Size([256, 19, 256])\n",
            "printing rnn.out.shape: torch.Size([256, 19, 256])\n"
          ]
        },
        {
          "output_type": "stream",
          "name": "stderr",
          "text": [
            "\rEpoch: 9  Iteration: 19  Loss: 0.7858586847782135:  40%|███▉      | 25/63 [00:13<00:18,  2.05it/s]"
          ]
        },
        {
          "output_type": "stream",
          "name": "stdout",
          "text": [
            "printing embeds.shape: torch.Size([256, 19, 256])\n",
            "printing rnn.out.shape: torch.Size([256, 19, 256])\n"
          ]
        },
        {
          "output_type": "stream",
          "name": "stderr",
          "text": [
            "\rEpoch: 9  Iteration: 19  Loss: 0.7858586847782135:  41%|████▏     | 26/63 [00:13<00:17,  2.14it/s]"
          ]
        },
        {
          "output_type": "stream",
          "name": "stdout",
          "text": [
            "printing embeds.shape: torch.Size([256, 19, 256])\n",
            "printing rnn.out.shape: torch.Size([256, 19, 256])\n"
          ]
        },
        {
          "output_type": "stream",
          "name": "stderr",
          "text": [
            "\rEpoch: 9  Iteration: 19  Loss: 0.7858586847782135:  43%|████▎     | 27/63 [00:13<00:16,  2.20it/s]"
          ]
        },
        {
          "output_type": "stream",
          "name": "stdout",
          "text": [
            "printing embeds.shape: torch.Size([256, 19, 256])\n",
            "printing rnn.out.shape: torch.Size([256, 19, 256])\n"
          ]
        },
        {
          "output_type": "stream",
          "name": "stderr",
          "text": [
            "\rEpoch: 9  Iteration: 19  Loss: 0.7858586847782135:  44%|████▍     | 28/63 [00:14<00:16,  2.13it/s]"
          ]
        },
        {
          "output_type": "stream",
          "name": "stdout",
          "text": [
            "printing embeds.shape: torch.Size([256, 19, 256])\n",
            "printing rnn.out.shape: torch.Size([256, 19, 256])\n"
          ]
        },
        {
          "output_type": "stream",
          "name": "stderr",
          "text": [
            "\rEpoch: 9  Iteration: 19  Loss: 0.7858586847782135:  46%|████▌     | 29/63 [00:14<00:16,  2.12it/s]"
          ]
        },
        {
          "output_type": "stream",
          "name": "stdout",
          "text": [
            "printing embeds.shape: torch.Size([256, 19, 256])\n",
            "printing rnn.out.shape: torch.Size([256, 19, 256])\n"
          ]
        },
        {
          "output_type": "stream",
          "name": "stderr",
          "text": [
            "Epoch: 9  Iteration: 29  Loss: 0.7272253096103668:  48%|████▊     | 30/63 [00:15<00:15,  2.15it/s]"
          ]
        },
        {
          "output_type": "stream",
          "name": "stdout",
          "text": [
            "printing embeds.shape: torch.Size([256, 19, 256])\n",
            "printing rnn.out.shape: torch.Size([256, 19, 256])\n"
          ]
        },
        {
          "output_type": "stream",
          "name": "stderr",
          "text": [
            "\rEpoch: 9  Iteration: 29  Loss: 0.7272253096103668:  49%|████▉     | 31/63 [00:15<00:14,  2.13it/s]"
          ]
        },
        {
          "output_type": "stream",
          "name": "stdout",
          "text": [
            "printing embeds.shape: torch.Size([256, 19, 256])\n",
            "printing rnn.out.shape: torch.Size([256, 19, 256])\n"
          ]
        },
        {
          "output_type": "stream",
          "name": "stderr",
          "text": [
            "\rEpoch: 9  Iteration: 29  Loss: 0.7272253096103668:  51%|█████     | 32/63 [00:16<00:14,  2.11it/s]"
          ]
        },
        {
          "output_type": "stream",
          "name": "stdout",
          "text": [
            "printing embeds.shape: torch.Size([256, 19, 256])\n",
            "printing rnn.out.shape: torch.Size([256, 19, 256])\n"
          ]
        },
        {
          "output_type": "stream",
          "name": "stderr",
          "text": [
            "\rEpoch: 9  Iteration: 29  Loss: 0.7272253096103668:  52%|█████▏    | 33/63 [00:16<00:13,  2.21it/s]"
          ]
        },
        {
          "output_type": "stream",
          "name": "stdout",
          "text": [
            "printing embeds.shape: torch.Size([256, 19, 256])\n",
            "printing rnn.out.shape: torch.Size([256, 19, 256])\n"
          ]
        },
        {
          "output_type": "stream",
          "name": "stderr",
          "text": [
            "\rEpoch: 9  Iteration: 29  Loss: 0.7272253096103668:  54%|█████▍    | 34/63 [00:17<00:12,  2.24it/s]"
          ]
        },
        {
          "output_type": "stream",
          "name": "stdout",
          "text": [
            "printing embeds.shape: torch.Size([256, 19, 256])\n",
            "printing rnn.out.shape: torch.Size([256, 19, 256])\n"
          ]
        },
        {
          "output_type": "stream",
          "name": "stderr",
          "text": [
            "\rEpoch: 9  Iteration: 29  Loss: 0.7272253096103668:  56%|█████▌    | 35/63 [00:17<00:13,  2.04it/s]"
          ]
        },
        {
          "output_type": "stream",
          "name": "stdout",
          "text": [
            "printing embeds.shape: torch.Size([256, 19, 256])\n",
            "printing rnn.out.shape: torch.Size([256, 19, 256])\n"
          ]
        },
        {
          "output_type": "stream",
          "name": "stderr",
          "text": [
            "\rEpoch: 9  Iteration: 29  Loss: 0.7272253096103668:  57%|█████▋    | 36/63 [00:18<00:14,  1.85it/s]"
          ]
        },
        {
          "output_type": "stream",
          "name": "stdout",
          "text": [
            "printing embeds.shape: torch.Size([256, 19, 256])\n",
            "printing rnn.out.shape: torch.Size([256, 19, 256])\n"
          ]
        },
        {
          "output_type": "stream",
          "name": "stderr",
          "text": [
            "\rEpoch: 9  Iteration: 29  Loss: 0.7272253096103668:  59%|█████▊    | 37/63 [00:18<00:14,  1.74it/s]"
          ]
        },
        {
          "output_type": "stream",
          "name": "stdout",
          "text": [
            "printing embeds.shape: torch.Size([256, 19, 256])\n",
            "printing rnn.out.shape: torch.Size([256, 19, 256])\n"
          ]
        },
        {
          "output_type": "stream",
          "name": "stderr",
          "text": [
            "\rEpoch: 9  Iteration: 29  Loss: 0.7272253096103668:  60%|██████    | 38/63 [00:19<00:14,  1.77it/s]"
          ]
        },
        {
          "output_type": "stream",
          "name": "stdout",
          "text": [
            "printing embeds.shape: torch.Size([256, 19, 256])\n",
            "printing rnn.out.shape: torch.Size([256, 19, 256])\n"
          ]
        },
        {
          "output_type": "stream",
          "name": "stderr",
          "text": [
            "\rEpoch: 9  Iteration: 29  Loss: 0.7272253096103668:  62%|██████▏   | 39/63 [00:20<00:13,  1.77it/s]"
          ]
        },
        {
          "output_type": "stream",
          "name": "stdout",
          "text": [
            "printing embeds.shape: torch.Size([256, 19, 256])\n",
            "printing rnn.out.shape: torch.Size([256, 19, 256])\n"
          ]
        },
        {
          "output_type": "stream",
          "name": "stderr",
          "text": [
            "Epoch: 9  Iteration: 39  Loss: 0.7835176348686218:  63%|██████▎   | 40/63 [00:20<00:12,  1.85it/s]"
          ]
        },
        {
          "output_type": "stream",
          "name": "stdout",
          "text": [
            "printing embeds.shape: torch.Size([256, 19, 256])\n",
            "printing rnn.out.shape: torch.Size([256, 19, 256])\n"
          ]
        },
        {
          "output_type": "stream",
          "name": "stderr",
          "text": [
            "\rEpoch: 9  Iteration: 39  Loss: 0.7835176348686218:  65%|██████▌   | 41/63 [00:21<00:11,  1.97it/s]"
          ]
        },
        {
          "output_type": "stream",
          "name": "stdout",
          "text": [
            "printing embeds.shape: torch.Size([256, 19, 256])\n",
            "printing rnn.out.shape: torch.Size([256, 19, 256])\n"
          ]
        },
        {
          "output_type": "stream",
          "name": "stderr",
          "text": [
            "\rEpoch: 9  Iteration: 39  Loss: 0.7835176348686218:  67%|██████▋   | 42/63 [00:21<00:10,  2.01it/s]"
          ]
        },
        {
          "output_type": "stream",
          "name": "stdout",
          "text": [
            "printing embeds.shape: torch.Size([256, 19, 256])\n",
            "printing rnn.out.shape: torch.Size([256, 19, 256])\n"
          ]
        },
        {
          "output_type": "stream",
          "name": "stderr",
          "text": [
            "\rEpoch: 9  Iteration: 39  Loss: 0.7835176348686218:  68%|██████▊   | 43/63 [00:21<00:09,  2.10it/s]"
          ]
        },
        {
          "output_type": "stream",
          "name": "stdout",
          "text": [
            "printing embeds.shape: torch.Size([256, 19, 256])\n",
            "printing rnn.out.shape: torch.Size([256, 19, 256])\n"
          ]
        },
        {
          "output_type": "stream",
          "name": "stderr",
          "text": [
            "\rEpoch: 9  Iteration: 39  Loss: 0.7835176348686218:  70%|██████▉   | 44/63 [00:22<00:08,  2.13it/s]"
          ]
        },
        {
          "output_type": "stream",
          "name": "stdout",
          "text": [
            "printing embeds.shape: torch.Size([256, 19, 256])\n",
            "printing rnn.out.shape: torch.Size([256, 19, 256])\n"
          ]
        },
        {
          "output_type": "stream",
          "name": "stderr",
          "text": [
            "\rEpoch: 9  Iteration: 39  Loss: 0.7835176348686218:  71%|███████▏  | 45/63 [00:22<00:08,  2.20it/s]"
          ]
        },
        {
          "output_type": "stream",
          "name": "stdout",
          "text": [
            "printing embeds.shape: torch.Size([256, 19, 256])\n",
            "printing rnn.out.shape: torch.Size([256, 19, 256])\n"
          ]
        },
        {
          "output_type": "stream",
          "name": "stderr",
          "text": [
            "\rEpoch: 9  Iteration: 39  Loss: 0.7835176348686218:  73%|███████▎  | 46/63 [00:23<00:08,  2.08it/s]"
          ]
        },
        {
          "output_type": "stream",
          "name": "stdout",
          "text": [
            "printing embeds.shape: torch.Size([256, 19, 256])\n",
            "printing rnn.out.shape: torch.Size([256, 19, 256])\n"
          ]
        },
        {
          "output_type": "stream",
          "name": "stderr",
          "text": [
            "\rEpoch: 9  Iteration: 39  Loss: 0.7835176348686218:  75%|███████▍  | 47/63 [00:23<00:07,  2.09it/s]"
          ]
        },
        {
          "output_type": "stream",
          "name": "stdout",
          "text": [
            "printing embeds.shape: torch.Size([256, 19, 256])\n",
            "printing rnn.out.shape: torch.Size([256, 19, 256])\n"
          ]
        },
        {
          "output_type": "stream",
          "name": "stderr",
          "text": [
            "\rEpoch: 9  Iteration: 39  Loss: 0.7835176348686218:  76%|███████▌  | 48/63 [00:24<00:06,  2.19it/s]"
          ]
        },
        {
          "output_type": "stream",
          "name": "stdout",
          "text": [
            "printing embeds.shape: torch.Size([256, 19, 256])\n",
            "printing rnn.out.shape: torch.Size([256, 19, 256])\n"
          ]
        },
        {
          "output_type": "stream",
          "name": "stderr",
          "text": [
            "\rEpoch: 9  Iteration: 39  Loss: 0.7835176348686218:  78%|███████▊  | 49/63 [00:24<00:06,  2.25it/s]"
          ]
        },
        {
          "output_type": "stream",
          "name": "stdout",
          "text": [
            "printing embeds.shape: torch.Size([256, 19, 256])\n",
            "printing rnn.out.shape: torch.Size([256, 19, 256])\n"
          ]
        },
        {
          "output_type": "stream",
          "name": "stderr",
          "text": [
            "Epoch: 9  Iteration: 49  Loss: 0.7730300724506378:  79%|███████▉  | 50/63 [00:25<00:05,  2.29it/s]"
          ]
        },
        {
          "output_type": "stream",
          "name": "stdout",
          "text": [
            "printing embeds.shape: torch.Size([256, 19, 256])\n",
            "printing rnn.out.shape: torch.Size([256, 19, 256])\n"
          ]
        },
        {
          "output_type": "stream",
          "name": "stderr",
          "text": [
            "\rEpoch: 9  Iteration: 49  Loss: 0.7730300724506378:  81%|████████  | 51/63 [00:25<00:05,  2.22it/s]"
          ]
        },
        {
          "output_type": "stream",
          "name": "stdout",
          "text": [
            "printing embeds.shape: torch.Size([256, 19, 256])\n",
            "printing rnn.out.shape: torch.Size([256, 19, 256])\n"
          ]
        },
        {
          "output_type": "stream",
          "name": "stderr",
          "text": [
            "\rEpoch: 9  Iteration: 49  Loss: 0.7730300724506378:  83%|████████▎ | 52/63 [00:26<00:05,  2.11it/s]"
          ]
        },
        {
          "output_type": "stream",
          "name": "stdout",
          "text": [
            "printing embeds.shape: torch.Size([256, 19, 256])\n",
            "printing rnn.out.shape: torch.Size([256, 19, 256])\n"
          ]
        },
        {
          "output_type": "stream",
          "name": "stderr",
          "text": [
            "\rEpoch: 9  Iteration: 49  Loss: 0.7730300724506378:  84%|████████▍ | 53/63 [00:26<00:04,  2.19it/s]"
          ]
        },
        {
          "output_type": "stream",
          "name": "stdout",
          "text": [
            "printing embeds.shape: torch.Size([256, 19, 256])\n",
            "printing rnn.out.shape: torch.Size([256, 19, 256])\n"
          ]
        },
        {
          "output_type": "stream",
          "name": "stderr",
          "text": [
            "\rEpoch: 9  Iteration: 49  Loss: 0.7730300724506378:  86%|████████▌ | 54/63 [00:27<00:04,  2.08it/s]"
          ]
        },
        {
          "output_type": "stream",
          "name": "stdout",
          "text": [
            "printing embeds.shape: torch.Size([256, 19, 256])\n",
            "printing rnn.out.shape: torch.Size([256, 19, 256])\n"
          ]
        },
        {
          "output_type": "stream",
          "name": "stderr",
          "text": [
            "\rEpoch: 9  Iteration: 49  Loss: 0.7730300724506378:  87%|████████▋ | 55/63 [00:27<00:03,  2.14it/s]"
          ]
        },
        {
          "output_type": "stream",
          "name": "stdout",
          "text": [
            "printing embeds.shape: torch.Size([256, 19, 256])\n",
            "printing rnn.out.shape: torch.Size([256, 19, 256])\n"
          ]
        },
        {
          "output_type": "stream",
          "name": "stderr",
          "text": [
            "\rEpoch: 9  Iteration: 49  Loss: 0.7730300724506378:  89%|████████▉ | 56/63 [00:27<00:03,  2.07it/s]"
          ]
        },
        {
          "output_type": "stream",
          "name": "stdout",
          "text": [
            "printing embeds.shape: torch.Size([256, 19, 256])\n",
            "printing rnn.out.shape: torch.Size([256, 19, 256])\n"
          ]
        },
        {
          "output_type": "stream",
          "name": "stderr",
          "text": [
            "\rEpoch: 9  Iteration: 49  Loss: 0.7730300724506378:  90%|█████████ | 57/63 [00:28<00:02,  2.18it/s]"
          ]
        },
        {
          "output_type": "stream",
          "name": "stdout",
          "text": [
            "printing embeds.shape: torch.Size([256, 19, 256])\n",
            "printing rnn.out.shape: torch.Size([256, 19, 256])\n"
          ]
        },
        {
          "output_type": "stream",
          "name": "stderr",
          "text": [
            "\rEpoch: 9  Iteration: 49  Loss: 0.7730300724506378:  92%|█████████▏| 58/63 [00:28<00:02,  2.20it/s]"
          ]
        },
        {
          "output_type": "stream",
          "name": "stdout",
          "text": [
            "printing embeds.shape: torch.Size([256, 19, 256])\n",
            "printing rnn.out.shape: torch.Size([256, 19, 256])\n"
          ]
        },
        {
          "output_type": "stream",
          "name": "stderr",
          "text": [
            "\rEpoch: 9  Iteration: 49  Loss: 0.7730300724506378:  94%|█████████▎| 59/63 [00:29<00:01,  2.15it/s]"
          ]
        },
        {
          "output_type": "stream",
          "name": "stdout",
          "text": [
            "printing embeds.shape: torch.Size([256, 19, 256])\n",
            "printing rnn.out.shape: torch.Size([256, 19, 256])\n"
          ]
        },
        {
          "output_type": "stream",
          "name": "stderr",
          "text": [
            "Epoch: 9  Iteration: 59  Loss: 0.7528276979923249:  95%|█████████▌| 60/63 [00:29<00:01,  2.04it/s]"
          ]
        },
        {
          "output_type": "stream",
          "name": "stdout",
          "text": [
            "printing embeds.shape: torch.Size([256, 19, 256])\n",
            "printing rnn.out.shape: torch.Size([256, 19, 256])\n"
          ]
        },
        {
          "output_type": "stream",
          "name": "stderr",
          "text": [
            "\rEpoch: 9  Iteration: 59  Loss: 0.7528276979923249:  97%|█████████▋| 61/63 [00:30<00:00,  2.02it/s]"
          ]
        },
        {
          "output_type": "stream",
          "name": "stdout",
          "text": [
            "printing embeds.shape: torch.Size([256, 19, 256])\n",
            "printing rnn.out.shape: torch.Size([256, 19, 256])\n"
          ]
        },
        {
          "output_type": "stream",
          "name": "stderr",
          "text": [
            "\rEpoch: 9  Iteration: 59  Loss: 0.7528276979923249:  98%|█████████▊| 62/63 [00:30<00:00,  1.97it/s]"
          ]
        },
        {
          "output_type": "stream",
          "name": "stdout",
          "text": [
            "printing embeds.shape: torch.Size([187, 19, 256])\n",
            "printing rnn.out.shape: torch.Size([187, 19, 256])\n"
          ]
        },
        {
          "output_type": "stream",
          "name": "stderr",
          "text": [
            "Epoch: 9  Iteration: 59  Loss: 0.7528276979923249: 100%|██████████| 63/63 [00:31<00:00,  2.01it/s]\n"
          ]
        },
        {
          "output_type": "stream",
          "name": "stdout",
          "text": [
            "Epoch: 9  Train Accuracy: 77.86910766548353\n",
            "printing embeds.shape: torch.Size([256, 19, 256])\n",
            "printing rnn.out.shape: torch.Size([256, 19, 256])\n",
            "printing embeds.shape: torch.Size([256, 19, 256])\n",
            "printing rnn.out.shape: torch.Size([256, 19, 256])\n",
            "printing embeds.shape: torch.Size([256, 19, 256])\n",
            "printing rnn.out.shape: torch.Size([256, 19, 256])\n",
            "printing embeds.shape: torch.Size([256, 19, 256])\n",
            "printing rnn.out.shape: torch.Size([256, 19, 256])\n",
            "printing embeds.shape: torch.Size([256, 19, 256])\n",
            "printing rnn.out.shape: torch.Size([256, 19, 256])\n",
            "printing embeds.shape: torch.Size([256, 19, 256])\n",
            "printing rnn.out.shape: torch.Size([256, 19, 256])\n",
            "printing embeds.shape: torch.Size([256, 19, 256])\n",
            "printing rnn.out.shape: torch.Size([256, 19, 256])\n",
            "printing embeds.shape: torch.Size([256, 19, 256])\n",
            "printing rnn.out.shape: torch.Size([256, 19, 256])\n",
            "printing embeds.shape: torch.Size([256, 19, 256])\n",
            "printing rnn.out.shape: torch.Size([256, 19, 256])\n",
            "printing embeds.shape: torch.Size([256, 19, 256])\n",
            "printing rnn.out.shape: torch.Size([256, 19, 256])\n",
            "printing embeds.shape: torch.Size([256, 19, 256])\n",
            "printing rnn.out.shape: torch.Size([256, 19, 256])\n",
            "printing embeds.shape: torch.Size([256, 19, 256])\n",
            "printing rnn.out.shape: torch.Size([256, 19, 256])\n",
            "printing embeds.shape: torch.Size([256, 19, 256])\n",
            "printing rnn.out.shape: torch.Size([256, 19, 256])\n",
            "printing embeds.shape: torch.Size([256, 19, 256])\n",
            "printing rnn.out.shape: torch.Size([256, 19, 256])\n",
            "printing embeds.shape: torch.Size([256, 19, 256])\n",
            "printing rnn.out.shape: torch.Size([256, 19, 256])\n",
            "printing embeds.shape: torch.Size([175, 19, 256])\n",
            "printing rnn.out.shape: torch.Size([175, 19, 256])\n",
            "Epoch: 9  Eval Accuracy: 78.48069738480697\n"
          ]
        },
        {
          "output_type": "stream",
          "name": "stderr",
          "text": [
            "\r  0%|          | 0/63 [00:00<?, ?it/s]"
          ]
        },
        {
          "output_type": "stream",
          "name": "stdout",
          "text": [
            "printing embeds.shape: torch.Size([256, 19, 256])\n",
            "printing rnn.out.shape: torch.Size([256, 19, 256])\n"
          ]
        },
        {
          "output_type": "stream",
          "name": "stderr",
          "text": [
            "\r  2%|▏         | 1/63 [00:00<00:37,  1.66it/s]"
          ]
        },
        {
          "output_type": "stream",
          "name": "stdout",
          "text": [
            "printing embeds.shape: torch.Size([256, 19, 256])\n",
            "printing rnn.out.shape: torch.Size([256, 19, 256])\n"
          ]
        },
        {
          "output_type": "stream",
          "name": "stderr",
          "text": [
            "\r  3%|▎         | 2/63 [00:01<00:33,  1.84it/s]"
          ]
        },
        {
          "output_type": "stream",
          "name": "stdout",
          "text": [
            "printing embeds.shape: torch.Size([256, 19, 256])\n",
            "printing rnn.out.shape: torch.Size([256, 19, 256])\n"
          ]
        },
        {
          "output_type": "stream",
          "name": "stderr",
          "text": [
            "\r  5%|▍         | 3/63 [00:01<00:29,  2.07it/s]"
          ]
        },
        {
          "output_type": "stream",
          "name": "stdout",
          "text": [
            "printing embeds.shape: torch.Size([256, 19, 256])\n",
            "printing rnn.out.shape: torch.Size([256, 19, 256])\n"
          ]
        },
        {
          "output_type": "stream",
          "name": "stderr",
          "text": [
            "\r  6%|▋         | 4/63 [00:02<00:30,  1.94it/s]"
          ]
        },
        {
          "output_type": "stream",
          "name": "stdout",
          "text": [
            "printing embeds.shape: torch.Size([256, 19, 256])\n",
            "printing rnn.out.shape: torch.Size([256, 19, 256])\n"
          ]
        },
        {
          "output_type": "stream",
          "name": "stderr",
          "text": [
            "\r  8%|▊         | 5/63 [00:02<00:28,  2.05it/s]"
          ]
        },
        {
          "output_type": "stream",
          "name": "stdout",
          "text": [
            "printing embeds.shape: torch.Size([256, 19, 256])\n",
            "printing rnn.out.shape: torch.Size([256, 19, 256])\n"
          ]
        },
        {
          "output_type": "stream",
          "name": "stderr",
          "text": [
            "\r 10%|▉         | 6/63 [00:03<00:28,  2.03it/s]"
          ]
        },
        {
          "output_type": "stream",
          "name": "stdout",
          "text": [
            "printing embeds.shape: torch.Size([256, 19, 256])\n",
            "printing rnn.out.shape: torch.Size([256, 19, 256])\n"
          ]
        },
        {
          "output_type": "stream",
          "name": "stderr",
          "text": [
            "\r 11%|█         | 7/63 [00:03<00:26,  2.13it/s]"
          ]
        },
        {
          "output_type": "stream",
          "name": "stdout",
          "text": [
            "printing embeds.shape: torch.Size([256, 19, 256])\n",
            "printing rnn.out.shape: torch.Size([256, 19, 256])\n"
          ]
        },
        {
          "output_type": "stream",
          "name": "stderr",
          "text": [
            "\r 13%|█▎        | 8/63 [00:03<00:24,  2.21it/s]"
          ]
        },
        {
          "output_type": "stream",
          "name": "stdout",
          "text": [
            "printing embeds.shape: torch.Size([256, 19, 256])\n",
            "printing rnn.out.shape: torch.Size([256, 19, 256])\n"
          ]
        },
        {
          "output_type": "stream",
          "name": "stderr",
          "text": [
            "\r 14%|█▍        | 9/63 [00:04<00:25,  2.09it/s]"
          ]
        },
        {
          "output_type": "stream",
          "name": "stdout",
          "text": [
            "printing embeds.shape: torch.Size([256, 19, 256])\n",
            "printing rnn.out.shape: torch.Size([256, 19, 256])\n"
          ]
        },
        {
          "output_type": "stream",
          "name": "stderr",
          "text": [
            "Epoch: 10  Iteration: 9  Loss: 0.749109023809433:  16%|█▌        | 10/63 [00:04<00:24,  2.18it/s]"
          ]
        },
        {
          "output_type": "stream",
          "name": "stdout",
          "text": [
            "printing embeds.shape: torch.Size([256, 19, 256])\n",
            "printing rnn.out.shape: torch.Size([256, 19, 256])\n"
          ]
        },
        {
          "output_type": "stream",
          "name": "stderr",
          "text": [
            "\rEpoch: 10  Iteration: 9  Loss: 0.749109023809433:  17%|█▋        | 11/63 [00:05<00:23,  2.22it/s]"
          ]
        },
        {
          "output_type": "stream",
          "name": "stdout",
          "text": [
            "printing embeds.shape: torch.Size([256, 19, 256])\n",
            "printing rnn.out.shape: torch.Size([256, 19, 256])\n"
          ]
        },
        {
          "output_type": "stream",
          "name": "stderr",
          "text": [
            "\rEpoch: 10  Iteration: 9  Loss: 0.749109023809433:  19%|█▉        | 12/63 [00:05<00:23,  2.20it/s]"
          ]
        },
        {
          "output_type": "stream",
          "name": "stdout",
          "text": [
            "printing embeds.shape: torch.Size([256, 19, 256])\n",
            "printing rnn.out.shape: torch.Size([256, 19, 256])\n"
          ]
        },
        {
          "output_type": "stream",
          "name": "stderr",
          "text": [
            "\rEpoch: 10  Iteration: 9  Loss: 0.749109023809433:  21%|██        | 13/63 [00:06<00:22,  2.26it/s]"
          ]
        },
        {
          "output_type": "stream",
          "name": "stdout",
          "text": [
            "printing embeds.shape: torch.Size([256, 19, 256])\n",
            "printing rnn.out.shape: torch.Size([256, 19, 256])\n"
          ]
        },
        {
          "output_type": "stream",
          "name": "stderr",
          "text": [
            "\rEpoch: 10  Iteration: 9  Loss: 0.749109023809433:  22%|██▏       | 14/63 [00:06<00:21,  2.30it/s]"
          ]
        },
        {
          "output_type": "stream",
          "name": "stdout",
          "text": [
            "printing embeds.shape: torch.Size([256, 19, 256])\n",
            "printing rnn.out.shape: torch.Size([256, 19, 256])\n"
          ]
        },
        {
          "output_type": "stream",
          "name": "stderr",
          "text": [
            "\rEpoch: 10  Iteration: 9  Loss: 0.749109023809433:  24%|██▍       | 15/63 [00:06<00:20,  2.35it/s]"
          ]
        },
        {
          "output_type": "stream",
          "name": "stdout",
          "text": [
            "printing embeds.shape: torch.Size([256, 19, 256])\n",
            "printing rnn.out.shape: torch.Size([256, 19, 256])\n"
          ]
        },
        {
          "output_type": "stream",
          "name": "stderr",
          "text": [
            "\rEpoch: 10  Iteration: 9  Loss: 0.749109023809433:  25%|██▌       | 16/63 [00:07<00:19,  2.36it/s]"
          ]
        },
        {
          "output_type": "stream",
          "name": "stdout",
          "text": [
            "printing embeds.shape: torch.Size([256, 19, 256])\n",
            "printing rnn.out.shape: torch.Size([256, 19, 256])\n"
          ]
        },
        {
          "output_type": "stream",
          "name": "stderr",
          "text": [
            "\rEpoch: 10  Iteration: 9  Loss: 0.749109023809433:  27%|██▋       | 17/63 [00:07<00:19,  2.35it/s]"
          ]
        },
        {
          "output_type": "stream",
          "name": "stdout",
          "text": [
            "printing embeds.shape: torch.Size([256, 19, 256])\n",
            "printing rnn.out.shape: torch.Size([256, 19, 256])\n"
          ]
        },
        {
          "output_type": "stream",
          "name": "stderr",
          "text": [
            "\rEpoch: 10  Iteration: 9  Loss: 0.749109023809433:  29%|██▊       | 18/63 [00:08<00:19,  2.29it/s]"
          ]
        },
        {
          "output_type": "stream",
          "name": "stdout",
          "text": [
            "printing embeds.shape: torch.Size([256, 19, 256])\n",
            "printing rnn.out.shape: torch.Size([256, 19, 256])\n"
          ]
        },
        {
          "output_type": "stream",
          "name": "stderr",
          "text": [
            "\rEpoch: 10  Iteration: 9  Loss: 0.749109023809433:  30%|███       | 19/63 [00:08<00:18,  2.32it/s]"
          ]
        },
        {
          "output_type": "stream",
          "name": "stdout",
          "text": [
            "printing embeds.shape: torch.Size([256, 19, 256])\n",
            "printing rnn.out.shape: torch.Size([256, 19, 256])\n"
          ]
        },
        {
          "output_type": "stream",
          "name": "stderr",
          "text": [
            "Epoch: 10  Iteration: 19  Loss: 0.7105782210826874:  32%|███▏      | 20/63 [00:09<00:18,  2.27it/s]"
          ]
        },
        {
          "output_type": "stream",
          "name": "stdout",
          "text": [
            "printing embeds.shape: torch.Size([256, 19, 256])\n",
            "printing rnn.out.shape: torch.Size([256, 19, 256])\n"
          ]
        },
        {
          "output_type": "stream",
          "name": "stderr",
          "text": [
            "\rEpoch: 10  Iteration: 19  Loss: 0.7105782210826874:  33%|███▎      | 21/63 [00:09<00:18,  2.30it/s]"
          ]
        },
        {
          "output_type": "stream",
          "name": "stdout",
          "text": [
            "printing embeds.shape: torch.Size([256, 19, 256])\n",
            "printing rnn.out.shape: torch.Size([256, 19, 256])\n"
          ]
        },
        {
          "output_type": "stream",
          "name": "stderr",
          "text": [
            "\rEpoch: 10  Iteration: 19  Loss: 0.7105782210826874:  35%|███▍      | 22/63 [00:09<00:17,  2.35it/s]"
          ]
        },
        {
          "output_type": "stream",
          "name": "stdout",
          "text": [
            "printing embeds.shape: torch.Size([256, 19, 256])\n",
            "printing rnn.out.shape: torch.Size([256, 19, 256])\n"
          ]
        },
        {
          "output_type": "stream",
          "name": "stderr",
          "text": [
            "\rEpoch: 10  Iteration: 19  Loss: 0.7105782210826874:  37%|███▋      | 23/63 [00:10<00:16,  2.36it/s]"
          ]
        },
        {
          "output_type": "stream",
          "name": "stdout",
          "text": [
            "printing embeds.shape: torch.Size([256, 19, 256])\n",
            "printing rnn.out.shape: torch.Size([256, 19, 256])\n"
          ]
        },
        {
          "output_type": "stream",
          "name": "stderr",
          "text": [
            "\rEpoch: 10  Iteration: 19  Loss: 0.7105782210826874:  38%|███▊      | 24/63 [00:10<00:17,  2.18it/s]"
          ]
        },
        {
          "output_type": "stream",
          "name": "stdout",
          "text": [
            "printing embeds.shape: torch.Size([256, 19, 256])\n",
            "printing rnn.out.shape: torch.Size([256, 19, 256])\n"
          ]
        },
        {
          "output_type": "stream",
          "name": "stderr",
          "text": [
            "\rEpoch: 10  Iteration: 19  Loss: 0.7105782210826874:  40%|███▉      | 25/63 [00:11<00:18,  2.02it/s]"
          ]
        },
        {
          "output_type": "stream",
          "name": "stdout",
          "text": [
            "printing embeds.shape: torch.Size([256, 19, 256])\n",
            "printing rnn.out.shape: torch.Size([256, 19, 256])\n"
          ]
        },
        {
          "output_type": "stream",
          "name": "stderr",
          "text": [
            "\rEpoch: 10  Iteration: 19  Loss: 0.7105782210826874:  41%|████▏     | 26/63 [00:12<00:19,  1.94it/s]"
          ]
        },
        {
          "output_type": "stream",
          "name": "stdout",
          "text": [
            "printing embeds.shape: torch.Size([256, 19, 256])\n",
            "printing rnn.out.shape: torch.Size([256, 19, 256])\n"
          ]
        },
        {
          "output_type": "stream",
          "name": "stderr",
          "text": [
            "\rEpoch: 10  Iteration: 19  Loss: 0.7105782210826874:  43%|████▎     | 27/63 [00:12<00:20,  1.75it/s]"
          ]
        },
        {
          "output_type": "stream",
          "name": "stdout",
          "text": [
            "printing embeds.shape: torch.Size([256, 19, 256])\n",
            "printing rnn.out.shape: torch.Size([256, 19, 256])\n"
          ]
        },
        {
          "output_type": "stream",
          "name": "stderr",
          "text": [
            "\rEpoch: 10  Iteration: 19  Loss: 0.7105782210826874:  44%|████▍     | 28/63 [00:13<00:20,  1.69it/s]"
          ]
        },
        {
          "output_type": "stream",
          "name": "stdout",
          "text": [
            "printing embeds.shape: torch.Size([256, 19, 256])\n",
            "printing rnn.out.shape: torch.Size([256, 19, 256])\n"
          ]
        },
        {
          "output_type": "stream",
          "name": "stderr",
          "text": [
            "\rEpoch: 10  Iteration: 19  Loss: 0.7105782210826874:  46%|████▌     | 29/63 [00:13<00:19,  1.76it/s]"
          ]
        },
        {
          "output_type": "stream",
          "name": "stdout",
          "text": [
            "printing embeds.shape: torch.Size([256, 19, 256])\n",
            "printing rnn.out.shape: torch.Size([256, 19, 256])\n"
          ]
        },
        {
          "output_type": "stream",
          "name": "stderr",
          "text": [
            "Epoch: 10  Iteration: 29  Loss: 0.7086928606033325:  48%|████▊     | 30/63 [00:14<00:17,  1.91it/s]"
          ]
        },
        {
          "output_type": "stream",
          "name": "stdout",
          "text": [
            "printing embeds.shape: torch.Size([256, 19, 256])\n",
            "printing rnn.out.shape: torch.Size([256, 19, 256])\n"
          ]
        },
        {
          "output_type": "stream",
          "name": "stderr",
          "text": [
            "\rEpoch: 10  Iteration: 29  Loss: 0.7086928606033325:  49%|████▉     | 31/63 [00:14<00:15,  2.02it/s]"
          ]
        },
        {
          "output_type": "stream",
          "name": "stdout",
          "text": [
            "printing embeds.shape: torch.Size([256, 19, 256])\n",
            "printing rnn.out.shape: torch.Size([256, 19, 256])\n"
          ]
        },
        {
          "output_type": "stream",
          "name": "stderr",
          "text": [
            "\rEpoch: 10  Iteration: 29  Loss: 0.7086928606033325:  51%|█████     | 32/63 [00:15<00:14,  2.11it/s]"
          ]
        },
        {
          "output_type": "stream",
          "name": "stdout",
          "text": [
            "printing embeds.shape: torch.Size([256, 19, 256])\n",
            "printing rnn.out.shape: torch.Size([256, 19, 256])\n"
          ]
        },
        {
          "output_type": "stream",
          "name": "stderr",
          "text": [
            "\rEpoch: 10  Iteration: 29  Loss: 0.7086928606033325:  52%|█████▏    | 33/63 [00:15<00:15,  1.98it/s]"
          ]
        },
        {
          "output_type": "stream",
          "name": "stdout",
          "text": [
            "printing embeds.shape: torch.Size([256, 19, 256])\n",
            "printing rnn.out.shape: torch.Size([256, 19, 256])\n"
          ]
        },
        {
          "output_type": "stream",
          "name": "stderr",
          "text": [
            "\rEpoch: 10  Iteration: 29  Loss: 0.7086928606033325:  54%|█████▍    | 34/63 [00:16<00:13,  2.11it/s]"
          ]
        },
        {
          "output_type": "stream",
          "name": "stdout",
          "text": [
            "printing embeds.shape: torch.Size([256, 19, 256])\n",
            "printing rnn.out.shape: torch.Size([256, 19, 256])\n"
          ]
        },
        {
          "output_type": "stream",
          "name": "stderr",
          "text": [
            "\rEpoch: 10  Iteration: 29  Loss: 0.7086928606033325:  56%|█████▌    | 35/63 [00:16<00:12,  2.17it/s]"
          ]
        },
        {
          "output_type": "stream",
          "name": "stdout",
          "text": [
            "printing embeds.shape: torch.Size([256, 19, 256])\n",
            "printing rnn.out.shape: torch.Size([256, 19, 256])\n"
          ]
        },
        {
          "output_type": "stream",
          "name": "stderr",
          "text": [
            "\rEpoch: 10  Iteration: 29  Loss: 0.7086928606033325:  57%|█████▋    | 36/63 [00:17<00:12,  2.21it/s]"
          ]
        },
        {
          "output_type": "stream",
          "name": "stdout",
          "text": [
            "printing embeds.shape: torch.Size([256, 19, 256])\n",
            "printing rnn.out.shape: torch.Size([256, 19, 256])\n"
          ]
        },
        {
          "output_type": "stream",
          "name": "stderr",
          "text": [
            "\rEpoch: 10  Iteration: 29  Loss: 0.7086928606033325:  59%|█████▊    | 37/63 [00:17<00:11,  2.26it/s]"
          ]
        },
        {
          "output_type": "stream",
          "name": "stdout",
          "text": [
            "printing embeds.shape: torch.Size([256, 19, 256])\n",
            "printing rnn.out.shape: torch.Size([256, 19, 256])\n"
          ]
        },
        {
          "output_type": "stream",
          "name": "stderr",
          "text": [
            "\rEpoch: 10  Iteration: 29  Loss: 0.7086928606033325:  60%|██████    | 38/63 [00:18<00:11,  2.09it/s]"
          ]
        },
        {
          "output_type": "stream",
          "name": "stdout",
          "text": [
            "printing embeds.shape: torch.Size([256, 19, 256])\n",
            "printing rnn.out.shape: torch.Size([256, 19, 256])\n"
          ]
        },
        {
          "output_type": "stream",
          "name": "stderr",
          "text": [
            "\rEpoch: 10  Iteration: 29  Loss: 0.7086928606033325:  62%|██████▏   | 39/63 [00:18<00:11,  2.07it/s]"
          ]
        },
        {
          "output_type": "stream",
          "name": "stdout",
          "text": [
            "printing embeds.shape: torch.Size([256, 19, 256])\n",
            "printing rnn.out.shape: torch.Size([256, 19, 256])\n"
          ]
        },
        {
          "output_type": "stream",
          "name": "stderr",
          "text": [
            "Epoch: 10  Iteration: 39  Loss: 0.7553638279438019:  63%|██████▎   | 40/63 [00:19<00:11,  2.00it/s]"
          ]
        },
        {
          "output_type": "stream",
          "name": "stdout",
          "text": [
            "printing embeds.shape: torch.Size([256, 19, 256])\n",
            "printing rnn.out.shape: torch.Size([256, 19, 256])\n"
          ]
        },
        {
          "output_type": "stream",
          "name": "stderr",
          "text": [
            "\rEpoch: 10  Iteration: 39  Loss: 0.7553638279438019:  65%|██████▌   | 41/63 [00:19<00:10,  2.03it/s]"
          ]
        },
        {
          "output_type": "stream",
          "name": "stdout",
          "text": [
            "printing embeds.shape: torch.Size([256, 19, 256])\n",
            "printing rnn.out.shape: torch.Size([256, 19, 256])\n"
          ]
        },
        {
          "output_type": "stream",
          "name": "stderr",
          "text": [
            "\rEpoch: 10  Iteration: 39  Loss: 0.7553638279438019:  67%|██████▋   | 42/63 [00:19<00:09,  2.13it/s]"
          ]
        },
        {
          "output_type": "stream",
          "name": "stdout",
          "text": [
            "printing embeds.shape: torch.Size([256, 19, 256])\n",
            "printing rnn.out.shape: torch.Size([256, 19, 256])\n"
          ]
        },
        {
          "output_type": "stream",
          "name": "stderr",
          "text": [
            "\rEpoch: 10  Iteration: 39  Loss: 0.7553638279438019:  68%|██████▊   | 43/63 [00:20<00:09,  2.21it/s]"
          ]
        },
        {
          "output_type": "stream",
          "name": "stdout",
          "text": [
            "printing embeds.shape: torch.Size([256, 19, 256])\n",
            "printing rnn.out.shape: torch.Size([256, 19, 256])\n"
          ]
        },
        {
          "output_type": "stream",
          "name": "stderr",
          "text": [
            "\rEpoch: 10  Iteration: 39  Loss: 0.7553638279438019:  70%|██████▉   | 44/63 [00:20<00:09,  2.08it/s]"
          ]
        },
        {
          "output_type": "stream",
          "name": "stdout",
          "text": [
            "printing embeds.shape: torch.Size([256, 19, 256])\n",
            "printing rnn.out.shape: torch.Size([256, 19, 256])\n"
          ]
        },
        {
          "output_type": "stream",
          "name": "stderr",
          "text": [
            "\rEpoch: 10  Iteration: 39  Loss: 0.7553638279438019:  71%|███████▏  | 45/63 [00:21<00:08,  2.17it/s]"
          ]
        },
        {
          "output_type": "stream",
          "name": "stdout",
          "text": [
            "printing embeds.shape: torch.Size([256, 19, 256])\n",
            "printing rnn.out.shape: torch.Size([256, 19, 256])\n"
          ]
        },
        {
          "output_type": "stream",
          "name": "stderr",
          "text": [
            "\rEpoch: 10  Iteration: 39  Loss: 0.7553638279438019:  73%|███████▎  | 46/63 [00:21<00:08,  2.04it/s]"
          ]
        },
        {
          "output_type": "stream",
          "name": "stdout",
          "text": [
            "printing embeds.shape: torch.Size([256, 19, 256])\n",
            "printing rnn.out.shape: torch.Size([256, 19, 256])\n"
          ]
        },
        {
          "output_type": "stream",
          "name": "stderr",
          "text": [
            "\rEpoch: 10  Iteration: 39  Loss: 0.7553638279438019:  75%|███████▍  | 47/63 [00:22<00:07,  2.03it/s]"
          ]
        },
        {
          "output_type": "stream",
          "name": "stdout",
          "text": [
            "printing embeds.shape: torch.Size([256, 19, 256])\n",
            "printing rnn.out.shape: torch.Size([256, 19, 256])\n"
          ]
        },
        {
          "output_type": "stream",
          "name": "stderr",
          "text": [
            "\rEpoch: 10  Iteration: 39  Loss: 0.7553638279438019:  76%|███████▌  | 48/63 [00:22<00:07,  2.12it/s]"
          ]
        },
        {
          "output_type": "stream",
          "name": "stdout",
          "text": [
            "printing embeds.shape: torch.Size([256, 19, 256])\n",
            "printing rnn.out.shape: torch.Size([256, 19, 256])\n"
          ]
        },
        {
          "output_type": "stream",
          "name": "stderr",
          "text": [
            "\rEpoch: 10  Iteration: 39  Loss: 0.7553638279438019:  78%|███████▊  | 49/63 [00:23<00:06,  2.21it/s]"
          ]
        },
        {
          "output_type": "stream",
          "name": "stdout",
          "text": [
            "printing embeds.shape: torch.Size([256, 19, 256])\n",
            "printing rnn.out.shape: torch.Size([256, 19, 256])\n"
          ]
        },
        {
          "output_type": "stream",
          "name": "stderr",
          "text": [
            "Epoch: 10  Iteration: 49  Loss: 0.7212188541889191:  79%|███████▉  | 50/63 [00:23<00:06,  2.01it/s]"
          ]
        },
        {
          "output_type": "stream",
          "name": "stdout",
          "text": [
            "printing embeds.shape: torch.Size([256, 19, 256])\n",
            "printing rnn.out.shape: torch.Size([256, 19, 256])\n"
          ]
        },
        {
          "output_type": "stream",
          "name": "stderr",
          "text": [
            "\rEpoch: 10  Iteration: 49  Loss: 0.7212188541889191:  81%|████████  | 51/63 [00:24<00:06,  1.92it/s]"
          ]
        },
        {
          "output_type": "stream",
          "name": "stdout",
          "text": [
            "printing embeds.shape: torch.Size([256, 19, 256])\n",
            "printing rnn.out.shape: torch.Size([256, 19, 256])\n"
          ]
        },
        {
          "output_type": "stream",
          "name": "stderr",
          "text": [
            "\rEpoch: 10  Iteration: 49  Loss: 0.7212188541889191:  83%|████████▎ | 52/63 [00:25<00:06,  1.73it/s]"
          ]
        },
        {
          "output_type": "stream",
          "name": "stdout",
          "text": [
            "printing embeds.shape: torch.Size([256, 19, 256])\n",
            "printing rnn.out.shape: torch.Size([256, 19, 256])\n"
          ]
        },
        {
          "output_type": "stream",
          "name": "stderr",
          "text": [
            "\rEpoch: 10  Iteration: 49  Loss: 0.7212188541889191:  84%|████████▍ | 53/63 [00:25<00:05,  1.72it/s]"
          ]
        },
        {
          "output_type": "stream",
          "name": "stdout",
          "text": [
            "printing embeds.shape: torch.Size([256, 19, 256])\n",
            "printing rnn.out.shape: torch.Size([256, 19, 256])\n"
          ]
        },
        {
          "output_type": "stream",
          "name": "stderr",
          "text": [
            "\rEpoch: 10  Iteration: 49  Loss: 0.7212188541889191:  86%|████████▌ | 54/63 [00:26<00:05,  1.76it/s]"
          ]
        },
        {
          "output_type": "stream",
          "name": "stdout",
          "text": [
            "printing embeds.shape: torch.Size([256, 19, 256])\n",
            "printing rnn.out.shape: torch.Size([256, 19, 256])\n"
          ]
        },
        {
          "output_type": "stream",
          "name": "stderr",
          "text": [
            "\rEpoch: 10  Iteration: 49  Loss: 0.7212188541889191:  87%|████████▋ | 55/63 [00:26<00:04,  1.78it/s]"
          ]
        },
        {
          "output_type": "stream",
          "name": "stdout",
          "text": [
            "printing embeds.shape: torch.Size([256, 19, 256])\n",
            "printing rnn.out.shape: torch.Size([256, 19, 256])\n"
          ]
        },
        {
          "output_type": "stream",
          "name": "stderr",
          "text": [
            "\rEpoch: 10  Iteration: 49  Loss: 0.7212188541889191:  89%|████████▉ | 56/63 [00:27<00:03,  1.93it/s]"
          ]
        },
        {
          "output_type": "stream",
          "name": "stdout",
          "text": [
            "printing embeds.shape: torch.Size([256, 19, 256])\n",
            "printing rnn.out.shape: torch.Size([256, 19, 256])\n"
          ]
        },
        {
          "output_type": "stream",
          "name": "stderr",
          "text": [
            "\rEpoch: 10  Iteration: 49  Loss: 0.7212188541889191:  90%|█████████ | 57/63 [00:27<00:02,  2.04it/s]"
          ]
        },
        {
          "output_type": "stream",
          "name": "stdout",
          "text": [
            "printing embeds.shape: torch.Size([256, 19, 256])\n",
            "printing rnn.out.shape: torch.Size([256, 19, 256])\n"
          ]
        },
        {
          "output_type": "stream",
          "name": "stderr",
          "text": [
            "\rEpoch: 10  Iteration: 49  Loss: 0.7212188541889191:  92%|█████████▏| 58/63 [00:28<00:02,  1.97it/s]"
          ]
        },
        {
          "output_type": "stream",
          "name": "stdout",
          "text": [
            "printing embeds.shape: torch.Size([256, 19, 256])\n",
            "printing rnn.out.shape: torch.Size([256, 19, 256])\n"
          ]
        },
        {
          "output_type": "stream",
          "name": "stderr",
          "text": [
            "\rEpoch: 10  Iteration: 49  Loss: 0.7212188541889191:  94%|█████████▎| 59/63 [00:28<00:01,  2.07it/s]"
          ]
        },
        {
          "output_type": "stream",
          "name": "stdout",
          "text": [
            "printing embeds.shape: torch.Size([256, 19, 256])\n",
            "printing rnn.out.shape: torch.Size([256, 19, 256])\n"
          ]
        },
        {
          "output_type": "stream",
          "name": "stderr",
          "text": [
            "Epoch: 10  Iteration: 59  Loss: 0.7538692355155945:  95%|█████████▌| 60/63 [00:29<00:01,  2.13it/s]"
          ]
        },
        {
          "output_type": "stream",
          "name": "stdout",
          "text": [
            "printing embeds.shape: torch.Size([256, 19, 256])\n",
            "printing rnn.out.shape: torch.Size([256, 19, 256])\n"
          ]
        },
        {
          "output_type": "stream",
          "name": "stderr",
          "text": [
            "\rEpoch: 10  Iteration: 59  Loss: 0.7538692355155945:  97%|█████████▋| 61/63 [00:29<00:00,  2.08it/s]"
          ]
        },
        {
          "output_type": "stream",
          "name": "stdout",
          "text": [
            "printing embeds.shape: torch.Size([256, 19, 256])\n",
            "printing rnn.out.shape: torch.Size([256, 19, 256])\n"
          ]
        },
        {
          "output_type": "stream",
          "name": "stderr",
          "text": [
            "\rEpoch: 10  Iteration: 59  Loss: 0.7538692355155945:  98%|█████████▊| 62/63 [00:30<00:00,  2.03it/s]"
          ]
        },
        {
          "output_type": "stream",
          "name": "stdout",
          "text": [
            "printing embeds.shape: torch.Size([187, 19, 256])\n",
            "printing rnn.out.shape: torch.Size([187, 19, 256])\n"
          ]
        },
        {
          "output_type": "stream",
          "name": "stderr",
          "text": [
            "Epoch: 10  Iteration: 59  Loss: 0.7538692355155945: 100%|██████████| 63/63 [00:30<00:00,  2.08it/s]\n"
          ]
        },
        {
          "output_type": "stream",
          "name": "stdout",
          "text": [
            "Epoch: 10  Train Accuracy: 78.67862257923906\n",
            "printing embeds.shape: torch.Size([256, 19, 256])\n",
            "printing rnn.out.shape: torch.Size([256, 19, 256])\n",
            "printing embeds.shape: torch.Size([256, 19, 256])\n",
            "printing rnn.out.shape: torch.Size([256, 19, 256])\n",
            "printing embeds.shape: torch.Size([256, 19, 256])\n",
            "printing rnn.out.shape: torch.Size([256, 19, 256])\n",
            "printing embeds.shape: torch.Size([256, 19, 256])\n",
            "printing rnn.out.shape: torch.Size([256, 19, 256])\n",
            "printing embeds.shape: torch.Size([256, 19, 256])\n",
            "printing rnn.out.shape: torch.Size([256, 19, 256])\n",
            "printing embeds.shape: torch.Size([256, 19, 256])\n",
            "printing rnn.out.shape: torch.Size([256, 19, 256])\n",
            "printing embeds.shape: torch.Size([256, 19, 256])\n",
            "printing rnn.out.shape: torch.Size([256, 19, 256])\n",
            "printing embeds.shape: torch.Size([256, 19, 256])\n",
            "printing rnn.out.shape: torch.Size([256, 19, 256])\n",
            "printing embeds.shape: torch.Size([256, 19, 256])\n",
            "printing rnn.out.shape: torch.Size([256, 19, 256])\n",
            "printing embeds.shape: torch.Size([256, 19, 256])\n",
            "printing rnn.out.shape: torch.Size([256, 19, 256])\n",
            "printing embeds.shape: torch.Size([256, 19, 256])\n",
            "printing rnn.out.shape: torch.Size([256, 19, 256])\n",
            "printing embeds.shape: torch.Size([256, 19, 256])\n",
            "printing rnn.out.shape: torch.Size([256, 19, 256])\n",
            "printing embeds.shape: torch.Size([256, 19, 256])\n",
            "printing rnn.out.shape: torch.Size([256, 19, 256])\n",
            "printing embeds.shape: torch.Size([256, 19, 256])\n",
            "printing rnn.out.shape: torch.Size([256, 19, 256])\n",
            "printing embeds.shape: torch.Size([256, 19, 256])\n",
            "printing rnn.out.shape: torch.Size([256, 19, 256])\n",
            "printing embeds.shape: torch.Size([175, 19, 256])\n",
            "printing rnn.out.shape: torch.Size([175, 19, 256])\n",
            "Epoch: 10  Eval Accuracy: 78.53051058530511\n"
          ]
        },
        {
          "output_type": "stream",
          "name": "stderr",
          "text": [
            "\r  0%|          | 0/63 [00:00<?, ?it/s]"
          ]
        },
        {
          "output_type": "stream",
          "name": "stdout",
          "text": [
            "printing embeds.shape: torch.Size([256, 19, 256])\n",
            "printing rnn.out.shape: torch.Size([256, 19, 256])\n"
          ]
        },
        {
          "output_type": "stream",
          "name": "stderr",
          "text": [
            "\r  2%|▏         | 1/63 [00:00<00:25,  2.42it/s]"
          ]
        },
        {
          "output_type": "stream",
          "name": "stdout",
          "text": [
            "printing embeds.shape: torch.Size([256, 19, 256])\n",
            "printing rnn.out.shape: torch.Size([256, 19, 256])\n"
          ]
        },
        {
          "output_type": "stream",
          "name": "stderr",
          "text": [
            "\r  3%|▎         | 2/63 [00:00<00:28,  2.14it/s]"
          ]
        },
        {
          "output_type": "stream",
          "name": "stdout",
          "text": [
            "printing embeds.shape: torch.Size([256, 19, 256])\n",
            "printing rnn.out.shape: torch.Size([256, 19, 256])\n"
          ]
        },
        {
          "output_type": "stream",
          "name": "stderr",
          "text": [
            "\r  5%|▍         | 3/63 [00:01<00:26,  2.25it/s]"
          ]
        },
        {
          "output_type": "stream",
          "name": "stdout",
          "text": [
            "printing embeds.shape: torch.Size([256, 19, 256])\n",
            "printing rnn.out.shape: torch.Size([256, 19, 256])\n"
          ]
        },
        {
          "output_type": "stream",
          "name": "stderr",
          "text": [
            "\r  6%|▋         | 4/63 [00:01<00:25,  2.30it/s]"
          ]
        },
        {
          "output_type": "stream",
          "name": "stdout",
          "text": [
            "printing embeds.shape: torch.Size([256, 19, 256])\n",
            "printing rnn.out.shape: torch.Size([256, 19, 256])\n"
          ]
        },
        {
          "output_type": "stream",
          "name": "stderr",
          "text": [
            "\r  8%|▊         | 5/63 [00:02<00:25,  2.25it/s]"
          ]
        },
        {
          "output_type": "stream",
          "name": "stdout",
          "text": [
            "printing embeds.shape: torch.Size([256, 19, 256])\n",
            "printing rnn.out.shape: torch.Size([256, 19, 256])\n"
          ]
        },
        {
          "output_type": "stream",
          "name": "stderr",
          "text": [
            "\r 10%|▉         | 6/63 [00:02<00:27,  2.07it/s]"
          ]
        },
        {
          "output_type": "stream",
          "name": "stdout",
          "text": [
            "printing embeds.shape: torch.Size([256, 19, 256])\n",
            "printing rnn.out.shape: torch.Size([256, 19, 256])\n"
          ]
        },
        {
          "output_type": "stream",
          "name": "stderr",
          "text": [
            "\r 11%|█         | 7/63 [00:03<00:28,  1.99it/s]"
          ]
        },
        {
          "output_type": "stream",
          "name": "stdout",
          "text": [
            "printing embeds.shape: torch.Size([256, 19, 256])\n",
            "printing rnn.out.shape: torch.Size([256, 19, 256])\n"
          ]
        },
        {
          "output_type": "stream",
          "name": "stderr",
          "text": [
            "\r 13%|█▎        | 8/63 [00:03<00:29,  1.87it/s]"
          ]
        },
        {
          "output_type": "stream",
          "name": "stdout",
          "text": [
            "printing embeds.shape: torch.Size([256, 19, 256])\n",
            "printing rnn.out.shape: torch.Size([256, 19, 256])\n"
          ]
        },
        {
          "output_type": "stream",
          "name": "stderr",
          "text": [
            "\r 14%|█▍        | 9/63 [00:04<00:26,  2.00it/s]"
          ]
        },
        {
          "output_type": "stream",
          "name": "stdout",
          "text": [
            "printing embeds.shape: torch.Size([256, 19, 256])\n",
            "printing rnn.out.shape: torch.Size([256, 19, 256])\n"
          ]
        },
        {
          "output_type": "stream",
          "name": "stderr",
          "text": [
            "Epoch: 11  Iteration: 9  Loss: 0.70061776638031:  16%|█▌        | 10/63 [00:05<00:29,  1.82it/s]"
          ]
        },
        {
          "output_type": "stream",
          "name": "stdout",
          "text": [
            "printing embeds.shape: torch.Size([256, 19, 256])\n",
            "printing rnn.out.shape: torch.Size([256, 19, 256])\n"
          ]
        },
        {
          "output_type": "stream",
          "name": "stderr",
          "text": [
            "\rEpoch: 11  Iteration: 9  Loss: 0.70061776638031:  17%|█▋        | 11/63 [00:05<00:28,  1.82it/s]"
          ]
        },
        {
          "output_type": "stream",
          "name": "stdout",
          "text": [
            "printing embeds.shape: torch.Size([256, 19, 256])\n",
            "printing rnn.out.shape: torch.Size([256, 19, 256])\n"
          ]
        },
        {
          "output_type": "stream",
          "name": "stderr",
          "text": [
            "\rEpoch: 11  Iteration: 9  Loss: 0.70061776638031:  19%|█▉        | 12/63 [00:06<00:30,  1.69it/s]"
          ]
        },
        {
          "output_type": "stream",
          "name": "stdout",
          "text": [
            "printing embeds.shape: torch.Size([256, 19, 256])\n",
            "printing rnn.out.shape: torch.Size([256, 19, 256])\n"
          ]
        },
        {
          "output_type": "stream",
          "name": "stderr",
          "text": [
            "\rEpoch: 11  Iteration: 9  Loss: 0.70061776638031:  21%|██        | 13/63 [00:06<00:28,  1.73it/s]"
          ]
        },
        {
          "output_type": "stream",
          "name": "stdout",
          "text": [
            "printing embeds.shape: torch.Size([256, 19, 256])\n",
            "printing rnn.out.shape: torch.Size([256, 19, 256])\n"
          ]
        },
        {
          "output_type": "stream",
          "name": "stderr",
          "text": [
            "\rEpoch: 11  Iteration: 9  Loss: 0.70061776638031:  22%|██▏       | 14/63 [00:07<00:29,  1.64it/s]"
          ]
        },
        {
          "output_type": "stream",
          "name": "stdout",
          "text": [
            "printing embeds.shape: torch.Size([256, 19, 256])\n",
            "printing rnn.out.shape: torch.Size([256, 19, 256])\n"
          ]
        },
        {
          "output_type": "stream",
          "name": "stderr",
          "text": [
            "\rEpoch: 11  Iteration: 9  Loss: 0.70061776638031:  24%|██▍       | 15/63 [00:07<00:26,  1.81it/s]"
          ]
        },
        {
          "output_type": "stream",
          "name": "stdout",
          "text": [
            "printing embeds.shape: torch.Size([256, 19, 256])\n",
            "printing rnn.out.shape: torch.Size([256, 19, 256])\n"
          ]
        },
        {
          "output_type": "stream",
          "name": "stderr",
          "text": [
            "\rEpoch: 11  Iteration: 9  Loss: 0.70061776638031:  25%|██▌       | 16/63 [00:08<00:24,  1.94it/s]"
          ]
        },
        {
          "output_type": "stream",
          "name": "stdout",
          "text": [
            "printing embeds.shape: torch.Size([256, 19, 256])\n",
            "printing rnn.out.shape: torch.Size([256, 19, 256])\n"
          ]
        },
        {
          "output_type": "stream",
          "name": "stderr",
          "text": [
            "\rEpoch: 11  Iteration: 9  Loss: 0.70061776638031:  27%|██▋       | 17/63 [00:08<00:24,  1.90it/s]"
          ]
        },
        {
          "output_type": "stream",
          "name": "stdout",
          "text": [
            "printing embeds.shape: torch.Size([256, 19, 256])\n",
            "printing rnn.out.shape: torch.Size([256, 19, 256])\n"
          ]
        },
        {
          "output_type": "stream",
          "name": "stderr",
          "text": [
            "\rEpoch: 11  Iteration: 9  Loss: 0.70061776638031:  29%|██▊       | 18/63 [00:09<00:24,  1.84it/s]"
          ]
        },
        {
          "output_type": "stream",
          "name": "stdout",
          "text": [
            "printing embeds.shape: torch.Size([256, 19, 256])\n",
            "printing rnn.out.shape: torch.Size([256, 19, 256])\n"
          ]
        },
        {
          "output_type": "stream",
          "name": "stderr",
          "text": [
            "\rEpoch: 11  Iteration: 9  Loss: 0.70061776638031:  30%|███       | 19/63 [00:09<00:23,  1.87it/s]"
          ]
        },
        {
          "output_type": "stream",
          "name": "stdout",
          "text": [
            "printing embeds.shape: torch.Size([256, 19, 256])\n",
            "printing rnn.out.shape: torch.Size([256, 19, 256])\n"
          ]
        },
        {
          "output_type": "stream",
          "name": "stderr",
          "text": [
            "Epoch: 11  Iteration: 19  Loss: 0.6837623596191407:  32%|███▏      | 20/63 [00:10<00:23,  1.85it/s]"
          ]
        },
        {
          "output_type": "stream",
          "name": "stdout",
          "text": [
            "printing embeds.shape: torch.Size([256, 19, 256])\n",
            "printing rnn.out.shape: torch.Size([256, 19, 256])\n"
          ]
        },
        {
          "output_type": "stream",
          "name": "stderr",
          "text": [
            "\rEpoch: 11  Iteration: 19  Loss: 0.6837623596191407:  33%|███▎      | 21/63 [00:10<00:21,  1.96it/s]"
          ]
        },
        {
          "output_type": "stream",
          "name": "stdout",
          "text": [
            "printing embeds.shape: torch.Size([256, 19, 256])\n",
            "printing rnn.out.shape: torch.Size([256, 19, 256])\n"
          ]
        },
        {
          "output_type": "stream",
          "name": "stderr",
          "text": [
            "\rEpoch: 11  Iteration: 19  Loss: 0.6837623596191407:  35%|███▍      | 22/63 [00:11<00:21,  1.91it/s]"
          ]
        },
        {
          "output_type": "stream",
          "name": "stdout",
          "text": [
            "printing embeds.shape: torch.Size([256, 19, 256])\n",
            "printing rnn.out.shape: torch.Size([256, 19, 256])\n"
          ]
        },
        {
          "output_type": "stream",
          "name": "stderr",
          "text": [
            "\rEpoch: 11  Iteration: 19  Loss: 0.6837623596191407:  37%|███▋      | 23/63 [00:11<00:20,  2.00it/s]"
          ]
        },
        {
          "output_type": "stream",
          "name": "stdout",
          "text": [
            "printing embeds.shape: torch.Size([256, 19, 256])\n",
            "printing rnn.out.shape: torch.Size([256, 19, 256])\n"
          ]
        },
        {
          "output_type": "stream",
          "name": "stderr",
          "text": [
            "\rEpoch: 11  Iteration: 19  Loss: 0.6837623596191407:  38%|███▊      | 24/63 [00:12<00:20,  1.92it/s]"
          ]
        },
        {
          "output_type": "stream",
          "name": "stdout",
          "text": [
            "printing embeds.shape: torch.Size([256, 19, 256])\n",
            "printing rnn.out.shape: torch.Size([256, 19, 256])\n"
          ]
        },
        {
          "output_type": "stream",
          "name": "stderr",
          "text": [
            "\rEpoch: 11  Iteration: 19  Loss: 0.6837623596191407:  40%|███▉      | 25/63 [00:12<00:18,  2.03it/s]"
          ]
        },
        {
          "output_type": "stream",
          "name": "stdout",
          "text": [
            "printing embeds.shape: torch.Size([256, 19, 256])\n",
            "printing rnn.out.shape: torch.Size([256, 19, 256])\n"
          ]
        },
        {
          "output_type": "stream",
          "name": "stderr",
          "text": [
            "\rEpoch: 11  Iteration: 19  Loss: 0.6837623596191407:  41%|████▏     | 26/63 [00:13<00:17,  2.09it/s]"
          ]
        },
        {
          "output_type": "stream",
          "name": "stdout",
          "text": [
            "printing embeds.shape: torch.Size([256, 19, 256])\n",
            "printing rnn.out.shape: torch.Size([256, 19, 256])\n"
          ]
        },
        {
          "output_type": "stream",
          "name": "stderr",
          "text": [
            "\rEpoch: 11  Iteration: 19  Loss: 0.6837623596191407:  43%|████▎     | 27/63 [00:13<00:16,  2.17it/s]"
          ]
        },
        {
          "output_type": "stream",
          "name": "stdout",
          "text": [
            "printing embeds.shape: torch.Size([256, 19, 256])\n",
            "printing rnn.out.shape: torch.Size([256, 19, 256])\n"
          ]
        },
        {
          "output_type": "stream",
          "name": "stderr",
          "text": [
            "\rEpoch: 11  Iteration: 19  Loss: 0.6837623596191407:  44%|████▍     | 28/63 [00:14<00:16,  2.11it/s]"
          ]
        },
        {
          "output_type": "stream",
          "name": "stdout",
          "text": [
            "printing embeds.shape: torch.Size([256, 19, 256])\n",
            "printing rnn.out.shape: torch.Size([256, 19, 256])\n"
          ]
        },
        {
          "output_type": "stream",
          "name": "stderr",
          "text": [
            "\rEpoch: 11  Iteration: 19  Loss: 0.6837623596191407:  46%|████▌     | 29/63 [00:14<00:16,  2.08it/s]"
          ]
        },
        {
          "output_type": "stream",
          "name": "stdout",
          "text": [
            "printing embeds.shape: torch.Size([256, 19, 256])\n",
            "printing rnn.out.shape: torch.Size([256, 19, 256])\n"
          ]
        },
        {
          "output_type": "stream",
          "name": "stderr",
          "text": [
            "Epoch: 11  Iteration: 29  Loss: 0.7032285571098328:  48%|████▊     | 30/63 [00:15<00:15,  2.13it/s]"
          ]
        },
        {
          "output_type": "stream",
          "name": "stdout",
          "text": [
            "printing embeds.shape: torch.Size([256, 19, 256])\n",
            "printing rnn.out.shape: torch.Size([256, 19, 256])\n"
          ]
        },
        {
          "output_type": "stream",
          "name": "stderr",
          "text": [
            "\rEpoch: 11  Iteration: 29  Loss: 0.7032285571098328:  49%|████▉     | 31/63 [00:15<00:14,  2.20it/s]"
          ]
        },
        {
          "output_type": "stream",
          "name": "stdout",
          "text": [
            "printing embeds.shape: torch.Size([256, 19, 256])\n",
            "printing rnn.out.shape: torch.Size([256, 19, 256])\n"
          ]
        },
        {
          "output_type": "stream",
          "name": "stderr",
          "text": [
            "\rEpoch: 11  Iteration: 29  Loss: 0.7032285571098328:  51%|█████     | 32/63 [00:16<00:13,  2.25it/s]"
          ]
        },
        {
          "output_type": "stream",
          "name": "stdout",
          "text": [
            "printing embeds.shape: torch.Size([256, 19, 256])\n",
            "printing rnn.out.shape: torch.Size([256, 19, 256])\n"
          ]
        },
        {
          "output_type": "stream",
          "name": "stderr",
          "text": [
            "\rEpoch: 11  Iteration: 29  Loss: 0.7032285571098328:  52%|█████▏    | 33/63 [00:16<00:13,  2.30it/s]"
          ]
        },
        {
          "output_type": "stream",
          "name": "stdout",
          "text": [
            "printing embeds.shape: torch.Size([256, 19, 256])\n",
            "printing rnn.out.shape: torch.Size([256, 19, 256])\n"
          ]
        },
        {
          "output_type": "stream",
          "name": "stderr",
          "text": [
            "\rEpoch: 11  Iteration: 29  Loss: 0.7032285571098328:  54%|█████▍    | 34/63 [00:16<00:12,  2.34it/s]"
          ]
        },
        {
          "output_type": "stream",
          "name": "stdout",
          "text": [
            "printing embeds.shape: torch.Size([256, 19, 256])\n",
            "printing rnn.out.shape: torch.Size([256, 19, 256])\n"
          ]
        },
        {
          "output_type": "stream",
          "name": "stderr",
          "text": [
            "\rEpoch: 11  Iteration: 29  Loss: 0.7032285571098328:  56%|█████▌    | 35/63 [00:17<00:11,  2.35it/s]"
          ]
        },
        {
          "output_type": "stream",
          "name": "stdout",
          "text": [
            "printing embeds.shape: torch.Size([256, 19, 256])\n",
            "printing rnn.out.shape: torch.Size([256, 19, 256])\n"
          ]
        },
        {
          "output_type": "stream",
          "name": "stderr",
          "text": [
            "\rEpoch: 11  Iteration: 29  Loss: 0.7032285571098328:  57%|█████▋    | 36/63 [00:17<00:12,  2.21it/s]"
          ]
        },
        {
          "output_type": "stream",
          "name": "stdout",
          "text": [
            "printing embeds.shape: torch.Size([256, 19, 256])\n",
            "printing rnn.out.shape: torch.Size([256, 19, 256])\n"
          ]
        },
        {
          "output_type": "stream",
          "name": "stderr",
          "text": [
            "\rEpoch: 11  Iteration: 29  Loss: 0.7032285571098328:  59%|█████▊    | 37/63 [00:18<00:12,  2.05it/s]"
          ]
        },
        {
          "output_type": "stream",
          "name": "stdout",
          "text": [
            "printing embeds.shape: torch.Size([256, 19, 256])\n",
            "printing rnn.out.shape: torch.Size([256, 19, 256])\n"
          ]
        },
        {
          "output_type": "stream",
          "name": "stderr",
          "text": [
            "\rEpoch: 11  Iteration: 29  Loss: 0.7032285571098328:  60%|██████    | 38/63 [00:18<00:12,  1.99it/s]"
          ]
        },
        {
          "output_type": "stream",
          "name": "stdout",
          "text": [
            "printing embeds.shape: torch.Size([256, 19, 256])\n",
            "printing rnn.out.shape: torch.Size([256, 19, 256])\n"
          ]
        },
        {
          "output_type": "stream",
          "name": "stderr",
          "text": [
            "\rEpoch: 11  Iteration: 29  Loss: 0.7032285571098328:  62%|██████▏   | 39/63 [00:19<00:12,  1.88it/s]"
          ]
        },
        {
          "output_type": "stream",
          "name": "stdout",
          "text": [
            "printing embeds.shape: torch.Size([256, 19, 256])\n",
            "printing rnn.out.shape: torch.Size([256, 19, 256])\n"
          ]
        },
        {
          "output_type": "stream",
          "name": "stderr",
          "text": [
            "Epoch: 11  Iteration: 39  Loss: 0.705071610212326:  63%|██████▎   | 40/63 [00:20<00:12,  1.83it/s]"
          ]
        },
        {
          "output_type": "stream",
          "name": "stdout",
          "text": [
            "printing embeds.shape: torch.Size([256, 19, 256])\n",
            "printing rnn.out.shape: torch.Size([256, 19, 256])\n"
          ]
        },
        {
          "output_type": "stream",
          "name": "stderr",
          "text": [
            "\rEpoch: 11  Iteration: 39  Loss: 0.705071610212326:  65%|██████▌   | 41/63 [00:20<00:11,  1.91it/s]"
          ]
        },
        {
          "output_type": "stream",
          "name": "stdout",
          "text": [
            "printing embeds.shape: torch.Size([256, 19, 256])\n",
            "printing rnn.out.shape: torch.Size([256, 19, 256])\n"
          ]
        },
        {
          "output_type": "stream",
          "name": "stderr",
          "text": [
            "\rEpoch: 11  Iteration: 39  Loss: 0.705071610212326:  67%|██████▋   | 42/63 [00:21<00:10,  2.04it/s]"
          ]
        },
        {
          "output_type": "stream",
          "name": "stdout",
          "text": [
            "printing embeds.shape: torch.Size([256, 19, 256])\n",
            "printing rnn.out.shape: torch.Size([256, 19, 256])\n"
          ]
        },
        {
          "output_type": "stream",
          "name": "stderr",
          "text": [
            "\rEpoch: 11  Iteration: 39  Loss: 0.705071610212326:  68%|██████▊   | 43/63 [00:21<00:10,  1.96it/s]"
          ]
        },
        {
          "output_type": "stream",
          "name": "stdout",
          "text": [
            "printing embeds.shape: torch.Size([256, 19, 256])\n",
            "printing rnn.out.shape: torch.Size([256, 19, 256])\n"
          ]
        },
        {
          "output_type": "stream",
          "name": "stderr",
          "text": [
            "\rEpoch: 11  Iteration: 39  Loss: 0.705071610212326:  70%|██████▉   | 44/63 [00:22<00:09,  2.07it/s]"
          ]
        },
        {
          "output_type": "stream",
          "name": "stdout",
          "text": [
            "printing embeds.shape: torch.Size([256, 19, 256])\n",
            "printing rnn.out.shape: torch.Size([256, 19, 256])\n"
          ]
        },
        {
          "output_type": "stream",
          "name": "stderr",
          "text": [
            "\rEpoch: 11  Iteration: 39  Loss: 0.705071610212326:  71%|███████▏  | 45/63 [00:22<00:08,  2.02it/s]"
          ]
        },
        {
          "output_type": "stream",
          "name": "stdout",
          "text": [
            "printing embeds.shape: torch.Size([256, 19, 256])\n",
            "printing rnn.out.shape: torch.Size([256, 19, 256])\n"
          ]
        },
        {
          "output_type": "stream",
          "name": "stderr",
          "text": [
            "\rEpoch: 11  Iteration: 39  Loss: 0.705071610212326:  73%|███████▎  | 46/63 [00:22<00:08,  2.12it/s]"
          ]
        },
        {
          "output_type": "stream",
          "name": "stdout",
          "text": [
            "printing embeds.shape: torch.Size([256, 19, 256])\n",
            "printing rnn.out.shape: torch.Size([256, 19, 256])\n"
          ]
        },
        {
          "output_type": "stream",
          "name": "stderr",
          "text": [
            "\rEpoch: 11  Iteration: 39  Loss: 0.705071610212326:  75%|███████▍  | 47/63 [00:23<00:07,  2.03it/s]"
          ]
        },
        {
          "output_type": "stream",
          "name": "stdout",
          "text": [
            "printing embeds.shape: torch.Size([256, 19, 256])\n",
            "printing rnn.out.shape: torch.Size([256, 19, 256])\n"
          ]
        },
        {
          "output_type": "stream",
          "name": "stderr",
          "text": [
            "\rEpoch: 11  Iteration: 39  Loss: 0.705071610212326:  76%|███████▌  | 48/63 [00:23<00:07,  2.12it/s]"
          ]
        },
        {
          "output_type": "stream",
          "name": "stdout",
          "text": [
            "printing embeds.shape: torch.Size([256, 19, 256])\n",
            "printing rnn.out.shape: torch.Size([256, 19, 256])\n"
          ]
        },
        {
          "output_type": "stream",
          "name": "stderr",
          "text": [
            "\rEpoch: 11  Iteration: 39  Loss: 0.705071610212326:  78%|███████▊  | 49/63 [00:24<00:06,  2.21it/s]"
          ]
        },
        {
          "output_type": "stream",
          "name": "stdout",
          "text": [
            "printing embeds.shape: torch.Size([256, 19, 256])\n",
            "printing rnn.out.shape: torch.Size([256, 19, 256])\n"
          ]
        },
        {
          "output_type": "stream",
          "name": "stderr",
          "text": [
            "Epoch: 11  Iteration: 49  Loss: 0.7030205309391022:  79%|███████▉  | 50/63 [00:24<00:05,  2.27it/s]"
          ]
        },
        {
          "output_type": "stream",
          "name": "stdout",
          "text": [
            "printing embeds.shape: torch.Size([256, 19, 256])\n",
            "printing rnn.out.shape: torch.Size([256, 19, 256])\n"
          ]
        },
        {
          "output_type": "stream",
          "name": "stderr",
          "text": [
            "\rEpoch: 11  Iteration: 49  Loss: 0.7030205309391022:  81%|████████  | 51/63 [00:25<00:05,  2.31it/s]"
          ]
        },
        {
          "output_type": "stream",
          "name": "stdout",
          "text": [
            "printing embeds.shape: torch.Size([256, 19, 256])\n",
            "printing rnn.out.shape: torch.Size([256, 19, 256])\n"
          ]
        },
        {
          "output_type": "stream",
          "name": "stderr",
          "text": [
            "\rEpoch: 11  Iteration: 49  Loss: 0.7030205309391022:  83%|████████▎ | 52/63 [00:25<00:05,  2.18it/s]"
          ]
        },
        {
          "output_type": "stream",
          "name": "stdout",
          "text": [
            "printing embeds.shape: torch.Size([256, 19, 256])\n",
            "printing rnn.out.shape: torch.Size([256, 19, 256])\n"
          ]
        },
        {
          "output_type": "stream",
          "name": "stderr",
          "text": [
            "\rEpoch: 11  Iteration: 49  Loss: 0.7030205309391022:  84%|████████▍ | 53/63 [00:26<00:04,  2.16it/s]"
          ]
        },
        {
          "output_type": "stream",
          "name": "stdout",
          "text": [
            "printing embeds.shape: torch.Size([256, 19, 256])\n",
            "printing rnn.out.shape: torch.Size([256, 19, 256])\n"
          ]
        },
        {
          "output_type": "stream",
          "name": "stderr",
          "text": [
            "\rEpoch: 11  Iteration: 49  Loss: 0.7030205309391022:  86%|████████▌ | 54/63 [00:26<00:04,  2.05it/s]"
          ]
        },
        {
          "output_type": "stream",
          "name": "stdout",
          "text": [
            "printing embeds.shape: torch.Size([256, 19, 256])\n",
            "printing rnn.out.shape: torch.Size([256, 19, 256])\n"
          ]
        },
        {
          "output_type": "stream",
          "name": "stderr",
          "text": [
            "\rEpoch: 11  Iteration: 49  Loss: 0.7030205309391022:  87%|████████▋ | 55/63 [00:27<00:03,  2.12it/s]"
          ]
        },
        {
          "output_type": "stream",
          "name": "stdout",
          "text": [
            "printing embeds.shape: torch.Size([256, 19, 256])\n",
            "printing rnn.out.shape: torch.Size([256, 19, 256])\n"
          ]
        },
        {
          "output_type": "stream",
          "name": "stderr",
          "text": [
            "\rEpoch: 11  Iteration: 49  Loss: 0.7030205309391022:  89%|████████▉ | 56/63 [00:27<00:03,  2.01it/s]"
          ]
        },
        {
          "output_type": "stream",
          "name": "stdout",
          "text": [
            "printing embeds.shape: torch.Size([256, 19, 256])\n",
            "printing rnn.out.shape: torch.Size([256, 19, 256])\n"
          ]
        },
        {
          "output_type": "stream",
          "name": "stderr",
          "text": [
            "\rEpoch: 11  Iteration: 49  Loss: 0.7030205309391022:  90%|█████████ | 57/63 [00:28<00:02,  2.02it/s]"
          ]
        },
        {
          "output_type": "stream",
          "name": "stdout",
          "text": [
            "printing embeds.shape: torch.Size([256, 19, 256])\n",
            "printing rnn.out.shape: torch.Size([256, 19, 256])\n"
          ]
        },
        {
          "output_type": "stream",
          "name": "stderr",
          "text": [
            "\rEpoch: 11  Iteration: 49  Loss: 0.7030205309391022:  92%|█████████▏| 58/63 [00:28<00:02,  2.12it/s]"
          ]
        },
        {
          "output_type": "stream",
          "name": "stdout",
          "text": [
            "printing embeds.shape: torch.Size([256, 19, 256])\n",
            "printing rnn.out.shape: torch.Size([256, 19, 256])\n"
          ]
        },
        {
          "output_type": "stream",
          "name": "stderr",
          "text": [
            "\rEpoch: 11  Iteration: 49  Loss: 0.7030205309391022:  94%|█████████▎| 59/63 [00:29<00:01,  2.10it/s]"
          ]
        },
        {
          "output_type": "stream",
          "name": "stdout",
          "text": [
            "printing embeds.shape: torch.Size([256, 19, 256])\n",
            "printing rnn.out.shape: torch.Size([256, 19, 256])\n"
          ]
        },
        {
          "output_type": "stream",
          "name": "stderr",
          "text": [
            "Epoch: 11  Iteration: 59  Loss: 0.7281865894794464:  95%|█████████▌| 60/63 [00:29<00:01,  2.21it/s]"
          ]
        },
        {
          "output_type": "stream",
          "name": "stdout",
          "text": [
            "printing embeds.shape: torch.Size([256, 19, 256])\n",
            "printing rnn.out.shape: torch.Size([256, 19, 256])\n"
          ]
        },
        {
          "output_type": "stream",
          "name": "stderr",
          "text": [
            "\rEpoch: 11  Iteration: 59  Loss: 0.7281865894794464:  97%|█████████▋| 61/63 [00:29<00:00,  2.23it/s]"
          ]
        },
        {
          "output_type": "stream",
          "name": "stdout",
          "text": [
            "printing embeds.shape: torch.Size([256, 19, 256])\n",
            "printing rnn.out.shape: torch.Size([256, 19, 256])\n"
          ]
        },
        {
          "output_type": "stream",
          "name": "stderr",
          "text": [
            "\rEpoch: 11  Iteration: 59  Loss: 0.7281865894794464:  98%|█████████▊| 62/63 [00:30<00:00,  2.27it/s]"
          ]
        },
        {
          "output_type": "stream",
          "name": "stdout",
          "text": [
            "printing embeds.shape: torch.Size([187, 19, 256])\n",
            "printing rnn.out.shape: torch.Size([187, 19, 256])\n"
          ]
        },
        {
          "output_type": "stream",
          "name": "stderr",
          "text": [
            "Epoch: 11  Iteration: 59  Loss: 0.7281865894794464: 100%|██████████| 63/63 [00:30<00:00,  2.05it/s]\n"
          ]
        },
        {
          "output_type": "stream",
          "name": "stdout",
          "text": [
            "Epoch: 11  Train Accuracy: 79.65626751354381\n",
            "printing embeds.shape: torch.Size([256, 19, 256])\n",
            "printing rnn.out.shape: torch.Size([256, 19, 256])\n",
            "printing embeds.shape: torch.Size([256, 19, 256])\n",
            "printing rnn.out.shape: torch.Size([256, 19, 256])\n",
            "printing embeds.shape: torch.Size([256, 19, 256])\n",
            "printing rnn.out.shape: torch.Size([256, 19, 256])\n",
            "printing embeds.shape: torch.Size([256, 19, 256])\n",
            "printing rnn.out.shape: torch.Size([256, 19, 256])\n",
            "printing embeds.shape: torch.Size([256, 19, 256])\n",
            "printing rnn.out.shape: torch.Size([256, 19, 256])\n",
            "printing embeds.shape: torch.Size([256, 19, 256])\n",
            "printing rnn.out.shape: torch.Size([256, 19, 256])\n",
            "printing embeds.shape: torch.Size([256, 19, 256])\n",
            "printing rnn.out.shape: torch.Size([256, 19, 256])\n",
            "printing embeds.shape: torch.Size([256, 19, 256])\n",
            "printing rnn.out.shape: torch.Size([256, 19, 256])\n",
            "printing embeds.shape: torch.Size([256, 19, 256])\n",
            "printing rnn.out.shape: torch.Size([256, 19, 256])\n",
            "printing embeds.shape: torch.Size([256, 19, 256])\n",
            "printing rnn.out.shape: torch.Size([256, 19, 256])\n",
            "printing embeds.shape: torch.Size([256, 19, 256])\n",
            "printing rnn.out.shape: torch.Size([256, 19, 256])\n",
            "printing embeds.shape: torch.Size([256, 19, 256])\n",
            "printing rnn.out.shape: torch.Size([256, 19, 256])\n",
            "printing embeds.shape: torch.Size([256, 19, 256])\n",
            "printing rnn.out.shape: torch.Size([256, 19, 256])\n",
            "printing embeds.shape: torch.Size([256, 19, 256])\n",
            "printing rnn.out.shape: torch.Size([256, 19, 256])\n",
            "printing embeds.shape: torch.Size([256, 19, 256])\n",
            "printing rnn.out.shape: torch.Size([256, 19, 256])\n",
            "printing embeds.shape: torch.Size([175, 19, 256])\n",
            "printing rnn.out.shape: torch.Size([175, 19, 256])\n",
            "Epoch: 11  Eval Accuracy: 79.97509339975093\n"
          ]
        },
        {
          "output_type": "stream",
          "name": "stderr",
          "text": [
            "\r  0%|          | 0/63 [00:00<?, ?it/s]"
          ]
        },
        {
          "output_type": "stream",
          "name": "stdout",
          "text": [
            "printing embeds.shape: torch.Size([256, 19, 256])\n",
            "printing rnn.out.shape: torch.Size([256, 19, 256])\n"
          ]
        },
        {
          "output_type": "stream",
          "name": "stderr",
          "text": [
            "\r  2%|▏         | 1/63 [00:00<00:35,  1.74it/s]"
          ]
        },
        {
          "output_type": "stream",
          "name": "stdout",
          "text": [
            "printing embeds.shape: torch.Size([256, 19, 256])\n",
            "printing rnn.out.shape: torch.Size([256, 19, 256])\n"
          ]
        },
        {
          "output_type": "stream",
          "name": "stderr",
          "text": [
            "\r  3%|▎         | 2/63 [00:01<00:36,  1.66it/s]"
          ]
        },
        {
          "output_type": "stream",
          "name": "stdout",
          "text": [
            "printing embeds.shape: torch.Size([256, 19, 256])\n",
            "printing rnn.out.shape: torch.Size([256, 19, 256])\n"
          ]
        },
        {
          "output_type": "stream",
          "name": "stderr",
          "text": [
            "\r  5%|▍         | 3/63 [00:01<00:32,  1.84it/s]"
          ]
        },
        {
          "output_type": "stream",
          "name": "stdout",
          "text": [
            "printing embeds.shape: torch.Size([256, 19, 256])\n",
            "printing rnn.out.shape: torch.Size([256, 19, 256])\n"
          ]
        },
        {
          "output_type": "stream",
          "name": "stderr",
          "text": [
            "\r  6%|▋         | 4/63 [00:02<00:29,  1.97it/s]"
          ]
        },
        {
          "output_type": "stream",
          "name": "stdout",
          "text": [
            "printing embeds.shape: torch.Size([256, 19, 256])\n",
            "printing rnn.out.shape: torch.Size([256, 19, 256])\n"
          ]
        },
        {
          "output_type": "stream",
          "name": "stderr",
          "text": [
            "\r  8%|▊         | 5/63 [00:02<00:30,  1.90it/s]"
          ]
        },
        {
          "output_type": "stream",
          "name": "stdout",
          "text": [
            "printing embeds.shape: torch.Size([256, 19, 256])\n",
            "printing rnn.out.shape: torch.Size([256, 19, 256])\n"
          ]
        },
        {
          "output_type": "stream",
          "name": "stderr",
          "text": [
            "\r 10%|▉         | 6/63 [00:03<00:27,  2.05it/s]"
          ]
        },
        {
          "output_type": "stream",
          "name": "stdout",
          "text": [
            "printing embeds.shape: torch.Size([256, 19, 256])\n",
            "printing rnn.out.shape: torch.Size([256, 19, 256])\n"
          ]
        },
        {
          "output_type": "stream",
          "name": "stderr",
          "text": [
            "\r 11%|█         | 7/63 [00:03<00:26,  2.14it/s]"
          ]
        },
        {
          "output_type": "stream",
          "name": "stdout",
          "text": [
            "printing embeds.shape: torch.Size([256, 19, 256])\n",
            "printing rnn.out.shape: torch.Size([256, 19, 256])\n"
          ]
        },
        {
          "output_type": "stream",
          "name": "stderr",
          "text": [
            "\r 13%|█▎        | 8/63 [00:04<00:27,  2.03it/s]"
          ]
        },
        {
          "output_type": "stream",
          "name": "stdout",
          "text": [
            "printing embeds.shape: torch.Size([256, 19, 256])\n",
            "printing rnn.out.shape: torch.Size([256, 19, 256])\n"
          ]
        },
        {
          "output_type": "stream",
          "name": "stderr",
          "text": [
            "\r 14%|█▍        | 9/63 [00:04<00:27,  1.94it/s]"
          ]
        },
        {
          "output_type": "stream",
          "name": "stdout",
          "text": [
            "printing embeds.shape: torch.Size([256, 19, 256])\n",
            "printing rnn.out.shape: torch.Size([256, 19, 256])\n"
          ]
        },
        {
          "output_type": "stream",
          "name": "stderr",
          "text": [
            "Epoch: 12  Iteration: 9  Loss: 0.6590958178043366:  16%|█▌        | 10/63 [00:05<00:25,  2.06it/s]"
          ]
        },
        {
          "output_type": "stream",
          "name": "stdout",
          "text": [
            "printing embeds.shape: torch.Size([256, 19, 256])\n",
            "printing rnn.out.shape: torch.Size([256, 19, 256])\n"
          ]
        },
        {
          "output_type": "stream",
          "name": "stderr",
          "text": [
            "\rEpoch: 12  Iteration: 9  Loss: 0.6590958178043366:  17%|█▋        | 11/63 [00:05<00:26,  1.99it/s]"
          ]
        },
        {
          "output_type": "stream",
          "name": "stdout",
          "text": [
            "printing embeds.shape: torch.Size([256, 19, 256])\n",
            "printing rnn.out.shape: torch.Size([256, 19, 256])\n"
          ]
        },
        {
          "output_type": "stream",
          "name": "stderr",
          "text": [
            "\rEpoch: 12  Iteration: 9  Loss: 0.6590958178043366:  19%|█▉        | 12/63 [00:06<00:26,  1.95it/s]"
          ]
        },
        {
          "output_type": "stream",
          "name": "stdout",
          "text": [
            "printing embeds.shape: torch.Size([256, 19, 256])\n",
            "printing rnn.out.shape: torch.Size([256, 19, 256])\n"
          ]
        },
        {
          "output_type": "stream",
          "name": "stderr",
          "text": [
            "\rEpoch: 12  Iteration: 9  Loss: 0.6590958178043366:  21%|██        | 13/63 [00:06<00:24,  2.02it/s]"
          ]
        },
        {
          "output_type": "stream",
          "name": "stdout",
          "text": [
            "printing embeds.shape: torch.Size([256, 19, 256])\n",
            "printing rnn.out.shape: torch.Size([256, 19, 256])\n"
          ]
        },
        {
          "output_type": "stream",
          "name": "stderr",
          "text": [
            "\rEpoch: 12  Iteration: 9  Loss: 0.6590958178043366:  22%|██▏       | 14/63 [00:06<00:22,  2.13it/s]"
          ]
        },
        {
          "output_type": "stream",
          "name": "stdout",
          "text": [
            "printing embeds.shape: torch.Size([256, 19, 256])\n",
            "printing rnn.out.shape: torch.Size([256, 19, 256])\n"
          ]
        },
        {
          "output_type": "stream",
          "name": "stderr",
          "text": [
            "\rEpoch: 12  Iteration: 9  Loss: 0.6590958178043366:  24%|██▍       | 15/63 [00:07<00:22,  2.12it/s]"
          ]
        },
        {
          "output_type": "stream",
          "name": "stdout",
          "text": [
            "printing embeds.shape: torch.Size([256, 19, 256])\n",
            "printing rnn.out.shape: torch.Size([256, 19, 256])\n"
          ]
        },
        {
          "output_type": "stream",
          "name": "stderr",
          "text": [
            "\rEpoch: 12  Iteration: 9  Loss: 0.6590958178043366:  25%|██▌       | 16/63 [00:07<00:21,  2.19it/s]"
          ]
        },
        {
          "output_type": "stream",
          "name": "stdout",
          "text": [
            "printing embeds.shape: torch.Size([256, 19, 256])\n",
            "printing rnn.out.shape: torch.Size([256, 19, 256])\n"
          ]
        },
        {
          "output_type": "stream",
          "name": "stderr",
          "text": [
            "\rEpoch: 12  Iteration: 9  Loss: 0.6590958178043366:  27%|██▋       | 17/63 [00:08<00:20,  2.26it/s]"
          ]
        },
        {
          "output_type": "stream",
          "name": "stdout",
          "text": [
            "printing embeds.shape: torch.Size([256, 19, 256])\n",
            "printing rnn.out.shape: torch.Size([256, 19, 256])\n"
          ]
        },
        {
          "output_type": "stream",
          "name": "stderr",
          "text": [
            "\rEpoch: 12  Iteration: 9  Loss: 0.6590958178043366:  29%|██▊       | 18/63 [00:08<00:19,  2.26it/s]"
          ]
        },
        {
          "output_type": "stream",
          "name": "stdout",
          "text": [
            "printing embeds.shape: torch.Size([256, 19, 256])\n",
            "printing rnn.out.shape: torch.Size([256, 19, 256])\n"
          ]
        },
        {
          "output_type": "stream",
          "name": "stderr",
          "text": [
            "\rEpoch: 12  Iteration: 9  Loss: 0.6590958178043366:  30%|███       | 19/63 [00:09<00:20,  2.17it/s]"
          ]
        },
        {
          "output_type": "stream",
          "name": "stdout",
          "text": [
            "printing embeds.shape: torch.Size([256, 19, 256])\n",
            "printing rnn.out.shape: torch.Size([256, 19, 256])\n"
          ]
        },
        {
          "output_type": "stream",
          "name": "stderr",
          "text": [
            "Epoch: 12  Iteration: 19  Loss: 0.6662407398223877:  32%|███▏      | 20/63 [00:09<00:19,  2.20it/s]"
          ]
        },
        {
          "output_type": "stream",
          "name": "stdout",
          "text": [
            "printing embeds.shape: torch.Size([256, 19, 256])\n",
            "printing rnn.out.shape: torch.Size([256, 19, 256])\n"
          ]
        },
        {
          "output_type": "stream",
          "name": "stderr",
          "text": [
            "\rEpoch: 12  Iteration: 19  Loss: 0.6662407398223877:  33%|███▎      | 21/63 [00:10<00:19,  2.13it/s]"
          ]
        },
        {
          "output_type": "stream",
          "name": "stdout",
          "text": [
            "printing embeds.shape: torch.Size([256, 19, 256])\n",
            "printing rnn.out.shape: torch.Size([256, 19, 256])\n"
          ]
        },
        {
          "output_type": "stream",
          "name": "stderr",
          "text": [
            "\rEpoch: 12  Iteration: 19  Loss: 0.6662407398223877:  35%|███▍      | 22/63 [00:10<00:20,  1.99it/s]"
          ]
        },
        {
          "output_type": "stream",
          "name": "stdout",
          "text": [
            "printing embeds.shape: torch.Size([256, 19, 256])\n",
            "printing rnn.out.shape: torch.Size([256, 19, 256])\n"
          ]
        },
        {
          "output_type": "stream",
          "name": "stderr",
          "text": [
            "\rEpoch: 12  Iteration: 19  Loss: 0.6662407398223877:  37%|███▋      | 23/63 [00:11<00:20,  1.93it/s]"
          ]
        },
        {
          "output_type": "stream",
          "name": "stdout",
          "text": [
            "printing embeds.shape: torch.Size([256, 19, 256])\n",
            "printing rnn.out.shape: torch.Size([256, 19, 256])\n"
          ]
        },
        {
          "output_type": "stream",
          "name": "stderr",
          "text": [
            "\rEpoch: 12  Iteration: 19  Loss: 0.6662407398223877:  38%|███▊      | 24/63 [00:11<00:20,  1.87it/s]"
          ]
        },
        {
          "output_type": "stream",
          "name": "stdout",
          "text": [
            "printing embeds.shape: torch.Size([256, 19, 256])\n",
            "printing rnn.out.shape: torch.Size([256, 19, 256])\n"
          ]
        },
        {
          "output_type": "stream",
          "name": "stderr",
          "text": [
            "\rEpoch: 12  Iteration: 19  Loss: 0.6662407398223877:  40%|███▉      | 25/63 [00:12<00:21,  1.76it/s]"
          ]
        },
        {
          "output_type": "stream",
          "name": "stdout",
          "text": [
            "printing embeds.shape: torch.Size([256, 19, 256])\n",
            "printing rnn.out.shape: torch.Size([256, 19, 256])\n"
          ]
        },
        {
          "output_type": "stream",
          "name": "stderr",
          "text": [
            "\rEpoch: 12  Iteration: 19  Loss: 0.6662407398223877:  41%|████▏     | 26/63 [00:13<00:21,  1.75it/s]"
          ]
        },
        {
          "output_type": "stream",
          "name": "stdout",
          "text": [
            "printing embeds.shape: torch.Size([256, 19, 256])\n",
            "printing rnn.out.shape: torch.Size([256, 19, 256])\n"
          ]
        },
        {
          "output_type": "stream",
          "name": "stderr",
          "text": [
            "\rEpoch: 12  Iteration: 19  Loss: 0.6662407398223877:  43%|████▎     | 27/63 [00:13<00:21,  1.67it/s]"
          ]
        },
        {
          "output_type": "stream",
          "name": "stdout",
          "text": [
            "printing embeds.shape: torch.Size([256, 19, 256])\n",
            "printing rnn.out.shape: torch.Size([256, 19, 256])\n"
          ]
        },
        {
          "output_type": "stream",
          "name": "stderr",
          "text": [
            "\rEpoch: 12  Iteration: 19  Loss: 0.6662407398223877:  44%|████▍     | 28/63 [00:14<00:20,  1.71it/s]"
          ]
        },
        {
          "output_type": "stream",
          "name": "stdout",
          "text": [
            "printing embeds.shape: torch.Size([256, 19, 256])\n",
            "printing rnn.out.shape: torch.Size([256, 19, 256])\n"
          ]
        },
        {
          "output_type": "stream",
          "name": "stderr",
          "text": [
            "\rEpoch: 12  Iteration: 19  Loss: 0.6662407398223877:  46%|████▌     | 29/63 [00:14<00:18,  1.85it/s]"
          ]
        },
        {
          "output_type": "stream",
          "name": "stdout",
          "text": [
            "printing embeds.shape: torch.Size([256, 19, 256])\n",
            "printing rnn.out.shape: torch.Size([256, 19, 256])\n"
          ]
        },
        {
          "output_type": "stream",
          "name": "stderr",
          "text": [
            "Epoch: 12  Iteration: 29  Loss: 0.7058149039745331:  48%|████▊     | 30/63 [00:15<00:17,  1.86it/s]"
          ]
        },
        {
          "output_type": "stream",
          "name": "stdout",
          "text": [
            "printing embeds.shape: torch.Size([256, 19, 256])\n",
            "printing rnn.out.shape: torch.Size([256, 19, 256])\n"
          ]
        },
        {
          "output_type": "stream",
          "name": "stderr",
          "text": [
            "\rEpoch: 12  Iteration: 29  Loss: 0.7058149039745331:  49%|████▉     | 31/63 [00:15<00:17,  1.85it/s]"
          ]
        },
        {
          "output_type": "stream",
          "name": "stdout",
          "text": [
            "printing embeds.shape: torch.Size([256, 19, 256])\n",
            "printing rnn.out.shape: torch.Size([256, 19, 256])\n"
          ]
        },
        {
          "output_type": "stream",
          "name": "stderr",
          "text": [
            "\rEpoch: 12  Iteration: 29  Loss: 0.7058149039745331:  51%|█████     | 32/63 [00:16<00:16,  1.83it/s]"
          ]
        },
        {
          "output_type": "stream",
          "name": "stdout",
          "text": [
            "printing embeds.shape: torch.Size([256, 19, 256])\n",
            "printing rnn.out.shape: torch.Size([256, 19, 256])\n"
          ]
        },
        {
          "output_type": "stream",
          "name": "stderr",
          "text": [
            "\rEpoch: 12  Iteration: 29  Loss: 0.7058149039745331:  52%|█████▏    | 33/63 [00:16<00:16,  1.85it/s]"
          ]
        },
        {
          "output_type": "stream",
          "name": "stdout",
          "text": [
            "printing embeds.shape: torch.Size([256, 19, 256])\n",
            "printing rnn.out.shape: torch.Size([256, 19, 256])\n"
          ]
        },
        {
          "output_type": "stream",
          "name": "stderr",
          "text": [
            "\rEpoch: 12  Iteration: 29  Loss: 0.7058149039745331:  54%|█████▍    | 34/63 [00:17<00:14,  1.98it/s]"
          ]
        },
        {
          "output_type": "stream",
          "name": "stdout",
          "text": [
            "printing embeds.shape: torch.Size([256, 19, 256])\n",
            "printing rnn.out.shape: torch.Size([256, 19, 256])\n"
          ]
        },
        {
          "output_type": "stream",
          "name": "stderr",
          "text": [
            "\rEpoch: 12  Iteration: 29  Loss: 0.7058149039745331:  56%|█████▌    | 35/63 [00:17<00:13,  2.08it/s]"
          ]
        },
        {
          "output_type": "stream",
          "name": "stdout",
          "text": [
            "printing embeds.shape: torch.Size([256, 19, 256])\n",
            "printing rnn.out.shape: torch.Size([256, 19, 256])\n"
          ]
        },
        {
          "output_type": "stream",
          "name": "stderr",
          "text": [
            "\rEpoch: 12  Iteration: 29  Loss: 0.7058149039745331:  57%|█████▋    | 36/63 [00:18<00:12,  2.11it/s]"
          ]
        },
        {
          "output_type": "stream",
          "name": "stdout",
          "text": [
            "printing embeds.shape: torch.Size([256, 19, 256])\n",
            "printing rnn.out.shape: torch.Size([256, 19, 256])\n"
          ]
        },
        {
          "output_type": "stream",
          "name": "stderr",
          "text": [
            "\rEpoch: 12  Iteration: 29  Loss: 0.7058149039745331:  59%|█████▊    | 37/63 [00:18<00:11,  2.18it/s]"
          ]
        },
        {
          "output_type": "stream",
          "name": "stdout",
          "text": [
            "printing embeds.shape: torch.Size([256, 19, 256])\n",
            "printing rnn.out.shape: torch.Size([256, 19, 256])\n"
          ]
        },
        {
          "output_type": "stream",
          "name": "stderr",
          "text": [
            "\rEpoch: 12  Iteration: 29  Loss: 0.7058149039745331:  60%|██████    | 38/63 [00:19<00:11,  2.24it/s]"
          ]
        },
        {
          "output_type": "stream",
          "name": "stdout",
          "text": [
            "printing embeds.shape: torch.Size([256, 19, 256])\n",
            "printing rnn.out.shape: torch.Size([256, 19, 256])\n"
          ]
        },
        {
          "output_type": "stream",
          "name": "stderr",
          "text": [
            "\rEpoch: 12  Iteration: 29  Loss: 0.7058149039745331:  62%|██████▏   | 39/63 [00:19<00:11,  2.15it/s]"
          ]
        },
        {
          "output_type": "stream",
          "name": "stdout",
          "text": [
            "printing embeds.shape: torch.Size([256, 19, 256])\n",
            "printing rnn.out.shape: torch.Size([256, 19, 256])\n"
          ]
        },
        {
          "output_type": "stream",
          "name": "stderr",
          "text": [
            "Epoch: 12  Iteration: 39  Loss: 0.6622117817401886:  63%|██████▎   | 40/63 [00:20<00:10,  2.20it/s]"
          ]
        },
        {
          "output_type": "stream",
          "name": "stdout",
          "text": [
            "printing embeds.shape: torch.Size([256, 19, 256])\n",
            "printing rnn.out.shape: torch.Size([256, 19, 256])\n"
          ]
        },
        {
          "output_type": "stream",
          "name": "stderr",
          "text": [
            "\rEpoch: 12  Iteration: 39  Loss: 0.6622117817401886:  65%|██████▌   | 41/63 [00:20<00:09,  2.25it/s]"
          ]
        },
        {
          "output_type": "stream",
          "name": "stdout",
          "text": [
            "printing embeds.shape: torch.Size([256, 19, 256])\n",
            "printing rnn.out.shape: torch.Size([256, 19, 256])\n"
          ]
        },
        {
          "output_type": "stream",
          "name": "stderr",
          "text": [
            "\rEpoch: 12  Iteration: 39  Loss: 0.6622117817401886:  67%|██████▋   | 42/63 [00:20<00:09,  2.27it/s]"
          ]
        },
        {
          "output_type": "stream",
          "name": "stdout",
          "text": [
            "printing embeds.shape: torch.Size([256, 19, 256])\n",
            "printing rnn.out.shape: torch.Size([256, 19, 256])\n"
          ]
        },
        {
          "output_type": "stream",
          "name": "stderr",
          "text": [
            "\rEpoch: 12  Iteration: 39  Loss: 0.6622117817401886:  68%|██████▊   | 43/63 [00:21<00:09,  2.11it/s]"
          ]
        },
        {
          "output_type": "stream",
          "name": "stdout",
          "text": [
            "printing embeds.shape: torch.Size([256, 19, 256])\n",
            "printing rnn.out.shape: torch.Size([256, 19, 256])\n"
          ]
        },
        {
          "output_type": "stream",
          "name": "stderr",
          "text": [
            "\rEpoch: 12  Iteration: 39  Loss: 0.6622117817401886:  70%|██████▉   | 44/63 [00:21<00:08,  2.19it/s]"
          ]
        },
        {
          "output_type": "stream",
          "name": "stdout",
          "text": [
            "printing embeds.shape: torch.Size([256, 19, 256])\n",
            "printing rnn.out.shape: torch.Size([256, 19, 256])\n"
          ]
        },
        {
          "output_type": "stream",
          "name": "stderr",
          "text": [
            "\rEpoch: 12  Iteration: 39  Loss: 0.6622117817401886:  71%|███████▏  | 45/63 [00:22<00:08,  2.07it/s]"
          ]
        },
        {
          "output_type": "stream",
          "name": "stdout",
          "text": [
            "printing embeds.shape: torch.Size([256, 19, 256])\n",
            "printing rnn.out.shape: torch.Size([256, 19, 256])\n"
          ]
        },
        {
          "output_type": "stream",
          "name": "stderr",
          "text": [
            "\rEpoch: 12  Iteration: 39  Loss: 0.6622117817401886:  73%|███████▎  | 46/63 [00:22<00:08,  1.98it/s]"
          ]
        },
        {
          "output_type": "stream",
          "name": "stdout",
          "text": [
            "printing embeds.shape: torch.Size([256, 19, 256])\n",
            "printing rnn.out.shape: torch.Size([256, 19, 256])\n"
          ]
        },
        {
          "output_type": "stream",
          "name": "stderr",
          "text": [
            "\rEpoch: 12  Iteration: 39  Loss: 0.6622117817401886:  75%|███████▍  | 47/63 [00:23<00:07,  2.08it/s]"
          ]
        },
        {
          "output_type": "stream",
          "name": "stdout",
          "text": [
            "printing embeds.shape: torch.Size([256, 19, 256])\n",
            "printing rnn.out.shape: torch.Size([256, 19, 256])\n"
          ]
        },
        {
          "output_type": "stream",
          "name": "stderr",
          "text": [
            "\rEpoch: 12  Iteration: 39  Loss: 0.6622117817401886:  76%|███████▌  | 48/63 [00:23<00:07,  1.97it/s]"
          ]
        },
        {
          "output_type": "stream",
          "name": "stdout",
          "text": [
            "printing embeds.shape: torch.Size([256, 19, 256])\n",
            "printing rnn.out.shape: torch.Size([256, 19, 256])\n"
          ]
        },
        {
          "output_type": "stream",
          "name": "stderr",
          "text": [
            "\rEpoch: 12  Iteration: 39  Loss: 0.6622117817401886:  78%|███████▊  | 49/63 [00:24<00:07,  1.89it/s]"
          ]
        },
        {
          "output_type": "stream",
          "name": "stdout",
          "text": [
            "printing embeds.shape: torch.Size([256, 19, 256])\n",
            "printing rnn.out.shape: torch.Size([256, 19, 256])\n"
          ]
        },
        {
          "output_type": "stream",
          "name": "stderr",
          "text": [
            "Epoch: 12  Iteration: 49  Loss: 0.6757059574127198:  79%|███████▉  | 50/63 [00:25<00:07,  1.71it/s]"
          ]
        },
        {
          "output_type": "stream",
          "name": "stdout",
          "text": [
            "printing embeds.shape: torch.Size([256, 19, 256])\n",
            "printing rnn.out.shape: torch.Size([256, 19, 256])\n"
          ]
        },
        {
          "output_type": "stream",
          "name": "stderr",
          "text": [
            "\rEpoch: 12  Iteration: 49  Loss: 0.6757059574127198:  81%|████████  | 51/63 [00:25<00:06,  1.73it/s]"
          ]
        },
        {
          "output_type": "stream",
          "name": "stdout",
          "text": [
            "printing embeds.shape: torch.Size([256, 19, 256])\n",
            "printing rnn.out.shape: torch.Size([256, 19, 256])\n"
          ]
        },
        {
          "output_type": "stream",
          "name": "stderr",
          "text": [
            "\rEpoch: 12  Iteration: 49  Loss: 0.6757059574127198:  83%|████████▎ | 52/63 [00:26<00:06,  1.68it/s]"
          ]
        },
        {
          "output_type": "stream",
          "name": "stdout",
          "text": [
            "printing embeds.shape: torch.Size([256, 19, 256])\n",
            "printing rnn.out.shape: torch.Size([256, 19, 256])\n"
          ]
        },
        {
          "output_type": "stream",
          "name": "stderr",
          "text": [
            "\rEpoch: 12  Iteration: 49  Loss: 0.6757059574127198:  84%|████████▍ | 53/63 [00:26<00:05,  1.75it/s]"
          ]
        },
        {
          "output_type": "stream",
          "name": "stdout",
          "text": [
            "printing embeds.shape: torch.Size([256, 19, 256])\n",
            "printing rnn.out.shape: torch.Size([256, 19, 256])\n"
          ]
        },
        {
          "output_type": "stream",
          "name": "stderr",
          "text": [
            "\rEpoch: 12  Iteration: 49  Loss: 0.6757059574127198:  86%|████████▌ | 54/63 [00:27<00:04,  1.81it/s]"
          ]
        },
        {
          "output_type": "stream",
          "name": "stdout",
          "text": [
            "printing embeds.shape: torch.Size([256, 19, 256])\n",
            "printing rnn.out.shape: torch.Size([256, 19, 256])\n"
          ]
        },
        {
          "output_type": "stream",
          "name": "stderr",
          "text": [
            "\rEpoch: 12  Iteration: 49  Loss: 0.6757059574127198:  87%|████████▋ | 55/63 [00:28<00:04,  1.81it/s]"
          ]
        },
        {
          "output_type": "stream",
          "name": "stdout",
          "text": [
            "printing embeds.shape: torch.Size([256, 19, 256])\n",
            "printing rnn.out.shape: torch.Size([256, 19, 256])\n"
          ]
        },
        {
          "output_type": "stream",
          "name": "stderr",
          "text": [
            "\rEpoch: 12  Iteration: 49  Loss: 0.6757059574127198:  89%|████████▉ | 56/63 [00:28<00:03,  1.94it/s]"
          ]
        },
        {
          "output_type": "stream",
          "name": "stdout",
          "text": [
            "printing embeds.shape: torch.Size([256, 19, 256])\n",
            "printing rnn.out.shape: torch.Size([256, 19, 256])\n"
          ]
        },
        {
          "output_type": "stream",
          "name": "stderr",
          "text": [
            "\rEpoch: 12  Iteration: 49  Loss: 0.6757059574127198:  90%|█████████ | 57/63 [00:29<00:03,  1.89it/s]"
          ]
        },
        {
          "output_type": "stream",
          "name": "stdout",
          "text": [
            "printing embeds.shape: torch.Size([256, 19, 256])\n",
            "printing rnn.out.shape: torch.Size([256, 19, 256])\n"
          ]
        },
        {
          "output_type": "stream",
          "name": "stderr",
          "text": [
            "\rEpoch: 12  Iteration: 49  Loss: 0.6757059574127198:  92%|█████████▏| 58/63 [00:29<00:02,  1.99it/s]"
          ]
        },
        {
          "output_type": "stream",
          "name": "stdout",
          "text": [
            "printing embeds.shape: torch.Size([256, 19, 256])\n",
            "printing rnn.out.shape: torch.Size([256, 19, 256])\n"
          ]
        },
        {
          "output_type": "stream",
          "name": "stderr",
          "text": [
            "\rEpoch: 12  Iteration: 49  Loss: 0.6757059574127198:  94%|█████████▎| 59/63 [00:29<00:01,  2.09it/s]"
          ]
        },
        {
          "output_type": "stream",
          "name": "stdout",
          "text": [
            "printing embeds.shape: torch.Size([256, 19, 256])\n",
            "printing rnn.out.shape: torch.Size([256, 19, 256])\n"
          ]
        },
        {
          "output_type": "stream",
          "name": "stderr",
          "text": [
            "Epoch: 12  Iteration: 59  Loss: 0.7339170277118683:  95%|█████████▌| 60/63 [00:30<00:01,  2.05it/s]"
          ]
        },
        {
          "output_type": "stream",
          "name": "stdout",
          "text": [
            "printing embeds.shape: torch.Size([256, 19, 256])\n",
            "printing rnn.out.shape: torch.Size([256, 19, 256])\n"
          ]
        },
        {
          "output_type": "stream",
          "name": "stderr",
          "text": [
            "\rEpoch: 12  Iteration: 59  Loss: 0.7339170277118683:  97%|█████████▋| 61/63 [00:30<00:00,  2.11it/s]"
          ]
        },
        {
          "output_type": "stream",
          "name": "stdout",
          "text": [
            "printing embeds.shape: torch.Size([256, 19, 256])\n",
            "printing rnn.out.shape: torch.Size([256, 19, 256])\n"
          ]
        },
        {
          "output_type": "stream",
          "name": "stderr",
          "text": [
            "\rEpoch: 12  Iteration: 59  Loss: 0.7339170277118683:  98%|█████████▊| 62/63 [00:31<00:00,  2.19it/s]"
          ]
        },
        {
          "output_type": "stream",
          "name": "stdout",
          "text": [
            "printing embeds.shape: torch.Size([187, 19, 256])\n",
            "printing rnn.out.shape: torch.Size([187, 19, 256])\n"
          ]
        },
        {
          "output_type": "stream",
          "name": "stderr",
          "text": [
            "Epoch: 12  Iteration: 59  Loss: 0.7339170277118683: 100%|██████████| 63/63 [00:31<00:00,  2.00it/s]\n"
          ]
        },
        {
          "output_type": "stream",
          "name": "stdout",
          "text": [
            "Epoch: 12  Train Accuracy: 79.93025717666106\n",
            "printing embeds.shape: torch.Size([256, 19, 256])\n",
            "printing rnn.out.shape: torch.Size([256, 19, 256])\n",
            "printing embeds.shape: torch.Size([256, 19, 256])\n",
            "printing rnn.out.shape: torch.Size([256, 19, 256])\n",
            "printing embeds.shape: torch.Size([256, 19, 256])\n",
            "printing rnn.out.shape: torch.Size([256, 19, 256])\n",
            "printing embeds.shape: torch.Size([256, 19, 256])\n",
            "printing rnn.out.shape: torch.Size([256, 19, 256])\n",
            "printing embeds.shape: torch.Size([256, 19, 256])\n",
            "printing rnn.out.shape: torch.Size([256, 19, 256])\n",
            "printing embeds.shape: torch.Size([256, 19, 256])\n",
            "printing rnn.out.shape: torch.Size([256, 19, 256])\n",
            "printing embeds.shape: torch.Size([256, 19, 256])\n",
            "printing rnn.out.shape: torch.Size([256, 19, 256])\n",
            "printing embeds.shape: torch.Size([256, 19, 256])\n",
            "printing rnn.out.shape: torch.Size([256, 19, 256])\n",
            "printing embeds.shape: torch.Size([256, 19, 256])\n",
            "printing rnn.out.shape: torch.Size([256, 19, 256])\n",
            "printing embeds.shape: torch.Size([256, 19, 256])\n",
            "printing rnn.out.shape: torch.Size([256, 19, 256])\n",
            "printing embeds.shape: torch.Size([256, 19, 256])\n",
            "printing rnn.out.shape: torch.Size([256, 19, 256])\n",
            "printing embeds.shape: torch.Size([256, 19, 256])\n",
            "printing rnn.out.shape: torch.Size([256, 19, 256])\n",
            "printing embeds.shape: torch.Size([256, 19, 256])\n",
            "printing rnn.out.shape: torch.Size([256, 19, 256])\n",
            "printing embeds.shape: torch.Size([256, 19, 256])\n",
            "printing rnn.out.shape: torch.Size([256, 19, 256])\n",
            "printing embeds.shape: torch.Size([256, 19, 256])\n",
            "printing rnn.out.shape: torch.Size([256, 19, 256])\n",
            "printing embeds.shape: torch.Size([175, 19, 256])\n",
            "printing rnn.out.shape: torch.Size([175, 19, 256])\n",
            "Epoch: 12  Eval Accuracy: 79.1282689912827\n"
          ]
        },
        {
          "output_type": "stream",
          "name": "stderr",
          "text": [
            "\r  0%|          | 0/63 [00:00<?, ?it/s]"
          ]
        },
        {
          "output_type": "stream",
          "name": "stdout",
          "text": [
            "printing embeds.shape: torch.Size([256, 19, 256])\n",
            "printing rnn.out.shape: torch.Size([256, 19, 256])\n"
          ]
        },
        {
          "output_type": "stream",
          "name": "stderr",
          "text": [
            "\r  2%|▏         | 1/63 [00:00<00:26,  2.37it/s]"
          ]
        },
        {
          "output_type": "stream",
          "name": "stdout",
          "text": [
            "printing embeds.shape: torch.Size([256, 19, 256])\n",
            "printing rnn.out.shape: torch.Size([256, 19, 256])\n"
          ]
        },
        {
          "output_type": "stream",
          "name": "stderr",
          "text": [
            "\r  3%|▎         | 2/63 [00:01<00:31,  1.94it/s]"
          ]
        },
        {
          "output_type": "stream",
          "name": "stdout",
          "text": [
            "printing embeds.shape: torch.Size([256, 19, 256])\n",
            "printing rnn.out.shape: torch.Size([256, 19, 256])\n"
          ]
        },
        {
          "output_type": "stream",
          "name": "stderr",
          "text": [
            "\r  5%|▍         | 3/63 [00:01<00:32,  1.87it/s]"
          ]
        },
        {
          "output_type": "stream",
          "name": "stdout",
          "text": [
            "printing embeds.shape: torch.Size([256, 19, 256])\n",
            "printing rnn.out.shape: torch.Size([256, 19, 256])\n"
          ]
        },
        {
          "output_type": "stream",
          "name": "stderr",
          "text": [
            "\r  6%|▋         | 4/63 [00:02<00:31,  1.87it/s]"
          ]
        },
        {
          "output_type": "stream",
          "name": "stdout",
          "text": [
            "printing embeds.shape: torch.Size([256, 19, 256])\n",
            "printing rnn.out.shape: torch.Size([256, 19, 256])\n"
          ]
        },
        {
          "output_type": "stream",
          "name": "stderr",
          "text": [
            "\r  8%|▊         | 5/63 [00:02<00:28,  2.05it/s]"
          ]
        },
        {
          "output_type": "stream",
          "name": "stdout",
          "text": [
            "printing embeds.shape: torch.Size([256, 19, 256])\n",
            "printing rnn.out.shape: torch.Size([256, 19, 256])\n"
          ]
        },
        {
          "output_type": "stream",
          "name": "stderr",
          "text": [
            "\r 10%|▉         | 6/63 [00:03<00:28,  1.97it/s]"
          ]
        },
        {
          "output_type": "stream",
          "name": "stdout",
          "text": [
            "printing embeds.shape: torch.Size([256, 19, 256])\n",
            "printing rnn.out.shape: torch.Size([256, 19, 256])\n"
          ]
        },
        {
          "output_type": "stream",
          "name": "stderr",
          "text": [
            "\r 11%|█         | 7/63 [00:03<00:29,  1.92it/s]"
          ]
        },
        {
          "output_type": "stream",
          "name": "stdout",
          "text": [
            "printing embeds.shape: torch.Size([256, 19, 256])\n",
            "printing rnn.out.shape: torch.Size([256, 19, 256])\n"
          ]
        },
        {
          "output_type": "stream",
          "name": "stderr",
          "text": [
            "\r 13%|█▎        | 8/63 [00:04<00:28,  1.95it/s]"
          ]
        },
        {
          "output_type": "stream",
          "name": "stdout",
          "text": [
            "printing embeds.shape: torch.Size([256, 19, 256])\n",
            "printing rnn.out.shape: torch.Size([256, 19, 256])\n"
          ]
        },
        {
          "output_type": "stream",
          "name": "stderr",
          "text": [
            "\r 14%|█▍        | 9/63 [00:04<00:28,  1.92it/s]"
          ]
        },
        {
          "output_type": "stream",
          "name": "stdout",
          "text": [
            "printing embeds.shape: torch.Size([256, 19, 256])\n",
            "printing rnn.out.shape: torch.Size([256, 19, 256])\n"
          ]
        },
        {
          "output_type": "stream",
          "name": "stderr",
          "text": [
            "Epoch: 13  Iteration: 9  Loss: 0.6576764583587646:  16%|█▌        | 10/63 [00:05<00:29,  1.83it/s]"
          ]
        },
        {
          "output_type": "stream",
          "name": "stdout",
          "text": [
            "printing embeds.shape: torch.Size([256, 19, 256])\n",
            "printing rnn.out.shape: torch.Size([256, 19, 256])\n"
          ]
        },
        {
          "output_type": "stream",
          "name": "stderr",
          "text": [
            "\rEpoch: 13  Iteration: 9  Loss: 0.6576764583587646:  17%|█▋        | 11/63 [00:05<00:28,  1.80it/s]"
          ]
        },
        {
          "output_type": "stream",
          "name": "stdout",
          "text": [
            "printing embeds.shape: torch.Size([256, 19, 256])\n",
            "printing rnn.out.shape: torch.Size([256, 19, 256])\n"
          ]
        },
        {
          "output_type": "stream",
          "name": "stderr",
          "text": [
            "\rEpoch: 13  Iteration: 9  Loss: 0.6576764583587646:  19%|█▉        | 12/63 [00:06<00:28,  1.79it/s]"
          ]
        },
        {
          "output_type": "stream",
          "name": "stdout",
          "text": [
            "printing embeds.shape: torch.Size([256, 19, 256])\n",
            "printing rnn.out.shape: torch.Size([256, 19, 256])\n"
          ]
        },
        {
          "output_type": "stream",
          "name": "stderr",
          "text": [
            "\rEpoch: 13  Iteration: 9  Loss: 0.6576764583587646:  21%|██        | 13/63 [00:07<00:29,  1.72it/s]"
          ]
        },
        {
          "output_type": "stream",
          "name": "stdout",
          "text": [
            "printing embeds.shape: torch.Size([256, 19, 256])\n",
            "printing rnn.out.shape: torch.Size([256, 19, 256])\n"
          ]
        },
        {
          "output_type": "stream",
          "name": "stderr",
          "text": [
            "\rEpoch: 13  Iteration: 9  Loss: 0.6576764583587646:  22%|██▏       | 14/63 [00:07<00:27,  1.79it/s]"
          ]
        },
        {
          "output_type": "stream",
          "name": "stdout",
          "text": [
            "printing embeds.shape: torch.Size([256, 19, 256])\n",
            "printing rnn.out.shape: torch.Size([256, 19, 256])\n"
          ]
        },
        {
          "output_type": "stream",
          "name": "stderr",
          "text": [
            "\rEpoch: 13  Iteration: 9  Loss: 0.6576764583587646:  24%|██▍       | 15/63 [00:08<00:26,  1.82it/s]"
          ]
        },
        {
          "output_type": "stream",
          "name": "stdout",
          "text": [
            "printing embeds.shape: torch.Size([256, 19, 256])\n",
            "printing rnn.out.shape: torch.Size([256, 19, 256])\n"
          ]
        },
        {
          "output_type": "stream",
          "name": "stderr",
          "text": [
            "\rEpoch: 13  Iteration: 9  Loss: 0.6576764583587646:  25%|██▌       | 16/63 [00:08<00:24,  1.93it/s]"
          ]
        },
        {
          "output_type": "stream",
          "name": "stdout",
          "text": [
            "printing embeds.shape: torch.Size([256, 19, 256])\n",
            "printing rnn.out.shape: torch.Size([256, 19, 256])\n"
          ]
        },
        {
          "output_type": "stream",
          "name": "stderr",
          "text": [
            "\rEpoch: 13  Iteration: 9  Loss: 0.6576764583587646:  27%|██▋       | 17/63 [00:09<00:23,  1.92it/s]"
          ]
        },
        {
          "output_type": "stream",
          "name": "stdout",
          "text": [
            "printing embeds.shape: torch.Size([256, 19, 256])\n",
            "printing rnn.out.shape: torch.Size([256, 19, 256])\n"
          ]
        },
        {
          "output_type": "stream",
          "name": "stderr",
          "text": [
            "\rEpoch: 13  Iteration: 9  Loss: 0.6576764583587646:  29%|██▊       | 18/63 [00:09<00:22,  2.01it/s]"
          ]
        },
        {
          "output_type": "stream",
          "name": "stdout",
          "text": [
            "printing embeds.shape: torch.Size([256, 19, 256])\n",
            "printing rnn.out.shape: torch.Size([256, 19, 256])\n"
          ]
        },
        {
          "output_type": "stream",
          "name": "stderr",
          "text": [
            "\rEpoch: 13  Iteration: 9  Loss: 0.6576764583587646:  30%|███       | 19/63 [00:09<00:20,  2.11it/s]"
          ]
        },
        {
          "output_type": "stream",
          "name": "stdout",
          "text": [
            "printing embeds.shape: torch.Size([256, 19, 256])\n",
            "printing rnn.out.shape: torch.Size([256, 19, 256])\n"
          ]
        },
        {
          "output_type": "stream",
          "name": "stderr",
          "text": [
            "Epoch: 13  Iteration: 19  Loss: 0.6604394018650055:  32%|███▏      | 20/63 [00:10<00:19,  2.18it/s]"
          ]
        },
        {
          "output_type": "stream",
          "name": "stdout",
          "text": [
            "printing embeds.shape: torch.Size([256, 19, 256])\n",
            "printing rnn.out.shape: torch.Size([256, 19, 256])\n"
          ]
        },
        {
          "output_type": "stream",
          "name": "stderr",
          "text": [
            "\rEpoch: 13  Iteration: 19  Loss: 0.6604394018650055:  33%|███▎      | 21/63 [00:10<00:20,  2.08it/s]"
          ]
        },
        {
          "output_type": "stream",
          "name": "stdout",
          "text": [
            "printing embeds.shape: torch.Size([256, 19, 256])\n",
            "printing rnn.out.shape: torch.Size([256, 19, 256])\n"
          ]
        },
        {
          "output_type": "stream",
          "name": "stderr",
          "text": [
            "\rEpoch: 13  Iteration: 19  Loss: 0.6604394018650055:  35%|███▍      | 22/63 [00:11<00:23,  1.75it/s]"
          ]
        },
        {
          "output_type": "stream",
          "name": "stdout",
          "text": [
            "printing embeds.shape: torch.Size([256, 19, 256])\n",
            "printing rnn.out.shape: torch.Size([256, 19, 256])\n"
          ]
        },
        {
          "output_type": "stream",
          "name": "stderr",
          "text": [
            "\rEpoch: 13  Iteration: 19  Loss: 0.6604394018650055:  37%|███▋      | 23/63 [00:12<00:22,  1.77it/s]"
          ]
        },
        {
          "output_type": "stream",
          "name": "stdout",
          "text": [
            "printing embeds.shape: torch.Size([256, 19, 256])\n",
            "printing rnn.out.shape: torch.Size([256, 19, 256])\n"
          ]
        },
        {
          "output_type": "stream",
          "name": "stderr",
          "text": [
            "\rEpoch: 13  Iteration: 19  Loss: 0.6604394018650055:  38%|███▊      | 24/63 [00:12<00:20,  1.92it/s]"
          ]
        },
        {
          "output_type": "stream",
          "name": "stdout",
          "text": [
            "printing embeds.shape: torch.Size([256, 19, 256])\n",
            "printing rnn.out.shape: torch.Size([256, 19, 256])\n"
          ]
        },
        {
          "output_type": "stream",
          "name": "stderr",
          "text": [
            "\rEpoch: 13  Iteration: 19  Loss: 0.6604394018650055:  40%|███▉      | 25/63 [00:13<00:18,  2.02it/s]"
          ]
        },
        {
          "output_type": "stream",
          "name": "stdout",
          "text": [
            "printing embeds.shape: torch.Size([256, 19, 256])\n",
            "printing rnn.out.shape: torch.Size([256, 19, 256])\n"
          ]
        },
        {
          "output_type": "stream",
          "name": "stderr",
          "text": [
            "\rEpoch: 13  Iteration: 19  Loss: 0.6604394018650055:  41%|████▏     | 26/63 [00:13<00:17,  2.11it/s]"
          ]
        },
        {
          "output_type": "stream",
          "name": "stdout",
          "text": [
            "printing embeds.shape: torch.Size([256, 19, 256])\n",
            "printing rnn.out.shape: torch.Size([256, 19, 256])\n"
          ]
        },
        {
          "output_type": "stream",
          "name": "stderr",
          "text": [
            "\rEpoch: 13  Iteration: 19  Loss: 0.6604394018650055:  43%|████▎     | 27/63 [00:14<00:18,  1.98it/s]"
          ]
        },
        {
          "output_type": "stream",
          "name": "stdout",
          "text": [
            "printing embeds.shape: torch.Size([256, 19, 256])\n",
            "printing rnn.out.shape: torch.Size([256, 19, 256])\n"
          ]
        },
        {
          "output_type": "stream",
          "name": "stderr",
          "text": [
            "\rEpoch: 13  Iteration: 19  Loss: 0.6604394018650055:  44%|████▍     | 28/63 [00:14<00:16,  2.09it/s]"
          ]
        },
        {
          "output_type": "stream",
          "name": "stdout",
          "text": [
            "printing embeds.shape: torch.Size([256, 19, 256])\n",
            "printing rnn.out.shape: torch.Size([256, 19, 256])\n"
          ]
        },
        {
          "output_type": "stream",
          "name": "stderr",
          "text": [
            "\rEpoch: 13  Iteration: 19  Loss: 0.6604394018650055:  46%|████▌     | 29/63 [00:14<00:16,  2.05it/s]"
          ]
        },
        {
          "output_type": "stream",
          "name": "stdout",
          "text": [
            "printing embeds.shape: torch.Size([256, 19, 256])\n",
            "printing rnn.out.shape: torch.Size([256, 19, 256])\n"
          ]
        },
        {
          "output_type": "stream",
          "name": "stderr",
          "text": [
            "Epoch: 13  Iteration: 29  Loss: 0.6734722316265106:  48%|████▊     | 30/63 [00:15<00:15,  2.13it/s]"
          ]
        },
        {
          "output_type": "stream",
          "name": "stdout",
          "text": [
            "printing embeds.shape: torch.Size([256, 19, 256])\n",
            "printing rnn.out.shape: torch.Size([256, 19, 256])\n"
          ]
        },
        {
          "output_type": "stream",
          "name": "stderr",
          "text": [
            "\rEpoch: 13  Iteration: 29  Loss: 0.6734722316265106:  49%|████▉     | 31/63 [00:15<00:14,  2.18it/s]"
          ]
        },
        {
          "output_type": "stream",
          "name": "stdout",
          "text": [
            "printing embeds.shape: torch.Size([256, 19, 256])\n",
            "printing rnn.out.shape: torch.Size([256, 19, 256])\n"
          ]
        },
        {
          "output_type": "stream",
          "name": "stderr",
          "text": [
            "\rEpoch: 13  Iteration: 29  Loss: 0.6734722316265106:  51%|█████     | 32/63 [00:16<00:13,  2.22it/s]"
          ]
        },
        {
          "output_type": "stream",
          "name": "stdout",
          "text": [
            "printing embeds.shape: torch.Size([256, 19, 256])\n",
            "printing rnn.out.shape: torch.Size([256, 19, 256])\n"
          ]
        },
        {
          "output_type": "stream",
          "name": "stderr",
          "text": [
            "\rEpoch: 13  Iteration: 29  Loss: 0.6734722316265106:  52%|█████▏    | 33/63 [00:16<00:14,  2.07it/s]"
          ]
        },
        {
          "output_type": "stream",
          "name": "stdout",
          "text": [
            "printing embeds.shape: torch.Size([256, 19, 256])\n",
            "printing rnn.out.shape: torch.Size([256, 19, 256])\n"
          ]
        },
        {
          "output_type": "stream",
          "name": "stderr",
          "text": [
            "\rEpoch: 13  Iteration: 29  Loss: 0.6734722316265106:  54%|█████▍    | 34/63 [00:17<00:14,  2.00it/s]"
          ]
        },
        {
          "output_type": "stream",
          "name": "stdout",
          "text": [
            "printing embeds.shape: torch.Size([256, 19, 256])\n",
            "printing rnn.out.shape: torch.Size([256, 19, 256])\n"
          ]
        },
        {
          "output_type": "stream",
          "name": "stderr",
          "text": [
            "\rEpoch: 13  Iteration: 29  Loss: 0.6734722316265106:  56%|█████▌    | 35/63 [00:18<00:15,  1.81it/s]"
          ]
        },
        {
          "output_type": "stream",
          "name": "stdout",
          "text": [
            "printing embeds.shape: torch.Size([256, 19, 256])\n",
            "printing rnn.out.shape: torch.Size([256, 19, 256])\n"
          ]
        },
        {
          "output_type": "stream",
          "name": "stderr",
          "text": [
            "\rEpoch: 13  Iteration: 29  Loss: 0.6734722316265106:  57%|█████▋    | 36/63 [00:18<00:15,  1.74it/s]"
          ]
        },
        {
          "output_type": "stream",
          "name": "stdout",
          "text": [
            "printing embeds.shape: torch.Size([256, 19, 256])\n",
            "printing rnn.out.shape: torch.Size([256, 19, 256])\n"
          ]
        },
        {
          "output_type": "stream",
          "name": "stderr",
          "text": [
            "\rEpoch: 13  Iteration: 29  Loss: 0.6734722316265106:  59%|█████▊    | 37/63 [00:19<00:14,  1.77it/s]"
          ]
        },
        {
          "output_type": "stream",
          "name": "stdout",
          "text": [
            "printing embeds.shape: torch.Size([256, 19, 256])\n",
            "printing rnn.out.shape: torch.Size([256, 19, 256])\n"
          ]
        },
        {
          "output_type": "stream",
          "name": "stderr",
          "text": [
            "\rEpoch: 13  Iteration: 29  Loss: 0.6734722316265106:  60%|██████    | 38/63 [00:19<00:14,  1.74it/s]"
          ]
        },
        {
          "output_type": "stream",
          "name": "stdout",
          "text": [
            "printing embeds.shape: torch.Size([256, 19, 256])\n",
            "printing rnn.out.shape: torch.Size([256, 19, 256])\n"
          ]
        },
        {
          "output_type": "stream",
          "name": "stderr",
          "text": [
            "\rEpoch: 13  Iteration: 29  Loss: 0.6734722316265106:  62%|██████▏   | 39/63 [00:20<00:13,  1.74it/s]"
          ]
        },
        {
          "output_type": "stream",
          "name": "stdout",
          "text": [
            "printing embeds.shape: torch.Size([256, 19, 256])\n",
            "printing rnn.out.shape: torch.Size([256, 19, 256])\n"
          ]
        },
        {
          "output_type": "stream",
          "name": "stderr",
          "text": [
            "Epoch: 13  Iteration: 39  Loss: 0.6607017457485199:  63%|██████▎   | 40/63 [00:20<00:12,  1.83it/s]"
          ]
        },
        {
          "output_type": "stream",
          "name": "stdout",
          "text": [
            "printing embeds.shape: torch.Size([256, 19, 256])\n",
            "printing rnn.out.shape: torch.Size([256, 19, 256])\n"
          ]
        },
        {
          "output_type": "stream",
          "name": "stderr",
          "text": [
            "\rEpoch: 13  Iteration: 39  Loss: 0.6607017457485199:  65%|██████▌   | 41/63 [00:21<00:12,  1.83it/s]"
          ]
        },
        {
          "output_type": "stream",
          "name": "stdout",
          "text": [
            "printing embeds.shape: torch.Size([256, 19, 256])\n",
            "printing rnn.out.shape: torch.Size([256, 19, 256])\n"
          ]
        },
        {
          "output_type": "stream",
          "name": "stderr",
          "text": [
            "\rEpoch: 13  Iteration: 39  Loss: 0.6607017457485199:  67%|██████▋   | 42/63 [00:21<00:10,  1.93it/s]"
          ]
        },
        {
          "output_type": "stream",
          "name": "stdout",
          "text": [
            "printing embeds.shape: torch.Size([256, 19, 256])\n",
            "printing rnn.out.shape: torch.Size([256, 19, 256])\n"
          ]
        },
        {
          "output_type": "stream",
          "name": "stderr",
          "text": [
            "\rEpoch: 13  Iteration: 39  Loss: 0.6607017457485199:  68%|██████▊   | 43/63 [00:22<00:09,  2.03it/s]"
          ]
        },
        {
          "output_type": "stream",
          "name": "stdout",
          "text": [
            "printing embeds.shape: torch.Size([256, 19, 256])\n",
            "printing rnn.out.shape: torch.Size([256, 19, 256])\n"
          ]
        },
        {
          "output_type": "stream",
          "name": "stderr",
          "text": [
            "\rEpoch: 13  Iteration: 39  Loss: 0.6607017457485199:  70%|██████▉   | 44/63 [00:22<00:09,  2.08it/s]"
          ]
        },
        {
          "output_type": "stream",
          "name": "stdout",
          "text": [
            "printing embeds.shape: torch.Size([256, 19, 256])\n",
            "printing rnn.out.shape: torch.Size([256, 19, 256])\n"
          ]
        },
        {
          "output_type": "stream",
          "name": "stderr",
          "text": [
            "\rEpoch: 13  Iteration: 39  Loss: 0.6607017457485199:  71%|███████▏  | 45/63 [00:23<00:08,  2.09it/s]"
          ]
        },
        {
          "output_type": "stream",
          "name": "stdout",
          "text": [
            "printing embeds.shape: torch.Size([256, 19, 256])\n",
            "printing rnn.out.shape: torch.Size([256, 19, 256])\n"
          ]
        },
        {
          "output_type": "stream",
          "name": "stderr",
          "text": [
            "\rEpoch: 13  Iteration: 39  Loss: 0.6607017457485199:  73%|███████▎  | 46/63 [00:23<00:07,  2.16it/s]"
          ]
        },
        {
          "output_type": "stream",
          "name": "stdout",
          "text": [
            "printing embeds.shape: torch.Size([256, 19, 256])\n",
            "printing rnn.out.shape: torch.Size([256, 19, 256])\n"
          ]
        },
        {
          "output_type": "stream",
          "name": "stderr",
          "text": [
            "\rEpoch: 13  Iteration: 39  Loss: 0.6607017457485199:  75%|███████▍  | 47/63 [00:24<00:07,  2.04it/s]"
          ]
        },
        {
          "output_type": "stream",
          "name": "stdout",
          "text": [
            "printing embeds.shape: torch.Size([256, 19, 256])\n",
            "printing rnn.out.shape: torch.Size([256, 19, 256])\n"
          ]
        },
        {
          "output_type": "stream",
          "name": "stderr",
          "text": [
            "\rEpoch: 13  Iteration: 39  Loss: 0.6607017457485199:  76%|███████▌  | 48/63 [00:24<00:07,  2.13it/s]"
          ]
        },
        {
          "output_type": "stream",
          "name": "stdout",
          "text": [
            "printing embeds.shape: torch.Size([256, 19, 256])\n",
            "printing rnn.out.shape: torch.Size([256, 19, 256])\n"
          ]
        },
        {
          "output_type": "stream",
          "name": "stderr",
          "text": [
            "\rEpoch: 13  Iteration: 39  Loss: 0.6607017457485199:  78%|███████▊  | 49/63 [00:25<00:06,  2.18it/s]"
          ]
        },
        {
          "output_type": "stream",
          "name": "stdout",
          "text": [
            "printing embeds.shape: torch.Size([256, 19, 256])\n",
            "printing rnn.out.shape: torch.Size([256, 19, 256])\n"
          ]
        },
        {
          "output_type": "stream",
          "name": "stderr",
          "text": [
            "Epoch: 13  Iteration: 49  Loss: 0.6500550150871277:  79%|███████▉  | 50/63 [00:25<00:05,  2.23it/s]"
          ]
        },
        {
          "output_type": "stream",
          "name": "stdout",
          "text": [
            "printing embeds.shape: torch.Size([256, 19, 256])\n",
            "printing rnn.out.shape: torch.Size([256, 19, 256])\n"
          ]
        },
        {
          "output_type": "stream",
          "name": "stderr",
          "text": [
            "\rEpoch: 13  Iteration: 49  Loss: 0.6500550150871277:  81%|████████  | 51/63 [00:25<00:05,  2.24it/s]"
          ]
        },
        {
          "output_type": "stream",
          "name": "stdout",
          "text": [
            "printing embeds.shape: torch.Size([256, 19, 256])\n",
            "printing rnn.out.shape: torch.Size([256, 19, 256])\n"
          ]
        },
        {
          "output_type": "stream",
          "name": "stderr",
          "text": [
            "\rEpoch: 13  Iteration: 49  Loss: 0.6500550150871277:  83%|████████▎ | 52/63 [00:26<00:04,  2.25it/s]"
          ]
        },
        {
          "output_type": "stream",
          "name": "stdout",
          "text": [
            "printing embeds.shape: torch.Size([256, 19, 256])\n",
            "printing rnn.out.shape: torch.Size([256, 19, 256])\n"
          ]
        },
        {
          "output_type": "stream",
          "name": "stderr",
          "text": [
            "\rEpoch: 13  Iteration: 49  Loss: 0.6500550150871277:  84%|████████▍ | 53/63 [00:26<00:04,  2.27it/s]"
          ]
        },
        {
          "output_type": "stream",
          "name": "stdout",
          "text": [
            "printing embeds.shape: torch.Size([256, 19, 256])\n",
            "printing rnn.out.shape: torch.Size([256, 19, 256])\n"
          ]
        },
        {
          "output_type": "stream",
          "name": "stderr",
          "text": [
            "\rEpoch: 13  Iteration: 49  Loss: 0.6500550150871277:  86%|████████▌ | 54/63 [00:27<00:03,  2.26it/s]"
          ]
        },
        {
          "output_type": "stream",
          "name": "stdout",
          "text": [
            "printing embeds.shape: torch.Size([256, 19, 256])\n",
            "printing rnn.out.shape: torch.Size([256, 19, 256])\n"
          ]
        },
        {
          "output_type": "stream",
          "name": "stderr",
          "text": [
            "\rEpoch: 13  Iteration: 49  Loss: 0.6500550150871277:  87%|████████▋ | 55/63 [00:27<00:03,  2.12it/s]"
          ]
        },
        {
          "output_type": "stream",
          "name": "stdout",
          "text": [
            "printing embeds.shape: torch.Size([256, 19, 256])\n",
            "printing rnn.out.shape: torch.Size([256, 19, 256])\n"
          ]
        },
        {
          "output_type": "stream",
          "name": "stderr",
          "text": [
            "\rEpoch: 13  Iteration: 49  Loss: 0.6500550150871277:  89%|████████▉ | 56/63 [00:28<00:03,  2.07it/s]"
          ]
        },
        {
          "output_type": "stream",
          "name": "stdout",
          "text": [
            "printing embeds.shape: torch.Size([256, 19, 256])\n",
            "printing rnn.out.shape: torch.Size([256, 19, 256])\n"
          ]
        },
        {
          "output_type": "stream",
          "name": "stderr",
          "text": [
            "\rEpoch: 13  Iteration: 49  Loss: 0.6500550150871277:  90%|█████████ | 57/63 [00:28<00:03,  1.98it/s]"
          ]
        },
        {
          "output_type": "stream",
          "name": "stdout",
          "text": [
            "printing embeds.shape: torch.Size([256, 19, 256])\n",
            "printing rnn.out.shape: torch.Size([256, 19, 256])\n"
          ]
        },
        {
          "output_type": "stream",
          "name": "stderr",
          "text": [
            "\rEpoch: 13  Iteration: 49  Loss: 0.6500550150871277:  92%|█████████▏| 58/63 [00:29<00:02,  2.10it/s]"
          ]
        },
        {
          "output_type": "stream",
          "name": "stdout",
          "text": [
            "printing embeds.shape: torch.Size([256, 19, 256])\n",
            "printing rnn.out.shape: torch.Size([256, 19, 256])\n"
          ]
        },
        {
          "output_type": "stream",
          "name": "stderr",
          "text": [
            "\rEpoch: 13  Iteration: 49  Loss: 0.6500550150871277:  94%|█████████▎| 59/63 [00:29<00:01,  2.01it/s]"
          ]
        },
        {
          "output_type": "stream",
          "name": "stdout",
          "text": [
            "printing embeds.shape: torch.Size([256, 19, 256])\n",
            "printing rnn.out.shape: torch.Size([256, 19, 256])\n"
          ]
        },
        {
          "output_type": "stream",
          "name": "stderr",
          "text": [
            "Epoch: 13  Iteration: 59  Loss: 0.6668829679489136:  95%|█████████▌| 60/63 [00:30<00:01,  1.96it/s]"
          ]
        },
        {
          "output_type": "stream",
          "name": "stdout",
          "text": [
            "printing embeds.shape: torch.Size([256, 19, 256])\n",
            "printing rnn.out.shape: torch.Size([256, 19, 256])\n"
          ]
        },
        {
          "output_type": "stream",
          "name": "stderr",
          "text": [
            "\rEpoch: 13  Iteration: 59  Loss: 0.6668829679489136:  97%|█████████▋| 61/63 [00:30<00:01,  1.88it/s]"
          ]
        },
        {
          "output_type": "stream",
          "name": "stdout",
          "text": [
            "printing embeds.shape: torch.Size([256, 19, 256])\n",
            "printing rnn.out.shape: torch.Size([256, 19, 256])\n"
          ]
        },
        {
          "output_type": "stream",
          "name": "stderr",
          "text": [
            "\rEpoch: 13  Iteration: 59  Loss: 0.6668829679489136:  98%|█████████▊| 62/63 [00:31<00:00,  1.88it/s]"
          ]
        },
        {
          "output_type": "stream",
          "name": "stdout",
          "text": [
            "printing embeds.shape: torch.Size([187, 19, 256])\n",
            "printing rnn.out.shape: torch.Size([187, 19, 256])\n"
          ]
        },
        {
          "output_type": "stream",
          "name": "stderr",
          "text": [
            "Epoch: 13  Iteration: 59  Loss: 0.6668829679489136: 100%|██████████| 63/63 [00:31<00:00,  1.98it/s]\n"
          ]
        },
        {
          "output_type": "stream",
          "name": "stdout",
          "text": [
            "Epoch: 13  Train Accuracy: 80.40351204931814\n",
            "printing embeds.shape: torch.Size([256, 19, 256])\n",
            "printing rnn.out.shape: torch.Size([256, 19, 256])\n",
            "printing embeds.shape: torch.Size([256, 19, 256])\n",
            "printing rnn.out.shape: torch.Size([256, 19, 256])\n",
            "printing embeds.shape: torch.Size([256, 19, 256])\n",
            "printing rnn.out.shape: torch.Size([256, 19, 256])\n",
            "printing embeds.shape: torch.Size([256, 19, 256])\n",
            "printing rnn.out.shape: torch.Size([256, 19, 256])\n",
            "printing embeds.shape: torch.Size([256, 19, 256])\n",
            "printing rnn.out.shape: torch.Size([256, 19, 256])\n",
            "printing embeds.shape: torch.Size([256, 19, 256])\n",
            "printing rnn.out.shape: torch.Size([256, 19, 256])\n",
            "printing embeds.shape: torch.Size([256, 19, 256])\n",
            "printing rnn.out.shape: torch.Size([256, 19, 256])\n",
            "printing embeds.shape: torch.Size([256, 19, 256])\n",
            "printing rnn.out.shape: torch.Size([256, 19, 256])\n",
            "printing embeds.shape: torch.Size([256, 19, 256])\n",
            "printing rnn.out.shape: torch.Size([256, 19, 256])\n",
            "printing embeds.shape: torch.Size([256, 19, 256])\n",
            "printing rnn.out.shape: torch.Size([256, 19, 256])\n",
            "printing embeds.shape: torch.Size([256, 19, 256])\n",
            "printing rnn.out.shape: torch.Size([256, 19, 256])\n",
            "printing embeds.shape: torch.Size([256, 19, 256])\n",
            "printing rnn.out.shape: torch.Size([256, 19, 256])\n",
            "printing embeds.shape: torch.Size([256, 19, 256])\n",
            "printing rnn.out.shape: torch.Size([256, 19, 256])\n",
            "printing embeds.shape: torch.Size([256, 19, 256])\n",
            "printing rnn.out.shape: torch.Size([256, 19, 256])\n",
            "printing embeds.shape: torch.Size([256, 19, 256])\n",
            "printing rnn.out.shape: torch.Size([256, 19, 256])\n",
            "printing embeds.shape: torch.Size([175, 19, 256])\n",
            "printing rnn.out.shape: torch.Size([175, 19, 256])\n",
            "Epoch: 13  Eval Accuracy: 80.39850560398506\n"
          ]
        },
        {
          "output_type": "stream",
          "name": "stderr",
          "text": [
            "\r  0%|          | 0/63 [00:00<?, ?it/s]"
          ]
        },
        {
          "output_type": "stream",
          "name": "stdout",
          "text": [
            "printing embeds.shape: torch.Size([256, 19, 256])\n",
            "printing rnn.out.shape: torch.Size([256, 19, 256])\n"
          ]
        },
        {
          "output_type": "stream",
          "name": "stderr",
          "text": [
            "\r  2%|▏         | 1/63 [00:00<00:28,  2.20it/s]"
          ]
        },
        {
          "output_type": "stream",
          "name": "stdout",
          "text": [
            "printing embeds.shape: torch.Size([256, 19, 256])\n",
            "printing rnn.out.shape: torch.Size([256, 19, 256])\n"
          ]
        },
        {
          "output_type": "stream",
          "name": "stderr",
          "text": [
            "\r  3%|▎         | 2/63 [00:00<00:26,  2.27it/s]"
          ]
        },
        {
          "output_type": "stream",
          "name": "stdout",
          "text": [
            "printing embeds.shape: torch.Size([256, 19, 256])\n",
            "printing rnn.out.shape: torch.Size([256, 19, 256])\n"
          ]
        },
        {
          "output_type": "stream",
          "name": "stderr",
          "text": [
            "\r  5%|▍         | 3/63 [00:01<00:25,  2.35it/s]"
          ]
        },
        {
          "output_type": "stream",
          "name": "stdout",
          "text": [
            "printing embeds.shape: torch.Size([256, 19, 256])\n",
            "printing rnn.out.shape: torch.Size([256, 19, 256])\n"
          ]
        },
        {
          "output_type": "stream",
          "name": "stderr",
          "text": [
            "\r  6%|▋         | 4/63 [00:01<00:25,  2.34it/s]"
          ]
        },
        {
          "output_type": "stream",
          "name": "stdout",
          "text": [
            "printing embeds.shape: torch.Size([256, 19, 256])\n",
            "printing rnn.out.shape: torch.Size([256, 19, 256])\n"
          ]
        },
        {
          "output_type": "stream",
          "name": "stderr",
          "text": [
            "\r  8%|▊         | 5/63 [00:02<00:25,  2.24it/s]"
          ]
        },
        {
          "output_type": "stream",
          "name": "stdout",
          "text": [
            "printing embeds.shape: torch.Size([256, 19, 256])\n",
            "printing rnn.out.shape: torch.Size([256, 19, 256])\n"
          ]
        },
        {
          "output_type": "stream",
          "name": "stderr",
          "text": [
            "\r 10%|▉         | 6/63 [00:02<00:26,  2.11it/s]"
          ]
        },
        {
          "output_type": "stream",
          "name": "stdout",
          "text": [
            "printing embeds.shape: torch.Size([256, 19, 256])\n",
            "printing rnn.out.shape: torch.Size([256, 19, 256])\n"
          ]
        },
        {
          "output_type": "stream",
          "name": "stderr",
          "text": [
            "\r 11%|█         | 7/63 [00:03<00:25,  2.21it/s]"
          ]
        },
        {
          "output_type": "stream",
          "name": "stdout",
          "text": [
            "printing embeds.shape: torch.Size([256, 19, 256])\n",
            "printing rnn.out.shape: torch.Size([256, 19, 256])\n"
          ]
        },
        {
          "output_type": "stream",
          "name": "stderr",
          "text": [
            "\r 13%|█▎        | 8/63 [00:03<00:24,  2.27it/s]"
          ]
        },
        {
          "output_type": "stream",
          "name": "stdout",
          "text": [
            "printing embeds.shape: torch.Size([256, 19, 256])\n",
            "printing rnn.out.shape: torch.Size([256, 19, 256])\n"
          ]
        },
        {
          "output_type": "stream",
          "name": "stderr",
          "text": [
            "\r 14%|█▍        | 9/63 [00:03<00:23,  2.30it/s]"
          ]
        },
        {
          "output_type": "stream",
          "name": "stdout",
          "text": [
            "printing embeds.shape: torch.Size([256, 19, 256])\n",
            "printing rnn.out.shape: torch.Size([256, 19, 256])\n"
          ]
        },
        {
          "output_type": "stream",
          "name": "stderr",
          "text": [
            "Epoch: 14  Iteration: 9  Loss: 0.6317582488059997:  16%|█▌        | 10/63 [00:04<00:24,  2.18it/s]"
          ]
        },
        {
          "output_type": "stream",
          "name": "stdout",
          "text": [
            "printing embeds.shape: torch.Size([256, 19, 256])\n",
            "printing rnn.out.shape: torch.Size([256, 19, 256])\n"
          ]
        },
        {
          "output_type": "stream",
          "name": "stderr",
          "text": [
            "\rEpoch: 14  Iteration: 9  Loss: 0.6317582488059997:  17%|█▋        | 11/63 [00:04<00:23,  2.22it/s]"
          ]
        },
        {
          "output_type": "stream",
          "name": "stdout",
          "text": [
            "printing embeds.shape: torch.Size([256, 19, 256])\n",
            "printing rnn.out.shape: torch.Size([256, 19, 256])\n"
          ]
        },
        {
          "output_type": "stream",
          "name": "stderr",
          "text": [
            "\rEpoch: 14  Iteration: 9  Loss: 0.6317582488059997:  19%|█▉        | 12/63 [00:05<00:23,  2.20it/s]"
          ]
        },
        {
          "output_type": "stream",
          "name": "stdout",
          "text": [
            "printing embeds.shape: torch.Size([256, 19, 256])\n",
            "printing rnn.out.shape: torch.Size([256, 19, 256])\n"
          ]
        },
        {
          "output_type": "stream",
          "name": "stderr",
          "text": [
            "\rEpoch: 14  Iteration: 9  Loss: 0.6317582488059997:  21%|██        | 13/63 [00:05<00:22,  2.21it/s]"
          ]
        },
        {
          "output_type": "stream",
          "name": "stdout",
          "text": [
            "printing embeds.shape: torch.Size([256, 19, 256])\n",
            "printing rnn.out.shape: torch.Size([256, 19, 256])\n"
          ]
        },
        {
          "output_type": "stream",
          "name": "stderr",
          "text": [
            "\rEpoch: 14  Iteration: 9  Loss: 0.6317582488059997:  22%|██▏       | 14/63 [00:06<00:21,  2.25it/s]"
          ]
        },
        {
          "output_type": "stream",
          "name": "stdout",
          "text": [
            "printing embeds.shape: torch.Size([256, 19, 256])\n",
            "printing rnn.out.shape: torch.Size([256, 19, 256])\n"
          ]
        },
        {
          "output_type": "stream",
          "name": "stderr",
          "text": [
            "\rEpoch: 14  Iteration: 9  Loss: 0.6317582488059997:  24%|██▍       | 15/63 [00:06<00:21,  2.22it/s]"
          ]
        },
        {
          "output_type": "stream",
          "name": "stdout",
          "text": [
            "printing embeds.shape: torch.Size([256, 19, 256])\n",
            "printing rnn.out.shape: torch.Size([256, 19, 256])\n"
          ]
        },
        {
          "output_type": "stream",
          "name": "stderr",
          "text": [
            "\rEpoch: 14  Iteration: 9  Loss: 0.6317582488059997:  25%|██▌       | 16/63 [00:07<00:21,  2.17it/s]"
          ]
        },
        {
          "output_type": "stream",
          "name": "stdout",
          "text": [
            "printing embeds.shape: torch.Size([256, 19, 256])\n",
            "printing rnn.out.shape: torch.Size([256, 19, 256])\n"
          ]
        },
        {
          "output_type": "stream",
          "name": "stderr",
          "text": [
            "\rEpoch: 14  Iteration: 9  Loss: 0.6317582488059997:  27%|██▋       | 17/63 [00:07<00:20,  2.24it/s]"
          ]
        },
        {
          "output_type": "stream",
          "name": "stdout",
          "text": [
            "printing embeds.shape: torch.Size([256, 19, 256])\n",
            "printing rnn.out.shape: torch.Size([256, 19, 256])\n"
          ]
        },
        {
          "output_type": "stream",
          "name": "stderr",
          "text": [
            "\rEpoch: 14  Iteration: 9  Loss: 0.6317582488059997:  29%|██▊       | 18/63 [00:08<00:20,  2.17it/s]"
          ]
        },
        {
          "output_type": "stream",
          "name": "stdout",
          "text": [
            "printing embeds.shape: torch.Size([256, 19, 256])\n",
            "printing rnn.out.shape: torch.Size([256, 19, 256])\n"
          ]
        },
        {
          "output_type": "stream",
          "name": "stderr",
          "text": [
            "\rEpoch: 14  Iteration: 9  Loss: 0.6317582488059997:  30%|███       | 19/63 [00:08<00:21,  2.06it/s]"
          ]
        },
        {
          "output_type": "stream",
          "name": "stdout",
          "text": [
            "printing embeds.shape: torch.Size([256, 19, 256])\n",
            "printing rnn.out.shape: torch.Size([256, 19, 256])\n"
          ]
        },
        {
          "output_type": "stream",
          "name": "stderr",
          "text": [
            "Epoch: 14  Iteration: 19  Loss: 0.6485284805297852:  32%|███▏      | 20/63 [00:09<00:21,  2.01it/s]"
          ]
        },
        {
          "output_type": "stream",
          "name": "stdout",
          "text": [
            "printing embeds.shape: torch.Size([256, 19, 256])\n",
            "printing rnn.out.shape: torch.Size([256, 19, 256])\n"
          ]
        },
        {
          "output_type": "stream",
          "name": "stderr",
          "text": [
            "\rEpoch: 14  Iteration: 19  Loss: 0.6485284805297852:  33%|███▎      | 21/63 [00:09<00:22,  1.85it/s]"
          ]
        },
        {
          "output_type": "stream",
          "name": "stdout",
          "text": [
            "printing embeds.shape: torch.Size([256, 19, 256])\n",
            "printing rnn.out.shape: torch.Size([256, 19, 256])\n"
          ]
        },
        {
          "output_type": "stream",
          "name": "stderr",
          "text": [
            "\rEpoch: 14  Iteration: 19  Loss: 0.6485284805297852:  35%|███▍      | 22/63 [00:10<00:22,  1.84it/s]"
          ]
        },
        {
          "output_type": "stream",
          "name": "stdout",
          "text": [
            "printing embeds.shape: torch.Size([256, 19, 256])\n",
            "printing rnn.out.shape: torch.Size([256, 19, 256])\n"
          ]
        },
        {
          "output_type": "stream",
          "name": "stderr",
          "text": [
            "\rEpoch: 14  Iteration: 19  Loss: 0.6485284805297852:  37%|███▋      | 23/63 [00:10<00:22,  1.77it/s]"
          ]
        },
        {
          "output_type": "stream",
          "name": "stdout",
          "text": [
            "printing embeds.shape: torch.Size([256, 19, 256])\n",
            "printing rnn.out.shape: torch.Size([256, 19, 256])\n"
          ]
        },
        {
          "output_type": "stream",
          "name": "stderr",
          "text": [
            "\rEpoch: 14  Iteration: 19  Loss: 0.6485284805297852:  38%|███▊      | 24/63 [00:11<00:22,  1.70it/s]"
          ]
        },
        {
          "output_type": "stream",
          "name": "stdout",
          "text": [
            "printing embeds.shape: torch.Size([256, 19, 256])\n",
            "printing rnn.out.shape: torch.Size([256, 19, 256])\n"
          ]
        },
        {
          "output_type": "stream",
          "name": "stderr",
          "text": [
            "\rEpoch: 14  Iteration: 19  Loss: 0.6485284805297852:  40%|███▉      | 25/63 [00:12<00:22,  1.73it/s]"
          ]
        },
        {
          "output_type": "stream",
          "name": "stdout",
          "text": [
            "printing embeds.shape: torch.Size([256, 19, 256])\n",
            "printing rnn.out.shape: torch.Size([256, 19, 256])\n"
          ]
        },
        {
          "output_type": "stream",
          "name": "stderr",
          "text": [
            "\rEpoch: 14  Iteration: 19  Loss: 0.6485284805297852:  41%|████▏     | 26/63 [00:12<00:21,  1.71it/s]"
          ]
        },
        {
          "output_type": "stream",
          "name": "stdout",
          "text": [
            "printing embeds.shape: torch.Size([256, 19, 256])\n",
            "printing rnn.out.shape: torch.Size([256, 19, 256])\n"
          ]
        },
        {
          "output_type": "stream",
          "name": "stderr",
          "text": [
            "\rEpoch: 14  Iteration: 19  Loss: 0.6485284805297852:  43%|████▎     | 27/63 [00:13<00:19,  1.88it/s]"
          ]
        },
        {
          "output_type": "stream",
          "name": "stdout",
          "text": [
            "printing embeds.shape: torch.Size([256, 19, 256])\n",
            "printing rnn.out.shape: torch.Size([256, 19, 256])\n"
          ]
        },
        {
          "output_type": "stream",
          "name": "stderr",
          "text": [
            "\rEpoch: 14  Iteration: 19  Loss: 0.6485284805297852:  44%|████▍     | 28/63 [00:13<00:17,  1.97it/s]"
          ]
        },
        {
          "output_type": "stream",
          "name": "stdout",
          "text": [
            "printing embeds.shape: torch.Size([256, 19, 256])\n",
            "printing rnn.out.shape: torch.Size([256, 19, 256])\n"
          ]
        },
        {
          "output_type": "stream",
          "name": "stderr",
          "text": [
            "\rEpoch: 14  Iteration: 19  Loss: 0.6485284805297852:  46%|████▌     | 29/63 [00:14<00:16,  2.10it/s]"
          ]
        },
        {
          "output_type": "stream",
          "name": "stdout",
          "text": [
            "printing embeds.shape: torch.Size([256, 19, 256])\n",
            "printing rnn.out.shape: torch.Size([256, 19, 256])\n"
          ]
        },
        {
          "output_type": "stream",
          "name": "stderr",
          "text": [
            "Epoch: 14  Iteration: 29  Loss: 0.6348489582538605:  48%|████▊     | 30/63 [00:14<00:15,  2.20it/s]"
          ]
        },
        {
          "output_type": "stream",
          "name": "stdout",
          "text": [
            "printing embeds.shape: torch.Size([256, 19, 256])\n",
            "printing rnn.out.shape: torch.Size([256, 19, 256])\n"
          ]
        },
        {
          "output_type": "stream",
          "name": "stderr",
          "text": [
            "\rEpoch: 14  Iteration: 29  Loss: 0.6348489582538605:  49%|████▉     | 31/63 [00:15<00:15,  2.07it/s]"
          ]
        },
        {
          "output_type": "stream",
          "name": "stdout",
          "text": [
            "printing embeds.shape: torch.Size([256, 19, 256])\n",
            "printing rnn.out.shape: torch.Size([256, 19, 256])\n"
          ]
        },
        {
          "output_type": "stream",
          "name": "stderr",
          "text": [
            "\rEpoch: 14  Iteration: 29  Loss: 0.6348489582538605:  51%|█████     | 32/63 [00:15<00:14,  2.16it/s]"
          ]
        },
        {
          "output_type": "stream",
          "name": "stdout",
          "text": [
            "printing embeds.shape: torch.Size([256, 19, 256])\n",
            "printing rnn.out.shape: torch.Size([256, 19, 256])\n"
          ]
        },
        {
          "output_type": "stream",
          "name": "stderr",
          "text": [
            "\rEpoch: 14  Iteration: 29  Loss: 0.6348489582538605:  52%|█████▏    | 33/63 [00:15<00:14,  2.07it/s]"
          ]
        },
        {
          "output_type": "stream",
          "name": "stdout",
          "text": [
            "printing embeds.shape: torch.Size([256, 19, 256])\n",
            "printing rnn.out.shape: torch.Size([256, 19, 256])\n"
          ]
        },
        {
          "output_type": "stream",
          "name": "stderr",
          "text": [
            "\rEpoch: 14  Iteration: 29  Loss: 0.6348489582538605:  54%|█████▍    | 34/63 [00:16<00:13,  2.16it/s]"
          ]
        },
        {
          "output_type": "stream",
          "name": "stdout",
          "text": [
            "printing embeds.shape: torch.Size([256, 19, 256])\n",
            "printing rnn.out.shape: torch.Size([256, 19, 256])\n"
          ]
        },
        {
          "output_type": "stream",
          "name": "stderr",
          "text": [
            "\rEpoch: 14  Iteration: 29  Loss: 0.6348489582538605:  56%|█████▌    | 35/63 [00:16<00:12,  2.20it/s]"
          ]
        },
        {
          "output_type": "stream",
          "name": "stdout",
          "text": [
            "printing embeds.shape: torch.Size([256, 19, 256])\n",
            "printing rnn.out.shape: torch.Size([256, 19, 256])\n"
          ]
        },
        {
          "output_type": "stream",
          "name": "stderr",
          "text": [
            "\rEpoch: 14  Iteration: 29  Loss: 0.6348489582538605:  57%|█████▋    | 36/63 [00:17<00:12,  2.21it/s]"
          ]
        },
        {
          "output_type": "stream",
          "name": "stdout",
          "text": [
            "printing embeds.shape: torch.Size([256, 19, 256])\n",
            "printing rnn.out.shape: torch.Size([256, 19, 256])\n"
          ]
        },
        {
          "output_type": "stream",
          "name": "stderr",
          "text": [
            "\rEpoch: 14  Iteration: 29  Loss: 0.6348489582538605:  59%|█████▊    | 37/63 [00:17<00:11,  2.25it/s]"
          ]
        },
        {
          "output_type": "stream",
          "name": "stdout",
          "text": [
            "printing embeds.shape: torch.Size([256, 19, 256])\n",
            "printing rnn.out.shape: torch.Size([256, 19, 256])\n"
          ]
        },
        {
          "output_type": "stream",
          "name": "stderr",
          "text": [
            "\rEpoch: 14  Iteration: 29  Loss: 0.6348489582538605:  60%|██████    | 38/63 [00:18<00:11,  2.22it/s]"
          ]
        },
        {
          "output_type": "stream",
          "name": "stdout",
          "text": [
            "printing embeds.shape: torch.Size([256, 19, 256])\n",
            "printing rnn.out.shape: torch.Size([256, 19, 256])\n"
          ]
        },
        {
          "output_type": "stream",
          "name": "stderr",
          "text": [
            "\rEpoch: 14  Iteration: 29  Loss: 0.6348489582538605:  62%|██████▏   | 39/63 [00:18<00:10,  2.19it/s]"
          ]
        },
        {
          "output_type": "stream",
          "name": "stdout",
          "text": [
            "printing embeds.shape: torch.Size([256, 19, 256])\n",
            "printing rnn.out.shape: torch.Size([256, 19, 256])\n"
          ]
        },
        {
          "output_type": "stream",
          "name": "stderr",
          "text": [
            "Epoch: 14  Iteration: 39  Loss: 0.6767801702022552:  63%|██████▎   | 40/63 [00:19<00:11,  2.08it/s]"
          ]
        },
        {
          "output_type": "stream",
          "name": "stdout",
          "text": [
            "printing embeds.shape: torch.Size([256, 19, 256])\n",
            "printing rnn.out.shape: torch.Size([256, 19, 256])\n"
          ]
        },
        {
          "output_type": "stream",
          "name": "stderr",
          "text": [
            "\rEpoch: 14  Iteration: 39  Loss: 0.6767801702022552:  65%|██████▌   | 41/63 [00:19<00:11,  2.00it/s]"
          ]
        },
        {
          "output_type": "stream",
          "name": "stdout",
          "text": [
            "printing embeds.shape: torch.Size([256, 19, 256])\n",
            "printing rnn.out.shape: torch.Size([256, 19, 256])\n"
          ]
        },
        {
          "output_type": "stream",
          "name": "stderr",
          "text": [
            "\rEpoch: 14  Iteration: 39  Loss: 0.6767801702022552:  67%|██████▋   | 42/63 [00:20<00:10,  2.09it/s]"
          ]
        },
        {
          "output_type": "stream",
          "name": "stdout",
          "text": [
            "printing embeds.shape: torch.Size([256, 19, 256])\n",
            "printing rnn.out.shape: torch.Size([256, 19, 256])\n"
          ]
        },
        {
          "output_type": "stream",
          "name": "stderr",
          "text": [
            "\rEpoch: 14  Iteration: 39  Loss: 0.6767801702022552:  68%|██████▊   | 43/63 [00:20<00:09,  2.01it/s]"
          ]
        },
        {
          "output_type": "stream",
          "name": "stdout",
          "text": [
            "printing embeds.shape: torch.Size([256, 19, 256])\n",
            "printing rnn.out.shape: torch.Size([256, 19, 256])\n"
          ]
        },
        {
          "output_type": "stream",
          "name": "stderr",
          "text": [
            "\rEpoch: 14  Iteration: 39  Loss: 0.6767801702022552:  70%|██████▉   | 44/63 [00:21<00:09,  1.98it/s]"
          ]
        },
        {
          "output_type": "stream",
          "name": "stdout",
          "text": [
            "printing embeds.shape: torch.Size([256, 19, 256])\n",
            "printing rnn.out.shape: torch.Size([256, 19, 256])\n"
          ]
        },
        {
          "output_type": "stream",
          "name": "stderr",
          "text": [
            "\rEpoch: 14  Iteration: 39  Loss: 0.6767801702022552:  71%|███████▏  | 45/63 [00:21<00:08,  2.08it/s]"
          ]
        },
        {
          "output_type": "stream",
          "name": "stdout",
          "text": [
            "printing embeds.shape: torch.Size([256, 19, 256])\n",
            "printing rnn.out.shape: torch.Size([256, 19, 256])\n"
          ]
        },
        {
          "output_type": "stream",
          "name": "stderr",
          "text": [
            "\rEpoch: 14  Iteration: 39  Loss: 0.6767801702022552:  73%|███████▎  | 46/63 [00:22<00:07,  2.13it/s]"
          ]
        },
        {
          "output_type": "stream",
          "name": "stdout",
          "text": [
            "printing embeds.shape: torch.Size([256, 19, 256])\n",
            "printing rnn.out.shape: torch.Size([256, 19, 256])\n"
          ]
        },
        {
          "output_type": "stream",
          "name": "stderr",
          "text": [
            "\rEpoch: 14  Iteration: 39  Loss: 0.6767801702022552:  75%|███████▍  | 47/63 [00:22<00:07,  2.03it/s]"
          ]
        },
        {
          "output_type": "stream",
          "name": "stdout",
          "text": [
            "printing embeds.shape: torch.Size([256, 19, 256])\n",
            "printing rnn.out.shape: torch.Size([256, 19, 256])\n"
          ]
        },
        {
          "output_type": "stream",
          "name": "stderr",
          "text": [
            "\rEpoch: 14  Iteration: 39  Loss: 0.6767801702022552:  76%|███████▌  | 48/63 [00:23<00:07,  1.98it/s]"
          ]
        },
        {
          "output_type": "stream",
          "name": "stdout",
          "text": [
            "printing embeds.shape: torch.Size([256, 19, 256])\n",
            "printing rnn.out.shape: torch.Size([256, 19, 256])\n"
          ]
        },
        {
          "output_type": "stream",
          "name": "stderr",
          "text": [
            "\rEpoch: 14  Iteration: 39  Loss: 0.6767801702022552:  78%|███████▊  | 49/63 [00:23<00:07,  1.94it/s]"
          ]
        },
        {
          "output_type": "stream",
          "name": "stdout",
          "text": [
            "printing embeds.shape: torch.Size([256, 19, 256])\n",
            "printing rnn.out.shape: torch.Size([256, 19, 256])\n"
          ]
        },
        {
          "output_type": "stream",
          "name": "stderr",
          "text": [
            "Epoch: 14  Iteration: 49  Loss: 0.6610699534416199:  79%|███████▉  | 50/63 [00:24<00:06,  1.92it/s]"
          ]
        },
        {
          "output_type": "stream",
          "name": "stdout",
          "text": [
            "printing embeds.shape: torch.Size([256, 19, 256])\n",
            "printing rnn.out.shape: torch.Size([256, 19, 256])\n"
          ]
        },
        {
          "output_type": "stream",
          "name": "stderr",
          "text": [
            "\rEpoch: 14  Iteration: 49  Loss: 0.6610699534416199:  81%|████████  | 51/63 [00:24<00:06,  1.87it/s]"
          ]
        },
        {
          "output_type": "stream",
          "name": "stdout",
          "text": [
            "printing embeds.shape: torch.Size([256, 19, 256])\n",
            "printing rnn.out.shape: torch.Size([256, 19, 256])\n"
          ]
        },
        {
          "output_type": "stream",
          "name": "stderr",
          "text": [
            "\rEpoch: 14  Iteration: 49  Loss: 0.6610699534416199:  83%|████████▎ | 52/63 [00:25<00:05,  1.85it/s]"
          ]
        },
        {
          "output_type": "stream",
          "name": "stdout",
          "text": [
            "printing embeds.shape: torch.Size([256, 19, 256])\n",
            "printing rnn.out.shape: torch.Size([256, 19, 256])\n"
          ]
        },
        {
          "output_type": "stream",
          "name": "stderr",
          "text": [
            "\rEpoch: 14  Iteration: 49  Loss: 0.6610699534416199:  84%|████████▍ | 53/63 [00:25<00:05,  1.98it/s]"
          ]
        },
        {
          "output_type": "stream",
          "name": "stdout",
          "text": [
            "printing embeds.shape: torch.Size([256, 19, 256])\n",
            "printing rnn.out.shape: torch.Size([256, 19, 256])\n"
          ]
        },
        {
          "output_type": "stream",
          "name": "stderr",
          "text": [
            "\rEpoch: 14  Iteration: 49  Loss: 0.6610699534416199:  86%|████████▌ | 54/63 [00:26<00:04,  1.95it/s]"
          ]
        },
        {
          "output_type": "stream",
          "name": "stdout",
          "text": [
            "printing embeds.shape: torch.Size([256, 19, 256])\n",
            "printing rnn.out.shape: torch.Size([256, 19, 256])\n"
          ]
        },
        {
          "output_type": "stream",
          "name": "stderr",
          "text": [
            "\rEpoch: 14  Iteration: 49  Loss: 0.6610699534416199:  87%|████████▋ | 55/63 [00:26<00:03,  2.05it/s]"
          ]
        },
        {
          "output_type": "stream",
          "name": "stdout",
          "text": [
            "printing embeds.shape: torch.Size([256, 19, 256])\n",
            "printing rnn.out.shape: torch.Size([256, 19, 256])\n"
          ]
        },
        {
          "output_type": "stream",
          "name": "stderr",
          "text": [
            "\rEpoch: 14  Iteration: 49  Loss: 0.6610699534416199:  89%|████████▉ | 56/63 [00:27<00:03,  2.08it/s]"
          ]
        },
        {
          "output_type": "stream",
          "name": "stdout",
          "text": [
            "printing embeds.shape: torch.Size([256, 19, 256])\n",
            "printing rnn.out.shape: torch.Size([256, 19, 256])\n"
          ]
        },
        {
          "output_type": "stream",
          "name": "stderr",
          "text": [
            "\rEpoch: 14  Iteration: 49  Loss: 0.6610699534416199:  90%|█████████ | 57/63 [00:27<00:02,  2.03it/s]"
          ]
        },
        {
          "output_type": "stream",
          "name": "stdout",
          "text": [
            "printing embeds.shape: torch.Size([256, 19, 256])\n",
            "printing rnn.out.shape: torch.Size([256, 19, 256])\n"
          ]
        },
        {
          "output_type": "stream",
          "name": "stderr",
          "text": [
            "\rEpoch: 14  Iteration: 49  Loss: 0.6610699534416199:  92%|█████████▏| 58/63 [00:28<00:02,  2.13it/s]"
          ]
        },
        {
          "output_type": "stream",
          "name": "stdout",
          "text": [
            "printing embeds.shape: torch.Size([256, 19, 256])\n",
            "printing rnn.out.shape: torch.Size([256, 19, 256])\n"
          ]
        },
        {
          "output_type": "stream",
          "name": "stderr",
          "text": [
            "\rEpoch: 14  Iteration: 49  Loss: 0.6610699534416199:  94%|█████████▎| 59/63 [00:28<00:01,  2.20it/s]"
          ]
        },
        {
          "output_type": "stream",
          "name": "stdout",
          "text": [
            "printing embeds.shape: torch.Size([256, 19, 256])\n",
            "printing rnn.out.shape: torch.Size([256, 19, 256])\n"
          ]
        },
        {
          "output_type": "stream",
          "name": "stderr",
          "text": [
            "Epoch: 14  Iteration: 59  Loss: 0.6106644749641419:  95%|█████████▌| 60/63 [00:28<00:01,  2.22it/s]"
          ]
        },
        {
          "output_type": "stream",
          "name": "stdout",
          "text": [
            "printing embeds.shape: torch.Size([256, 19, 256])\n",
            "printing rnn.out.shape: torch.Size([256, 19, 256])\n"
          ]
        },
        {
          "output_type": "stream",
          "name": "stderr",
          "text": [
            "\rEpoch: 14  Iteration: 59  Loss: 0.6106644749641419:  97%|█████████▋| 61/63 [00:29<00:00,  2.27it/s]"
          ]
        },
        {
          "output_type": "stream",
          "name": "stdout",
          "text": [
            "printing embeds.shape: torch.Size([256, 19, 256])\n",
            "printing rnn.out.shape: torch.Size([256, 19, 256])\n"
          ]
        },
        {
          "output_type": "stream",
          "name": "stderr",
          "text": [
            "\rEpoch: 14  Iteration: 59  Loss: 0.6106644749641419:  98%|█████████▊| 62/63 [00:29<00:00,  2.28it/s]"
          ]
        },
        {
          "output_type": "stream",
          "name": "stdout",
          "text": [
            "printing embeds.shape: torch.Size([187, 19, 256])\n",
            "printing rnn.out.shape: torch.Size([187, 19, 256])\n"
          ]
        },
        {
          "output_type": "stream",
          "name": "stderr",
          "text": [
            "Epoch: 14  Iteration: 59  Loss: 0.6106644749641419: 100%|██████████| 63/63 [00:30<00:00,  2.09it/s]\n"
          ]
        },
        {
          "output_type": "stream",
          "name": "stdout",
          "text": [
            "Epoch: 14  Train Accuracy: 81.23793511426615\n",
            "printing embeds.shape: torch.Size([256, 19, 256])\n",
            "printing rnn.out.shape: torch.Size([256, 19, 256])\n",
            "printing embeds.shape: torch.Size([256, 19, 256])\n",
            "printing rnn.out.shape: torch.Size([256, 19, 256])\n",
            "printing embeds.shape: torch.Size([256, 19, 256])\n",
            "printing rnn.out.shape: torch.Size([256, 19, 256])\n",
            "printing embeds.shape: torch.Size([256, 19, 256])\n",
            "printing rnn.out.shape: torch.Size([256, 19, 256])\n",
            "printing embeds.shape: torch.Size([256, 19, 256])\n",
            "printing rnn.out.shape: torch.Size([256, 19, 256])\n",
            "printing embeds.shape: torch.Size([256, 19, 256])\n",
            "printing rnn.out.shape: torch.Size([256, 19, 256])\n",
            "printing embeds.shape: torch.Size([256, 19, 256])\n",
            "printing rnn.out.shape: torch.Size([256, 19, 256])\n",
            "printing embeds.shape: torch.Size([256, 19, 256])\n",
            "printing rnn.out.shape: torch.Size([256, 19, 256])\n",
            "printing embeds.shape: torch.Size([256, 19, 256])\n",
            "printing rnn.out.shape: torch.Size([256, 19, 256])\n",
            "printing embeds.shape: torch.Size([256, 19, 256])\n",
            "printing rnn.out.shape: torch.Size([256, 19, 256])\n",
            "printing embeds.shape: torch.Size([256, 19, 256])\n",
            "printing rnn.out.shape: torch.Size([256, 19, 256])\n",
            "printing embeds.shape: torch.Size([256, 19, 256])\n",
            "printing rnn.out.shape: torch.Size([256, 19, 256])\n",
            "printing embeds.shape: torch.Size([256, 19, 256])\n",
            "printing rnn.out.shape: torch.Size([256, 19, 256])\n",
            "printing embeds.shape: torch.Size([256, 19, 256])\n",
            "printing rnn.out.shape: torch.Size([256, 19, 256])\n",
            "printing embeds.shape: torch.Size([256, 19, 256])\n",
            "printing rnn.out.shape: torch.Size([256, 19, 256])\n",
            "printing embeds.shape: torch.Size([175, 19, 256])\n",
            "printing rnn.out.shape: torch.Size([175, 19, 256])\n",
            "Epoch: 14  Eval Accuracy: 80.84682440846824\n"
          ]
        },
        {
          "output_type": "stream",
          "name": "stderr",
          "text": [
            "\r  0%|          | 0/63 [00:00<?, ?it/s]"
          ]
        },
        {
          "output_type": "stream",
          "name": "stdout",
          "text": [
            "printing embeds.shape: torch.Size([256, 19, 256])\n",
            "printing rnn.out.shape: torch.Size([256, 19, 256])\n"
          ]
        },
        {
          "output_type": "stream",
          "name": "stderr",
          "text": [
            "\r  2%|▏         | 1/63 [00:00<00:28,  2.18it/s]"
          ]
        },
        {
          "output_type": "stream",
          "name": "stdout",
          "text": [
            "printing embeds.shape: torch.Size([256, 19, 256])\n",
            "printing rnn.out.shape: torch.Size([256, 19, 256])\n"
          ]
        },
        {
          "output_type": "stream",
          "name": "stderr",
          "text": [
            "\r  3%|▎         | 2/63 [00:00<00:28,  2.17it/s]"
          ]
        },
        {
          "output_type": "stream",
          "name": "stdout",
          "text": [
            "printing embeds.shape: torch.Size([256, 19, 256])\n",
            "printing rnn.out.shape: torch.Size([256, 19, 256])\n"
          ]
        },
        {
          "output_type": "stream",
          "name": "stderr",
          "text": [
            "\r  5%|▍         | 3/63 [00:01<00:26,  2.28it/s]"
          ]
        },
        {
          "output_type": "stream",
          "name": "stdout",
          "text": [
            "printing embeds.shape: torch.Size([256, 19, 256])\n",
            "printing rnn.out.shape: torch.Size([256, 19, 256])\n"
          ]
        },
        {
          "output_type": "stream",
          "name": "stderr",
          "text": [
            "\r  6%|▋         | 4/63 [00:01<00:25,  2.30it/s]"
          ]
        },
        {
          "output_type": "stream",
          "name": "stdout",
          "text": [
            "printing embeds.shape: torch.Size([256, 19, 256])\n",
            "printing rnn.out.shape: torch.Size([256, 19, 256])\n"
          ]
        },
        {
          "output_type": "stream",
          "name": "stderr",
          "text": [
            "\r  8%|▊         | 5/63 [00:02<00:27,  2.12it/s]"
          ]
        },
        {
          "output_type": "stream",
          "name": "stdout",
          "text": [
            "printing embeds.shape: torch.Size([256, 19, 256])\n",
            "printing rnn.out.shape: torch.Size([256, 19, 256])\n"
          ]
        },
        {
          "output_type": "stream",
          "name": "stderr",
          "text": [
            "\r 10%|▉         | 6/63 [00:02<00:25,  2.22it/s]"
          ]
        },
        {
          "output_type": "stream",
          "name": "stdout",
          "text": [
            "printing embeds.shape: torch.Size([256, 19, 256])\n",
            "printing rnn.out.shape: torch.Size([256, 19, 256])\n"
          ]
        },
        {
          "output_type": "stream",
          "name": "stderr",
          "text": [
            "\r 11%|█         | 7/63 [00:03<00:26,  2.15it/s]"
          ]
        },
        {
          "output_type": "stream",
          "name": "stdout",
          "text": [
            "printing embeds.shape: torch.Size([256, 19, 256])\n",
            "printing rnn.out.shape: torch.Size([256, 19, 256])\n"
          ]
        },
        {
          "output_type": "stream",
          "name": "stderr",
          "text": [
            "\r 13%|█▎        | 8/63 [00:03<00:25,  2.16it/s]"
          ]
        },
        {
          "output_type": "stream",
          "name": "stdout",
          "text": [
            "printing embeds.shape: torch.Size([256, 19, 256])\n",
            "printing rnn.out.shape: torch.Size([256, 19, 256])\n"
          ]
        },
        {
          "output_type": "stream",
          "name": "stderr",
          "text": [
            "\r 14%|█▍        | 9/63 [00:04<00:24,  2.17it/s]"
          ]
        },
        {
          "output_type": "stream",
          "name": "stdout",
          "text": [
            "printing embeds.shape: torch.Size([256, 19, 256])\n",
            "printing rnn.out.shape: torch.Size([256, 19, 256])\n"
          ]
        },
        {
          "output_type": "stream",
          "name": "stderr",
          "text": [
            "Epoch: 15  Iteration: 9  Loss: 0.6369684100151062:  16%|█▌        | 10/63 [00:04<00:27,  1.96it/s]"
          ]
        },
        {
          "output_type": "stream",
          "name": "stdout",
          "text": [
            "printing embeds.shape: torch.Size([256, 19, 256])\n",
            "printing rnn.out.shape: torch.Size([256, 19, 256])\n"
          ]
        },
        {
          "output_type": "stream",
          "name": "stderr",
          "text": [
            "\rEpoch: 15  Iteration: 9  Loss: 0.6369684100151062:  17%|█▋        | 11/63 [00:05<00:26,  1.94it/s]"
          ]
        },
        {
          "output_type": "stream",
          "name": "stdout",
          "text": [
            "printing embeds.shape: torch.Size([256, 19, 256])\n",
            "printing rnn.out.shape: torch.Size([256, 19, 256])\n"
          ]
        },
        {
          "output_type": "stream",
          "name": "stderr",
          "text": [
            "\rEpoch: 15  Iteration: 9  Loss: 0.6369684100151062:  19%|█▉        | 12/63 [00:05<00:26,  1.91it/s]"
          ]
        },
        {
          "output_type": "stream",
          "name": "stdout",
          "text": [
            "printing embeds.shape: torch.Size([256, 19, 256])\n",
            "printing rnn.out.shape: torch.Size([256, 19, 256])\n"
          ]
        },
        {
          "output_type": "stream",
          "name": "stderr",
          "text": [
            "\rEpoch: 15  Iteration: 9  Loss: 0.6369684100151062:  21%|██        | 13/63 [00:06<00:26,  1.89it/s]"
          ]
        },
        {
          "output_type": "stream",
          "name": "stdout",
          "text": [
            "printing embeds.shape: torch.Size([256, 19, 256])\n",
            "printing rnn.out.shape: torch.Size([256, 19, 256])\n"
          ]
        },
        {
          "output_type": "stream",
          "name": "stderr",
          "text": [
            "\rEpoch: 15  Iteration: 9  Loss: 0.6369684100151062:  22%|██▏       | 14/63 [00:06<00:26,  1.86it/s]"
          ]
        },
        {
          "output_type": "stream",
          "name": "stdout",
          "text": [
            "printing embeds.shape: torch.Size([256, 19, 256])\n",
            "printing rnn.out.shape: torch.Size([256, 19, 256])\n"
          ]
        },
        {
          "output_type": "stream",
          "name": "stderr",
          "text": [
            "\rEpoch: 15  Iteration: 9  Loss: 0.6369684100151062:  24%|██▍       | 15/63 [00:07<00:24,  1.92it/s]"
          ]
        },
        {
          "output_type": "stream",
          "name": "stdout",
          "text": [
            "printing embeds.shape: torch.Size([256, 19, 256])\n",
            "printing rnn.out.shape: torch.Size([256, 19, 256])\n"
          ]
        },
        {
          "output_type": "stream",
          "name": "stderr",
          "text": [
            "\rEpoch: 15  Iteration: 9  Loss: 0.6369684100151062:  25%|██▌       | 16/63 [00:07<00:24,  1.91it/s]"
          ]
        },
        {
          "output_type": "stream",
          "name": "stdout",
          "text": [
            "printing embeds.shape: torch.Size([256, 19, 256])\n",
            "printing rnn.out.shape: torch.Size([256, 19, 256])\n"
          ]
        },
        {
          "output_type": "stream",
          "name": "stderr",
          "text": [
            "\rEpoch: 15  Iteration: 9  Loss: 0.6369684100151062:  27%|██▋       | 17/63 [00:08<00:23,  2.00it/s]"
          ]
        },
        {
          "output_type": "stream",
          "name": "stdout",
          "text": [
            "printing embeds.shape: torch.Size([256, 19, 256])\n",
            "printing rnn.out.shape: torch.Size([256, 19, 256])\n"
          ]
        },
        {
          "output_type": "stream",
          "name": "stderr",
          "text": [
            "\rEpoch: 15  Iteration: 9  Loss: 0.6369684100151062:  29%|██▊       | 18/63 [00:08<00:21,  2.09it/s]"
          ]
        },
        {
          "output_type": "stream",
          "name": "stdout",
          "text": [
            "printing embeds.shape: torch.Size([256, 19, 256])\n",
            "printing rnn.out.shape: torch.Size([256, 19, 256])\n"
          ]
        },
        {
          "output_type": "stream",
          "name": "stderr",
          "text": [
            "\rEpoch: 15  Iteration: 9  Loss: 0.6369684100151062:  30%|███       | 19/63 [00:09<00:20,  2.17it/s]"
          ]
        },
        {
          "output_type": "stream",
          "name": "stdout",
          "text": [
            "printing embeds.shape: torch.Size([256, 19, 256])\n",
            "printing rnn.out.shape: torch.Size([256, 19, 256])\n"
          ]
        },
        {
          "output_type": "stream",
          "name": "stderr",
          "text": [
            "Epoch: 15  Iteration: 19  Loss: 0.6229253649711609:  32%|███▏      | 20/63 [00:09<00:19,  2.22it/s]"
          ]
        },
        {
          "output_type": "stream",
          "name": "stdout",
          "text": [
            "printing embeds.shape: torch.Size([256, 19, 256])\n",
            "printing rnn.out.shape: torch.Size([256, 19, 256])\n"
          ]
        },
        {
          "output_type": "stream",
          "name": "stderr",
          "text": [
            "\rEpoch: 15  Iteration: 19  Loss: 0.6229253649711609:  33%|███▎      | 21/63 [00:10<00:20,  2.07it/s]"
          ]
        },
        {
          "output_type": "stream",
          "name": "stdout",
          "text": [
            "printing embeds.shape: torch.Size([256, 19, 256])\n",
            "printing rnn.out.shape: torch.Size([256, 19, 256])\n"
          ]
        },
        {
          "output_type": "stream",
          "name": "stderr",
          "text": [
            "\rEpoch: 15  Iteration: 19  Loss: 0.6229253649711609:  35%|███▍      | 22/63 [00:10<00:18,  2.17it/s]"
          ]
        },
        {
          "output_type": "stream",
          "name": "stdout",
          "text": [
            "printing embeds.shape: torch.Size([256, 19, 256])\n",
            "printing rnn.out.shape: torch.Size([256, 19, 256])\n"
          ]
        },
        {
          "output_type": "stream",
          "name": "stderr",
          "text": [
            "\rEpoch: 15  Iteration: 19  Loss: 0.6229253649711609:  37%|███▋      | 23/63 [00:11<00:19,  2.08it/s]"
          ]
        },
        {
          "output_type": "stream",
          "name": "stdout",
          "text": [
            "printing embeds.shape: torch.Size([256, 19, 256])\n",
            "printing rnn.out.shape: torch.Size([256, 19, 256])\n"
          ]
        },
        {
          "output_type": "stream",
          "name": "stderr",
          "text": [
            "\rEpoch: 15  Iteration: 19  Loss: 0.6229253649711609:  38%|███▊      | 24/63 [00:11<00:18,  2.16it/s]"
          ]
        },
        {
          "output_type": "stream",
          "name": "stdout",
          "text": [
            "printing embeds.shape: torch.Size([256, 19, 256])\n",
            "printing rnn.out.shape: torch.Size([256, 19, 256])\n"
          ]
        },
        {
          "output_type": "stream",
          "name": "stderr",
          "text": [
            "\rEpoch: 15  Iteration: 19  Loss: 0.6229253649711609:  40%|███▉      | 25/63 [00:11<00:17,  2.20it/s]"
          ]
        },
        {
          "output_type": "stream",
          "name": "stdout",
          "text": [
            "printing embeds.shape: torch.Size([256, 19, 256])\n",
            "printing rnn.out.shape: torch.Size([256, 19, 256])\n"
          ]
        },
        {
          "output_type": "stream",
          "name": "stderr",
          "text": [
            "\rEpoch: 15  Iteration: 19  Loss: 0.6229253649711609:  41%|████▏     | 26/63 [00:12<00:16,  2.24it/s]"
          ]
        },
        {
          "output_type": "stream",
          "name": "stdout",
          "text": [
            "printing embeds.shape: torch.Size([256, 19, 256])\n",
            "printing rnn.out.shape: torch.Size([256, 19, 256])\n"
          ]
        },
        {
          "output_type": "stream",
          "name": "stderr",
          "text": [
            "\rEpoch: 15  Iteration: 19  Loss: 0.6229253649711609:  43%|████▎     | 27/63 [00:12<00:15,  2.27it/s]"
          ]
        },
        {
          "output_type": "stream",
          "name": "stdout",
          "text": [
            "printing embeds.shape: torch.Size([256, 19, 256])\n",
            "printing rnn.out.shape: torch.Size([256, 19, 256])\n"
          ]
        },
        {
          "output_type": "stream",
          "name": "stderr",
          "text": [
            "\rEpoch: 15  Iteration: 19  Loss: 0.6229253649711609:  44%|████▍     | 28/63 [00:13<00:15,  2.28it/s]"
          ]
        },
        {
          "output_type": "stream",
          "name": "stdout",
          "text": [
            "printing embeds.shape: torch.Size([256, 19, 256])\n",
            "printing rnn.out.shape: torch.Size([256, 19, 256])\n"
          ]
        },
        {
          "output_type": "stream",
          "name": "stderr",
          "text": [
            "\rEpoch: 15  Iteration: 19  Loss: 0.6229253649711609:  46%|████▌     | 29/63 [00:13<00:15,  2.14it/s]"
          ]
        },
        {
          "output_type": "stream",
          "name": "stdout",
          "text": [
            "printing embeds.shape: torch.Size([256, 19, 256])\n",
            "printing rnn.out.shape: torch.Size([256, 19, 256])\n"
          ]
        },
        {
          "output_type": "stream",
          "name": "stderr",
          "text": [
            "Epoch: 15  Iteration: 29  Loss: 0.6315629094839096:  48%|████▊     | 30/63 [00:14<00:15,  2.15it/s]"
          ]
        },
        {
          "output_type": "stream",
          "name": "stdout",
          "text": [
            "printing embeds.shape: torch.Size([256, 19, 256])\n",
            "printing rnn.out.shape: torch.Size([256, 19, 256])\n"
          ]
        },
        {
          "output_type": "stream",
          "name": "stderr",
          "text": [
            "\rEpoch: 15  Iteration: 29  Loss: 0.6315629094839096:  49%|████▉     | 31/63 [00:14<00:14,  2.20it/s]"
          ]
        },
        {
          "output_type": "stream",
          "name": "stdout",
          "text": [
            "printing embeds.shape: torch.Size([256, 19, 256])\n",
            "printing rnn.out.shape: torch.Size([256, 19, 256])\n"
          ]
        },
        {
          "output_type": "stream",
          "name": "stderr",
          "text": [
            "\rEpoch: 15  Iteration: 29  Loss: 0.6315629094839096:  51%|█████     | 32/63 [00:15<00:13,  2.23it/s]"
          ]
        },
        {
          "output_type": "stream",
          "name": "stdout",
          "text": [
            "printing embeds.shape: torch.Size([256, 19, 256])\n",
            "printing rnn.out.shape: torch.Size([256, 19, 256])\n"
          ]
        },
        {
          "output_type": "stream",
          "name": "stderr",
          "text": [
            "\rEpoch: 15  Iteration: 29  Loss: 0.6315629094839096:  52%|█████▏    | 33/63 [00:15<00:13,  2.23it/s]"
          ]
        },
        {
          "output_type": "stream",
          "name": "stdout",
          "text": [
            "printing embeds.shape: torch.Size([256, 19, 256])\n",
            "printing rnn.out.shape: torch.Size([256, 19, 256])\n"
          ]
        },
        {
          "output_type": "stream",
          "name": "stderr",
          "text": [
            "\rEpoch: 15  Iteration: 29  Loss: 0.6315629094839096:  54%|█████▍    | 34/63 [00:16<00:13,  2.08it/s]"
          ]
        },
        {
          "output_type": "stream",
          "name": "stdout",
          "text": [
            "printing embeds.shape: torch.Size([256, 19, 256])\n",
            "printing rnn.out.shape: torch.Size([256, 19, 256])\n"
          ]
        },
        {
          "output_type": "stream",
          "name": "stderr",
          "text": [
            "\rEpoch: 15  Iteration: 29  Loss: 0.6315629094839096:  56%|█████▌    | 35/63 [00:16<00:14,  1.99it/s]"
          ]
        },
        {
          "output_type": "stream",
          "name": "stdout",
          "text": [
            "printing embeds.shape: torch.Size([256, 19, 256])\n",
            "printing rnn.out.shape: torch.Size([256, 19, 256])\n"
          ]
        },
        {
          "output_type": "stream",
          "name": "stderr",
          "text": [
            "\rEpoch: 15  Iteration: 29  Loss: 0.6315629094839096:  57%|█████▋    | 36/63 [00:17<00:13,  1.98it/s]"
          ]
        },
        {
          "output_type": "stream",
          "name": "stdout",
          "text": [
            "printing embeds.shape: torch.Size([256, 19, 256])\n",
            "printing rnn.out.shape: torch.Size([256, 19, 256])\n"
          ]
        },
        {
          "output_type": "stream",
          "name": "stderr",
          "text": [
            "\rEpoch: 15  Iteration: 29  Loss: 0.6315629094839096:  59%|█████▊    | 37/63 [00:17<00:13,  1.92it/s]"
          ]
        },
        {
          "output_type": "stream",
          "name": "stdout",
          "text": [
            "printing embeds.shape: torch.Size([256, 19, 256])\n",
            "printing rnn.out.shape: torch.Size([256, 19, 256])\n"
          ]
        },
        {
          "output_type": "stream",
          "name": "stderr",
          "text": [
            "\rEpoch: 15  Iteration: 29  Loss: 0.6315629094839096:  60%|██████    | 38/63 [00:18<00:14,  1.74it/s]"
          ]
        },
        {
          "output_type": "stream",
          "name": "stdout",
          "text": [
            "printing embeds.shape: torch.Size([256, 19, 256])\n",
            "printing rnn.out.shape: torch.Size([256, 19, 256])\n"
          ]
        },
        {
          "output_type": "stream",
          "name": "stderr",
          "text": [
            "\rEpoch: 15  Iteration: 29  Loss: 0.6315629094839096:  62%|██████▏   | 39/63 [00:19<00:13,  1.77it/s]"
          ]
        },
        {
          "output_type": "stream",
          "name": "stdout",
          "text": [
            "printing embeds.shape: torch.Size([256, 19, 256])\n",
            "printing rnn.out.shape: torch.Size([256, 19, 256])\n"
          ]
        },
        {
          "output_type": "stream",
          "name": "stderr",
          "text": [
            "Epoch: 15  Iteration: 39  Loss: 0.636310338973999:  63%|██████▎   | 40/63 [00:19<00:13,  1.76it/s]"
          ]
        },
        {
          "output_type": "stream",
          "name": "stdout",
          "text": [
            "printing embeds.shape: torch.Size([256, 19, 256])\n",
            "printing rnn.out.shape: torch.Size([256, 19, 256])\n"
          ]
        },
        {
          "output_type": "stream",
          "name": "stderr",
          "text": [
            "\rEpoch: 15  Iteration: 39  Loss: 0.636310338973999:  65%|██████▌   | 41/63 [00:20<00:12,  1.73it/s]"
          ]
        },
        {
          "output_type": "stream",
          "name": "stdout",
          "text": [
            "printing embeds.shape: torch.Size([256, 19, 256])\n",
            "printing rnn.out.shape: torch.Size([256, 19, 256])\n"
          ]
        },
        {
          "output_type": "stream",
          "name": "stderr",
          "text": [
            "\rEpoch: 15  Iteration: 39  Loss: 0.636310338973999:  67%|██████▋   | 42/63 [00:20<00:11,  1.82it/s]"
          ]
        },
        {
          "output_type": "stream",
          "name": "stdout",
          "text": [
            "printing embeds.shape: torch.Size([256, 19, 256])\n",
            "printing rnn.out.shape: torch.Size([256, 19, 256])\n"
          ]
        },
        {
          "output_type": "stream",
          "name": "stderr",
          "text": [
            "\rEpoch: 15  Iteration: 39  Loss: 0.636310338973999:  68%|██████▊   | 43/63 [00:21<00:10,  1.88it/s]"
          ]
        },
        {
          "output_type": "stream",
          "name": "stdout",
          "text": [
            "printing embeds.shape: torch.Size([256, 19, 256])\n",
            "printing rnn.out.shape: torch.Size([256, 19, 256])\n"
          ]
        },
        {
          "output_type": "stream",
          "name": "stderr",
          "text": [
            "\rEpoch: 15  Iteration: 39  Loss: 0.636310338973999:  70%|██████▉   | 44/63 [00:21<00:09,  2.00it/s]"
          ]
        },
        {
          "output_type": "stream",
          "name": "stdout",
          "text": [
            "printing embeds.shape: torch.Size([256, 19, 256])\n",
            "printing rnn.out.shape: torch.Size([256, 19, 256])\n"
          ]
        },
        {
          "output_type": "stream",
          "name": "stderr",
          "text": [
            "\rEpoch: 15  Iteration: 39  Loss: 0.636310338973999:  71%|███████▏  | 45/63 [00:22<00:09,  1.98it/s]"
          ]
        },
        {
          "output_type": "stream",
          "name": "stdout",
          "text": [
            "printing embeds.shape: torch.Size([256, 19, 256])\n",
            "printing rnn.out.shape: torch.Size([256, 19, 256])\n"
          ]
        },
        {
          "output_type": "stream",
          "name": "stderr",
          "text": [
            "\rEpoch: 15  Iteration: 39  Loss: 0.636310338973999:  73%|███████▎  | 46/63 [00:22<00:08,  2.08it/s]"
          ]
        },
        {
          "output_type": "stream",
          "name": "stdout",
          "text": [
            "printing embeds.shape: torch.Size([256, 19, 256])\n",
            "printing rnn.out.shape: torch.Size([256, 19, 256])\n"
          ]
        },
        {
          "output_type": "stream",
          "name": "stderr",
          "text": [
            "\rEpoch: 15  Iteration: 39  Loss: 0.636310338973999:  75%|███████▍  | 47/63 [00:22<00:07,  2.14it/s]"
          ]
        },
        {
          "output_type": "stream",
          "name": "stdout",
          "text": [
            "printing embeds.shape: torch.Size([256, 19, 256])\n",
            "printing rnn.out.shape: torch.Size([256, 19, 256])\n"
          ]
        },
        {
          "output_type": "stream",
          "name": "stderr",
          "text": [
            "\rEpoch: 15  Iteration: 39  Loss: 0.636310338973999:  76%|███████▌  | 48/63 [00:23<00:07,  2.13it/s]"
          ]
        },
        {
          "output_type": "stream",
          "name": "stdout",
          "text": [
            "printing embeds.shape: torch.Size([256, 19, 256])\n",
            "printing rnn.out.shape: torch.Size([256, 19, 256])\n"
          ]
        },
        {
          "output_type": "stream",
          "name": "stderr",
          "text": [
            "\rEpoch: 15  Iteration: 39  Loss: 0.636310338973999:  78%|███████▊  | 49/63 [00:23<00:06,  2.19it/s]"
          ]
        },
        {
          "output_type": "stream",
          "name": "stdout",
          "text": [
            "printing embeds.shape: torch.Size([256, 19, 256])\n",
            "printing rnn.out.shape: torch.Size([256, 19, 256])\n"
          ]
        },
        {
          "output_type": "stream",
          "name": "stderr",
          "text": [
            "Epoch: 15  Iteration: 49  Loss: 0.6086763620376587:  79%|███████▉  | 50/63 [00:24<00:06,  2.14it/s]"
          ]
        },
        {
          "output_type": "stream",
          "name": "stdout",
          "text": [
            "printing embeds.shape: torch.Size([256, 19, 256])\n",
            "printing rnn.out.shape: torch.Size([256, 19, 256])\n"
          ]
        },
        {
          "output_type": "stream",
          "name": "stderr",
          "text": [
            "\rEpoch: 15  Iteration: 49  Loss: 0.6086763620376587:  81%|████████  | 51/63 [00:24<00:05,  2.19it/s]"
          ]
        },
        {
          "output_type": "stream",
          "name": "stdout",
          "text": [
            "printing embeds.shape: torch.Size([256, 19, 256])\n",
            "printing rnn.out.shape: torch.Size([256, 19, 256])\n"
          ]
        },
        {
          "output_type": "stream",
          "name": "stderr",
          "text": [
            "\rEpoch: 15  Iteration: 49  Loss: 0.6086763620376587:  83%|████████▎ | 52/63 [00:25<00:04,  2.23it/s]"
          ]
        },
        {
          "output_type": "stream",
          "name": "stdout",
          "text": [
            "printing embeds.shape: torch.Size([256, 19, 256])\n",
            "printing rnn.out.shape: torch.Size([256, 19, 256])\n"
          ]
        },
        {
          "output_type": "stream",
          "name": "stderr",
          "text": [
            "\rEpoch: 15  Iteration: 49  Loss: 0.6086763620376587:  84%|████████▍ | 53/63 [00:25<00:04,  2.28it/s]"
          ]
        },
        {
          "output_type": "stream",
          "name": "stdout",
          "text": [
            "printing embeds.shape: torch.Size([256, 19, 256])\n",
            "printing rnn.out.shape: torch.Size([256, 19, 256])\n"
          ]
        },
        {
          "output_type": "stream",
          "name": "stderr",
          "text": [
            "\rEpoch: 15  Iteration: 49  Loss: 0.6086763620376587:  86%|████████▌ | 54/63 [00:26<00:03,  2.31it/s]"
          ]
        },
        {
          "output_type": "stream",
          "name": "stdout",
          "text": [
            "printing embeds.shape: torch.Size([256, 19, 256])\n",
            "printing rnn.out.shape: torch.Size([256, 19, 256])\n"
          ]
        },
        {
          "output_type": "stream",
          "name": "stderr",
          "text": [
            "\rEpoch: 15  Iteration: 49  Loss: 0.6086763620376587:  87%|████████▋ | 55/63 [00:26<00:03,  2.26it/s]"
          ]
        },
        {
          "output_type": "stream",
          "name": "stdout",
          "text": [
            "printing embeds.shape: torch.Size([256, 19, 256])\n",
            "printing rnn.out.shape: torch.Size([256, 19, 256])\n"
          ]
        },
        {
          "output_type": "stream",
          "name": "stderr",
          "text": [
            "\rEpoch: 15  Iteration: 49  Loss: 0.6086763620376587:  89%|████████▉ | 56/63 [00:26<00:03,  2.30it/s]"
          ]
        },
        {
          "output_type": "stream",
          "name": "stdout",
          "text": [
            "printing embeds.shape: torch.Size([256, 19, 256])\n",
            "printing rnn.out.shape: torch.Size([256, 19, 256])\n"
          ]
        },
        {
          "output_type": "stream",
          "name": "stderr",
          "text": [
            "\rEpoch: 15  Iteration: 49  Loss: 0.6086763620376587:  90%|█████████ | 57/63 [00:27<00:02,  2.08it/s]"
          ]
        },
        {
          "output_type": "stream",
          "name": "stdout",
          "text": [
            "printing embeds.shape: torch.Size([256, 19, 256])\n",
            "printing rnn.out.shape: torch.Size([256, 19, 256])\n"
          ]
        },
        {
          "output_type": "stream",
          "name": "stderr",
          "text": [
            "\rEpoch: 15  Iteration: 49  Loss: 0.6086763620376587:  92%|█████████▏| 58/63 [00:28<00:02,  2.01it/s]"
          ]
        },
        {
          "output_type": "stream",
          "name": "stdout",
          "text": [
            "printing embeds.shape: torch.Size([256, 19, 256])\n",
            "printing rnn.out.shape: torch.Size([256, 19, 256])\n"
          ]
        },
        {
          "output_type": "stream",
          "name": "stderr",
          "text": [
            "\rEpoch: 15  Iteration: 49  Loss: 0.6086763620376587:  94%|█████████▎| 59/63 [00:28<00:01,  2.09it/s]"
          ]
        },
        {
          "output_type": "stream",
          "name": "stdout",
          "text": [
            "printing embeds.shape: torch.Size([256, 19, 256])\n",
            "printing rnn.out.shape: torch.Size([256, 19, 256])\n"
          ]
        },
        {
          "output_type": "stream",
          "name": "stderr",
          "text": [
            "Epoch: 15  Iteration: 59  Loss: 0.6108101040124894:  95%|█████████▌| 60/63 [00:28<00:01,  2.18it/s]"
          ]
        },
        {
          "output_type": "stream",
          "name": "stdout",
          "text": [
            "printing embeds.shape: torch.Size([256, 19, 256])\n",
            "printing rnn.out.shape: torch.Size([256, 19, 256])\n"
          ]
        },
        {
          "output_type": "stream",
          "name": "stderr",
          "text": [
            "\rEpoch: 15  Iteration: 59  Loss: 0.6108101040124894:  97%|█████████▋| 61/63 [00:29<00:00,  2.04it/s]"
          ]
        },
        {
          "output_type": "stream",
          "name": "stdout",
          "text": [
            "printing embeds.shape: torch.Size([256, 19, 256])\n",
            "printing rnn.out.shape: torch.Size([256, 19, 256])\n"
          ]
        },
        {
          "output_type": "stream",
          "name": "stderr",
          "text": [
            "\rEpoch: 15  Iteration: 59  Loss: 0.6108101040124894:  98%|█████████▊| 62/63 [00:29<00:00,  2.13it/s]"
          ]
        },
        {
          "output_type": "stream",
          "name": "stdout",
          "text": [
            "printing embeds.shape: torch.Size([187, 19, 256])\n",
            "printing rnn.out.shape: torch.Size([187, 19, 256])\n"
          ]
        },
        {
          "output_type": "stream",
          "name": "stderr",
          "text": [
            "Epoch: 15  Iteration: 59  Loss: 0.6108101040124894: 100%|██████████| 63/63 [00:30<00:00,  2.08it/s]\n"
          ]
        },
        {
          "output_type": "stream",
          "name": "stdout",
          "text": [
            "Epoch: 15  Train Accuracy: 81.53060589077775\n",
            "printing embeds.shape: torch.Size([256, 19, 256])\n",
            "printing rnn.out.shape: torch.Size([256, 19, 256])\n",
            "printing embeds.shape: torch.Size([256, 19, 256])\n",
            "printing rnn.out.shape: torch.Size([256, 19, 256])\n",
            "printing embeds.shape: torch.Size([256, 19, 256])\n",
            "printing rnn.out.shape: torch.Size([256, 19, 256])\n",
            "printing embeds.shape: torch.Size([256, 19, 256])\n",
            "printing rnn.out.shape: torch.Size([256, 19, 256])\n",
            "printing embeds.shape: torch.Size([256, 19, 256])\n",
            "printing rnn.out.shape: torch.Size([256, 19, 256])\n",
            "printing embeds.shape: torch.Size([256, 19, 256])\n",
            "printing rnn.out.shape: torch.Size([256, 19, 256])\n",
            "printing embeds.shape: torch.Size([256, 19, 256])\n",
            "printing rnn.out.shape: torch.Size([256, 19, 256])\n",
            "printing embeds.shape: torch.Size([256, 19, 256])\n",
            "printing rnn.out.shape: torch.Size([256, 19, 256])\n",
            "printing embeds.shape: torch.Size([256, 19, 256])\n",
            "printing rnn.out.shape: torch.Size([256, 19, 256])\n",
            "printing embeds.shape: torch.Size([256, 19, 256])\n",
            "printing rnn.out.shape: torch.Size([256, 19, 256])\n",
            "printing embeds.shape: torch.Size([256, 19, 256])\n",
            "printing rnn.out.shape: torch.Size([256, 19, 256])\n",
            "printing embeds.shape: torch.Size([256, 19, 256])\n",
            "printing rnn.out.shape: torch.Size([256, 19, 256])\n",
            "printing embeds.shape: torch.Size([256, 19, 256])\n",
            "printing rnn.out.shape: torch.Size([256, 19, 256])\n",
            "printing embeds.shape: torch.Size([256, 19, 256])\n",
            "printing rnn.out.shape: torch.Size([256, 19, 256])\n",
            "printing embeds.shape: torch.Size([256, 19, 256])\n",
            "printing rnn.out.shape: torch.Size([256, 19, 256])\n",
            "printing embeds.shape: torch.Size([175, 19, 256])\n",
            "printing rnn.out.shape: torch.Size([175, 19, 256])\n",
            "Epoch: 15  Eval Accuracy: 80.79701120797012\n"
          ]
        },
        {
          "output_type": "stream",
          "name": "stderr",
          "text": [
            "\r  0%|          | 0/63 [00:00<?, ?it/s]"
          ]
        },
        {
          "output_type": "stream",
          "name": "stdout",
          "text": [
            "printing embeds.shape: torch.Size([256, 19, 256])\n",
            "printing rnn.out.shape: torch.Size([256, 19, 256])\n"
          ]
        },
        {
          "output_type": "stream",
          "name": "stderr",
          "text": [
            "\r  2%|▏         | 1/63 [00:00<00:32,  1.90it/s]"
          ]
        },
        {
          "output_type": "stream",
          "name": "stdout",
          "text": [
            "printing embeds.shape: torch.Size([256, 19, 256])\n",
            "printing rnn.out.shape: torch.Size([256, 19, 256])\n"
          ]
        },
        {
          "output_type": "stream",
          "name": "stderr",
          "text": [
            "\r  3%|▎         | 2/63 [00:01<00:33,  1.84it/s]"
          ]
        },
        {
          "output_type": "stream",
          "name": "stdout",
          "text": [
            "printing embeds.shape: torch.Size([256, 19, 256])\n",
            "printing rnn.out.shape: torch.Size([256, 19, 256])\n"
          ]
        },
        {
          "output_type": "stream",
          "name": "stderr",
          "text": [
            "\r  5%|▍         | 3/63 [00:01<00:29,  2.05it/s]"
          ]
        },
        {
          "output_type": "stream",
          "name": "stdout",
          "text": [
            "printing embeds.shape: torch.Size([256, 19, 256])\n",
            "printing rnn.out.shape: torch.Size([256, 19, 256])\n"
          ]
        },
        {
          "output_type": "stream",
          "name": "stderr",
          "text": [
            "\r  6%|▋         | 4/63 [00:01<00:27,  2.16it/s]"
          ]
        },
        {
          "output_type": "stream",
          "name": "stdout",
          "text": [
            "printing embeds.shape: torch.Size([256, 19, 256])\n",
            "printing rnn.out.shape: torch.Size([256, 19, 256])\n"
          ]
        },
        {
          "output_type": "stream",
          "name": "stderr",
          "text": [
            "\r  8%|▊         | 5/63 [00:02<00:26,  2.16it/s]"
          ]
        },
        {
          "output_type": "stream",
          "name": "stdout",
          "text": [
            "printing embeds.shape: torch.Size([256, 19, 256])\n",
            "printing rnn.out.shape: torch.Size([256, 19, 256])\n"
          ]
        },
        {
          "output_type": "stream",
          "name": "stderr",
          "text": [
            "\r 10%|▉         | 6/63 [00:02<00:27,  2.08it/s]"
          ]
        },
        {
          "output_type": "stream",
          "name": "stdout",
          "text": [
            "printing embeds.shape: torch.Size([256, 19, 256])\n",
            "printing rnn.out.shape: torch.Size([256, 19, 256])\n"
          ]
        },
        {
          "output_type": "stream",
          "name": "stderr",
          "text": [
            "\r 11%|█         | 7/63 [00:03<00:25,  2.19it/s]"
          ]
        },
        {
          "output_type": "stream",
          "name": "stdout",
          "text": [
            "printing embeds.shape: torch.Size([256, 19, 256])\n",
            "printing rnn.out.shape: torch.Size([256, 19, 256])\n"
          ]
        },
        {
          "output_type": "stream",
          "name": "stderr",
          "text": [
            "\r 13%|█▎        | 8/63 [00:03<00:24,  2.22it/s]"
          ]
        },
        {
          "output_type": "stream",
          "name": "stdout",
          "text": [
            "printing embeds.shape: torch.Size([256, 19, 256])\n",
            "printing rnn.out.shape: torch.Size([256, 19, 256])\n"
          ]
        },
        {
          "output_type": "stream",
          "name": "stderr",
          "text": [
            "\r 14%|█▍        | 9/63 [00:04<00:23,  2.26it/s]"
          ]
        },
        {
          "output_type": "stream",
          "name": "stdout",
          "text": [
            "printing embeds.shape: torch.Size([256, 19, 256])\n",
            "printing rnn.out.shape: torch.Size([256, 19, 256])\n"
          ]
        },
        {
          "output_type": "stream",
          "name": "stderr",
          "text": [
            "Epoch: 16  Iteration: 9  Loss: 0.6325159072875977:  16%|█▌        | 10/63 [00:04<00:23,  2.29it/s]"
          ]
        },
        {
          "output_type": "stream",
          "name": "stdout",
          "text": [
            "printing embeds.shape: torch.Size([256, 19, 256])\n",
            "printing rnn.out.shape: torch.Size([256, 19, 256])\n"
          ]
        },
        {
          "output_type": "stream",
          "name": "stderr",
          "text": [
            "\rEpoch: 16  Iteration: 9  Loss: 0.6325159072875977:  17%|█▋        | 11/63 [00:05<00:23,  2.20it/s]"
          ]
        },
        {
          "output_type": "stream",
          "name": "stdout",
          "text": [
            "printing embeds.shape: torch.Size([256, 19, 256])\n",
            "printing rnn.out.shape: torch.Size([256, 19, 256])\n"
          ]
        },
        {
          "output_type": "stream",
          "name": "stderr",
          "text": [
            "\rEpoch: 16  Iteration: 9  Loss: 0.6325159072875977:  19%|█▉        | 12/63 [00:05<00:24,  2.06it/s]"
          ]
        },
        {
          "output_type": "stream",
          "name": "stdout",
          "text": [
            "printing embeds.shape: torch.Size([256, 19, 256])\n",
            "printing rnn.out.shape: torch.Size([256, 19, 256])\n"
          ]
        },
        {
          "output_type": "stream",
          "name": "stderr",
          "text": [
            "\rEpoch: 16  Iteration: 9  Loss: 0.6325159072875977:  21%|██        | 13/63 [00:06<00:23,  2.12it/s]"
          ]
        },
        {
          "output_type": "stream",
          "name": "stdout",
          "text": [
            "printing embeds.shape: torch.Size([256, 19, 256])\n",
            "printing rnn.out.shape: torch.Size([256, 19, 256])\n"
          ]
        },
        {
          "output_type": "stream",
          "name": "stderr",
          "text": [
            "\rEpoch: 16  Iteration: 9  Loss: 0.6325159072875977:  22%|██▏       | 14/63 [00:06<00:23,  2.10it/s]"
          ]
        },
        {
          "output_type": "stream",
          "name": "stdout",
          "text": [
            "printing embeds.shape: torch.Size([256, 19, 256])\n",
            "printing rnn.out.shape: torch.Size([256, 19, 256])\n"
          ]
        },
        {
          "output_type": "stream",
          "name": "stderr",
          "text": [
            "\rEpoch: 16  Iteration: 9  Loss: 0.6325159072875977:  24%|██▍       | 15/63 [00:06<00:21,  2.19it/s]"
          ]
        },
        {
          "output_type": "stream",
          "name": "stdout",
          "text": [
            "printing embeds.shape: torch.Size([256, 19, 256])\n",
            "printing rnn.out.shape: torch.Size([256, 19, 256])\n"
          ]
        },
        {
          "output_type": "stream",
          "name": "stderr",
          "text": [
            "\rEpoch: 16  Iteration: 9  Loss: 0.6325159072875977:  25%|██▌       | 16/63 [00:07<00:21,  2.14it/s]"
          ]
        },
        {
          "output_type": "stream",
          "name": "stdout",
          "text": [
            "printing embeds.shape: torch.Size([256, 19, 256])\n",
            "printing rnn.out.shape: torch.Size([256, 19, 256])\n"
          ]
        },
        {
          "output_type": "stream",
          "name": "stderr",
          "text": [
            "\rEpoch: 16  Iteration: 9  Loss: 0.6325159072875977:  27%|██▋       | 17/63 [00:07<00:21,  2.12it/s]"
          ]
        },
        {
          "output_type": "stream",
          "name": "stdout",
          "text": [
            "printing embeds.shape: torch.Size([256, 19, 256])\n",
            "printing rnn.out.shape: torch.Size([256, 19, 256])\n"
          ]
        },
        {
          "output_type": "stream",
          "name": "stderr",
          "text": [
            "\rEpoch: 16  Iteration: 9  Loss: 0.6325159072875977:  29%|██▊       | 18/63 [00:08<00:20,  2.17it/s]"
          ]
        },
        {
          "output_type": "stream",
          "name": "stdout",
          "text": [
            "printing embeds.shape: torch.Size([256, 19, 256])\n",
            "printing rnn.out.shape: torch.Size([256, 19, 256])\n"
          ]
        },
        {
          "output_type": "stream",
          "name": "stderr",
          "text": [
            "\rEpoch: 16  Iteration: 9  Loss: 0.6325159072875977:  30%|███       | 19/63 [00:08<00:20,  2.14it/s]"
          ]
        },
        {
          "output_type": "stream",
          "name": "stdout",
          "text": [
            "printing embeds.shape: torch.Size([256, 19, 256])\n",
            "printing rnn.out.shape: torch.Size([256, 19, 256])\n"
          ]
        },
        {
          "output_type": "stream",
          "name": "stderr",
          "text": [
            "Epoch: 16  Iteration: 19  Loss: 0.609529173374176:  32%|███▏      | 20/63 [00:09<00:21,  2.00it/s]"
          ]
        },
        {
          "output_type": "stream",
          "name": "stdout",
          "text": [
            "printing embeds.shape: torch.Size([256, 19, 256])\n",
            "printing rnn.out.shape: torch.Size([256, 19, 256])\n"
          ]
        },
        {
          "output_type": "stream",
          "name": "stderr",
          "text": [
            "\rEpoch: 16  Iteration: 19  Loss: 0.609529173374176:  33%|███▎      | 21/63 [00:10<00:21,  1.92it/s]"
          ]
        },
        {
          "output_type": "stream",
          "name": "stdout",
          "text": [
            "printing embeds.shape: torch.Size([256, 19, 256])\n",
            "printing rnn.out.shape: torch.Size([256, 19, 256])\n"
          ]
        },
        {
          "output_type": "stream",
          "name": "stderr",
          "text": [
            "\rEpoch: 16  Iteration: 19  Loss: 0.609529173374176:  35%|███▍      | 22/63 [00:10<00:20,  1.96it/s]"
          ]
        },
        {
          "output_type": "stream",
          "name": "stdout",
          "text": [
            "printing embeds.shape: torch.Size([256, 19, 256])\n",
            "printing rnn.out.shape: torch.Size([256, 19, 256])\n"
          ]
        },
        {
          "output_type": "stream",
          "name": "stderr",
          "text": [
            "\rEpoch: 16  Iteration: 19  Loss: 0.609529173374176:  37%|███▋      | 23/63 [00:10<00:19,  2.05it/s]"
          ]
        },
        {
          "output_type": "stream",
          "name": "stdout",
          "text": [
            "printing embeds.shape: torch.Size([256, 19, 256])\n",
            "printing rnn.out.shape: torch.Size([256, 19, 256])\n"
          ]
        },
        {
          "output_type": "stream",
          "name": "stderr",
          "text": [
            "\rEpoch: 16  Iteration: 19  Loss: 0.609529173374176:  38%|███▊      | 24/63 [00:11<00:20,  1.86it/s]"
          ]
        },
        {
          "output_type": "stream",
          "name": "stdout",
          "text": [
            "printing embeds.shape: torch.Size([256, 19, 256])\n",
            "printing rnn.out.shape: torch.Size([256, 19, 256])\n"
          ]
        },
        {
          "output_type": "stream",
          "name": "stderr",
          "text": [
            "\rEpoch: 16  Iteration: 19  Loss: 0.609529173374176:  40%|███▉      | 25/63 [00:12<00:21,  1.81it/s]"
          ]
        },
        {
          "output_type": "stream",
          "name": "stdout",
          "text": [
            "printing embeds.shape: torch.Size([256, 19, 256])\n",
            "printing rnn.out.shape: torch.Size([256, 19, 256])\n"
          ]
        },
        {
          "output_type": "stream",
          "name": "stderr",
          "text": [
            "\rEpoch: 16  Iteration: 19  Loss: 0.609529173374176:  41%|████▏     | 26/63 [00:12<00:22,  1.66it/s]"
          ]
        },
        {
          "output_type": "stream",
          "name": "stdout",
          "text": [
            "printing embeds.shape: torch.Size([256, 19, 256])\n",
            "printing rnn.out.shape: torch.Size([256, 19, 256])\n"
          ]
        },
        {
          "output_type": "stream",
          "name": "stderr",
          "text": [
            "\rEpoch: 16  Iteration: 19  Loss: 0.609529173374176:  43%|████▎     | 27/63 [00:13<00:22,  1.59it/s]"
          ]
        },
        {
          "output_type": "stream",
          "name": "stdout",
          "text": [
            "printing embeds.shape: torch.Size([256, 19, 256])\n",
            "printing rnn.out.shape: torch.Size([256, 19, 256])\n"
          ]
        },
        {
          "output_type": "stream",
          "name": "stderr",
          "text": [
            "\rEpoch: 16  Iteration: 19  Loss: 0.609529173374176:  44%|████▍     | 28/63 [00:14<00:20,  1.67it/s]"
          ]
        },
        {
          "output_type": "stream",
          "name": "stdout",
          "text": [
            "printing embeds.shape: torch.Size([256, 19, 256])\n",
            "printing rnn.out.shape: torch.Size([256, 19, 256])\n"
          ]
        },
        {
          "output_type": "stream",
          "name": "stderr",
          "text": [
            "\rEpoch: 16  Iteration: 19  Loss: 0.609529173374176:  46%|████▌     | 29/63 [00:14<00:18,  1.79it/s]"
          ]
        },
        {
          "output_type": "stream",
          "name": "stdout",
          "text": [
            "printing embeds.shape: torch.Size([256, 19, 256])\n",
            "printing rnn.out.shape: torch.Size([256, 19, 256])\n"
          ]
        },
        {
          "output_type": "stream",
          "name": "stderr",
          "text": [
            "Epoch: 16  Iteration: 29  Loss: 0.5837431013584137:  48%|████▊     | 30/63 [00:15<00:17,  1.93it/s]"
          ]
        },
        {
          "output_type": "stream",
          "name": "stdout",
          "text": [
            "printing embeds.shape: torch.Size([256, 19, 256])\n",
            "printing rnn.out.shape: torch.Size([256, 19, 256])\n"
          ]
        },
        {
          "output_type": "stream",
          "name": "stderr",
          "text": [
            "\rEpoch: 16  Iteration: 29  Loss: 0.5837431013584137:  49%|████▉     | 31/63 [00:15<00:16,  2.00it/s]"
          ]
        },
        {
          "output_type": "stream",
          "name": "stdout",
          "text": [
            "printing embeds.shape: torch.Size([256, 19, 256])\n",
            "printing rnn.out.shape: torch.Size([256, 19, 256])\n"
          ]
        },
        {
          "output_type": "stream",
          "name": "stderr",
          "text": [
            "\rEpoch: 16  Iteration: 29  Loss: 0.5837431013584137:  51%|█████     | 32/63 [00:16<00:15,  1.95it/s]"
          ]
        },
        {
          "output_type": "stream",
          "name": "stdout",
          "text": [
            "printing embeds.shape: torch.Size([256, 19, 256])\n",
            "printing rnn.out.shape: torch.Size([256, 19, 256])\n"
          ]
        },
        {
          "output_type": "stream",
          "name": "stderr",
          "text": [
            "\rEpoch: 16  Iteration: 29  Loss: 0.5837431013584137:  52%|█████▏    | 33/63 [00:16<00:14,  2.04it/s]"
          ]
        },
        {
          "output_type": "stream",
          "name": "stdout",
          "text": [
            "printing embeds.shape: torch.Size([256, 19, 256])\n",
            "printing rnn.out.shape: torch.Size([256, 19, 256])\n"
          ]
        },
        {
          "output_type": "stream",
          "name": "stderr",
          "text": [
            "\rEpoch: 16  Iteration: 29  Loss: 0.5837431013584137:  54%|█████▍    | 34/63 [00:16<00:14,  1.99it/s]"
          ]
        },
        {
          "output_type": "stream",
          "name": "stdout",
          "text": [
            "printing embeds.shape: torch.Size([256, 19, 256])\n",
            "printing rnn.out.shape: torch.Size([256, 19, 256])\n"
          ]
        },
        {
          "output_type": "stream",
          "name": "stderr",
          "text": [
            "\rEpoch: 16  Iteration: 29  Loss: 0.5837431013584137:  56%|█████▌    | 35/63 [00:17<00:13,  2.08it/s]"
          ]
        },
        {
          "output_type": "stream",
          "name": "stdout",
          "text": [
            "printing embeds.shape: torch.Size([256, 19, 256])\n",
            "printing rnn.out.shape: torch.Size([256, 19, 256])\n"
          ]
        },
        {
          "output_type": "stream",
          "name": "stderr",
          "text": [
            "\rEpoch: 16  Iteration: 29  Loss: 0.5837431013584137:  57%|█████▋    | 36/63 [00:17<00:13,  2.02it/s]"
          ]
        },
        {
          "output_type": "stream",
          "name": "stdout",
          "text": [
            "printing embeds.shape: torch.Size([256, 19, 256])\n",
            "printing rnn.out.shape: torch.Size([256, 19, 256])\n"
          ]
        },
        {
          "output_type": "stream",
          "name": "stderr",
          "text": [
            "\rEpoch: 16  Iteration: 29  Loss: 0.5837431013584137:  59%|█████▊    | 37/63 [00:18<00:12,  2.11it/s]"
          ]
        },
        {
          "output_type": "stream",
          "name": "stdout",
          "text": [
            "printing embeds.shape: torch.Size([256, 19, 256])\n",
            "printing rnn.out.shape: torch.Size([256, 19, 256])\n"
          ]
        },
        {
          "output_type": "stream",
          "name": "stderr",
          "text": [
            "\rEpoch: 16  Iteration: 29  Loss: 0.5837431013584137:  60%|██████    | 38/63 [00:18<00:12,  2.04it/s]"
          ]
        },
        {
          "output_type": "stream",
          "name": "stdout",
          "text": [
            "printing embeds.shape: torch.Size([256, 19, 256])\n",
            "printing rnn.out.shape: torch.Size([256, 19, 256])\n"
          ]
        },
        {
          "output_type": "stream",
          "name": "stderr",
          "text": [
            "\rEpoch: 16  Iteration: 29  Loss: 0.5837431013584137:  62%|██████▏   | 39/63 [00:19<00:12,  1.98it/s]"
          ]
        },
        {
          "output_type": "stream",
          "name": "stdout",
          "text": [
            "printing embeds.shape: torch.Size([256, 19, 256])\n",
            "printing rnn.out.shape: torch.Size([256, 19, 256])\n"
          ]
        },
        {
          "output_type": "stream",
          "name": "stderr",
          "text": [
            "Epoch: 16  Iteration: 39  Loss: 0.631448769569397:  63%|██████▎   | 40/63 [00:19<00:11,  1.93it/s]"
          ]
        },
        {
          "output_type": "stream",
          "name": "stdout",
          "text": [
            "printing embeds.shape: torch.Size([256, 19, 256])\n",
            "printing rnn.out.shape: torch.Size([256, 19, 256])\n"
          ]
        },
        {
          "output_type": "stream",
          "name": "stderr",
          "text": [
            "\rEpoch: 16  Iteration: 39  Loss: 0.631448769569397:  65%|██████▌   | 41/63 [00:20<00:10,  2.02it/s]"
          ]
        },
        {
          "output_type": "stream",
          "name": "stdout",
          "text": [
            "printing embeds.shape: torch.Size([256, 19, 256])\n",
            "printing rnn.out.shape: torch.Size([256, 19, 256])\n"
          ]
        },
        {
          "output_type": "stream",
          "name": "stderr",
          "text": [
            "\rEpoch: 16  Iteration: 39  Loss: 0.631448769569397:  67%|██████▋   | 42/63 [00:20<00:10,  1.97it/s]"
          ]
        },
        {
          "output_type": "stream",
          "name": "stdout",
          "text": [
            "printing embeds.shape: torch.Size([256, 19, 256])\n",
            "printing rnn.out.shape: torch.Size([256, 19, 256])\n"
          ]
        },
        {
          "output_type": "stream",
          "name": "stderr",
          "text": [
            "\rEpoch: 16  Iteration: 39  Loss: 0.631448769569397:  68%|██████▊   | 43/63 [00:21<00:09,  2.07it/s]"
          ]
        },
        {
          "output_type": "stream",
          "name": "stdout",
          "text": [
            "printing embeds.shape: torch.Size([256, 19, 256])\n",
            "printing rnn.out.shape: torch.Size([256, 19, 256])\n"
          ]
        },
        {
          "output_type": "stream",
          "name": "stderr",
          "text": [
            "\rEpoch: 16  Iteration: 39  Loss: 0.631448769569397:  70%|██████▉   | 44/63 [00:21<00:09,  2.02it/s]"
          ]
        },
        {
          "output_type": "stream",
          "name": "stdout",
          "text": [
            "printing embeds.shape: torch.Size([256, 19, 256])\n",
            "printing rnn.out.shape: torch.Size([256, 19, 256])\n"
          ]
        },
        {
          "output_type": "stream",
          "name": "stderr",
          "text": [
            "\rEpoch: 16  Iteration: 39  Loss: 0.631448769569397:  71%|███████▏  | 45/63 [00:22<00:08,  2.07it/s]"
          ]
        },
        {
          "output_type": "stream",
          "name": "stdout",
          "text": [
            "printing embeds.shape: torch.Size([256, 19, 256])\n",
            "printing rnn.out.shape: torch.Size([256, 19, 256])\n"
          ]
        },
        {
          "output_type": "stream",
          "name": "stderr",
          "text": [
            "\rEpoch: 16  Iteration: 39  Loss: 0.631448769569397:  73%|███████▎  | 46/63 [00:22<00:08,  1.98it/s]"
          ]
        },
        {
          "output_type": "stream",
          "name": "stdout",
          "text": [
            "printing embeds.shape: torch.Size([256, 19, 256])\n",
            "printing rnn.out.shape: torch.Size([256, 19, 256])\n"
          ]
        },
        {
          "output_type": "stream",
          "name": "stderr",
          "text": [
            "\rEpoch: 16  Iteration: 39  Loss: 0.631448769569397:  75%|███████▍  | 47/63 [00:23<00:08,  1.90it/s]"
          ]
        },
        {
          "output_type": "stream",
          "name": "stdout",
          "text": [
            "printing embeds.shape: torch.Size([256, 19, 256])\n",
            "printing rnn.out.shape: torch.Size([256, 19, 256])\n"
          ]
        },
        {
          "output_type": "stream",
          "name": "stderr",
          "text": [
            "\rEpoch: 16  Iteration: 39  Loss: 0.631448769569397:  76%|███████▌  | 48/63 [00:23<00:07,  2.01it/s]"
          ]
        },
        {
          "output_type": "stream",
          "name": "stdout",
          "text": [
            "printing embeds.shape: torch.Size([256, 19, 256])\n",
            "printing rnn.out.shape: torch.Size([256, 19, 256])\n"
          ]
        },
        {
          "output_type": "stream",
          "name": "stderr",
          "text": [
            "\rEpoch: 16  Iteration: 39  Loss: 0.631448769569397:  78%|███████▊  | 49/63 [00:24<00:08,  1.73it/s]"
          ]
        },
        {
          "output_type": "stream",
          "name": "stdout",
          "text": [
            "printing embeds.shape: torch.Size([256, 19, 256])\n",
            "printing rnn.out.shape: torch.Size([256, 19, 256])\n"
          ]
        },
        {
          "output_type": "stream",
          "name": "stderr",
          "text": [
            "Epoch: 16  Iteration: 49  Loss: 0.6122029185295105:  79%|███████▉  | 50/63 [00:25<00:07,  1.70it/s]"
          ]
        },
        {
          "output_type": "stream",
          "name": "stdout",
          "text": [
            "printing embeds.shape: torch.Size([256, 19, 256])\n",
            "printing rnn.out.shape: torch.Size([256, 19, 256])\n"
          ]
        },
        {
          "output_type": "stream",
          "name": "stderr",
          "text": [
            "\rEpoch: 16  Iteration: 49  Loss: 0.6122029185295105:  81%|████████  | 51/63 [00:25<00:06,  1.72it/s]"
          ]
        },
        {
          "output_type": "stream",
          "name": "stdout",
          "text": [
            "printing embeds.shape: torch.Size([256, 19, 256])\n",
            "printing rnn.out.shape: torch.Size([256, 19, 256])\n"
          ]
        },
        {
          "output_type": "stream",
          "name": "stderr",
          "text": [
            "\rEpoch: 16  Iteration: 49  Loss: 0.6122029185295105:  83%|████████▎ | 52/63 [00:26<00:06,  1.70it/s]"
          ]
        },
        {
          "output_type": "stream",
          "name": "stdout",
          "text": [
            "printing embeds.shape: torch.Size([256, 19, 256])\n",
            "printing rnn.out.shape: torch.Size([256, 19, 256])\n"
          ]
        },
        {
          "output_type": "stream",
          "name": "stderr",
          "text": [
            "\rEpoch: 16  Iteration: 49  Loss: 0.6122029185295105:  84%|████████▍ | 53/63 [00:26<00:05,  1.77it/s]"
          ]
        },
        {
          "output_type": "stream",
          "name": "stdout",
          "text": [
            "printing embeds.shape: torch.Size([256, 19, 256])\n",
            "printing rnn.out.shape: torch.Size([256, 19, 256])\n"
          ]
        },
        {
          "output_type": "stream",
          "name": "stderr",
          "text": [
            "\rEpoch: 16  Iteration: 49  Loss: 0.6122029185295105:  86%|████████▌ | 54/63 [00:27<00:04,  1.88it/s]"
          ]
        },
        {
          "output_type": "stream",
          "name": "stdout",
          "text": [
            "printing embeds.shape: torch.Size([256, 19, 256])\n",
            "printing rnn.out.shape: torch.Size([256, 19, 256])\n"
          ]
        },
        {
          "output_type": "stream",
          "name": "stderr",
          "text": [
            "\rEpoch: 16  Iteration: 49  Loss: 0.6122029185295105:  87%|████████▋ | 55/63 [00:27<00:04,  1.98it/s]"
          ]
        },
        {
          "output_type": "stream",
          "name": "stdout",
          "text": [
            "printing embeds.shape: torch.Size([256, 19, 256])\n",
            "printing rnn.out.shape: torch.Size([256, 19, 256])\n"
          ]
        },
        {
          "output_type": "stream",
          "name": "stderr",
          "text": [
            "\rEpoch: 16  Iteration: 49  Loss: 0.6122029185295105:  89%|████████▉ | 56/63 [00:28<00:03,  1.95it/s]"
          ]
        },
        {
          "output_type": "stream",
          "name": "stdout",
          "text": [
            "printing embeds.shape: torch.Size([256, 19, 256])\n",
            "printing rnn.out.shape: torch.Size([256, 19, 256])\n"
          ]
        },
        {
          "output_type": "stream",
          "name": "stderr",
          "text": [
            "\rEpoch: 16  Iteration: 49  Loss: 0.6122029185295105:  90%|█████████ | 57/63 [00:28<00:02,  2.05it/s]"
          ]
        },
        {
          "output_type": "stream",
          "name": "stdout",
          "text": [
            "printing embeds.shape: torch.Size([256, 19, 256])\n",
            "printing rnn.out.shape: torch.Size([256, 19, 256])\n"
          ]
        },
        {
          "output_type": "stream",
          "name": "stderr",
          "text": [
            "\rEpoch: 16  Iteration: 49  Loss: 0.6122029185295105:  92%|█████████▏| 58/63 [00:29<00:02,  2.10it/s]"
          ]
        },
        {
          "output_type": "stream",
          "name": "stdout",
          "text": [
            "printing embeds.shape: torch.Size([256, 19, 256])\n",
            "printing rnn.out.shape: torch.Size([256, 19, 256])\n"
          ]
        },
        {
          "output_type": "stream",
          "name": "stderr",
          "text": [
            "\rEpoch: 16  Iteration: 49  Loss: 0.6122029185295105:  94%|█████████▎| 59/63 [00:29<00:01,  2.10it/s]"
          ]
        },
        {
          "output_type": "stream",
          "name": "stdout",
          "text": [
            "printing embeds.shape: torch.Size([256, 19, 256])\n",
            "printing rnn.out.shape: torch.Size([256, 19, 256])\n"
          ]
        },
        {
          "output_type": "stream",
          "name": "stderr",
          "text": [
            "Epoch: 16  Iteration: 59  Loss: 0.570413789153099:  95%|█████████▌| 60/63 [00:30<00:01,  2.13it/s]"
          ]
        },
        {
          "output_type": "stream",
          "name": "stdout",
          "text": [
            "printing embeds.shape: torch.Size([256, 19, 256])\n",
            "printing rnn.out.shape: torch.Size([256, 19, 256])\n"
          ]
        },
        {
          "output_type": "stream",
          "name": "stderr",
          "text": [
            "\rEpoch: 16  Iteration: 59  Loss: 0.570413789153099:  97%|█████████▋| 61/63 [00:30<00:00,  2.05it/s]"
          ]
        },
        {
          "output_type": "stream",
          "name": "stdout",
          "text": [
            "printing embeds.shape: torch.Size([256, 19, 256])\n",
            "printing rnn.out.shape: torch.Size([256, 19, 256])\n"
          ]
        },
        {
          "output_type": "stream",
          "name": "stderr",
          "text": [
            "\rEpoch: 16  Iteration: 59  Loss: 0.570413789153099:  98%|█████████▊| 62/63 [00:31<00:00,  2.14it/s]"
          ]
        },
        {
          "output_type": "stream",
          "name": "stdout",
          "text": [
            "printing embeds.shape: torch.Size([187, 19, 256])\n",
            "printing rnn.out.shape: torch.Size([187, 19, 256])\n"
          ]
        },
        {
          "output_type": "stream",
          "name": "stderr",
          "text": [
            "Epoch: 16  Iteration: 59  Loss: 0.570413789153099: 100%|██████████| 63/63 [00:31<00:00,  2.00it/s]\n"
          ]
        },
        {
          "output_type": "stream",
          "name": "stdout",
          "text": [
            "Epoch: 16  Train Accuracy: 81.77968740270254\n",
            "printing embeds.shape: torch.Size([256, 19, 256])\n",
            "printing rnn.out.shape: torch.Size([256, 19, 256])\n",
            "printing embeds.shape: torch.Size([256, 19, 256])\n",
            "printing rnn.out.shape: torch.Size([256, 19, 256])\n",
            "printing embeds.shape: torch.Size([256, 19, 256])\n",
            "printing rnn.out.shape: torch.Size([256, 19, 256])\n",
            "printing embeds.shape: torch.Size([256, 19, 256])\n",
            "printing rnn.out.shape: torch.Size([256, 19, 256])\n",
            "printing embeds.shape: torch.Size([256, 19, 256])\n",
            "printing rnn.out.shape: torch.Size([256, 19, 256])\n",
            "printing embeds.shape: torch.Size([256, 19, 256])\n",
            "printing rnn.out.shape: torch.Size([256, 19, 256])\n",
            "printing embeds.shape: torch.Size([256, 19, 256])\n",
            "printing rnn.out.shape: torch.Size([256, 19, 256])\n",
            "printing embeds.shape: torch.Size([256, 19, 256])\n",
            "printing rnn.out.shape: torch.Size([256, 19, 256])\n",
            "printing embeds.shape: torch.Size([256, 19, 256])\n",
            "printing rnn.out.shape: torch.Size([256, 19, 256])\n",
            "printing embeds.shape: torch.Size([256, 19, 256])\n",
            "printing rnn.out.shape: torch.Size([256, 19, 256])\n",
            "printing embeds.shape: torch.Size([256, 19, 256])\n",
            "printing rnn.out.shape: torch.Size([256, 19, 256])\n",
            "printing embeds.shape: torch.Size([256, 19, 256])\n",
            "printing rnn.out.shape: torch.Size([256, 19, 256])\n",
            "printing embeds.shape: torch.Size([256, 19, 256])\n",
            "printing rnn.out.shape: torch.Size([256, 19, 256])\n",
            "printing embeds.shape: torch.Size([256, 19, 256])\n",
            "printing rnn.out.shape: torch.Size([256, 19, 256])\n",
            "printing embeds.shape: torch.Size([256, 19, 256])\n",
            "printing rnn.out.shape: torch.Size([256, 19, 256])\n",
            "printing embeds.shape: torch.Size([175, 19, 256])\n",
            "printing rnn.out.shape: torch.Size([175, 19, 256])\n",
            "Epoch: 16  Eval Accuracy: 80.8717310087173\n"
          ]
        },
        {
          "output_type": "stream",
          "name": "stderr",
          "text": [
            "\r  0%|          | 0/63 [00:00<?, ?it/s]"
          ]
        },
        {
          "output_type": "stream",
          "name": "stdout",
          "text": [
            "printing embeds.shape: torch.Size([256, 19, 256])\n",
            "printing rnn.out.shape: torch.Size([256, 19, 256])\n"
          ]
        },
        {
          "output_type": "stream",
          "name": "stderr",
          "text": [
            "\r  2%|▏         | 1/63 [00:00<00:38,  1.63it/s]"
          ]
        },
        {
          "output_type": "stream",
          "name": "stdout",
          "text": [
            "printing embeds.shape: torch.Size([256, 19, 256])\n",
            "printing rnn.out.shape: torch.Size([256, 19, 256])\n"
          ]
        },
        {
          "output_type": "stream",
          "name": "stderr",
          "text": [
            "\r  3%|▎         | 2/63 [00:01<00:31,  1.93it/s]"
          ]
        },
        {
          "output_type": "stream",
          "name": "stdout",
          "text": [
            "printing embeds.shape: torch.Size([256, 19, 256])\n",
            "printing rnn.out.shape: torch.Size([256, 19, 256])\n"
          ]
        },
        {
          "output_type": "stream",
          "name": "stderr",
          "text": [
            "\r  5%|▍         | 3/63 [00:01<00:29,  2.06it/s]"
          ]
        },
        {
          "output_type": "stream",
          "name": "stdout",
          "text": [
            "printing embeds.shape: torch.Size([256, 19, 256])\n",
            "printing rnn.out.shape: torch.Size([256, 19, 256])\n"
          ]
        },
        {
          "output_type": "stream",
          "name": "stderr",
          "text": [
            "\r  6%|▋         | 4/63 [00:02<00:30,  1.97it/s]"
          ]
        },
        {
          "output_type": "stream",
          "name": "stdout",
          "text": [
            "printing embeds.shape: torch.Size([256, 19, 256])\n",
            "printing rnn.out.shape: torch.Size([256, 19, 256])\n"
          ]
        },
        {
          "output_type": "stream",
          "name": "stderr",
          "text": [
            "\r  8%|▊         | 5/63 [00:02<00:28,  2.05it/s]"
          ]
        },
        {
          "output_type": "stream",
          "name": "stdout",
          "text": [
            "printing embeds.shape: torch.Size([256, 19, 256])\n",
            "printing rnn.out.shape: torch.Size([256, 19, 256])\n"
          ]
        },
        {
          "output_type": "stream",
          "name": "stderr",
          "text": [
            "\r 10%|▉         | 6/63 [00:02<00:26,  2.14it/s]"
          ]
        },
        {
          "output_type": "stream",
          "name": "stdout",
          "text": [
            "printing embeds.shape: torch.Size([256, 19, 256])\n",
            "printing rnn.out.shape: torch.Size([256, 19, 256])\n"
          ]
        },
        {
          "output_type": "stream",
          "name": "stderr",
          "text": [
            "\r 11%|█         | 7/63 [00:03<00:26,  2.10it/s]"
          ]
        },
        {
          "output_type": "stream",
          "name": "stdout",
          "text": [
            "printing embeds.shape: torch.Size([256, 19, 256])\n",
            "printing rnn.out.shape: torch.Size([256, 19, 256])\n"
          ]
        },
        {
          "output_type": "stream",
          "name": "stderr",
          "text": [
            "\r 13%|█▎        | 8/63 [00:03<00:26,  2.11it/s]"
          ]
        },
        {
          "output_type": "stream",
          "name": "stdout",
          "text": [
            "printing embeds.shape: torch.Size([256, 19, 256])\n",
            "printing rnn.out.shape: torch.Size([256, 19, 256])\n"
          ]
        },
        {
          "output_type": "stream",
          "name": "stderr",
          "text": [
            "\r 14%|█▍        | 9/63 [00:04<00:26,  2.03it/s]"
          ]
        },
        {
          "output_type": "stream",
          "name": "stdout",
          "text": [
            "printing embeds.shape: torch.Size([256, 19, 256])\n",
            "printing rnn.out.shape: torch.Size([256, 19, 256])\n"
          ]
        },
        {
          "output_type": "stream",
          "name": "stderr",
          "text": [
            "Epoch: 17  Iteration: 9  Loss: 0.5552141308784485:  16%|█▌        | 10/63 [00:05<00:27,  1.92it/s]"
          ]
        },
        {
          "output_type": "stream",
          "name": "stdout",
          "text": [
            "printing embeds.shape: torch.Size([256, 19, 256])\n",
            "printing rnn.out.shape: torch.Size([256, 19, 256])\n"
          ]
        },
        {
          "output_type": "stream",
          "name": "stderr",
          "text": [
            "\rEpoch: 17  Iteration: 9  Loss: 0.5552141308784485:  17%|█▋        | 11/63 [00:05<00:28,  1.79it/s]"
          ]
        },
        {
          "output_type": "stream",
          "name": "stdout",
          "text": [
            "printing embeds.shape: torch.Size([256, 19, 256])\n",
            "printing rnn.out.shape: torch.Size([256, 19, 256])\n"
          ]
        },
        {
          "output_type": "stream",
          "name": "stderr",
          "text": [
            "\rEpoch: 17  Iteration: 9  Loss: 0.5552141308784485:  19%|█▉        | 12/63 [00:06<00:31,  1.64it/s]"
          ]
        },
        {
          "output_type": "stream",
          "name": "stdout",
          "text": [
            "printing embeds.shape: torch.Size([256, 19, 256])\n",
            "printing rnn.out.shape: torch.Size([256, 19, 256])\n"
          ]
        },
        {
          "output_type": "stream",
          "name": "stderr",
          "text": [
            "\rEpoch: 17  Iteration: 9  Loss: 0.5552141308784485:  21%|██        | 13/63 [00:06<00:29,  1.68it/s]"
          ]
        },
        {
          "output_type": "stream",
          "name": "stdout",
          "text": [
            "printing embeds.shape: torch.Size([256, 19, 256])\n",
            "printing rnn.out.shape: torch.Size([256, 19, 256])\n"
          ]
        },
        {
          "output_type": "stream",
          "name": "stderr",
          "text": [
            "\rEpoch: 17  Iteration: 9  Loss: 0.5552141308784485:  22%|██▏       | 14/63 [00:07<00:27,  1.81it/s]"
          ]
        },
        {
          "output_type": "stream",
          "name": "stdout",
          "text": [
            "printing embeds.shape: torch.Size([256, 19, 256])\n",
            "printing rnn.out.shape: torch.Size([256, 19, 256])\n"
          ]
        },
        {
          "output_type": "stream",
          "name": "stderr",
          "text": [
            "\rEpoch: 17  Iteration: 9  Loss: 0.5552141308784485:  24%|██▍       | 15/63 [00:07<00:26,  1.79it/s]"
          ]
        },
        {
          "output_type": "stream",
          "name": "stdout",
          "text": [
            "printing embeds.shape: torch.Size([256, 19, 256])\n",
            "printing rnn.out.shape: torch.Size([256, 19, 256])\n"
          ]
        },
        {
          "output_type": "stream",
          "name": "stderr",
          "text": [
            "\rEpoch: 17  Iteration: 9  Loss: 0.5552141308784485:  25%|██▌       | 16/63 [00:08<00:24,  1.91it/s]"
          ]
        },
        {
          "output_type": "stream",
          "name": "stdout",
          "text": [
            "printing embeds.shape: torch.Size([256, 19, 256])\n",
            "printing rnn.out.shape: torch.Size([256, 19, 256])\n"
          ]
        },
        {
          "output_type": "stream",
          "name": "stderr",
          "text": [
            "\rEpoch: 17  Iteration: 9  Loss: 0.5552141308784485:  27%|██▋       | 17/63 [00:09<00:25,  1.84it/s]"
          ]
        },
        {
          "output_type": "stream",
          "name": "stdout",
          "text": [
            "printing embeds.shape: torch.Size([256, 19, 256])\n",
            "printing rnn.out.shape: torch.Size([256, 19, 256])\n"
          ]
        },
        {
          "output_type": "stream",
          "name": "stderr",
          "text": [
            "\rEpoch: 17  Iteration: 9  Loss: 0.5552141308784485:  29%|██▊       | 18/63 [00:09<00:24,  1.83it/s]"
          ]
        },
        {
          "output_type": "stream",
          "name": "stdout",
          "text": [
            "printing embeds.shape: torch.Size([256, 19, 256])\n",
            "printing rnn.out.shape: torch.Size([256, 19, 256])\n"
          ]
        },
        {
          "output_type": "stream",
          "name": "stderr",
          "text": [
            "\rEpoch: 17  Iteration: 9  Loss: 0.5552141308784485:  30%|███       | 19/63 [00:09<00:22,  1.95it/s]"
          ]
        },
        {
          "output_type": "stream",
          "name": "stdout",
          "text": [
            "printing embeds.shape: torch.Size([256, 19, 256])\n",
            "printing rnn.out.shape: torch.Size([256, 19, 256])\n"
          ]
        },
        {
          "output_type": "stream",
          "name": "stderr",
          "text": [
            "Epoch: 17  Iteration: 19  Loss: 0.5842399626970292:  32%|███▏      | 20/63 [00:10<00:20,  2.05it/s]"
          ]
        },
        {
          "output_type": "stream",
          "name": "stdout",
          "text": [
            "printing embeds.shape: torch.Size([256, 19, 256])\n",
            "printing rnn.out.shape: torch.Size([256, 19, 256])\n"
          ]
        },
        {
          "output_type": "stream",
          "name": "stderr",
          "text": [
            "\rEpoch: 17  Iteration: 19  Loss: 0.5842399626970292:  33%|███▎      | 21/63 [00:11<00:21,  1.93it/s]"
          ]
        },
        {
          "output_type": "stream",
          "name": "stdout",
          "text": [
            "printing embeds.shape: torch.Size([256, 19, 256])\n",
            "printing rnn.out.shape: torch.Size([256, 19, 256])\n"
          ]
        },
        {
          "output_type": "stream",
          "name": "stderr",
          "text": [
            "\rEpoch: 17  Iteration: 19  Loss: 0.5842399626970292:  35%|███▍      | 22/63 [00:11<00:22,  1.84it/s]"
          ]
        },
        {
          "output_type": "stream",
          "name": "stdout",
          "text": [
            "printing embeds.shape: torch.Size([256, 19, 256])\n",
            "printing rnn.out.shape: torch.Size([256, 19, 256])\n"
          ]
        },
        {
          "output_type": "stream",
          "name": "stderr",
          "text": [
            "\rEpoch: 17  Iteration: 19  Loss: 0.5842399626970292:  37%|███▋      | 23/63 [00:12<00:21,  1.86it/s]"
          ]
        },
        {
          "output_type": "stream",
          "name": "stdout",
          "text": [
            "printing embeds.shape: torch.Size([256, 19, 256])\n",
            "printing rnn.out.shape: torch.Size([256, 19, 256])\n"
          ]
        },
        {
          "output_type": "stream",
          "name": "stderr",
          "text": [
            "\rEpoch: 17  Iteration: 19  Loss: 0.5842399626970292:  38%|███▊      | 24/63 [00:12<00:22,  1.77it/s]"
          ]
        },
        {
          "output_type": "stream",
          "name": "stdout",
          "text": [
            "printing embeds.shape: torch.Size([256, 19, 256])\n",
            "printing rnn.out.shape: torch.Size([256, 19, 256])\n"
          ]
        },
        {
          "output_type": "stream",
          "name": "stderr",
          "text": [
            "\rEpoch: 17  Iteration: 19  Loss: 0.5842399626970292:  40%|███▉      | 25/63 [00:13<00:19,  1.91it/s]"
          ]
        },
        {
          "output_type": "stream",
          "name": "stdout",
          "text": [
            "printing embeds.shape: torch.Size([256, 19, 256])\n",
            "printing rnn.out.shape: torch.Size([256, 19, 256])\n"
          ]
        },
        {
          "output_type": "stream",
          "name": "stderr",
          "text": [
            "\rEpoch: 17  Iteration: 19  Loss: 0.5842399626970292:  41%|████▏     | 26/63 [00:13<00:20,  1.84it/s]"
          ]
        },
        {
          "output_type": "stream",
          "name": "stdout",
          "text": [
            "printing embeds.shape: torch.Size([256, 19, 256])\n",
            "printing rnn.out.shape: torch.Size([256, 19, 256])\n"
          ]
        },
        {
          "output_type": "stream",
          "name": "stderr",
          "text": [
            "\rEpoch: 17  Iteration: 19  Loss: 0.5842399626970292:  43%|████▎     | 27/63 [00:14<00:18,  1.93it/s]"
          ]
        },
        {
          "output_type": "stream",
          "name": "stdout",
          "text": [
            "printing embeds.shape: torch.Size([256, 19, 256])\n",
            "printing rnn.out.shape: torch.Size([256, 19, 256])\n"
          ]
        },
        {
          "output_type": "stream",
          "name": "stderr",
          "text": [
            "\rEpoch: 17  Iteration: 19  Loss: 0.5842399626970292:  44%|████▍     | 28/63 [00:14<00:17,  2.03it/s]"
          ]
        },
        {
          "output_type": "stream",
          "name": "stdout",
          "text": [
            "printing embeds.shape: torch.Size([256, 19, 256])\n",
            "printing rnn.out.shape: torch.Size([256, 19, 256])\n"
          ]
        },
        {
          "output_type": "stream",
          "name": "stderr",
          "text": [
            "\rEpoch: 17  Iteration: 19  Loss: 0.5842399626970292:  46%|████▌     | 29/63 [00:15<00:16,  2.01it/s]"
          ]
        },
        {
          "output_type": "stream",
          "name": "stdout",
          "text": [
            "printing embeds.shape: torch.Size([256, 19, 256])\n",
            "printing rnn.out.shape: torch.Size([256, 19, 256])\n"
          ]
        },
        {
          "output_type": "stream",
          "name": "stderr",
          "text": [
            "Epoch: 17  Iteration: 29  Loss: 0.6142474293708802:  48%|████▊     | 30/63 [00:15<00:17,  1.91it/s]"
          ]
        },
        {
          "output_type": "stream",
          "name": "stdout",
          "text": [
            "printing embeds.shape: torch.Size([256, 19, 256])\n",
            "printing rnn.out.shape: torch.Size([256, 19, 256])\n"
          ]
        },
        {
          "output_type": "stream",
          "name": "stderr",
          "text": [
            "\rEpoch: 17  Iteration: 29  Loss: 0.6142474293708802:  49%|████▉     | 31/63 [00:16<00:16,  1.93it/s]"
          ]
        },
        {
          "output_type": "stream",
          "name": "stdout",
          "text": [
            "printing embeds.shape: torch.Size([256, 19, 256])\n",
            "printing rnn.out.shape: torch.Size([256, 19, 256])\n"
          ]
        },
        {
          "output_type": "stream",
          "name": "stderr",
          "text": [
            "\rEpoch: 17  Iteration: 29  Loss: 0.6142474293708802:  51%|█████     | 32/63 [00:16<00:16,  1.87it/s]"
          ]
        },
        {
          "output_type": "stream",
          "name": "stdout",
          "text": [
            "printing embeds.shape: torch.Size([256, 19, 256])\n",
            "printing rnn.out.shape: torch.Size([256, 19, 256])\n"
          ]
        },
        {
          "output_type": "stream",
          "name": "stderr",
          "text": [
            "\rEpoch: 17  Iteration: 29  Loss: 0.6142474293708802:  52%|█████▏    | 33/63 [00:17<00:15,  1.88it/s]"
          ]
        },
        {
          "output_type": "stream",
          "name": "stdout",
          "text": [
            "printing embeds.shape: torch.Size([256, 19, 256])\n",
            "printing rnn.out.shape: torch.Size([256, 19, 256])\n"
          ]
        },
        {
          "output_type": "stream",
          "name": "stderr",
          "text": [
            "\rEpoch: 17  Iteration: 29  Loss: 0.6142474293708802:  54%|█████▍    | 34/63 [00:17<00:15,  1.84it/s]"
          ]
        },
        {
          "output_type": "stream",
          "name": "stdout",
          "text": [
            "printing embeds.shape: torch.Size([256, 19, 256])\n",
            "printing rnn.out.shape: torch.Size([256, 19, 256])\n"
          ]
        },
        {
          "output_type": "stream",
          "name": "stderr",
          "text": [
            "\rEpoch: 17  Iteration: 29  Loss: 0.6142474293708802:  56%|█████▌    | 35/63 [00:18<00:15,  1.85it/s]"
          ]
        },
        {
          "output_type": "stream",
          "name": "stdout",
          "text": [
            "printing embeds.shape: torch.Size([256, 19, 256])\n",
            "printing rnn.out.shape: torch.Size([256, 19, 256])\n"
          ]
        },
        {
          "output_type": "stream",
          "name": "stderr",
          "text": [
            "\rEpoch: 17  Iteration: 29  Loss: 0.6142474293708802:  57%|█████▋    | 36/63 [00:19<00:15,  1.74it/s]"
          ]
        },
        {
          "output_type": "stream",
          "name": "stdout",
          "text": [
            "printing embeds.shape: torch.Size([256, 19, 256])\n",
            "printing rnn.out.shape: torch.Size([256, 19, 256])\n"
          ]
        },
        {
          "output_type": "stream",
          "name": "stderr",
          "text": [
            "\rEpoch: 17  Iteration: 29  Loss: 0.6142474293708802:  59%|█████▊    | 37/63 [00:19<00:15,  1.72it/s]"
          ]
        },
        {
          "output_type": "stream",
          "name": "stdout",
          "text": [
            "printing embeds.shape: torch.Size([256, 19, 256])\n",
            "printing rnn.out.shape: torch.Size([256, 19, 256])\n"
          ]
        },
        {
          "output_type": "stream",
          "name": "stderr",
          "text": [
            "\rEpoch: 17  Iteration: 29  Loss: 0.6142474293708802:  60%|██████    | 38/63 [00:20<00:14,  1.69it/s]"
          ]
        },
        {
          "output_type": "stream",
          "name": "stdout",
          "text": [
            "printing embeds.shape: torch.Size([256, 19, 256])\n",
            "printing rnn.out.shape: torch.Size([256, 19, 256])\n"
          ]
        },
        {
          "output_type": "stream",
          "name": "stderr",
          "text": [
            "\rEpoch: 17  Iteration: 29  Loss: 0.6142474293708802:  62%|██████▏   | 39/63 [00:20<00:12,  1.86it/s]"
          ]
        },
        {
          "output_type": "stream",
          "name": "stdout",
          "text": [
            "printing embeds.shape: torch.Size([256, 19, 256])\n",
            "printing rnn.out.shape: torch.Size([256, 19, 256])\n"
          ]
        },
        {
          "output_type": "stream",
          "name": "stderr",
          "text": [
            "Epoch: 17  Iteration: 39  Loss: 0.6323909342288971:  63%|██████▎   | 40/63 [00:21<00:12,  1.85it/s]"
          ]
        },
        {
          "output_type": "stream",
          "name": "stdout",
          "text": [
            "printing embeds.shape: torch.Size([256, 19, 256])\n",
            "printing rnn.out.shape: torch.Size([256, 19, 256])\n"
          ]
        },
        {
          "output_type": "stream",
          "name": "stderr",
          "text": [
            "\rEpoch: 17  Iteration: 39  Loss: 0.6323909342288971:  65%|██████▌   | 41/63 [00:21<00:11,  1.95it/s]"
          ]
        },
        {
          "output_type": "stream",
          "name": "stdout",
          "text": [
            "printing embeds.shape: torch.Size([256, 19, 256])\n",
            "printing rnn.out.shape: torch.Size([256, 19, 256])\n"
          ]
        },
        {
          "output_type": "stream",
          "name": "stderr",
          "text": [
            "\rEpoch: 17  Iteration: 39  Loss: 0.6323909342288971:  67%|██████▋   | 42/63 [00:22<00:10,  2.07it/s]"
          ]
        },
        {
          "output_type": "stream",
          "name": "stdout",
          "text": [
            "printing embeds.shape: torch.Size([256, 19, 256])\n",
            "printing rnn.out.shape: torch.Size([256, 19, 256])\n"
          ]
        },
        {
          "output_type": "stream",
          "name": "stderr",
          "text": [
            "\rEpoch: 17  Iteration: 39  Loss: 0.6323909342288971:  68%|██████▊   | 43/63 [00:22<00:09,  2.14it/s]"
          ]
        },
        {
          "output_type": "stream",
          "name": "stdout",
          "text": [
            "printing embeds.shape: torch.Size([256, 19, 256])\n",
            "printing rnn.out.shape: torch.Size([256, 19, 256])\n"
          ]
        },
        {
          "output_type": "stream",
          "name": "stderr",
          "text": [
            "\rEpoch: 17  Iteration: 39  Loss: 0.6323909342288971:  70%|██████▉   | 44/63 [00:23<00:08,  2.19it/s]"
          ]
        },
        {
          "output_type": "stream",
          "name": "stdout",
          "text": [
            "printing embeds.shape: torch.Size([256, 19, 256])\n",
            "printing rnn.out.shape: torch.Size([256, 19, 256])\n"
          ]
        },
        {
          "output_type": "stream",
          "name": "stderr",
          "text": [
            "\rEpoch: 17  Iteration: 39  Loss: 0.6323909342288971:  71%|███████▏  | 45/63 [00:23<00:08,  2.17it/s]"
          ]
        },
        {
          "output_type": "stream",
          "name": "stdout",
          "text": [
            "printing embeds.shape: torch.Size([256, 19, 256])\n",
            "printing rnn.out.shape: torch.Size([256, 19, 256])\n"
          ]
        },
        {
          "output_type": "stream",
          "name": "stderr",
          "text": [
            "\rEpoch: 17  Iteration: 39  Loss: 0.6323909342288971:  73%|███████▎  | 46/63 [00:23<00:08,  2.11it/s]"
          ]
        },
        {
          "output_type": "stream",
          "name": "stdout",
          "text": [
            "printing embeds.shape: torch.Size([256, 19, 256])\n",
            "printing rnn.out.shape: torch.Size([256, 19, 256])\n"
          ]
        },
        {
          "output_type": "stream",
          "name": "stderr",
          "text": [
            "\rEpoch: 17  Iteration: 39  Loss: 0.6323909342288971:  75%|███████▍  | 47/63 [00:24<00:07,  2.07it/s]"
          ]
        },
        {
          "output_type": "stream",
          "name": "stdout",
          "text": [
            "printing embeds.shape: torch.Size([256, 19, 256])\n",
            "printing rnn.out.shape: torch.Size([256, 19, 256])\n"
          ]
        },
        {
          "output_type": "stream",
          "name": "stderr",
          "text": [
            "\rEpoch: 17  Iteration: 39  Loss: 0.6323909342288971:  76%|███████▌  | 48/63 [00:25<00:07,  2.02it/s]"
          ]
        },
        {
          "output_type": "stream",
          "name": "stdout",
          "text": [
            "printing embeds.shape: torch.Size([256, 19, 256])\n",
            "printing rnn.out.shape: torch.Size([256, 19, 256])\n"
          ]
        },
        {
          "output_type": "stream",
          "name": "stderr",
          "text": [
            "\rEpoch: 17  Iteration: 39  Loss: 0.6323909342288971:  78%|███████▊  | 49/63 [00:25<00:06,  2.07it/s]"
          ]
        },
        {
          "output_type": "stream",
          "name": "stdout",
          "text": [
            "printing embeds.shape: torch.Size([256, 19, 256])\n",
            "printing rnn.out.shape: torch.Size([256, 19, 256])\n"
          ]
        },
        {
          "output_type": "stream",
          "name": "stderr",
          "text": [
            "Epoch: 17  Iteration: 49  Loss: 0.5797691643238068:  79%|███████▉  | 50/63 [00:25<00:06,  2.03it/s]"
          ]
        },
        {
          "output_type": "stream",
          "name": "stdout",
          "text": [
            "printing embeds.shape: torch.Size([256, 19, 256])\n",
            "printing rnn.out.shape: torch.Size([256, 19, 256])\n"
          ]
        },
        {
          "output_type": "stream",
          "name": "stderr",
          "text": [
            "\rEpoch: 17  Iteration: 49  Loss: 0.5797691643238068:  81%|████████  | 51/63 [00:26<00:06,  1.94it/s]"
          ]
        },
        {
          "output_type": "stream",
          "name": "stdout",
          "text": [
            "printing embeds.shape: torch.Size([256, 19, 256])\n",
            "printing rnn.out.shape: torch.Size([256, 19, 256])\n"
          ]
        },
        {
          "output_type": "stream",
          "name": "stderr",
          "text": [
            "\rEpoch: 17  Iteration: 49  Loss: 0.5797691643238068:  83%|████████▎ | 52/63 [00:26<00:05,  2.05it/s]"
          ]
        },
        {
          "output_type": "stream",
          "name": "stdout",
          "text": [
            "printing embeds.shape: torch.Size([256, 19, 256])\n",
            "printing rnn.out.shape: torch.Size([256, 19, 256])\n"
          ]
        },
        {
          "output_type": "stream",
          "name": "stderr",
          "text": [
            "\rEpoch: 17  Iteration: 49  Loss: 0.5797691643238068:  84%|████████▍ | 53/63 [00:27<00:04,  2.12it/s]"
          ]
        },
        {
          "output_type": "stream",
          "name": "stdout",
          "text": [
            "printing embeds.shape: torch.Size([256, 19, 256])\n",
            "printing rnn.out.shape: torch.Size([256, 19, 256])\n"
          ]
        },
        {
          "output_type": "stream",
          "name": "stderr",
          "text": [
            "\rEpoch: 17  Iteration: 49  Loss: 0.5797691643238068:  86%|████████▌ | 54/63 [00:27<00:04,  2.16it/s]"
          ]
        },
        {
          "output_type": "stream",
          "name": "stdout",
          "text": [
            "printing embeds.shape: torch.Size([256, 19, 256])\n",
            "printing rnn.out.shape: torch.Size([256, 19, 256])\n"
          ]
        },
        {
          "output_type": "stream",
          "name": "stderr",
          "text": [
            "\rEpoch: 17  Iteration: 49  Loss: 0.5797691643238068:  87%|████████▋ | 55/63 [00:28<00:03,  2.15it/s]"
          ]
        },
        {
          "output_type": "stream",
          "name": "stdout",
          "text": [
            "printing embeds.shape: torch.Size([256, 19, 256])\n",
            "printing rnn.out.shape: torch.Size([256, 19, 256])\n"
          ]
        },
        {
          "output_type": "stream",
          "name": "stderr",
          "text": [
            "\rEpoch: 17  Iteration: 49  Loss: 0.5797691643238068:  89%|████████▉ | 56/63 [00:28<00:03,  2.13it/s]"
          ]
        },
        {
          "output_type": "stream",
          "name": "stdout",
          "text": [
            "printing embeds.shape: torch.Size([256, 19, 256])\n",
            "printing rnn.out.shape: torch.Size([256, 19, 256])\n"
          ]
        },
        {
          "output_type": "stream",
          "name": "stderr",
          "text": [
            "\rEpoch: 17  Iteration: 49  Loss: 0.5797691643238068:  90%|█████████ | 57/63 [00:29<00:02,  2.19it/s]"
          ]
        },
        {
          "output_type": "stream",
          "name": "stdout",
          "text": [
            "printing embeds.shape: torch.Size([256, 19, 256])\n",
            "printing rnn.out.shape: torch.Size([256, 19, 256])\n"
          ]
        },
        {
          "output_type": "stream",
          "name": "stderr",
          "text": [
            "\rEpoch: 17  Iteration: 49  Loss: 0.5797691643238068:  92%|█████████▏| 58/63 [00:29<00:02,  2.12it/s]"
          ]
        },
        {
          "output_type": "stream",
          "name": "stdout",
          "text": [
            "printing embeds.shape: torch.Size([256, 19, 256])\n",
            "printing rnn.out.shape: torch.Size([256, 19, 256])\n"
          ]
        },
        {
          "output_type": "stream",
          "name": "stderr",
          "text": [
            "\rEpoch: 17  Iteration: 49  Loss: 0.5797691643238068:  94%|█████████▎| 59/63 [00:30<00:01,  2.08it/s]"
          ]
        },
        {
          "output_type": "stream",
          "name": "stdout",
          "text": [
            "printing embeds.shape: torch.Size([256, 19, 256])\n",
            "printing rnn.out.shape: torch.Size([256, 19, 256])\n"
          ]
        },
        {
          "output_type": "stream",
          "name": "stderr",
          "text": [
            "Epoch: 17  Iteration: 59  Loss: 0.6007515490055084:  95%|█████████▌| 60/63 [00:30<00:01,  1.99it/s]"
          ]
        },
        {
          "output_type": "stream",
          "name": "stdout",
          "text": [
            "printing embeds.shape: torch.Size([256, 19, 256])\n",
            "printing rnn.out.shape: torch.Size([256, 19, 256])\n"
          ]
        },
        {
          "output_type": "stream",
          "name": "stderr",
          "text": [
            "\rEpoch: 17  Iteration: 59  Loss: 0.6007515490055084:  97%|█████████▋| 61/63 [00:31<00:01,  1.95it/s]"
          ]
        },
        {
          "output_type": "stream",
          "name": "stdout",
          "text": [
            "printing embeds.shape: torch.Size([256, 19, 256])\n",
            "printing rnn.out.shape: torch.Size([256, 19, 256])\n"
          ]
        },
        {
          "output_type": "stream",
          "name": "stderr",
          "text": [
            "\rEpoch: 17  Iteration: 59  Loss: 0.6007515490055084:  98%|█████████▊| 62/63 [00:31<00:00,  1.90it/s]"
          ]
        },
        {
          "output_type": "stream",
          "name": "stdout",
          "text": [
            "printing embeds.shape: torch.Size([187, 19, 256])\n",
            "printing rnn.out.shape: torch.Size([187, 19, 256])\n"
          ]
        },
        {
          "output_type": "stream",
          "name": "stderr",
          "text": [
            "Epoch: 17  Iteration: 59  Loss: 0.6007515490055084: 100%|██████████| 63/63 [00:32<00:00,  1.95it/s]\n"
          ]
        },
        {
          "output_type": "stream",
          "name": "stdout",
          "text": [
            "Epoch: 17  Train Accuracy: 82.32766672893705\n",
            "printing embeds.shape: torch.Size([256, 19, 256])\n",
            "printing rnn.out.shape: torch.Size([256, 19, 256])\n",
            "printing embeds.shape: torch.Size([256, 19, 256])\n",
            "printing rnn.out.shape: torch.Size([256, 19, 256])\n",
            "printing embeds.shape: torch.Size([256, 19, 256])\n",
            "printing rnn.out.shape: torch.Size([256, 19, 256])\n",
            "printing embeds.shape: torch.Size([256, 19, 256])\n",
            "printing rnn.out.shape: torch.Size([256, 19, 256])\n",
            "printing embeds.shape: torch.Size([256, 19, 256])\n",
            "printing rnn.out.shape: torch.Size([256, 19, 256])\n",
            "printing embeds.shape: torch.Size([256, 19, 256])\n",
            "printing rnn.out.shape: torch.Size([256, 19, 256])\n",
            "printing embeds.shape: torch.Size([256, 19, 256])\n",
            "printing rnn.out.shape: torch.Size([256, 19, 256])\n",
            "printing embeds.shape: torch.Size([256, 19, 256])\n",
            "printing rnn.out.shape: torch.Size([256, 19, 256])\n",
            "printing embeds.shape: torch.Size([256, 19, 256])\n",
            "printing rnn.out.shape: torch.Size([256, 19, 256])\n",
            "printing embeds.shape: torch.Size([256, 19, 256])\n",
            "printing rnn.out.shape: torch.Size([256, 19, 256])\n",
            "printing embeds.shape: torch.Size([256, 19, 256])\n",
            "printing rnn.out.shape: torch.Size([256, 19, 256])\n",
            "printing embeds.shape: torch.Size([256, 19, 256])\n",
            "printing rnn.out.shape: torch.Size([256, 19, 256])\n",
            "printing embeds.shape: torch.Size([256, 19, 256])\n",
            "printing rnn.out.shape: torch.Size([256, 19, 256])\n",
            "printing embeds.shape: torch.Size([256, 19, 256])\n",
            "printing rnn.out.shape: torch.Size([256, 19, 256])\n",
            "printing embeds.shape: torch.Size([256, 19, 256])\n",
            "printing rnn.out.shape: torch.Size([256, 19, 256])\n",
            "printing embeds.shape: torch.Size([175, 19, 256])\n",
            "printing rnn.out.shape: torch.Size([175, 19, 256])\n",
            "Epoch: 17  Eval Accuracy: 81.51930261519303\n"
          ]
        },
        {
          "output_type": "stream",
          "name": "stderr",
          "text": [
            "\r  0%|          | 0/63 [00:00<?, ?it/s]"
          ]
        },
        {
          "output_type": "stream",
          "name": "stdout",
          "text": [
            "printing embeds.shape: torch.Size([256, 19, 256])\n",
            "printing rnn.out.shape: torch.Size([256, 19, 256])\n"
          ]
        },
        {
          "output_type": "stream",
          "name": "stderr",
          "text": [
            "\r  2%|▏         | 1/63 [00:00<00:34,  1.82it/s]"
          ]
        },
        {
          "output_type": "stream",
          "name": "stdout",
          "text": [
            "printing embeds.shape: torch.Size([256, 19, 256])\n",
            "printing rnn.out.shape: torch.Size([256, 19, 256])\n"
          ]
        },
        {
          "output_type": "stream",
          "name": "stderr",
          "text": [
            "\r  3%|▎         | 2/63 [00:01<00:34,  1.79it/s]"
          ]
        },
        {
          "output_type": "stream",
          "name": "stdout",
          "text": [
            "printing embeds.shape: torch.Size([256, 19, 256])\n",
            "printing rnn.out.shape: torch.Size([256, 19, 256])\n"
          ]
        },
        {
          "output_type": "stream",
          "name": "stderr",
          "text": [
            "\r  5%|▍         | 3/63 [00:01<00:29,  2.02it/s]"
          ]
        },
        {
          "output_type": "stream",
          "name": "stdout",
          "text": [
            "printing embeds.shape: torch.Size([256, 19, 256])\n",
            "printing rnn.out.shape: torch.Size([256, 19, 256])\n"
          ]
        },
        {
          "output_type": "stream",
          "name": "stderr",
          "text": [
            "\r  6%|▋         | 4/63 [00:02<00:29,  2.01it/s]"
          ]
        },
        {
          "output_type": "stream",
          "name": "stdout",
          "text": [
            "printing embeds.shape: torch.Size([256, 19, 256])\n",
            "printing rnn.out.shape: torch.Size([256, 19, 256])\n"
          ]
        },
        {
          "output_type": "stream",
          "name": "stderr",
          "text": [
            "\r  8%|▊         | 5/63 [00:02<00:27,  2.14it/s]"
          ]
        },
        {
          "output_type": "stream",
          "name": "stdout",
          "text": [
            "printing embeds.shape: torch.Size([256, 19, 256])\n",
            "printing rnn.out.shape: torch.Size([256, 19, 256])\n"
          ]
        },
        {
          "output_type": "stream",
          "name": "stderr",
          "text": [
            "\r 10%|▉         | 6/63 [00:02<00:26,  2.13it/s]"
          ]
        },
        {
          "output_type": "stream",
          "name": "stdout",
          "text": [
            "printing embeds.shape: torch.Size([256, 19, 256])\n",
            "printing rnn.out.shape: torch.Size([256, 19, 256])\n"
          ]
        },
        {
          "output_type": "stream",
          "name": "stderr",
          "text": [
            "\r 11%|█         | 7/63 [00:03<00:25,  2.19it/s]"
          ]
        },
        {
          "output_type": "stream",
          "name": "stdout",
          "text": [
            "printing embeds.shape: torch.Size([256, 19, 256])\n",
            "printing rnn.out.shape: torch.Size([256, 19, 256])\n"
          ]
        },
        {
          "output_type": "stream",
          "name": "stderr",
          "text": [
            "\r 13%|█▎        | 8/63 [00:03<00:24,  2.21it/s]"
          ]
        },
        {
          "output_type": "stream",
          "name": "stdout",
          "text": [
            "printing embeds.shape: torch.Size([256, 19, 256])\n",
            "printing rnn.out.shape: torch.Size([256, 19, 256])\n"
          ]
        },
        {
          "output_type": "stream",
          "name": "stderr",
          "text": [
            "\r 14%|█▍        | 9/63 [00:04<00:24,  2.22it/s]"
          ]
        },
        {
          "output_type": "stream",
          "name": "stdout",
          "text": [
            "printing embeds.shape: torch.Size([256, 19, 256])\n",
            "printing rnn.out.shape: torch.Size([256, 19, 256])\n"
          ]
        },
        {
          "output_type": "stream",
          "name": "stderr",
          "text": [
            "Epoch: 18  Iteration: 9  Loss: 0.5876375168561936:  16%|█▌        | 10/63 [00:04<00:23,  2.26it/s]"
          ]
        },
        {
          "output_type": "stream",
          "name": "stdout",
          "text": [
            "printing embeds.shape: torch.Size([256, 19, 256])\n",
            "printing rnn.out.shape: torch.Size([256, 19, 256])\n"
          ]
        },
        {
          "output_type": "stream",
          "name": "stderr",
          "text": [
            "\rEpoch: 18  Iteration: 9  Loss: 0.5876375168561936:  17%|█▋        | 11/63 [00:05<00:25,  2.07it/s]"
          ]
        },
        {
          "output_type": "stream",
          "name": "stdout",
          "text": [
            "printing embeds.shape: torch.Size([256, 19, 256])\n",
            "printing rnn.out.shape: torch.Size([256, 19, 256])\n"
          ]
        },
        {
          "output_type": "stream",
          "name": "stderr",
          "text": [
            "\rEpoch: 18  Iteration: 9  Loss: 0.5876375168561936:  19%|█▉        | 12/63 [00:05<00:23,  2.15it/s]"
          ]
        },
        {
          "output_type": "stream",
          "name": "stdout",
          "text": [
            "printing embeds.shape: torch.Size([256, 19, 256])\n",
            "printing rnn.out.shape: torch.Size([256, 19, 256])\n"
          ]
        },
        {
          "output_type": "stream",
          "name": "stderr",
          "text": [
            "\rEpoch: 18  Iteration: 9  Loss: 0.5876375168561936:  21%|██        | 13/63 [00:06<00:23,  2.11it/s]"
          ]
        },
        {
          "output_type": "stream",
          "name": "stdout",
          "text": [
            "printing embeds.shape: torch.Size([256, 19, 256])\n",
            "printing rnn.out.shape: torch.Size([256, 19, 256])\n"
          ]
        },
        {
          "output_type": "stream",
          "name": "stderr",
          "text": [
            "\rEpoch: 18  Iteration: 9  Loss: 0.5876375168561936:  22%|██▏       | 14/63 [00:06<00:23,  2.07it/s]"
          ]
        },
        {
          "output_type": "stream",
          "name": "stdout",
          "text": [
            "printing embeds.shape: torch.Size([256, 19, 256])\n",
            "printing rnn.out.shape: torch.Size([256, 19, 256])\n"
          ]
        },
        {
          "output_type": "stream",
          "name": "stderr",
          "text": [
            "\rEpoch: 18  Iteration: 9  Loss: 0.5876375168561936:  24%|██▍       | 15/63 [00:07<00:24,  1.96it/s]"
          ]
        },
        {
          "output_type": "stream",
          "name": "stdout",
          "text": [
            "printing embeds.shape: torch.Size([256, 19, 256])\n",
            "printing rnn.out.shape: torch.Size([256, 19, 256])\n"
          ]
        },
        {
          "output_type": "stream",
          "name": "stderr",
          "text": [
            "\rEpoch: 18  Iteration: 9  Loss: 0.5876375168561936:  25%|██▌       | 16/63 [00:07<00:23,  1.97it/s]"
          ]
        },
        {
          "output_type": "stream",
          "name": "stdout",
          "text": [
            "printing embeds.shape: torch.Size([256, 19, 256])\n",
            "printing rnn.out.shape: torch.Size([256, 19, 256])\n"
          ]
        },
        {
          "output_type": "stream",
          "name": "stderr",
          "text": [
            "\rEpoch: 18  Iteration: 9  Loss: 0.5876375168561936:  27%|██▋       | 17/63 [00:08<00:24,  1.90it/s]"
          ]
        },
        {
          "output_type": "stream",
          "name": "stdout",
          "text": [
            "printing embeds.shape: torch.Size([256, 19, 256])\n",
            "printing rnn.out.shape: torch.Size([256, 19, 256])\n"
          ]
        },
        {
          "output_type": "stream",
          "name": "stderr",
          "text": [
            "\rEpoch: 18  Iteration: 9  Loss: 0.5876375168561936:  29%|██▊       | 18/63 [00:08<00:22,  2.02it/s]"
          ]
        },
        {
          "output_type": "stream",
          "name": "stdout",
          "text": [
            "printing embeds.shape: torch.Size([256, 19, 256])\n",
            "printing rnn.out.shape: torch.Size([256, 19, 256])\n"
          ]
        },
        {
          "output_type": "stream",
          "name": "stderr",
          "text": [
            "\rEpoch: 18  Iteration: 9  Loss: 0.5876375168561936:  30%|███       | 19/63 [00:09<00:20,  2.11it/s]"
          ]
        },
        {
          "output_type": "stream",
          "name": "stdout",
          "text": [
            "printing embeds.shape: torch.Size([256, 19, 256])\n",
            "printing rnn.out.shape: torch.Size([256, 19, 256])\n"
          ]
        },
        {
          "output_type": "stream",
          "name": "stderr",
          "text": [
            "Epoch: 18  Iteration: 19  Loss: 0.5838695645332337:  32%|███▏      | 20/63 [00:09<00:20,  2.08it/s]"
          ]
        },
        {
          "output_type": "stream",
          "name": "stdout",
          "text": [
            "printing embeds.shape: torch.Size([256, 19, 256])\n",
            "printing rnn.out.shape: torch.Size([256, 19, 256])\n"
          ]
        },
        {
          "output_type": "stream",
          "name": "stderr",
          "text": [
            "\rEpoch: 18  Iteration: 19  Loss: 0.5838695645332337:  33%|███▎      | 21/63 [00:10<00:21,  1.95it/s]"
          ]
        },
        {
          "output_type": "stream",
          "name": "stdout",
          "text": [
            "printing embeds.shape: torch.Size([256, 19, 256])\n",
            "printing rnn.out.shape: torch.Size([256, 19, 256])\n"
          ]
        },
        {
          "output_type": "stream",
          "name": "stderr",
          "text": [
            "\rEpoch: 18  Iteration: 19  Loss: 0.5838695645332337:  35%|███▍      | 22/63 [00:10<00:22,  1.85it/s]"
          ]
        },
        {
          "output_type": "stream",
          "name": "stdout",
          "text": [
            "printing embeds.shape: torch.Size([256, 19, 256])\n",
            "printing rnn.out.shape: torch.Size([256, 19, 256])\n"
          ]
        },
        {
          "output_type": "stream",
          "name": "stderr",
          "text": [
            "\rEpoch: 18  Iteration: 19  Loss: 0.5838695645332337:  37%|███▋      | 23/63 [00:11<00:21,  1.83it/s]"
          ]
        },
        {
          "output_type": "stream",
          "name": "stdout",
          "text": [
            "printing embeds.shape: torch.Size([256, 19, 256])\n",
            "printing rnn.out.shape: torch.Size([256, 19, 256])\n"
          ]
        },
        {
          "output_type": "stream",
          "name": "stderr",
          "text": [
            "\rEpoch: 18  Iteration: 19  Loss: 0.5838695645332337:  38%|███▊      | 24/63 [00:12<00:22,  1.71it/s]"
          ]
        },
        {
          "output_type": "stream",
          "name": "stdout",
          "text": [
            "printing embeds.shape: torch.Size([256, 19, 256])\n",
            "printing rnn.out.shape: torch.Size([256, 19, 256])\n"
          ]
        },
        {
          "output_type": "stream",
          "name": "stderr",
          "text": [
            "\rEpoch: 18  Iteration: 19  Loss: 0.5838695645332337:  40%|███▉      | 25/63 [00:12<00:22,  1.68it/s]"
          ]
        },
        {
          "output_type": "stream",
          "name": "stdout",
          "text": [
            "printing embeds.shape: torch.Size([256, 19, 256])\n",
            "printing rnn.out.shape: torch.Size([256, 19, 256])\n"
          ]
        },
        {
          "output_type": "stream",
          "name": "stderr",
          "text": [
            "\rEpoch: 18  Iteration: 19  Loss: 0.5838695645332337:  41%|████▏     | 26/63 [00:13<00:20,  1.83it/s]"
          ]
        },
        {
          "output_type": "stream",
          "name": "stdout",
          "text": [
            "printing embeds.shape: torch.Size([256, 19, 256])\n",
            "printing rnn.out.shape: torch.Size([256, 19, 256])\n"
          ]
        },
        {
          "output_type": "stream",
          "name": "stderr",
          "text": [
            "\rEpoch: 18  Iteration: 19  Loss: 0.5838695645332337:  43%|████▎     | 27/63 [00:13<00:19,  1.84it/s]"
          ]
        },
        {
          "output_type": "stream",
          "name": "stdout",
          "text": [
            "printing embeds.shape: torch.Size([256, 19, 256])\n",
            "printing rnn.out.shape: torch.Size([256, 19, 256])\n"
          ]
        },
        {
          "output_type": "stream",
          "name": "stderr",
          "text": [
            "\rEpoch: 18  Iteration: 19  Loss: 0.5838695645332337:  44%|████▍     | 28/63 [00:14<00:19,  1.83it/s]"
          ]
        },
        {
          "output_type": "stream",
          "name": "stdout",
          "text": [
            "printing embeds.shape: torch.Size([256, 19, 256])\n",
            "printing rnn.out.shape: torch.Size([256, 19, 256])\n"
          ]
        },
        {
          "output_type": "stream",
          "name": "stderr",
          "text": [
            "\rEpoch: 18  Iteration: 19  Loss: 0.5838695645332337:  46%|████▌     | 29/63 [00:14<00:17,  1.96it/s]"
          ]
        },
        {
          "output_type": "stream",
          "name": "stdout",
          "text": [
            "printing embeds.shape: torch.Size([256, 19, 256])\n",
            "printing rnn.out.shape: torch.Size([256, 19, 256])\n"
          ]
        },
        {
          "output_type": "stream",
          "name": "stderr",
          "text": [
            "Epoch: 18  Iteration: 29  Loss: 0.5545397758483886:  48%|████▊     | 30/63 [00:15<00:17,  1.94it/s]"
          ]
        },
        {
          "output_type": "stream",
          "name": "stdout",
          "text": [
            "printing embeds.shape: torch.Size([256, 19, 256])\n",
            "printing rnn.out.shape: torch.Size([256, 19, 256])\n"
          ]
        },
        {
          "output_type": "stream",
          "name": "stderr",
          "text": [
            "\rEpoch: 18  Iteration: 29  Loss: 0.5545397758483886:  49%|████▉     | 31/63 [00:15<00:15,  2.02it/s]"
          ]
        },
        {
          "output_type": "stream",
          "name": "stdout",
          "text": [
            "printing embeds.shape: torch.Size([256, 19, 256])\n",
            "printing rnn.out.shape: torch.Size([256, 19, 256])\n"
          ]
        },
        {
          "output_type": "stream",
          "name": "stderr",
          "text": [
            "\rEpoch: 18  Iteration: 29  Loss: 0.5545397758483886:  51%|█████     | 32/63 [00:16<00:14,  2.09it/s]"
          ]
        },
        {
          "output_type": "stream",
          "name": "stdout",
          "text": [
            "printing embeds.shape: torch.Size([256, 19, 256])\n",
            "printing rnn.out.shape: torch.Size([256, 19, 256])\n"
          ]
        },
        {
          "output_type": "stream",
          "name": "stderr",
          "text": [
            "\rEpoch: 18  Iteration: 29  Loss: 0.5545397758483886:  52%|█████▏    | 33/63 [00:16<00:13,  2.14it/s]"
          ]
        },
        {
          "output_type": "stream",
          "name": "stdout",
          "text": [
            "printing embeds.shape: torch.Size([256, 19, 256])\n",
            "printing rnn.out.shape: torch.Size([256, 19, 256])\n"
          ]
        },
        {
          "output_type": "stream",
          "name": "stderr",
          "text": [
            "\rEpoch: 18  Iteration: 29  Loss: 0.5545397758483886:  54%|█████▍    | 34/63 [00:16<00:13,  2.23it/s]"
          ]
        },
        {
          "output_type": "stream",
          "name": "stdout",
          "text": [
            "printing embeds.shape: torch.Size([256, 19, 256])\n",
            "printing rnn.out.shape: torch.Size([256, 19, 256])\n"
          ]
        },
        {
          "output_type": "stream",
          "name": "stderr",
          "text": [
            "\rEpoch: 18  Iteration: 29  Loss: 0.5545397758483886:  56%|█████▌    | 35/63 [00:17<00:12,  2.26it/s]"
          ]
        },
        {
          "output_type": "stream",
          "name": "stdout",
          "text": [
            "printing embeds.shape: torch.Size([256, 19, 256])\n",
            "printing rnn.out.shape: torch.Size([256, 19, 256])\n"
          ]
        },
        {
          "output_type": "stream",
          "name": "stderr",
          "text": [
            "\rEpoch: 18  Iteration: 29  Loss: 0.5545397758483886:  57%|█████▋    | 36/63 [00:17<00:11,  2.27it/s]"
          ]
        },
        {
          "output_type": "stream",
          "name": "stdout",
          "text": [
            "printing embeds.shape: torch.Size([256, 19, 256])\n",
            "printing rnn.out.shape: torch.Size([256, 19, 256])\n"
          ]
        },
        {
          "output_type": "stream",
          "name": "stderr",
          "text": [
            "\rEpoch: 18  Iteration: 29  Loss: 0.5545397758483886:  59%|█████▊    | 37/63 [00:18<00:11,  2.28it/s]"
          ]
        },
        {
          "output_type": "stream",
          "name": "stdout",
          "text": [
            "printing embeds.shape: torch.Size([256, 19, 256])\n",
            "printing rnn.out.shape: torch.Size([256, 19, 256])\n"
          ]
        },
        {
          "output_type": "stream",
          "name": "stderr",
          "text": [
            "\rEpoch: 18  Iteration: 29  Loss: 0.5545397758483886:  60%|██████    | 38/63 [00:18<00:11,  2.20it/s]"
          ]
        },
        {
          "output_type": "stream",
          "name": "stdout",
          "text": [
            "printing embeds.shape: torch.Size([256, 19, 256])\n",
            "printing rnn.out.shape: torch.Size([256, 19, 256])\n"
          ]
        },
        {
          "output_type": "stream",
          "name": "stderr",
          "text": [
            "\rEpoch: 18  Iteration: 29  Loss: 0.5545397758483886:  62%|██████▏   | 39/63 [00:19<00:11,  2.05it/s]"
          ]
        },
        {
          "output_type": "stream",
          "name": "stdout",
          "text": [
            "printing embeds.shape: torch.Size([256, 19, 256])\n",
            "printing rnn.out.shape: torch.Size([256, 19, 256])\n"
          ]
        },
        {
          "output_type": "stream",
          "name": "stderr",
          "text": [
            "Epoch: 18  Iteration: 39  Loss: 0.5584198206663131:  63%|██████▎   | 40/63 [00:19<00:10,  2.13it/s]"
          ]
        },
        {
          "output_type": "stream",
          "name": "stdout",
          "text": [
            "printing embeds.shape: torch.Size([256, 19, 256])\n",
            "printing rnn.out.shape: torch.Size([256, 19, 256])\n"
          ]
        },
        {
          "output_type": "stream",
          "name": "stderr",
          "text": [
            "\rEpoch: 18  Iteration: 39  Loss: 0.5584198206663131:  65%|██████▌   | 41/63 [00:20<00:10,  2.12it/s]"
          ]
        },
        {
          "output_type": "stream",
          "name": "stdout",
          "text": [
            "printing embeds.shape: torch.Size([256, 19, 256])\n",
            "printing rnn.out.shape: torch.Size([256, 19, 256])\n"
          ]
        },
        {
          "output_type": "stream",
          "name": "stderr",
          "text": [
            "\rEpoch: 18  Iteration: 39  Loss: 0.5584198206663131:  67%|██████▋   | 42/63 [00:20<00:09,  2.10it/s]"
          ]
        },
        {
          "output_type": "stream",
          "name": "stdout",
          "text": [
            "printing embeds.shape: torch.Size([256, 19, 256])\n",
            "printing rnn.out.shape: torch.Size([256, 19, 256])\n"
          ]
        },
        {
          "output_type": "stream",
          "name": "stderr",
          "text": [
            "\rEpoch: 18  Iteration: 39  Loss: 0.5584198206663131:  68%|██████▊   | 43/63 [00:21<00:09,  2.16it/s]"
          ]
        },
        {
          "output_type": "stream",
          "name": "stdout",
          "text": [
            "printing embeds.shape: torch.Size([256, 19, 256])\n",
            "printing rnn.out.shape: torch.Size([256, 19, 256])\n"
          ]
        },
        {
          "output_type": "stream",
          "name": "stderr",
          "text": [
            "\rEpoch: 18  Iteration: 39  Loss: 0.5584198206663131:  70%|██████▉   | 44/63 [00:21<00:08,  2.23it/s]"
          ]
        },
        {
          "output_type": "stream",
          "name": "stdout",
          "text": [
            "printing embeds.shape: torch.Size([256, 19, 256])\n",
            "printing rnn.out.shape: torch.Size([256, 19, 256])\n"
          ]
        },
        {
          "output_type": "stream",
          "name": "stderr",
          "text": [
            "\rEpoch: 18  Iteration: 39  Loss: 0.5584198206663131:  71%|███████▏  | 45/63 [00:21<00:08,  2.22it/s]"
          ]
        },
        {
          "output_type": "stream",
          "name": "stdout",
          "text": [
            "printing embeds.shape: torch.Size([256, 19, 256])\n",
            "printing rnn.out.shape: torch.Size([256, 19, 256])\n"
          ]
        },
        {
          "output_type": "stream",
          "name": "stderr",
          "text": [
            "\rEpoch: 18  Iteration: 39  Loss: 0.5584198206663131:  73%|███████▎  | 46/63 [00:22<00:08,  2.06it/s]"
          ]
        },
        {
          "output_type": "stream",
          "name": "stdout",
          "text": [
            "printing embeds.shape: torch.Size([256, 19, 256])\n",
            "printing rnn.out.shape: torch.Size([256, 19, 256])\n"
          ]
        },
        {
          "output_type": "stream",
          "name": "stderr",
          "text": [
            "\rEpoch: 18  Iteration: 39  Loss: 0.5584198206663131:  75%|███████▍  | 47/63 [00:23<00:08,  1.94it/s]"
          ]
        },
        {
          "output_type": "stream",
          "name": "stdout",
          "text": [
            "printing embeds.shape: torch.Size([256, 19, 256])\n",
            "printing rnn.out.shape: torch.Size([256, 19, 256])\n"
          ]
        },
        {
          "output_type": "stream",
          "name": "stderr",
          "text": [
            "\rEpoch: 18  Iteration: 39  Loss: 0.5584198206663131:  76%|███████▌  | 48/63 [00:23<00:08,  1.81it/s]"
          ]
        },
        {
          "output_type": "stream",
          "name": "stdout",
          "text": [
            "printing embeds.shape: torch.Size([256, 19, 256])\n",
            "printing rnn.out.shape: torch.Size([256, 19, 256])\n"
          ]
        },
        {
          "output_type": "stream",
          "name": "stderr",
          "text": [
            "\rEpoch: 18  Iteration: 39  Loss: 0.5584198206663131:  78%|███████▊  | 49/63 [00:24<00:07,  1.76it/s]"
          ]
        },
        {
          "output_type": "stream",
          "name": "stdout",
          "text": [
            "printing embeds.shape: torch.Size([256, 19, 256])\n",
            "printing rnn.out.shape: torch.Size([256, 19, 256])\n"
          ]
        },
        {
          "output_type": "stream",
          "name": "stderr",
          "text": [
            "Epoch: 18  Iteration: 49  Loss: 0.5835403233766556:  79%|███████▉  | 50/63 [00:25<00:07,  1.66it/s]"
          ]
        },
        {
          "output_type": "stream",
          "name": "stdout",
          "text": [
            "printing embeds.shape: torch.Size([256, 19, 256])\n",
            "printing rnn.out.shape: torch.Size([256, 19, 256])\n"
          ]
        },
        {
          "output_type": "stream",
          "name": "stderr",
          "text": [
            "\rEpoch: 18  Iteration: 49  Loss: 0.5835403233766556:  81%|████████  | 51/63 [00:25<00:06,  1.78it/s]"
          ]
        },
        {
          "output_type": "stream",
          "name": "stdout",
          "text": [
            "printing embeds.shape: torch.Size([256, 19, 256])\n",
            "printing rnn.out.shape: torch.Size([256, 19, 256])\n"
          ]
        },
        {
          "output_type": "stream",
          "name": "stderr",
          "text": [
            "\rEpoch: 18  Iteration: 49  Loss: 0.5835403233766556:  83%|████████▎ | 52/63 [00:25<00:05,  1.92it/s]"
          ]
        },
        {
          "output_type": "stream",
          "name": "stdout",
          "text": [
            "printing embeds.shape: torch.Size([256, 19, 256])\n",
            "printing rnn.out.shape: torch.Size([256, 19, 256])\n"
          ]
        },
        {
          "output_type": "stream",
          "name": "stderr",
          "text": [
            "\rEpoch: 18  Iteration: 49  Loss: 0.5835403233766556:  84%|████████▍ | 53/63 [00:26<00:04,  2.03it/s]"
          ]
        },
        {
          "output_type": "stream",
          "name": "stdout",
          "text": [
            "printing embeds.shape: torch.Size([256, 19, 256])\n",
            "printing rnn.out.shape: torch.Size([256, 19, 256])\n"
          ]
        },
        {
          "output_type": "stream",
          "name": "stderr",
          "text": [
            "\rEpoch: 18  Iteration: 49  Loss: 0.5835403233766556:  86%|████████▌ | 54/63 [00:26<00:04,  2.10it/s]"
          ]
        },
        {
          "output_type": "stream",
          "name": "stdout",
          "text": [
            "printing embeds.shape: torch.Size([256, 19, 256])\n",
            "printing rnn.out.shape: torch.Size([256, 19, 256])\n"
          ]
        },
        {
          "output_type": "stream",
          "name": "stderr",
          "text": [
            "\rEpoch: 18  Iteration: 49  Loss: 0.5835403233766556:  87%|████████▋ | 55/63 [00:27<00:04,  1.99it/s]"
          ]
        },
        {
          "output_type": "stream",
          "name": "stdout",
          "text": [
            "printing embeds.shape: torch.Size([256, 19, 256])\n",
            "printing rnn.out.shape: torch.Size([256, 19, 256])\n"
          ]
        },
        {
          "output_type": "stream",
          "name": "stderr",
          "text": [
            "\rEpoch: 18  Iteration: 49  Loss: 0.5835403233766556:  89%|████████▉ | 56/63 [00:27<00:03,  2.00it/s]"
          ]
        },
        {
          "output_type": "stream",
          "name": "stdout",
          "text": [
            "printing embeds.shape: torch.Size([256, 19, 256])\n",
            "printing rnn.out.shape: torch.Size([256, 19, 256])\n"
          ]
        },
        {
          "output_type": "stream",
          "name": "stderr",
          "text": [
            "\rEpoch: 18  Iteration: 49  Loss: 0.5835403233766556:  90%|█████████ | 57/63 [00:28<00:03,  1.99it/s]"
          ]
        },
        {
          "output_type": "stream",
          "name": "stdout",
          "text": [
            "printing embeds.shape: torch.Size([256, 19, 256])\n",
            "printing rnn.out.shape: torch.Size([256, 19, 256])\n"
          ]
        },
        {
          "output_type": "stream",
          "name": "stderr",
          "text": [
            "\rEpoch: 18  Iteration: 49  Loss: 0.5835403233766556:  92%|█████████▏| 58/63 [00:28<00:02,  2.07it/s]"
          ]
        },
        {
          "output_type": "stream",
          "name": "stdout",
          "text": [
            "printing embeds.shape: torch.Size([256, 19, 256])\n",
            "printing rnn.out.shape: torch.Size([256, 19, 256])\n"
          ]
        },
        {
          "output_type": "stream",
          "name": "stderr",
          "text": [
            "\rEpoch: 18  Iteration: 49  Loss: 0.5835403233766556:  94%|█████████▎| 59/63 [00:29<00:01,  2.13it/s]"
          ]
        },
        {
          "output_type": "stream",
          "name": "stdout",
          "text": [
            "printing embeds.shape: torch.Size([256, 19, 256])\n",
            "printing rnn.out.shape: torch.Size([256, 19, 256])\n"
          ]
        },
        {
          "output_type": "stream",
          "name": "stderr",
          "text": [
            "Epoch: 18  Iteration: 59  Loss: 0.5695888727903367:  95%|█████████▌| 60/63 [00:29<00:01,  2.20it/s]"
          ]
        },
        {
          "output_type": "stream",
          "name": "stdout",
          "text": [
            "printing embeds.shape: torch.Size([256, 19, 256])\n",
            "printing rnn.out.shape: torch.Size([256, 19, 256])\n"
          ]
        },
        {
          "output_type": "stream",
          "name": "stderr",
          "text": [
            "\rEpoch: 18  Iteration: 59  Loss: 0.5695888727903367:  97%|█████████▋| 61/63 [00:30<00:00,  2.09it/s]"
          ]
        },
        {
          "output_type": "stream",
          "name": "stdout",
          "text": [
            "printing embeds.shape: torch.Size([256, 19, 256])\n",
            "printing rnn.out.shape: torch.Size([256, 19, 256])\n"
          ]
        },
        {
          "output_type": "stream",
          "name": "stderr",
          "text": [
            "\rEpoch: 18  Iteration: 59  Loss: 0.5695888727903367:  98%|█████████▊| 62/63 [00:30<00:00,  1.99it/s]"
          ]
        },
        {
          "output_type": "stream",
          "name": "stdout",
          "text": [
            "printing embeds.shape: torch.Size([187, 19, 256])\n",
            "printing rnn.out.shape: torch.Size([187, 19, 256])\n"
          ]
        },
        {
          "output_type": "stream",
          "name": "stderr",
          "text": [
            "Epoch: 18  Iteration: 59  Loss: 0.5695888727903367: 100%|██████████| 63/63 [00:31<00:00,  2.03it/s]\n"
          ]
        },
        {
          "output_type": "stream",
          "name": "stdout",
          "text": [
            "Epoch: 18  Train Accuracy: 82.60788342985242\n",
            "printing embeds.shape: torch.Size([256, 19, 256])\n",
            "printing rnn.out.shape: torch.Size([256, 19, 256])\n",
            "printing embeds.shape: torch.Size([256, 19, 256])\n",
            "printing rnn.out.shape: torch.Size([256, 19, 256])\n",
            "printing embeds.shape: torch.Size([256, 19, 256])\n",
            "printing rnn.out.shape: torch.Size([256, 19, 256])\n",
            "printing embeds.shape: torch.Size([256, 19, 256])\n",
            "printing rnn.out.shape: torch.Size([256, 19, 256])\n",
            "printing embeds.shape: torch.Size([256, 19, 256])\n",
            "printing rnn.out.shape: torch.Size([256, 19, 256])\n",
            "printing embeds.shape: torch.Size([256, 19, 256])\n",
            "printing rnn.out.shape: torch.Size([256, 19, 256])\n",
            "printing embeds.shape: torch.Size([256, 19, 256])\n",
            "printing rnn.out.shape: torch.Size([256, 19, 256])\n",
            "printing embeds.shape: torch.Size([256, 19, 256])\n",
            "printing rnn.out.shape: torch.Size([256, 19, 256])\n",
            "printing embeds.shape: torch.Size([256, 19, 256])\n",
            "printing rnn.out.shape: torch.Size([256, 19, 256])\n",
            "printing embeds.shape: torch.Size([256, 19, 256])\n",
            "printing rnn.out.shape: torch.Size([256, 19, 256])\n",
            "printing embeds.shape: torch.Size([256, 19, 256])\n",
            "printing rnn.out.shape: torch.Size([256, 19, 256])\n",
            "printing embeds.shape: torch.Size([256, 19, 256])\n",
            "printing rnn.out.shape: torch.Size([256, 19, 256])\n",
            "printing embeds.shape: torch.Size([256, 19, 256])\n",
            "printing rnn.out.shape: torch.Size([256, 19, 256])\n",
            "printing embeds.shape: torch.Size([256, 19, 256])\n",
            "printing rnn.out.shape: torch.Size([256, 19, 256])\n",
            "printing embeds.shape: torch.Size([256, 19, 256])\n",
            "printing rnn.out.shape: torch.Size([256, 19, 256])\n",
            "printing embeds.shape: torch.Size([175, 19, 256])\n",
            "printing rnn.out.shape: torch.Size([175, 19, 256])\n",
            "Epoch: 18  Eval Accuracy: 81.59402241594023\n"
          ]
        },
        {
          "output_type": "stream",
          "name": "stderr",
          "text": [
            "\r  0%|          | 0/63 [00:00<?, ?it/s]"
          ]
        },
        {
          "output_type": "stream",
          "name": "stdout",
          "text": [
            "printing embeds.shape: torch.Size([256, 19, 256])\n",
            "printing rnn.out.shape: torch.Size([256, 19, 256])\n"
          ]
        },
        {
          "output_type": "stream",
          "name": "stderr",
          "text": [
            "\r  2%|▏         | 1/63 [00:00<00:30,  2.05it/s]"
          ]
        },
        {
          "output_type": "stream",
          "name": "stdout",
          "text": [
            "printing embeds.shape: torch.Size([256, 19, 256])\n",
            "printing rnn.out.shape: torch.Size([256, 19, 256])\n"
          ]
        },
        {
          "output_type": "stream",
          "name": "stderr",
          "text": [
            "\r  3%|▎         | 2/63 [00:01<00:32,  1.89it/s]"
          ]
        },
        {
          "output_type": "stream",
          "name": "stdout",
          "text": [
            "printing embeds.shape: torch.Size([256, 19, 256])\n",
            "printing rnn.out.shape: torch.Size([256, 19, 256])\n"
          ]
        },
        {
          "output_type": "stream",
          "name": "stderr",
          "text": [
            "\r  5%|▍         | 3/63 [00:01<00:28,  2.11it/s]"
          ]
        },
        {
          "output_type": "stream",
          "name": "stdout",
          "text": [
            "printing embeds.shape: torch.Size([256, 19, 256])\n",
            "printing rnn.out.shape: torch.Size([256, 19, 256])\n"
          ]
        },
        {
          "output_type": "stream",
          "name": "stderr",
          "text": [
            "\r  6%|▋         | 4/63 [00:01<00:26,  2.20it/s]"
          ]
        },
        {
          "output_type": "stream",
          "name": "stdout",
          "text": [
            "printing embeds.shape: torch.Size([256, 19, 256])\n",
            "printing rnn.out.shape: torch.Size([256, 19, 256])\n"
          ]
        },
        {
          "output_type": "stream",
          "name": "stderr",
          "text": [
            "\r  8%|▊         | 5/63 [00:02<00:26,  2.16it/s]"
          ]
        },
        {
          "output_type": "stream",
          "name": "stdout",
          "text": [
            "printing embeds.shape: torch.Size([256, 19, 256])\n",
            "printing rnn.out.shape: torch.Size([256, 19, 256])\n"
          ]
        },
        {
          "output_type": "stream",
          "name": "stderr",
          "text": [
            "\r 10%|▉         | 6/63 [00:02<00:25,  2.21it/s]"
          ]
        },
        {
          "output_type": "stream",
          "name": "stdout",
          "text": [
            "printing embeds.shape: torch.Size([256, 19, 256])\n",
            "printing rnn.out.shape: torch.Size([256, 19, 256])\n"
          ]
        },
        {
          "output_type": "stream",
          "name": "stderr",
          "text": [
            "\r 11%|█         | 7/63 [00:03<00:29,  1.92it/s]"
          ]
        },
        {
          "output_type": "stream",
          "name": "stdout",
          "text": [
            "printing embeds.shape: torch.Size([256, 19, 256])\n",
            "printing rnn.out.shape: torch.Size([256, 19, 256])\n"
          ]
        },
        {
          "output_type": "stream",
          "name": "stderr",
          "text": [
            "\r 13%|█▎        | 8/63 [00:04<00:29,  1.88it/s]"
          ]
        },
        {
          "output_type": "stream",
          "name": "stdout",
          "text": [
            "printing embeds.shape: torch.Size([256, 19, 256])\n",
            "printing rnn.out.shape: torch.Size([256, 19, 256])\n"
          ]
        },
        {
          "output_type": "stream",
          "name": "stderr",
          "text": [
            "\r 14%|█▍        | 9/63 [00:04<00:28,  1.86it/s]"
          ]
        },
        {
          "output_type": "stream",
          "name": "stdout",
          "text": [
            "printing embeds.shape: torch.Size([256, 19, 256])\n",
            "printing rnn.out.shape: torch.Size([256, 19, 256])\n"
          ]
        },
        {
          "output_type": "stream",
          "name": "stderr",
          "text": [
            "Epoch: 19  Iteration: 9  Loss: 0.5544396221637726:  16%|█▌        | 10/63 [00:05<00:29,  1.78it/s]"
          ]
        },
        {
          "output_type": "stream",
          "name": "stdout",
          "text": [
            "printing embeds.shape: torch.Size([256, 19, 256])\n",
            "printing rnn.out.shape: torch.Size([256, 19, 256])\n"
          ]
        },
        {
          "output_type": "stream",
          "name": "stderr",
          "text": [
            "\rEpoch: 19  Iteration: 9  Loss: 0.5544396221637726:  17%|█▋        | 11/63 [00:05<00:29,  1.77it/s]"
          ]
        },
        {
          "output_type": "stream",
          "name": "stdout",
          "text": [
            "printing embeds.shape: torch.Size([256, 19, 256])\n",
            "printing rnn.out.shape: torch.Size([256, 19, 256])\n"
          ]
        },
        {
          "output_type": "stream",
          "name": "stderr",
          "text": [
            "\rEpoch: 19  Iteration: 9  Loss: 0.5544396221637726:  19%|█▉        | 12/63 [00:06<00:29,  1.71it/s]"
          ]
        },
        {
          "output_type": "stream",
          "name": "stdout",
          "text": [
            "printing embeds.shape: torch.Size([256, 19, 256])\n",
            "printing rnn.out.shape: torch.Size([256, 19, 256])\n"
          ]
        },
        {
          "output_type": "stream",
          "name": "stderr",
          "text": [
            "\rEpoch: 19  Iteration: 9  Loss: 0.5544396221637726:  21%|██        | 13/63 [00:06<00:27,  1.82it/s]"
          ]
        },
        {
          "output_type": "stream",
          "name": "stdout",
          "text": [
            "printing embeds.shape: torch.Size([256, 19, 256])\n",
            "printing rnn.out.shape: torch.Size([256, 19, 256])\n"
          ]
        },
        {
          "output_type": "stream",
          "name": "stderr",
          "text": [
            "\rEpoch: 19  Iteration: 9  Loss: 0.5544396221637726:  22%|██▏       | 14/63 [00:07<00:26,  1.83it/s]"
          ]
        },
        {
          "output_type": "stream",
          "name": "stdout",
          "text": [
            "printing embeds.shape: torch.Size([256, 19, 256])\n",
            "printing rnn.out.shape: torch.Size([256, 19, 256])\n"
          ]
        },
        {
          "output_type": "stream",
          "name": "stderr",
          "text": [
            "\rEpoch: 19  Iteration: 9  Loss: 0.5544396221637726:  24%|██▍       | 15/63 [00:07<00:24,  1.94it/s]"
          ]
        },
        {
          "output_type": "stream",
          "name": "stdout",
          "text": [
            "printing embeds.shape: torch.Size([256, 19, 256])\n",
            "printing rnn.out.shape: torch.Size([256, 19, 256])\n"
          ]
        },
        {
          "output_type": "stream",
          "name": "stderr",
          "text": [
            "\rEpoch: 19  Iteration: 9  Loss: 0.5544396221637726:  25%|██▌       | 16/63 [00:08<00:24,  1.90it/s]"
          ]
        },
        {
          "output_type": "stream",
          "name": "stdout",
          "text": [
            "printing embeds.shape: torch.Size([256, 19, 256])\n",
            "printing rnn.out.shape: torch.Size([256, 19, 256])\n"
          ]
        },
        {
          "output_type": "stream",
          "name": "stderr",
          "text": [
            "\rEpoch: 19  Iteration: 9  Loss: 0.5544396221637726:  27%|██▋       | 17/63 [00:08<00:23,  1.97it/s]"
          ]
        },
        {
          "output_type": "stream",
          "name": "stdout",
          "text": [
            "printing embeds.shape: torch.Size([256, 19, 256])\n",
            "printing rnn.out.shape: torch.Size([256, 19, 256])\n"
          ]
        },
        {
          "output_type": "stream",
          "name": "stderr",
          "text": [
            "\rEpoch: 19  Iteration: 9  Loss: 0.5544396221637726:  29%|██▊       | 18/63 [00:09<00:23,  1.90it/s]"
          ]
        },
        {
          "output_type": "stream",
          "name": "stdout",
          "text": [
            "printing embeds.shape: torch.Size([256, 19, 256])\n",
            "printing rnn.out.shape: torch.Size([256, 19, 256])\n"
          ]
        },
        {
          "output_type": "stream",
          "name": "stderr",
          "text": [
            "\rEpoch: 19  Iteration: 9  Loss: 0.5544396221637726:  30%|███       | 19/63 [00:09<00:21,  2.00it/s]"
          ]
        },
        {
          "output_type": "stream",
          "name": "stdout",
          "text": [
            "printing embeds.shape: torch.Size([256, 19, 256])\n",
            "printing rnn.out.shape: torch.Size([256, 19, 256])\n"
          ]
        },
        {
          "output_type": "stream",
          "name": "stderr",
          "text": [
            "Epoch: 19  Iteration: 19  Loss: 0.5632337212562561:  32%|███▏      | 20/63 [00:10<00:22,  1.93it/s]"
          ]
        },
        {
          "output_type": "stream",
          "name": "stdout",
          "text": [
            "printing embeds.shape: torch.Size([256, 19, 256])\n",
            "printing rnn.out.shape: torch.Size([256, 19, 256])\n"
          ]
        },
        {
          "output_type": "stream",
          "name": "stderr",
          "text": [
            "\rEpoch: 19  Iteration: 19  Loss: 0.5632337212562561:  33%|███▎      | 21/63 [00:10<00:22,  1.87it/s]"
          ]
        },
        {
          "output_type": "stream",
          "name": "stdout",
          "text": [
            "printing embeds.shape: torch.Size([256, 19, 256])\n",
            "printing rnn.out.shape: torch.Size([256, 19, 256])\n"
          ]
        },
        {
          "output_type": "stream",
          "name": "stderr",
          "text": [
            "\rEpoch: 19  Iteration: 19  Loss: 0.5632337212562561:  35%|███▍      | 22/63 [00:11<00:20,  1.99it/s]"
          ]
        },
        {
          "output_type": "stream",
          "name": "stdout",
          "text": [
            "printing embeds.shape: torch.Size([256, 19, 256])\n",
            "printing rnn.out.shape: torch.Size([256, 19, 256])\n"
          ]
        },
        {
          "output_type": "stream",
          "name": "stderr",
          "text": [
            "\rEpoch: 19  Iteration: 19  Loss: 0.5632337212562561:  37%|███▋      | 23/63 [00:11<00:20,  1.92it/s]"
          ]
        },
        {
          "output_type": "stream",
          "name": "stdout",
          "text": [
            "printing embeds.shape: torch.Size([256, 19, 256])\n",
            "printing rnn.out.shape: torch.Size([256, 19, 256])\n"
          ]
        },
        {
          "output_type": "stream",
          "name": "stderr",
          "text": [
            "\rEpoch: 19  Iteration: 19  Loss: 0.5632337212562561:  38%|███▊      | 24/63 [00:12<00:19,  2.03it/s]"
          ]
        },
        {
          "output_type": "stream",
          "name": "stdout",
          "text": [
            "printing embeds.shape: torch.Size([256, 19, 256])\n",
            "printing rnn.out.shape: torch.Size([256, 19, 256])\n"
          ]
        },
        {
          "output_type": "stream",
          "name": "stderr",
          "text": [
            "\rEpoch: 19  Iteration: 19  Loss: 0.5632337212562561:  40%|███▉      | 25/63 [00:12<00:18,  2.06it/s]"
          ]
        },
        {
          "output_type": "stream",
          "name": "stdout",
          "text": [
            "printing embeds.shape: torch.Size([256, 19, 256])\n",
            "printing rnn.out.shape: torch.Size([256, 19, 256])\n"
          ]
        },
        {
          "output_type": "stream",
          "name": "stderr",
          "text": [
            "\rEpoch: 19  Iteration: 19  Loss: 0.5632337212562561:  41%|████▏     | 26/63 [00:13<00:17,  2.13it/s]"
          ]
        },
        {
          "output_type": "stream",
          "name": "stdout",
          "text": [
            "printing embeds.shape: torch.Size([256, 19, 256])\n",
            "printing rnn.out.shape: torch.Size([256, 19, 256])\n"
          ]
        },
        {
          "output_type": "stream",
          "name": "stderr",
          "text": [
            "\rEpoch: 19  Iteration: 19  Loss: 0.5632337212562561:  43%|████▎     | 27/63 [00:13<00:16,  2.17it/s]"
          ]
        },
        {
          "output_type": "stream",
          "name": "stdout",
          "text": [
            "printing embeds.shape: torch.Size([256, 19, 256])\n",
            "printing rnn.out.shape: torch.Size([256, 19, 256])\n"
          ]
        },
        {
          "output_type": "stream",
          "name": "stderr",
          "text": [
            "\rEpoch: 19  Iteration: 19  Loss: 0.5632337212562561:  44%|████▍     | 28/63 [00:14<00:16,  2.11it/s]"
          ]
        },
        {
          "output_type": "stream",
          "name": "stdout",
          "text": [
            "printing embeds.shape: torch.Size([256, 19, 256])\n",
            "printing rnn.out.shape: torch.Size([256, 19, 256])\n"
          ]
        },
        {
          "output_type": "stream",
          "name": "stderr",
          "text": [
            "\rEpoch: 19  Iteration: 19  Loss: 0.5632337212562561:  46%|████▌     | 29/63 [00:14<00:15,  2.13it/s]"
          ]
        },
        {
          "output_type": "stream",
          "name": "stdout",
          "text": [
            "printing embeds.shape: torch.Size([256, 19, 256])\n",
            "printing rnn.out.shape: torch.Size([256, 19, 256])\n"
          ]
        },
        {
          "output_type": "stream",
          "name": "stderr",
          "text": [
            "Epoch: 19  Iteration: 29  Loss: 0.5572329521179199:  48%|████▊     | 30/63 [00:15<00:16,  2.03it/s]"
          ]
        },
        {
          "output_type": "stream",
          "name": "stdout",
          "text": [
            "printing embeds.shape: torch.Size([256, 19, 256])\n",
            "printing rnn.out.shape: torch.Size([256, 19, 256])\n"
          ]
        },
        {
          "output_type": "stream",
          "name": "stderr",
          "text": [
            "\rEpoch: 19  Iteration: 29  Loss: 0.5572329521179199:  49%|████▉     | 31/63 [00:15<00:15,  2.11it/s]"
          ]
        },
        {
          "output_type": "stream",
          "name": "stdout",
          "text": [
            "printing embeds.shape: torch.Size([256, 19, 256])\n",
            "printing rnn.out.shape: torch.Size([256, 19, 256])\n"
          ]
        },
        {
          "output_type": "stream",
          "name": "stderr",
          "text": [
            "\rEpoch: 19  Iteration: 29  Loss: 0.5572329521179199:  51%|█████     | 32/63 [00:16<00:14,  2.14it/s]"
          ]
        },
        {
          "output_type": "stream",
          "name": "stdout",
          "text": [
            "printing embeds.shape: torch.Size([256, 19, 256])\n",
            "printing rnn.out.shape: torch.Size([256, 19, 256])\n"
          ]
        },
        {
          "output_type": "stream",
          "name": "stderr",
          "text": [
            "\rEpoch: 19  Iteration: 29  Loss: 0.5572329521179199:  52%|█████▏    | 33/63 [00:16<00:16,  1.78it/s]"
          ]
        },
        {
          "output_type": "stream",
          "name": "stdout",
          "text": [
            "printing embeds.shape: torch.Size([256, 19, 256])\n",
            "printing rnn.out.shape: torch.Size([256, 19, 256])\n"
          ]
        },
        {
          "output_type": "stream",
          "name": "stderr",
          "text": [
            "\rEpoch: 19  Iteration: 29  Loss: 0.5572329521179199:  54%|█████▍    | 34/63 [00:17<00:16,  1.76it/s]"
          ]
        },
        {
          "output_type": "stream",
          "name": "stdout",
          "text": [
            "printing embeds.shape: torch.Size([256, 19, 256])\n",
            "printing rnn.out.shape: torch.Size([256, 19, 256])\n"
          ]
        },
        {
          "output_type": "stream",
          "name": "stderr",
          "text": [
            "\rEpoch: 19  Iteration: 29  Loss: 0.5572329521179199:  56%|█████▌    | 35/63 [00:18<00:16,  1.69it/s]"
          ]
        },
        {
          "output_type": "stream",
          "name": "stdout",
          "text": [
            "printing embeds.shape: torch.Size([256, 19, 256])\n",
            "printing rnn.out.shape: torch.Size([256, 19, 256])\n"
          ]
        },
        {
          "output_type": "stream",
          "name": "stderr",
          "text": [
            "\rEpoch: 19  Iteration: 29  Loss: 0.5572329521179199:  57%|█████▋    | 36/63 [00:18<00:16,  1.67it/s]"
          ]
        },
        {
          "output_type": "stream",
          "name": "stdout",
          "text": [
            "printing embeds.shape: torch.Size([256, 19, 256])\n",
            "printing rnn.out.shape: torch.Size([256, 19, 256])\n"
          ]
        },
        {
          "output_type": "stream",
          "name": "stderr",
          "text": [
            "\rEpoch: 19  Iteration: 29  Loss: 0.5572329521179199:  59%|█████▊    | 37/63 [00:19<00:15,  1.70it/s]"
          ]
        },
        {
          "output_type": "stream",
          "name": "stdout",
          "text": [
            "printing embeds.shape: torch.Size([256, 19, 256])\n",
            "printing rnn.out.shape: torch.Size([256, 19, 256])\n"
          ]
        },
        {
          "output_type": "stream",
          "name": "stderr",
          "text": [
            "\rEpoch: 19  Iteration: 29  Loss: 0.5572329521179199:  60%|██████    | 38/63 [00:19<00:13,  1.85it/s]"
          ]
        },
        {
          "output_type": "stream",
          "name": "stdout",
          "text": [
            "printing embeds.shape: torch.Size([256, 19, 256])\n",
            "printing rnn.out.shape: torch.Size([256, 19, 256])\n"
          ]
        },
        {
          "output_type": "stream",
          "name": "stderr",
          "text": [
            "\rEpoch: 19  Iteration: 29  Loss: 0.5572329521179199:  62%|██████▏   | 39/63 [00:20<00:12,  1.85it/s]"
          ]
        },
        {
          "output_type": "stream",
          "name": "stdout",
          "text": [
            "printing embeds.shape: torch.Size([256, 19, 256])\n",
            "printing rnn.out.shape: torch.Size([256, 19, 256])\n"
          ]
        },
        {
          "output_type": "stream",
          "name": "stderr",
          "text": [
            "Epoch: 19  Iteration: 39  Loss: 0.5993485271930694:  63%|██████▎   | 40/63 [00:20<00:11,  1.97it/s]"
          ]
        },
        {
          "output_type": "stream",
          "name": "stdout",
          "text": [
            "printing embeds.shape: torch.Size([256, 19, 256])\n",
            "printing rnn.out.shape: torch.Size([256, 19, 256])\n"
          ]
        },
        {
          "output_type": "stream",
          "name": "stderr",
          "text": [
            "\rEpoch: 19  Iteration: 39  Loss: 0.5993485271930694:  65%|██████▌   | 41/63 [00:21<00:11,  1.89it/s]"
          ]
        },
        {
          "output_type": "stream",
          "name": "stdout",
          "text": [
            "printing embeds.shape: torch.Size([256, 19, 256])\n",
            "printing rnn.out.shape: torch.Size([256, 19, 256])\n"
          ]
        },
        {
          "output_type": "stream",
          "name": "stderr",
          "text": [
            "\rEpoch: 19  Iteration: 39  Loss: 0.5993485271930694:  67%|██████▋   | 42/63 [00:21<00:10,  2.02it/s]"
          ]
        },
        {
          "output_type": "stream",
          "name": "stdout",
          "text": [
            "printing embeds.shape: torch.Size([256, 19, 256])\n",
            "printing rnn.out.shape: torch.Size([256, 19, 256])\n"
          ]
        },
        {
          "output_type": "stream",
          "name": "stderr",
          "text": [
            "\rEpoch: 19  Iteration: 39  Loss: 0.5993485271930694:  68%|██████▊   | 43/63 [00:22<00:10,  1.98it/s]"
          ]
        },
        {
          "output_type": "stream",
          "name": "stdout",
          "text": [
            "printing embeds.shape: torch.Size([256, 19, 256])\n",
            "printing rnn.out.shape: torch.Size([256, 19, 256])\n"
          ]
        },
        {
          "output_type": "stream",
          "name": "stderr",
          "text": [
            "\rEpoch: 19  Iteration: 39  Loss: 0.5993485271930694:  70%|██████▉   | 44/63 [00:22<00:09,  2.08it/s]"
          ]
        },
        {
          "output_type": "stream",
          "name": "stdout",
          "text": [
            "printing embeds.shape: torch.Size([256, 19, 256])\n",
            "printing rnn.out.shape: torch.Size([256, 19, 256])\n"
          ]
        },
        {
          "output_type": "stream",
          "name": "stderr",
          "text": [
            "\rEpoch: 19  Iteration: 39  Loss: 0.5993485271930694:  71%|███████▏  | 45/63 [00:23<00:08,  2.15it/s]"
          ]
        },
        {
          "output_type": "stream",
          "name": "stdout",
          "text": [
            "printing embeds.shape: torch.Size([256, 19, 256])\n",
            "printing rnn.out.shape: torch.Size([256, 19, 256])\n"
          ]
        },
        {
          "output_type": "stream",
          "name": "stderr",
          "text": [
            "\rEpoch: 19  Iteration: 39  Loss: 0.5993485271930694:  73%|███████▎  | 46/63 [00:23<00:07,  2.18it/s]"
          ]
        },
        {
          "output_type": "stream",
          "name": "stdout",
          "text": [
            "printing embeds.shape: torch.Size([256, 19, 256])\n",
            "printing rnn.out.shape: torch.Size([256, 19, 256])\n"
          ]
        },
        {
          "output_type": "stream",
          "name": "stderr",
          "text": [
            "\rEpoch: 19  Iteration: 39  Loss: 0.5993485271930694:  75%|███████▍  | 47/63 [00:24<00:07,  2.18it/s]"
          ]
        },
        {
          "output_type": "stream",
          "name": "stdout",
          "text": [
            "printing embeds.shape: torch.Size([256, 19, 256])\n",
            "printing rnn.out.shape: torch.Size([256, 19, 256])\n"
          ]
        },
        {
          "output_type": "stream",
          "name": "stderr",
          "text": [
            "\rEpoch: 19  Iteration: 39  Loss: 0.5993485271930694:  76%|███████▌  | 48/63 [00:24<00:06,  2.24it/s]"
          ]
        },
        {
          "output_type": "stream",
          "name": "stdout",
          "text": [
            "printing embeds.shape: torch.Size([256, 19, 256])\n",
            "printing rnn.out.shape: torch.Size([256, 19, 256])\n"
          ]
        },
        {
          "output_type": "stream",
          "name": "stderr",
          "text": [
            "\rEpoch: 19  Iteration: 39  Loss: 0.5993485271930694:  78%|███████▊  | 49/63 [00:24<00:06,  2.13it/s]"
          ]
        },
        {
          "output_type": "stream",
          "name": "stdout",
          "text": [
            "printing embeds.shape: torch.Size([256, 19, 256])\n",
            "printing rnn.out.shape: torch.Size([256, 19, 256])\n"
          ]
        },
        {
          "output_type": "stream",
          "name": "stderr",
          "text": [
            "Epoch: 19  Iteration: 49  Loss: 0.5709412574768067:  79%|███████▉  | 50/63 [00:25<00:05,  2.19it/s]"
          ]
        },
        {
          "output_type": "stream",
          "name": "stdout",
          "text": [
            "printing embeds.shape: torch.Size([256, 19, 256])\n",
            "printing rnn.out.shape: torch.Size([256, 19, 256])\n"
          ]
        },
        {
          "output_type": "stream",
          "name": "stderr",
          "text": [
            "\rEpoch: 19  Iteration: 49  Loss: 0.5709412574768067:  81%|████████  | 51/63 [00:25<00:05,  2.08it/s]"
          ]
        },
        {
          "output_type": "stream",
          "name": "stdout",
          "text": [
            "printing embeds.shape: torch.Size([256, 19, 256])\n",
            "printing rnn.out.shape: torch.Size([256, 19, 256])\n"
          ]
        },
        {
          "output_type": "stream",
          "name": "stderr",
          "text": [
            "\rEpoch: 19  Iteration: 49  Loss: 0.5709412574768067:  83%|████████▎ | 52/63 [00:26<00:05,  2.14it/s]"
          ]
        },
        {
          "output_type": "stream",
          "name": "stdout",
          "text": [
            "printing embeds.shape: torch.Size([256, 19, 256])\n",
            "printing rnn.out.shape: torch.Size([256, 19, 256])\n"
          ]
        },
        {
          "output_type": "stream",
          "name": "stderr",
          "text": [
            "\rEpoch: 19  Iteration: 49  Loss: 0.5709412574768067:  84%|████████▍ | 53/63 [00:26<00:04,  2.20it/s]"
          ]
        },
        {
          "output_type": "stream",
          "name": "stdout",
          "text": [
            "printing embeds.shape: torch.Size([256, 19, 256])\n",
            "printing rnn.out.shape: torch.Size([256, 19, 256])\n"
          ]
        },
        {
          "output_type": "stream",
          "name": "stderr",
          "text": [
            "\rEpoch: 19  Iteration: 49  Loss: 0.5709412574768067:  86%|████████▌ | 54/63 [00:27<00:04,  2.06it/s]"
          ]
        },
        {
          "output_type": "stream",
          "name": "stdout",
          "text": [
            "printing embeds.shape: torch.Size([256, 19, 256])\n",
            "printing rnn.out.shape: torch.Size([256, 19, 256])\n"
          ]
        },
        {
          "output_type": "stream",
          "name": "stderr",
          "text": [
            "\rEpoch: 19  Iteration: 49  Loss: 0.5709412574768067:  87%|████████▋ | 55/63 [00:27<00:03,  2.06it/s]"
          ]
        },
        {
          "output_type": "stream",
          "name": "stdout",
          "text": [
            "printing embeds.shape: torch.Size([256, 19, 256])\n",
            "printing rnn.out.shape: torch.Size([256, 19, 256])\n"
          ]
        },
        {
          "output_type": "stream",
          "name": "stderr",
          "text": [
            "\rEpoch: 19  Iteration: 49  Loss: 0.5709412574768067:  89%|████████▉ | 56/63 [00:28<00:03,  2.03it/s]"
          ]
        },
        {
          "output_type": "stream",
          "name": "stdout",
          "text": [
            "printing embeds.shape: torch.Size([256, 19, 256])\n",
            "printing rnn.out.shape: torch.Size([256, 19, 256])\n"
          ]
        },
        {
          "output_type": "stream",
          "name": "stderr",
          "text": [
            "\rEpoch: 19  Iteration: 49  Loss: 0.5709412574768067:  90%|█████████ | 57/63 [00:28<00:03,  1.96it/s]"
          ]
        },
        {
          "output_type": "stream",
          "name": "stdout",
          "text": [
            "printing embeds.shape: torch.Size([256, 19, 256])\n",
            "printing rnn.out.shape: torch.Size([256, 19, 256])\n"
          ]
        },
        {
          "output_type": "stream",
          "name": "stderr",
          "text": [
            "\rEpoch: 19  Iteration: 49  Loss: 0.5709412574768067:  92%|█████████▏| 58/63 [00:29<00:02,  1.82it/s]"
          ]
        },
        {
          "output_type": "stream",
          "name": "stdout",
          "text": [
            "printing embeds.shape: torch.Size([256, 19, 256])\n",
            "printing rnn.out.shape: torch.Size([256, 19, 256])\n"
          ]
        },
        {
          "output_type": "stream",
          "name": "stderr",
          "text": [
            "\rEpoch: 19  Iteration: 49  Loss: 0.5709412574768067:  94%|█████████▎| 59/63 [00:30<00:02,  1.68it/s]"
          ]
        },
        {
          "output_type": "stream",
          "name": "stdout",
          "text": [
            "printing embeds.shape: torch.Size([256, 19, 256])\n",
            "printing rnn.out.shape: torch.Size([256, 19, 256])\n"
          ]
        },
        {
          "output_type": "stream",
          "name": "stderr",
          "text": [
            "Epoch: 19  Iteration: 59  Loss: 0.5736818462610245:  95%|█████████▌| 60/63 [00:30<00:01,  1.64it/s]"
          ]
        },
        {
          "output_type": "stream",
          "name": "stdout",
          "text": [
            "printing embeds.shape: torch.Size([256, 19, 256])\n",
            "printing rnn.out.shape: torch.Size([256, 19, 256])\n"
          ]
        },
        {
          "output_type": "stream",
          "name": "stderr",
          "text": [
            "\rEpoch: 19  Iteration: 59  Loss: 0.5736818462610245:  97%|█████████▋| 61/63 [00:31<00:01,  1.69it/s]"
          ]
        },
        {
          "output_type": "stream",
          "name": "stdout",
          "text": [
            "printing embeds.shape: torch.Size([256, 19, 256])\n",
            "printing rnn.out.shape: torch.Size([256, 19, 256])\n"
          ]
        },
        {
          "output_type": "stream",
          "name": "stderr",
          "text": [
            "\rEpoch: 19  Iteration: 59  Loss: 0.5736818462610245:  98%|█████████▊| 62/63 [00:32<00:00,  1.69it/s]"
          ]
        },
        {
          "output_type": "stream",
          "name": "stdout",
          "text": [
            "printing embeds.shape: torch.Size([187, 19, 256])\n",
            "printing rnn.out.shape: torch.Size([187, 19, 256])\n"
          ]
        },
        {
          "output_type": "stream",
          "name": "stderr",
          "text": [
            "Epoch: 19  Iteration: 59  Loss: 0.5736818462610245: 100%|██████████| 63/63 [00:32<00:00,  1.95it/s]\n"
          ]
        },
        {
          "output_type": "stream",
          "name": "stdout",
          "text": [
            "Epoch: 19  Train Accuracy: 82.5705212030637\n",
            "printing embeds.shape: torch.Size([256, 19, 256])\n",
            "printing rnn.out.shape: torch.Size([256, 19, 256])\n",
            "printing embeds.shape: torch.Size([256, 19, 256])\n",
            "printing rnn.out.shape: torch.Size([256, 19, 256])\n",
            "printing embeds.shape: torch.Size([256, 19, 256])\n",
            "printing rnn.out.shape: torch.Size([256, 19, 256])\n",
            "printing embeds.shape: torch.Size([256, 19, 256])\n",
            "printing rnn.out.shape: torch.Size([256, 19, 256])\n",
            "printing embeds.shape: torch.Size([256, 19, 256])\n",
            "printing rnn.out.shape: torch.Size([256, 19, 256])\n",
            "printing embeds.shape: torch.Size([256, 19, 256])\n",
            "printing rnn.out.shape: torch.Size([256, 19, 256])\n",
            "printing embeds.shape: torch.Size([256, 19, 256])\n",
            "printing rnn.out.shape: torch.Size([256, 19, 256])\n",
            "printing embeds.shape: torch.Size([256, 19, 256])\n",
            "printing rnn.out.shape: torch.Size([256, 19, 256])\n",
            "printing embeds.shape: torch.Size([256, 19, 256])\n",
            "printing rnn.out.shape: torch.Size([256, 19, 256])\n",
            "printing embeds.shape: torch.Size([256, 19, 256])\n",
            "printing rnn.out.shape: torch.Size([256, 19, 256])\n",
            "printing embeds.shape: torch.Size([256, 19, 256])\n",
            "printing rnn.out.shape: torch.Size([256, 19, 256])\n",
            "printing embeds.shape: torch.Size([256, 19, 256])\n",
            "printing rnn.out.shape: torch.Size([256, 19, 256])\n",
            "printing embeds.shape: torch.Size([256, 19, 256])\n",
            "printing rnn.out.shape: torch.Size([256, 19, 256])\n",
            "printing embeds.shape: torch.Size([256, 19, 256])\n",
            "printing rnn.out.shape: torch.Size([256, 19, 256])\n",
            "printing embeds.shape: torch.Size([256, 19, 256])\n",
            "printing rnn.out.shape: torch.Size([256, 19, 256])\n",
            "printing embeds.shape: torch.Size([175, 19, 256])\n",
            "printing rnn.out.shape: torch.Size([175, 19, 256])\n",
            "Epoch: 19  Eval Accuracy: 82.04234122042341\n"
          ]
        }
      ],
      "source": [
        "rnn_log = train(rnn_model, rnn_optimizer, criterion, epochs, batch_size, 1997)"
      ]
    },
    {
      "cell_type": "code",
      "execution_count": 35,
      "metadata": {
        "colab": {
          "base_uri": "https://localhost:8080/",
          "height": 472
        },
        "id": "teyMe5LoHwmk",
        "outputId": "f1822b67-28eb-4743-cac4-67437c138197"
      },
      "outputs": [
        {
          "output_type": "display_data",
          "data": {
            "text/plain": [
              "<Figure size 640x480 with 1 Axes>"
            ],
            "image/png": "[encoded data removed]"
          },
          "metadata": {}
        }
      ],
      "source": [
        "n_steps = len(rnn_log[\"history\"][\"train_losses\"])\n",
        "plt.plot(range(n_steps), rnn_log[\"history\"][\"train_losses\"], alpha=0.4, color=\"blue\")\n",
        "moving_avg = np.convolve(np.array(rnn_log[\"history\"][\"train_losses\"]), np.ones(10), 'valid') / 10\n",
        "plt.plot(range(9, n_steps), moving_avg.tolist(), color=\"blue\")\n",
        "plt.xlabel(\"Iterations\")\n",
        "plt.title(\"RNN Training Loss\")\n",
        "plt.show()"
      ]
    },
    {
      "cell_type": "code",
      "execution_count": 36,
      "metadata": {
        "colab": {
          "base_uri": "https://localhost:8080/",
          "height": 472
        },
        "id": "u5e_MxreHwmp",
        "outputId": "3ec9ffa1-b80c-43e6-a3ef-a4c6490f28b5"
      },
      "outputs": [
        {
          "output_type": "display_data",
          "data": {
            "text/plain": [
              "<Figure size 640x480 with 1 Axes>"
            ],
            "image/png": "[encoded data removed]"
          },
          "metadata": {}
        }
      ],
      "source": [
        "plt.plot(rnn_log[\"history\"][\"train_accuracies\"], marker='o')\n",
        "plt.xlabel(\"Epochs\")\n",
        "plt.title(\"RNN Training Accuracy\")\n",
        "plt.show()"
      ]
    },
    {
      "cell_type": "code",
      "execution_count": 37,
      "metadata": {
        "colab": {
          "base_uri": "https://localhost:8080/",
          "height": 472
        },
        "id": "xwZ-BHSdHwmq",
        "outputId": "0291f05f-9a20-460d-e6bd-a281c04518b9"
      },
      "outputs": [
        {
          "output_type": "display_data",
          "data": {
            "text/plain": [
              "<Figure size 640x480 with 1 Axes>"
            ],
            "image/png": "[encoded data removed]"
          },
          "metadata": {}
        }
      ],
      "source": [
        "plt.plot(rnn_log[\"history\"][\"eval_accuracies\"], marker='o')\n",
        "plt.xlabel(\"Epochs\")\n",
        "plt.title(\"RNN Eval Accuracy\")\n",
        "plt.show()"
      ]
    },
    {
      "cell_type": "code",
      "execution_count": 38,
      "metadata": {
        "id": "ZMJJ1R6SHwmq"
      },
      "outputs": [],
      "source": [
        "# Optional\n",
        "# train(lstm_model, lstm_optimizer, criterion, epochs, batch_size, 1997)"
      ]
    },
    {
      "cell_type": "markdown",
      "metadata": {
        "id": "gL4rNgbdHwmq"
      },
      "source": [
        "## Use Your RNN: Try Your Own Name\n",
        "\n",
        "Attempt to use the code cells below to **predict the origin of your own last name**.\n",
        "\n",
        "Please refrain from entering the last names of your classmates, as the names you enter will be logged for anti-plagiarism purposes."
      ]
    },
    {
      "cell_type": "code",
      "execution_count": 39,
      "metadata": {
        "id": "hJ3ktLZ3Hwmq"
      },
      "outputs": [],
      "source": [
        "def classify_name(name, model):\n",
        "    '''\n",
        "    Numerize the name and return the most likely number representation of the\n",
        "    predicted class.\n",
        "    '''\n",
        "    # change this if your last name is longer than 19 characters\n",
        "    token = np.ones(19, dtype=np.int64) * pad\n",
        "    numerized = np.array([letterToIndex(l) for l in name])\n",
        "    n = len(numerized)\n",
        "    token[:n] = numerized\n",
        "    print(token)\n",
        "    logits = model(\n",
        "        torch.tensor(token, dtype=torch.long)[None, :],\n",
        "        torch.tensor([n - 1], dtype=torch.long)\n",
        "    )\n",
        "    return logits.argmax(dim=-1).item()"
      ]
    },
    {
      "cell_type": "code",
      "execution_count": 41,
      "metadata": {
        "colab": {
          "base_uri": "https://localhost:8080/"
        },
        "id": "LcyzbHDPHwmq",
        "outputId": "523666e7-fed4-4910-b49f-d801c0cc13ce"
      },
      "outputs": [
        {
          "output_type": "stream",
          "name": "stdout",
          "text": [
            "Predicting origin language for name: Azhar\n",
            "[26 25  7  0 17 57 57 57 57 57 57 57 57 57 57 57 57 57 57]\n",
            "printing embeds.shape: torch.Size([1, 19, 256])\n",
            "printing rnn.out.shape: torch.Size([1, 19, 256])\n",
            "Russian\n"
          ]
        }
      ],
      "source": [
        "model = rnn_model\n",
        "model.eval()\n",
        "model.cpu()\n",
        "############################################################################\n",
        "# TODO: Enter your last name\n",
        "############################################################################\n",
        "name = \"Azhar\"\n",
        "############################################################################\n",
        "rnn_log[\"last_name\"] = name\n",
        "rnn_log[\"source_init\"] = inspect.getsource(RecurrentClassifier.__init__)\n",
        "rnn_log[\"source_forward\"] = inspect.getsource(RecurrentClassifier.forward)\n",
        "print(\"Predicting origin language for name: \"+ name)\n",
        "c = classify_name(name, model)\n",
        "print(num_to_cat[c])"
      ]
    },
    {
      "cell_type": "markdown",
      "metadata": {
        "id": "gkWjeuwDHwmq"
      },
      "source": [
        "### Question\n",
        "\n",
        "Although the neural network you have trained is intended to predict the language of origin for a given last name, it could potentially be misused. **In what ways do you think this could be problematic in real-world applications?** Include your answer in your submission of the written assignment."
      ]
    },
    {
      "cell_type": "code",
      "source": [],
      "metadata": {
        "id": "CYti2I6aq9Wh"
      },
      "execution_count": null,
      "outputs": []
    }
  ],
  "metadata": {
    "kernelspec": {
      "display_name": "Python 3",
      "name": "python3"
    },
    "language_info": {
      "codemirror_mode": {
        "name": "ipython",
        "version": 3
      },
      "file_extension": ".py",
      "mimetype": "text/x-python",
      "name": "python",
      "nbconvert_exporter": "python",
      "pygments_lexer": "ipython3",
      "version": "3.9.12"
    },
    "colab": {
      "provenance": []
    }
  },
  "nbformat": 4,
  "nbformat_minor": 0
}